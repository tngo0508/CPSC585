{
  "nbformat": 4,
  "nbformat_minor": 5,
  "metadata": {
    "kernelspec": {
      "display_name": "Python 3",
      "language": "python",
      "name": "python3"
    },
    "language_info": {
      "codemirror_mode": {
        "name": "ipython",
        "version": 3
      },
      "file_extension": ".py",
      "mimetype": "text/x-python",
      "name": "python",
      "nbconvert_exporter": "python",
      "pygments_lexer": "ipython3",
      "version": "3.8.5"
    },
    "colab": {
      "name": "Project_3_585Final",
      "provenance": [],
      "collapsed_sections": []
    }
  },
  "cells": [
    {
      "cell_type": "markdown",
      "metadata": {
        "id": "warming-section"
      },
      "source": [
        "# Thomas Ngo\n",
        "# Tevin Vu"
      ],
      "id": "warming-section"
    },
    {
      "cell_type": "markdown",
      "metadata": {
        "id": "automotive-basketball"
      },
      "source": [
        "# 1. Use from dataset import * to load the module, then examine TRAINING_SET, TEST_SET, and MESSAGE."
      ],
      "id": "automotive-basketball"
    },
    {
      "cell_type": "code",
      "metadata": {
        "id": "compact-judgment"
      },
      "source": [
        "import numpy as np\n",
        "import copy\n",
        "import sys\n",
        "import string\n",
        "\n",
        "from dataset import *\n",
        "from numpy.random import default_rng"
      ],
      "id": "compact-judgment",
      "execution_count": 1,
      "outputs": []
    },
    {
      "cell_type": "code",
      "metadata": {
        "colab": {
          "base_uri": "https://localhost:8080/"
        },
        "id": "eight-biology",
        "outputId": "904ddcca-6b43-4421-ba5f-f90cb0dedf2c"
      },
      "source": [
        "print(TRAINING_SET[0])"
      ],
      "id": "eight-biology",
      "execution_count": 2,
      "outputs": [
        {
          "output_type": "stream",
          "text": [
            "([0, 1, 1, 1, 0, 1, 0, 0, 0, 1, 1, 0, 0, 0, 1, 1, 0, 0, 0, 1, 1, 1, 1, 1, 1, 1, 0, 0, 0, 1, 1, 0, 0, 0, 1], 'A')\n"
          ],
          "name": "stdout"
        }
      ]
    },
    {
      "cell_type": "code",
      "metadata": {
        "colab": {
          "base_uri": "https://localhost:8080/"
        },
        "id": "advanced-editing",
        "outputId": "6e73f6b5-8949-49d7-b366-79aa335f52c7"
      },
      "source": [
        "print(TEST_SET[0])"
      ],
      "id": "advanced-editing",
      "execution_count": 3,
      "outputs": [
        {
          "output_type": "stream",
          "text": [
            "([0, 0, 1, 0, 0, 0, 1, 0, 1, 0, 1, 0, 0, 0, 1, 1, 0, 0, 0, 1, 1, 1, 1, 1, 1, 1, 0, 0, 0, 1, 1, 0, 0, 0, 1], 'A')\n"
          ],
          "name": "stdout"
        }
      ]
    },
    {
      "cell_type": "code",
      "metadata": {
        "colab": {
          "base_uri": "https://localhost:8080/"
        },
        "id": "laughing-trigger",
        "outputId": "de77db66-3ba4-4452-cd66-70c6a5de5186"
      },
      "source": [
        "print(MESSAGE[0])"
      ],
      "id": "laughing-trigger",
      "execution_count": 4,
      "outputs": [
        {
          "output_type": "stream",
          "text": [
            "[1, 0, 0, 0, 1, 1, 0, 0, 0, 1, 1, 0, 0, 0, 1, 1, 0, 1, 0, 0, 1, 0, 1, 0, 1, 1, 0, 1, 0, 1, 0, 1, 0, 1, 0]\n"
          ],
          "name": "stdout"
        }
      ]
    },
    {
      "cell_type": "markdown",
      "metadata": {
        "id": "manufactured-arabic"
      },
      "source": [
        "# 2. In order to use the images in TRAINING_SET, TEST_SET, and MESSAGE, convert them into two-dimensional NumPy arrays of feature vectors."
      ],
      "id": "manufactured-arabic"
    },
    {
      "cell_type": "code",
      "metadata": {
        "id": "bright-planner"
      },
      "source": [
        "def convert_to_2d(dataset):\n",
        "    copyDataset = copy.deepcopy(dataset)\n",
        "    if len(copyDataset) == 0: return None\n",
        "    res = []\n",
        "    if len(copyDataset[0]) == 2:\n",
        "        for x, _ in(copyDataset):\n",
        "            x.insert(0,1)            # include bias\n",
        "            res.append(np.array(x))\n",
        "    else:\n",
        "        for x in(copyDataset):\n",
        "            x.insert(0,1)            # include bias\n",
        "            res.append(np.array(x))\n",
        "    \n",
        "    return np.array(res)"
      ],
      "id": "bright-planner",
      "execution_count": 5,
      "outputs": []
    },
    {
      "cell_type": "code",
      "metadata": {
        "id": "wooden-zimbabwe"
      },
      "source": [
        "TRAINING_SET_2D = convert_to_2d(TRAINING_SET)\n",
        "TEST_SET_2D = convert_to_2d(TEST_SET)\n",
        "MESSAGE_2D = convert_to_2d(MESSAGE)"
      ],
      "id": "wooden-zimbabwe",
      "execution_count": 6,
      "outputs": []
    },
    {
      "cell_type": "code",
      "metadata": {
        "colab": {
          "base_uri": "https://localhost:8080/"
        },
        "id": "aggressive-basin",
        "outputId": "9adff490-8db5-4b62-9249-43e505bd3ac7"
      },
      "source": [
        "TRAINING_SET_2D.shape"
      ],
      "id": "aggressive-basin",
      "execution_count": 7,
      "outputs": [
        {
          "output_type": "execute_result",
          "data": {
            "text/plain": [
              "(52, 36)"
            ]
          },
          "metadata": {
            "tags": []
          },
          "execution_count": 7
        }
      ]
    },
    {
      "cell_type": "code",
      "metadata": {
        "colab": {
          "base_uri": "https://localhost:8080/"
        },
        "id": "executed-yukon",
        "outputId": "e914e84d-9867-41bf-a597-b7a20dc54474"
      },
      "source": [
        "TEST_SET_2D.shape"
      ],
      "id": "executed-yukon",
      "execution_count": 8,
      "outputs": [
        {
          "output_type": "execute_result",
          "data": {
            "text/plain": [
              "(26, 36)"
            ]
          },
          "metadata": {
            "tags": []
          },
          "execution_count": 8
        }
      ]
    },
    {
      "cell_type": "code",
      "metadata": {
        "colab": {
          "base_uri": "https://localhost:8080/"
        },
        "id": "promising-jesus",
        "outputId": "38ba6d73-3dbf-45bc-9172-a7a265e1824a"
      },
      "source": [
        "MESSAGE_2D.shape"
      ],
      "id": "promising-jesus",
      "execution_count": 9,
      "outputs": [
        {
          "output_type": "execute_result",
          "data": {
            "text/plain": [
              "(37, 36)"
            ]
          },
          "metadata": {
            "tags": []
          },
          "execution_count": 9
        }
      ]
    },
    {
      "cell_type": "code",
      "metadata": {
        "colab": {
          "base_uri": "https://localhost:8080/"
        },
        "id": "perceived-jonathan",
        "outputId": "6ae7dc80-de15-409b-e24c-0f7ce37cddeb"
      },
      "source": [
        "TRAINING_SET_2D"
      ],
      "id": "perceived-jonathan",
      "execution_count": 10,
      "outputs": [
        {
          "output_type": "execute_result",
          "data": {
            "text/plain": [
              "array([[1, 0, 1, ..., 0, 0, 1],\n",
              "       [1, 1, 1, ..., 1, 1, 0],\n",
              "       [1, 0, 1, ..., 1, 1, 0],\n",
              "       ...,\n",
              "       [1, 1, 0, ..., 0, 0, 1],\n",
              "       [1, 1, 0, ..., 1, 0, 0],\n",
              "       [1, 1, 1, ..., 1, 1, 1]])"
            ]
          },
          "metadata": {
            "tags": []
          },
          "execution_count": 10
        }
      ]
    },
    {
      "cell_type": "markdown",
      "metadata": {
        "id": "romance-oklahoma"
      },
      "source": [
        "# 3. Implementing a Python function show(image) to reshape a one-dimensional feature vector into a 7×5 array, then print() the image. Test this function on some of the images in the training set."
      ],
      "id": "romance-oklahoma"
    },
    {
      "cell_type": "code",
      "metadata": {
        "id": "median-reason"
      },
      "source": [
        "def show(img):\n",
        "    reshaped_img = np.reshape(np.array(img), (7,5))\n",
        "#     print(reshaped_img)\n",
        "    rows = len(reshaped_img)\n",
        "    cols = len(reshaped_img[0])\n",
        "    for row in range(rows):\n",
        "        for col in range(cols):\n",
        "            if reshaped_img[row][col] == 1:\n",
        "                print('#', end='')\n",
        "            else:\n",
        "                print(' ', end='')\n",
        "        print('\\n', end='')"
      ],
      "id": "median-reason",
      "execution_count": 11,
      "outputs": []
    },
    {
      "cell_type": "code",
      "metadata": {
        "colab": {
          "base_uri": "https://localhost:8080/"
        },
        "id": "hydraulic-peeing",
        "outputId": "894e8202-02e8-46cd-d9d3-f37b203d931a"
      },
      "source": [
        "show(TRAINING_SET[0][0])"
      ],
      "id": "hydraulic-peeing",
      "execution_count": 12,
      "outputs": [
        {
          "output_type": "stream",
          "text": [
            " ### \n",
            "#   #\n",
            "#   #\n",
            "#   #\n",
            "#####\n",
            "#   #\n",
            "#   #\n"
          ],
          "name": "stdout"
        }
      ]
    },
    {
      "cell_type": "code",
      "metadata": {
        "colab": {
          "base_uri": "https://localhost:8080/"
        },
        "id": "RtG3bYpXMHbe",
        "outputId": "351a65f7-27a9-4606-c49b-9284f2136838"
      },
      "source": [
        "show(TRAINING_SET[10][0])"
      ],
      "id": "RtG3bYpXMHbe",
      "execution_count": 13,
      "outputs": [
        {
          "output_type": "stream",
          "text": [
            "#   #\n",
            "#  # \n",
            "# #  \n",
            "##   \n",
            "# #  \n",
            "#  # \n",
            "#   #\n"
          ],
          "name": "stdout"
        }
      ]
    },
    {
      "cell_type": "code",
      "metadata": {
        "colab": {
          "base_uri": "https://localhost:8080/"
        },
        "id": "JwIY8eG5Mliv",
        "outputId": "7b99037d-f9e3-46ab-e730-ae933650b1b2"
      },
      "source": [
        "show(TRAINING_SET[15][0])"
      ],
      "id": "JwIY8eG5Mliv",
      "execution_count": 14,
      "outputs": [
        {
          "output_type": "stream",
          "text": [
            "#### \n",
            "#   #\n",
            "#   #\n",
            "#### \n",
            "#    \n",
            "#    \n",
            "#    \n"
          ],
          "name": "stdout"
        }
      ]
    },
    {
      "cell_type": "markdown",
      "metadata": {
        "id": "tropical-monaco"
      },
      "source": [
        "# 4.In order to use the character labels in TRAINING_SET and TEST_SET, convert them into an integer class vector using ord(), then use NumPy to convert them into 26 one-hot encoded vectors."
      ],
      "id": "tropical-monaco"
    },
    {
      "cell_type": "code",
      "metadata": {
        "id": "three-storage"
      },
      "source": [
        "# adapted from https://www.kite.com/python/answers/how-to-do-one-hot-encoding-with-numpy-in-python\n",
        "\n",
        "def convert_labels_to_int(dataset):\n",
        "    res = []\n",
        "    for _, letter in dataset:\n",
        "        res.append(ord(letter)-ord('A'))\n",
        "    tempRes = np.array(res)\n",
        "    print(tempRes)\n",
        "    shape = (tempRes.size, tempRes.max() + 1)\n",
        "    print(shape)\n",
        "    one_hot = np.zeros(shape)\n",
        "    rows = np.arange(tempRes.size)\n",
        "    print(rows)\n",
        "    one_hot[rows, tempRes] = 1 # using fancy index\n",
        "    return one_hot"
      ],
      "id": "three-storage",
      "execution_count": 15,
      "outputs": []
    },
    {
      "cell_type": "code",
      "metadata": {
        "colab": {
          "base_uri": "https://localhost:8080/"
        },
        "id": "descending-belle",
        "outputId": "9accf18a-a491-45fe-afaa-a94e3d73fde0"
      },
      "source": [
        "TRAINING_SET_LABELS = convert_labels_to_int(TRAINING_SET)\n",
        "print(TRAINING_SET_LABELS.shape)\n",
        "TRAINING_SET_LABELS"
      ],
      "id": "descending-belle",
      "execution_count": 16,
      "outputs": [
        {
          "output_type": "stream",
          "text": [
            "[ 0  1  2  3  4  5  6  7  8  9 10 11 12 13 14 15 16 17 18 19 20 21 22 23\n",
            " 24 25  0  1  2  3  4  5  6  7  8  9 10 11 12 13 14 15 16 17 18 19 20 21\n",
            " 22 23 24 25]\n",
            "(52, 26)\n",
            "[ 0  1  2  3  4  5  6  7  8  9 10 11 12 13 14 15 16 17 18 19 20 21 22 23\n",
            " 24 25 26 27 28 29 30 31 32 33 34 35 36 37 38 39 40 41 42 43 44 45 46 47\n",
            " 48 49 50 51]\n",
            "(52, 26)\n"
          ],
          "name": "stdout"
        },
        {
          "output_type": "execute_result",
          "data": {
            "text/plain": [
              "array([[1., 0., 0., ..., 0., 0., 0.],\n",
              "       [0., 1., 0., ..., 0., 0., 0.],\n",
              "       [0., 0., 1., ..., 0., 0., 0.],\n",
              "       ...,\n",
              "       [0., 0., 0., ..., 1., 0., 0.],\n",
              "       [0., 0., 0., ..., 0., 1., 0.],\n",
              "       [0., 0., 0., ..., 0., 0., 1.]])"
            ]
          },
          "metadata": {
            "tags": []
          },
          "execution_count": 16
        }
      ]
    },
    {
      "cell_type": "markdown",
      "metadata": {
        "id": "excessive-enhancement"
      },
      "source": [
        "# 5. Implement a multiclass perceptron as described in Section 2.3.1 of the textbook to recognize the letters A-Z.\n",
        "## Begin with weights initialized to random values and a learning rate of 𝛼 = 0.01. Predict the letter by choosing the class with the largest W̅r∙X̅i value.\n",
        "##  If the prediction is incorrect, train the multiclass perceptron by applying the update rule of Equation 2.24 in the textbook. Continue training until all items in the training set are correctly classified.\n"
      ],
      "id": "excessive-enhancement"
    },
    {
      "cell_type": "code",
      "metadata": {
        "id": "satellite-witness"
      },
      "source": [
        "# use while-loop and no epochs\n",
        "def check_for_misclassification(epochs, W, X_train):\n",
        "    N = len(X_train)\n",
        "    misclassification = 0\n",
        "    pred_idx = 0\n",
        "    for i in range(N):\n",
        "        if pred_idx == 26:\n",
        "            pred_idx = 0\n",
        "        ascii_idx = np.argmax(np.matmul(W, X_train[i]))\n",
        "        y_pred = chr(ascii_idx + ord('A'))\n",
        "        if y_pred != string.ascii_uppercase[pred_idx]:\n",
        "            misclassification += 1\n",
        "        pred_idx += 1\n",
        "    print(f'Epoch {epochs} - Accuracy: {N - misclassification}/{N}')\n",
        "    return misclassification\n",
        "    \n",
        "    \n",
        "def train(data_train, target_train):\n",
        "    ALPHA = 0.01\n",
        "    \n",
        "    D = len(data_train[0])             # dimensions (including bias)\n",
        "    N = len(data_train)                # training instance\n",
        "    P = len(string.ascii_uppercase)    # number of perceptrons\n",
        "    \n",
        "    rng = default_rng()\n",
        "    W = rng.uniform(-1, +1, (P, D))\n",
        "    X_train = data_train\n",
        "    Y_train = target_train\n",
        "    \n",
        "    idx = np.arange(N)\n",
        "    w_idx = 0\n",
        "    misclassification = 0\n",
        "    epochs = 0\n",
        "    while True:\n",
        "        for i in range(N):\n",
        "            if w_idx == P:\n",
        "                w_idx = 0\n",
        "            Y_hat = np.dot(W, X_train[i])\n",
        "            y_pred_idx = np.argmax(Y_hat)\n",
        "\n",
        "            # prediction is incorrect, use update rule of equation 2.24 in textbook\n",
        "            if Y_train[i][y_pred_idx] == 0:\n",
        "                W[w_idx] = W[w_idx] + ALPHA * X_train[i]\n",
        "                W[y_pred_idx] = W[y_pred_idx] + (-ALPHA * X_train[i])\n",
        "            w_idx += 1\n",
        "            \n",
        "        # check if all items in the training set are correctly classified\n",
        "        misclassification = check_for_misclassification(epochs, W, X_train)\n",
        "        if misclassification == 0:\n",
        "            print('All items are correctly classified')\n",
        "            print(f'number of epochs: {epochs}')\n",
        "            return W\n",
        "        else:\n",
        "            misclassification = 0\n",
        "        epochs += 1\n",
        "    return W "
      ],
      "id": "satellite-witness",
      "execution_count": 17,
      "outputs": []
    },
    {
      "cell_type": "code",
      "metadata": {
        "colab": {
          "base_uri": "https://localhost:8080/"
        },
        "id": "korean-diamond",
        "outputId": "1aacb223-0c46-4504-c842-88d8a03a74a9"
      },
      "source": [
        "# ask professor why epoch 0 has poor accuracy while his binary perceptron has relatively high accuracy\n",
        "# train model with TRAINING SET\n",
        "mul_pct_model = train(TRAINING_SET_2D, TRAINING_SET_LABELS)\n",
        "print(mul_pct_model.shape)\n",
        "mul_pct_model"
      ],
      "id": "korean-diamond",
      "execution_count": 18,
      "outputs": [
        {
          "output_type": "stream",
          "text": [
            "Epoch 0 - Accuracy: 3/52\n",
            "Epoch 1 - Accuracy: 1/52\n",
            "Epoch 2 - Accuracy: 1/52\n",
            "Epoch 3 - Accuracy: 1/52\n",
            "Epoch 4 - Accuracy: 1/52\n",
            "Epoch 5 - Accuracy: 4/52\n",
            "Epoch 6 - Accuracy: 6/52\n",
            "Epoch 7 - Accuracy: 9/52\n",
            "Epoch 8 - Accuracy: 10/52\n",
            "Epoch 9 - Accuracy: 13/52\n",
            "Epoch 10 - Accuracy: 15/52\n",
            "Epoch 11 - Accuracy: 14/52\n",
            "Epoch 12 - Accuracy: 16/52\n",
            "Epoch 13 - Accuracy: 15/52\n",
            "Epoch 14 - Accuracy: 17/52\n",
            "Epoch 15 - Accuracy: 19/52\n",
            "Epoch 16 - Accuracy: 13/52\n",
            "Epoch 17 - Accuracy: 19/52\n",
            "Epoch 18 - Accuracy: 23/52\n",
            "Epoch 19 - Accuracy: 24/52\n",
            "Epoch 20 - Accuracy: 24/52\n",
            "Epoch 21 - Accuracy: 27/52\n",
            "Epoch 22 - Accuracy: 27/52\n",
            "Epoch 23 - Accuracy: 31/52\n",
            "Epoch 24 - Accuracy: 30/52\n",
            "Epoch 25 - Accuracy: 31/52\n",
            "Epoch 26 - Accuracy: 32/52\n",
            "Epoch 27 - Accuracy: 34/52\n",
            "Epoch 28 - Accuracy: 37/52\n",
            "Epoch 29 - Accuracy: 41/52\n",
            "Epoch 30 - Accuracy: 34/52\n",
            "Epoch 31 - Accuracy: 36/52\n",
            "Epoch 32 - Accuracy: 35/52\n",
            "Epoch 33 - Accuracy: 40/52\n",
            "Epoch 34 - Accuracy: 44/52\n",
            "Epoch 35 - Accuracy: 43/52\n",
            "Epoch 36 - Accuracy: 38/52\n",
            "Epoch 37 - Accuracy: 40/52\n",
            "Epoch 38 - Accuracy: 44/52\n",
            "Epoch 39 - Accuracy: 44/52\n",
            "Epoch 40 - Accuracy: 48/52\n",
            "Epoch 41 - Accuracy: 44/52\n",
            "Epoch 42 - Accuracy: 46/52\n",
            "Epoch 43 - Accuracy: 48/52\n",
            "Epoch 44 - Accuracy: 46/52\n",
            "Epoch 45 - Accuracy: 44/52\n",
            "Epoch 46 - Accuracy: 45/52\n",
            "Epoch 47 - Accuracy: 45/52\n",
            "Epoch 48 - Accuracy: 46/52\n",
            "Epoch 49 - Accuracy: 47/52\n",
            "Epoch 50 - Accuracy: 49/52\n",
            "Epoch 51 - Accuracy: 45/52\n",
            "Epoch 52 - Accuracy: 49/52\n",
            "Epoch 53 - Accuracy: 49/52\n",
            "Epoch 54 - Accuracy: 51/52\n",
            "Epoch 55 - Accuracy: 51/52\n",
            "Epoch 56 - Accuracy: 52/52\n",
            "All items are correctly classified\n",
            "number of epochs: 56\n",
            "(26, 36)\n"
          ],
          "name": "stdout"
        },
        {
          "output_type": "execute_result",
          "data": {
            "text/plain": [
              "array([[-6.80126647e-01, -9.95218359e-01,  2.84260131e-01,\n",
              "         4.53050640e-01, -1.61903364e-01,  1.66443144e-01,\n",
              "         4.14812688e-01, -6.08698681e-01,  9.38089945e-01,\n",
              "        -6.86068233e-01,  6.80287352e-01, -1.37287102e-01,\n",
              "        -3.51464706e-01,  6.11223229e-01, -6.68336544e-01,\n",
              "         8.02206376e-01,  7.38720862e-01, -6.15279938e-01,\n",
              "        -8.29544567e-01, -6.31402127e-01, -3.64292867e-01,\n",
              "         5.48486664e-01,  6.98007922e-02,  2.07662887e-01,\n",
              "         5.81210167e-01,  9.19022925e-01, -4.37747505e-01,\n",
              "        -7.05483458e-01, -2.72469480e-01, -6.57866603e-01,\n",
              "        -5.70384504e-01,  5.87457885e-01,  7.28643144e-02,\n",
              "        -9.66810735e-01, -1.11971705e-01,  2.71724729e-01],\n",
              "       [-1.21162027e-01,  5.19857554e-01, -5.82253275e-01,\n",
              "        -1.53770757e-02,  6.70769212e-01, -2.60323124e-01,\n",
              "        -3.00167491e-02,  6.50513200e-01,  9.97721849e-02,\n",
              "         1.71158981e-01, -1.04640710e-01,  7.98350201e-01,\n",
              "         8.54529960e-01,  2.74340424e-01, -9.83427586e-01,\n",
              "         1.91015413e-01, -9.45539101e-02, -2.55121545e-01,\n",
              "         1.79199517e-02,  5.07401464e-01,  1.27298186e-01,\n",
              "         4.01256595e-02,  2.11066060e-01, -7.36075911e-01,\n",
              "        -6.23450465e-01, -4.11125249e-01, -2.01918331e-01,\n",
              "        -2.07079343e-01, -5.99580315e-01, -3.72071853e-01,\n",
              "         1.46916898e-01,  2.18401980e-01, -4.74674974e-01,\n",
              "         4.32478114e-01,  6.48265849e-01, -9.08028854e-02],\n",
              "       [ 6.33689576e-01, -2.34777212e-01,  1.55514949e-01,\n",
              "        -1.32833645e-01, -2.05120852e-01,  4.57055674e-01,\n",
              "        -1.45799659e-01, -6.40346375e-01,  8.30569915e-01,\n",
              "         5.48712993e-01, -1.36237283e-01, -2.12694035e-01,\n",
              "         5.62403006e-02,  4.46304754e-01,  3.40715596e-01,\n",
              "         2.62033774e-01, -2.96695109e-01, -5.08112268e-01,\n",
              "        -3.14008703e-01,  2.54399716e-01, -6.69568143e-01,\n",
              "         6.43623413e-01,  1.54417834e-02, -1.00559952e+00,\n",
              "         1.21509999e-01,  1.93438224e-01,  4.82079560e-01,\n",
              "         2.12362093e-01,  4.96204243e-01, -1.77508918e-01,\n",
              "         7.00548825e-01, -2.07320579e-01,  7.78478340e-01,\n",
              "        -9.85148378e-01,  5.44585741e-01, -1.66329137e-01],\n",
              "       [ 5.04605653e-01,  5.68386565e-01,  4.70577300e-02,\n",
              "        -7.73419346e-01, -7.63589832e-02, -3.13599455e-01,\n",
              "         5.63781256e-04, -9.88804429e-01,  1.25777425e-01,\n",
              "        -1.84747655e-01,  6.87092643e-01,  4.96542455e-01,\n",
              "        -8.11741875e-01,  1.56054666e-01, -4.19748678e-01,\n",
              "         3.54881704e-01,  2.40185860e-01,  6.60661055e-02,\n",
              "         1.39230774e-01, -8.07421695e-01, -2.65285940e-02,\n",
              "        -4.58952843e-01,  8.64668126e-01, -8.50603558e-01,\n",
              "         5.64597068e-01, -2.61290886e-01,  4.33749009e-01,\n",
              "        -2.97527802e-01,  6.44521641e-01, -6.31692494e-03,\n",
              "        -4.46853310e-01,  5.53326650e-01,  9.04181546e-01,\n",
              "        -3.94850302e-01, -2.97231048e-01, -8.32362131e-01],\n",
              "       [-3.08868725e-01,  1.28894747e-01,  4.31875287e-01,\n",
              "        -1.94021149e-01,  1.42623576e-01,  4.03345893e-01,\n",
              "         3.56922021e-01,  6.82321035e-01,  5.76226323e-01,\n",
              "         6.36618291e-01,  3.00954560e-01,  2.65501294e-01,\n",
              "         6.77236961e-01, -4.46950030e-02, -5.13076755e-01,\n",
              "         1.89790994e-01,  5.34049088e-01, -7.64980011e-02,\n",
              "        -3.71555578e-01,  4.98910710e-01, -8.19535141e-01,\n",
              "        -5.11729593e-01,  2.79696303e-01,  5.47437378e-01,\n",
              "         6.31799170e-02, -1.08203248e+00, -3.43267447e-01,\n",
              "         8.98247521e-01, -2.87325975e-01, -6.47583462e-01,\n",
              "         5.84633051e-01,  4.26250516e-01, -2.19736915e-01,\n",
              "         4.08845358e-01,  1.10795958e-01,  2.79859665e-01],\n",
              "       [ 1.01640288e+00, -5.44071842e-01, -1.76110172e-01,\n",
              "        -2.53419755e-01,  6.65411899e-01,  1.13855164e+00,\n",
              "        -6.41399421e-01,  5.36512761e-01,  5.87463124e-01,\n",
              "         2.25474058e-01,  3.20625495e-02,  4.32153964e-01,\n",
              "        -5.28844715e-01,  7.04083589e-04, -7.88789141e-01,\n",
              "         9.15537145e-02, -5.43741475e-01,  9.85234757e-01,\n",
              "        -4.44932230e-01,  1.99107931e-01,  2.85188270e-01,\n",
              "         5.37799598e-01, -3.69889435e-01,  6.26725287e-01,\n",
              "         2.48075967e-01, -1.48105881e-02, -5.27270949e-01,\n",
              "         2.59193837e-01,  2.36051709e-01, -1.80649107e-01,\n",
              "        -3.54260312e-01, -8.72949145e-02, -5.35173453e-01,\n",
              "        -9.79219341e-01,  3.45023869e-01,  1.54244501e-02],\n",
              "       [ 2.92765145e-01, -1.02192947e+00, -2.53924696e-01,\n",
              "         7.85323144e-01, -7.47698306e-01, -3.53320826e-01,\n",
              "        -3.23796701e-02, -3.24142198e-01,  6.10970770e-01,\n",
              "         2.75757026e-01,  9.72646248e-01,  9.53482637e-02,\n",
              "        -8.75103559e-01, -2.28008953e-01,  8.47451559e-01,\n",
              "        -5.14531147e-01,  3.55984553e-01,  1.50441921e-01,\n",
              "        -9.70814780e-01,  4.80543617e-02,  2.32333266e-01,\n",
              "        -7.61936516e-01,  6.66460864e-01, -4.36030820e-03,\n",
              "         7.52827710e-01, -2.02602438e-01,  9.64633667e-01,\n",
              "         7.94489288e-01, -3.93686602e-04, -4.50735942e-01,\n",
              "        -5.62506535e-01,  9.75452553e-02,  3.06911789e-01,\n",
              "        -6.74252949e-01,  9.14142802e-01, -4.92127706e-01],\n",
              "       [-3.53679225e-01,  2.23106558e-01, -8.49037819e-01,\n",
              "         2.83507543e-01,  6.38561865e-01,  8.22765798e-01,\n",
              "        -4.15964610e-02, -5.52034550e-01, -9.16203545e-01,\n",
              "         2.06088003e-03,  8.66320912e-01,  6.30099075e-02,\n",
              "         3.22672858e-01, -2.68524858e-01,  5.60966074e-01,\n",
              "         7.30698516e-01,  9.75817117e-01,  9.38438918e-01,\n",
              "        -7.20806539e-01,  5.70323181e-01, -1.83408563e-01,\n",
              "        -6.45870710e-01,  1.60074473e-01, -3.66005622e-01,\n",
              "         5.38959943e-01, -6.43477360e-01, -7.30132844e-03,\n",
              "         8.46506654e-01,  1.28345258e-01, -9.82600044e-01,\n",
              "        -7.56538220e-01, -4.90888387e-01, -7.03238719e-01,\n",
              "        -8.58607507e-01, -7.51759496e-01,  6.22985631e-01],\n",
              "       [ 8.67464519e-01, -2.36071415e-01, -1.95196263e-02,\n",
              "        -2.82493492e-01, -3.64688713e-01,  2.83593621e-02,\n",
              "        -9.48125771e-01, -4.67013551e-01,  3.14405284e-01,\n",
              "        -8.34174724e-01,  7.35536539e-01, -9.07608647e-01,\n",
              "         2.44913774e-01,  8.12009277e-01, -2.13934657e-01,\n",
              "        -3.31051408e-01,  6.93984448e-01,  6.52122992e-01,\n",
              "         2.68118981e-03, -8.11846963e-01, -1.95720768e-01,\n",
              "         3.64438319e-02, -2.27468226e-01,  6.53497611e-01,\n",
              "        -5.89566268e-01,  7.36740926e-01,  2.04068386e-01,\n",
              "        -3.33776557e-01, -2.96902266e-01, -8.45211324e-03,\n",
              "         7.10147888e-01,  4.81606269e-01, -3.63136691e-01,\n",
              "         6.07980420e-01,  1.72901433e-01, -6.91541554e-01],\n",
              "       [ 1.43973796e-02, -9.15436670e-01,  4.12958722e-01,\n",
              "         3.80497866e-01, -7.76724010e-01,  3.02608343e-01,\n",
              "        -1.01383931e+00, -1.30098440e-01, -2.79673617e-01,\n",
              "         7.24770973e-01,  4.03006374e-01,  2.38923001e-01,\n",
              "         2.45583944e-01, -5.33135661e-01, -3.71421431e-01,\n",
              "         4.04780955e-01, -7.62027737e-01, -6.38976014e-01,\n",
              "        -7.29526926e-01,  5.72875277e-01,  4.85549053e-01,\n",
              "         8.83120300e-01,  4.37214841e-01, -1.97178504e-01,\n",
              "         5.88603478e-01, -7.59006332e-01, -4.25143131e-01,\n",
              "         3.50522479e-01, -5.42882456e-01, -2.13564279e-01,\n",
              "        -1.31884363e-01,  6.75239366e-01,  7.50790131e-01,\n",
              "         6.51342447e-01,  6.95910612e-01,  3.91522550e-01],\n",
              "       [ 4.34278378e-01, -3.46959192e-01, -5.74022014e-01,\n",
              "        -5.98154395e-01,  4.73610662e-01,  4.04392242e-01,\n",
              "         7.50211103e-01,  4.54071454e-01, -3.02781017e-01,\n",
              "         3.45922351e-01, -1.27398272e+00,  1.44209841e-01,\n",
              "         8.46360482e-01,  3.46049383e-01, -3.18102924e-01,\n",
              "        -4.04351144e-01, -6.59561180e-01,  2.68505309e-01,\n",
              "         2.03588881e-01, -5.74260931e-01,  2.84401640e-01,\n",
              "         1.20902497e-01, -4.80089807e-01, -2.58499525e-01,\n",
              "        -4.64221469e-01,  5.33861899e-01,  2.97805346e-01,\n",
              "        -8.30638886e-01, -3.11751413e-01,  3.62765343e-01,\n",
              "        -2.32933243e-01,  2.53472460e-01, -2.07618382e-01,\n",
              "         6.17886664e-01, -7.25830866e-01,  2.53343313e-01],\n",
              "       [ 3.79844649e-01,  6.62250866e-01, -1.05358806e+00,\n",
              "         2.32720632e-01,  3.26319474e-01,  1.11976187e-01,\n",
              "         5.87677659e-01,  1.39751097e-01, -1.97605961e-02,\n",
              "        -2.11003617e-01, -7.39528181e-01,  6.17035119e-01,\n",
              "        -6.99936062e-01,  1.74973677e-01, -8.83857233e-01,\n",
              "        -1.37884351e-01,  1.65128430e-01,  2.25460580e-01,\n",
              "        -5.43367468e-01, -3.51272515e-01,  2.41452765e-01,\n",
              "        -5.47754968e-01,  7.47694700e-01,  9.07730849e-02,\n",
              "        -7.53662828e-02,  2.42681610e-01,  3.39544246e-01,\n",
              "         5.28674362e-01,  6.11670225e-01, -5.04376834e-01,\n",
              "        -1.01809852e-02, -3.30264706e-03, -6.18549115e-02,\n",
              "         5.79716948e-01, -5.90487037e-01, -1.95865342e-01],\n",
              "       [-5.46382231e-01,  4.57405984e-01,  4.94081988e-01,\n",
              "        -6.05472035e-01,  3.25491750e-02,  9.97532660e-02,\n",
              "        -3.72520727e-01,  1.01291247e+00,  5.45465657e-01,\n",
              "        -9.48600498e-02, -2.72397220e-01,  2.86770713e-01,\n",
              "        -1.42963394e-02,  6.20129746e-01, -8.48255371e-01,\n",
              "        -5.04682943e-01, -3.82659071e-01,  2.59283137e-01,\n",
              "        -7.49856446e-01, -8.91014542e-01,  1.02756710e+00,\n",
              "        -1.33467089e-01,  9.76261070e-01,  1.96824558e-01,\n",
              "        -7.80461624e-01, -4.67359454e-01,  6.44475282e-01,\n",
              "         3.14567228e-01,  1.16879302e-01,  2.69970195e-01,\n",
              "         6.15339610e-01,  9.11263588e-01,  9.31682339e-02,\n",
              "         6.75946303e-01, -3.18755570e-01,  2.19940081e-01],\n",
              "       [-6.05624566e-02,  8.90076524e-02,  6.89722110e-02,\n",
              "        -4.92002278e-01, -9.42284581e-01, -5.42139780e-01,\n",
              "         8.52686707e-01, -4.97110021e-01,  7.13706929e-01,\n",
              "         5.52934267e-01, -1.99141032e-02,  2.99492400e-01,\n",
              "        -4.77152199e-01,  5.95713977e-01,  2.38211673e-01,\n",
              "        -3.34041020e-01,  7.18106909e-01, -4.73809109e-01,\n",
              "        -9.03274459e-02,  6.61119827e-01, -3.20698369e-01,\n",
              "        -7.66362004e-01,  4.73813801e-01,  1.66394757e-01,\n",
              "         2.23555549e-01,  1.40570404e-01,  3.26901830e-01,\n",
              "         7.47309693e-01,  8.11289801e-01, -5.60086567e-01,\n",
              "         1.04389567e+00,  4.78555008e-01,  4.08670134e-01,\n",
              "         4.34205035e-01, -1.12343905e+00, -1.36755114e-01],\n",
              "       [-9.42155386e-02, -6.25930502e-02, -3.13319798e-02,\n",
              "        -6.16073536e-01,  2.24582103e-02, -1.92240100e-01,\n",
              "         3.73479432e-01,  5.67659088e-01, -3.38701356e-01,\n",
              "        -9.06357193e-02,  4.83841156e-01,  2.21328288e-01,\n",
              "         3.84347389e-02,  6.89360189e-01, -1.61827084e-02,\n",
              "         6.71265717e-01, -6.01131595e-01, -1.14415752e-02,\n",
              "         1.12240189e-01, -1.34792908e-01,  7.63290783e-01,\n",
              "        -2.73986815e-01,  1.44858827e-01, -6.15222453e-01,\n",
              "        -3.51311020e-01, -9.31310948e-01,  1.40107275e-01,\n",
              "         5.72600837e-01,  6.24438834e-01,  3.95889492e-01,\n",
              "         3.15484231e-01, -3.03446869e-01,  7.12100898e-01,\n",
              "        -2.96406501e-01,  8.03023221e-01,  1.35446752e-01],\n",
              "       [ 7.93648291e-01,  3.65651261e-01,  6.64016143e-01,\n",
              "        -5.25360023e-01,  3.92662816e-01, -6.27119257e-01,\n",
              "        -2.46088541e-01, -9.44986192e-01, -3.90563431e-02,\n",
              "        -7.31370419e-01,  8.91524364e-01,  2.65348279e-01,\n",
              "        -4.18832491e-01, -8.37168341e-02,  9.71609651e-02,\n",
              "         9.20265255e-01,  6.86236988e-02,  1.75240518e-01,\n",
              "         5.96402106e-01, -2.98139667e-01, -3.27962852e-01,\n",
              "        -3.29210020e-01, -7.80553053e-01,  8.46595957e-02,\n",
              "        -5.13117776e-02, -6.84661375e-01, -5.61903826e-01,\n",
              "        -5.92017578e-01, -9.13442322e-01, -2.74031728e-01,\n",
              "        -3.47089879e-01, -6.75498220e-01, -8.99315586e-01,\n",
              "        -3.65952369e-02, -1.76881322e-01,  3.39578237e-02],\n",
              "       [ 5.85124854e-01,  5.63375838e-01, -4.93132049e-01,\n",
              "        -1.82504437e-01,  7.46075991e-01, -4.83243722e-02,\n",
              "         8.35541561e-01,  5.35622952e-01,  4.78446491e-03,\n",
              "        -3.90470549e-01,  1.09619913e+00, -5.65665688e-01,\n",
              "         7.02618931e-02,  3.40567058e-01, -3.06534990e-01,\n",
              "        -4.64235337e-01, -6.51939745e-02,  1.14060162e-01,\n",
              "        -2.09911133e-01,  2.43255991e-01, -3.41229481e-01,\n",
              "         2.45546695e-01,  7.70048055e-01,  2.55035857e-02,\n",
              "         9.02292140e-01,  1.12221039e+00, -6.50688912e-01,\n",
              "        -1.18842722e-01, -3.84604709e-01,  7.48094072e-01,\n",
              "        -8.62149215e-01, -7.24281448e-01,  8.27079504e-01,\n",
              "        -8.38949010e-01, -7.57250491e-01, -1.84646009e-01],\n",
              "       [ 9.73999983e-01,  8.85426997e-01,  5.72613270e-01,\n",
              "        -3.74024511e-01, -2.30792521e-01,  4.00811136e-01,\n",
              "        -1.08169492e-01, -8.05008128e-01, -6.42235394e-01,\n",
              "        -6.80899435e-01,  3.52442356e-01, -8.64301232e-01,\n",
              "        -5.53150135e-01,  2.42860539e-01, -3.20388433e-01,\n",
              "         9.82713094e-01,  6.35949400e-01,  3.29689837e-02,\n",
              "        -4.54600034e-01,  1.64203057e-02, -5.09007898e-01,\n",
              "        -8.08151589e-04, -4.39937723e-01,  9.07067912e-01,\n",
              "        -4.84316125e-01,  4.79241768e-01,  5.92083895e-01,\n",
              "        -2.25462207e-01,  1.58055914e-01, -5.20836834e-01,\n",
              "        -7.66890898e-01, -6.78429547e-01, -1.23766933e-01,\n",
              "        -9.96480680e-01,  4.12373657e-01, -3.16743479e-01],\n",
              "       [ 5.15455874e-02,  1.71943299e-02, -5.17209371e-01,\n",
              "         4.16692424e-02,  1.19899559e+00, -4.00109521e-01,\n",
              "         5.16808952e-01,  2.50449284e-01,  1.74775684e-01,\n",
              "        -8.83389235e-01, -5.77232448e-01,  3.07427705e-01,\n",
              "         7.83690755e-01,  7.77877951e-01,  9.54518059e-01,\n",
              "         4.66626128e-02, -4.51444981e-01, -3.69306310e-01,\n",
              "        -8.65557143e-02,  1.46329790e-01, -7.17838791e-01,\n",
              "         3.17178345e-01, -3.53329833e-01,  4.64263189e-01,\n",
              "         5.70293444e-03,  1.83783155e-01,  1.48638966e-01,\n",
              "         3.83847480e-01,  9.47856244e-02,  5.00262124e-01,\n",
              "         3.32174987e-01,  6.72044239e-01, -3.82304961e-01,\n",
              "         1.34330858e-01,  1.36733105e-01, -8.47180863e-01],\n",
              "       [ 5.06394713e-01, -3.68283813e-01, -6.10412565e-01,\n",
              "         4.75376018e-01,  4.06805505e-01,  4.72850470e-01,\n",
              "        -5.36335494e-01,  5.53088760e-01, -1.63268850e-01,\n",
              "        -5.84623136e-01,  3.57815232e-01, -2.85291032e-01,\n",
              "        -6.91163960e-01,  2.35878368e-01, -1.84460954e-01,\n",
              "        -5.18851094e-01, -7.20833857e-01,  7.15454210e-01,\n",
              "        -4.25364045e-01,  7.54360145e-01, -9.17794013e-01,\n",
              "         5.04309013e-01,  8.02221020e-01,  4.40916128e-01,\n",
              "         7.98030891e-02,  7.15029179e-01,  4.78081450e-01,\n",
              "        -6.45406349e-01,  5.94736178e-01, -3.04241185e-01,\n",
              "        -8.09318371e-01, -9.53861867e-03, -5.17020885e-01,\n",
              "         5.39001217e-01, -1.01127210e+00,  4.85056947e-01],\n",
              "       [ 8.12882700e-01, -1.24350429e-01, -6.05000109e-01,\n",
              "        -9.08811448e-01, -2.27304864e-01,  7.34201238e-01,\n",
              "        -1.73635286e-01,  8.11301230e-01, -6.46228115e-01,\n",
              "         5.49863518e-01, -7.58971420e-01, -3.96910325e-01,\n",
              "         7.37192148e-01, -7.07664711e-02,  6.54307297e-01,\n",
              "         9.10498964e-01,  9.93893978e-01,  7.58375477e-01,\n",
              "        -4.42122045e-02, -4.96140844e-01, -2.73142078e-01,\n",
              "         2.97039379e-01,  6.44562861e-01, -1.28154075e-01,\n",
              "        -9.29588616e-01, -5.10940894e-01,  3.47202726e-01,\n",
              "        -6.97903219e-01, -6.12951440e-01, -5.22774044e-01,\n",
              "        -9.88109867e-02, -2.30248876e-01,  1.21649740e-01,\n",
              "         6.23229592e-01,  3.63585094e-01, -1.08150564e+00],\n",
              "       [-8.28642138e-02,  7.07787646e-01, -3.89895083e-01,\n",
              "        -1.38941953e-01,  5.82372618e-01, -2.72964056e-01,\n",
              "         6.90725124e-01,  8.60632246e-02, -1.87171219e-01,\n",
              "        -7.88004928e-02,  3.98857526e-02,  4.85615804e-01,\n",
              "        -4.92064248e-01, -4.03485543e-01,  3.40048022e-01,\n",
              "        -1.33108259e-01,  8.77193059e-01,  7.12607490e-01,\n",
              "         5.80725527e-02, -7.91350205e-01,  2.06992570e-01,\n",
              "         2.51356109e-01,  3.75682626e-01,  3.88067817e-01,\n",
              "        -8.06256390e-01,  4.06336084e-01, -1.13352704e+00,\n",
              "        -1.25536456e-01,  6.42783591e-01,  6.38610607e-02,\n",
              "        -3.72722734e-01, -9.02827499e-01,  6.90890094e-01,\n",
              "         3.27308575e-02, -8.36767815e-01, -1.01119096e+00],\n",
              "       [-2.68662271e-01, -3.13064011e-01, -6.91353097e-01,\n",
              "        -2.65223031e-01,  8.97234047e-02,  1.07988966e+00,\n",
              "        -9.06759931e-01,  4.62714791e-01, -3.00767774e-01,\n",
              "        -1.83736337e-01,  7.28009779e-01, -4.41204804e-01,\n",
              "         1.77676231e-01,  6.06921504e-01, -8.40059300e-01,\n",
              "         8.88823936e-01,  2.50106350e-01,  4.84934820e-01,\n",
              "        -6.20610558e-01, -4.29608470e-01, -2.84681450e-01,\n",
              "         8.30076194e-01, -6.99938790e-01,  9.57928103e-01,\n",
              "         1.27419999e-02,  6.86805985e-01, -6.57053166e-01,\n",
              "        -2.65871273e-02,  6.69952549e-01,  5.44333063e-01,\n",
              "        -4.38706437e-01, -3.41381341e-01, -1.67298765e-01,\n",
              "         3.15907766e-01,  2.73895356e-01,  7.23786851e-01],\n",
              "       [-2.98910195e-01, -1.95330028e-03, -5.88775221e-01,\n",
              "         1.09947614e-02, -5.46998461e-01,  8.34732793e-02,\n",
              "        -7.42593512e-01, -3.44161185e-01, -3.03549789e-01,\n",
              "        -4.16112084e-01,  2.78609731e-01,  2.46839004e-01,\n",
              "        -4.19963503e-01,  3.89716348e-01,  5.76969382e-01,\n",
              "         2.43461370e-01, -2.45921566e-01, -7.26771692e-01,\n",
              "         8.24311660e-01, -6.60652939e-01, -9.21229619e-01,\n",
              "         7.79907011e-01,  1.56330100e-01,  8.83206696e-01,\n",
              "         9.87683920e-01, -1.12443849e+00,  9.17428880e-01,\n",
              "         5.96564662e-01, -9.11610493e-01,  4.36933614e-01,\n",
              "        -3.87948881e-01,  9.59484307e-01, -9.43310961e-01,\n",
              "         5.57362541e-01,  5.46512524e-01, -3.89319264e-01],\n",
              "       [ 1.40990524e+00, -2.47773510e-01, -1.94505293e-01,\n",
              "        -3.93888912e-01,  3.67803020e-01,  1.14430823e+00,\n",
              "        -2.32072580e-01,  3.97290424e-01, -7.22377612e-01,\n",
              "         5.66424693e-02,  1.35609615e+00,  7.88527795e-01,\n",
              "        -7.57315100e-01, -8.74967545e-01, -2.35614435e-01,\n",
              "        -1.40474983e-01,  3.09097481e-01, -5.22707892e-01,\n",
              "         9.38485145e-01, -4.65261283e-01, -2.40397279e-01,\n",
              "        -2.21650649e-01, -2.82408293e-01, -4.12325270e-01,\n",
              "         1.40356460e-03, -4.63710276e-01, -8.23631252e-01,\n",
              "         2.26520954e-01, -1.83760545e-01, -9.11377668e-01,\n",
              "        -3.91616218e-01, -8.71298414e-01, -9.31376464e-01,\n",
              "         3.05891721e-01,  2.52948092e-01, -6.81602352e-01],\n",
              "       [ 6.27469895e-01,  5.20378576e-01,  6.65633235e-01,\n",
              "         5.74694120e-01,  7.28590221e-01, -4.28114309e-01,\n",
              "        -4.47320223e-02,  8.92648666e-01, -5.78490333e-01,\n",
              "         8.28538867e-01,  5.69011421e-01, -1.20748060e-01,\n",
              "         1.84552612e-01, -5.74435080e-01,  2.00451406e-01,\n",
              "         5.71835707e-02, -1.08476023e+00, -1.94148952e-01,\n",
              "         6.76535419e-02, -4.40558423e-01, -5.73058848e-02,\n",
              "         3.95643691e-01,  6.43381848e-01,  2.99446550e-01,\n",
              "         2.28226461e-01, -6.93048063e-01, -2.29164665e-01,\n",
              "        -6.82766889e-01,  4.66230157e-01,  4.54839207e-01,\n",
              "         5.08723783e-01, -2.58008290e-01, -7.26120922e-02,\n",
              "        -3.88243065e-01, -5.45621720e-01, -4.67830146e-01]])"
            ]
          },
          "metadata": {
            "tags": []
          },
          "execution_count": 18
        }
      ]
    },
    {
      "cell_type": "markdown",
      "metadata": {
        "id": "secondary-stephen"
      },
      "source": [
        "# 6. Use your trained multiclass perceptron to classify each image in the test set.\n",
        "## Apply the weights to all feature vectors in the test set at once using np.matmul(), then make predictions using np.amax().\n",
        "## What accuracy do you obtain? If the accuracy is less than 100%, which test images are misclassified?\n"
      ],
      "id": "secondary-stephen"
    },
    {
      "cell_type": "code",
      "metadata": {
        "id": "helpful-probe"
      },
      "source": [
        "def test_model(dataset_2D, model):\n",
        "    len_train_set = len(dataset_2D)\n",
        "    w_idx = 0\n",
        "    misclassification = 0\n",
        "    for i in range(len_train_set):\n",
        "        if w_idx == 26:\n",
        "            w_idx = 0\n",
        "        ascii_idx = np.argmax(np.dot(model, dataset_2D[i]))\n",
        "        y_pred = chr(ascii_idx + ord('A'))\n",
        "        print(f'Prediction: {y_pred}, Target: {string.ascii_uppercase[w_idx]}, {y_pred == string.ascii_uppercase[w_idx]}')\n",
        "        if y_pred != string.ascii_uppercase[w_idx]:\n",
        "            misclassification += 1\n",
        "        w_idx += 1\n",
        "    \n",
        "    correct = len_train_set - misclassification\n",
        "    res = correct if correct > 0 else 0\n",
        "    print(f'\\nAccuracy: {res}/{len_train_set} Percentage: {(res/len_train_set * 100):.2f}%')"
      ],
      "id": "helpful-probe",
      "execution_count": 19,
      "outputs": []
    },
    {
      "cell_type": "code",
      "metadata": {
        "colab": {
          "base_uri": "https://localhost:8080/"
        },
        "id": "artistic-bernard",
        "outputId": "f194a615-4ffa-4b00-ffe8-8218c44cfe1b"
      },
      "source": [
        "test_model(TRAINING_SET_2D, mul_pct_model)"
      ],
      "id": "artistic-bernard",
      "execution_count": 20,
      "outputs": [
        {
          "output_type": "stream",
          "text": [
            "Prediction: A, Target: A, True\n",
            "Prediction: B, Target: B, True\n",
            "Prediction: C, Target: C, True\n",
            "Prediction: D, Target: D, True\n",
            "Prediction: E, Target: E, True\n",
            "Prediction: F, Target: F, True\n",
            "Prediction: G, Target: G, True\n",
            "Prediction: H, Target: H, True\n",
            "Prediction: I, Target: I, True\n",
            "Prediction: J, Target: J, True\n",
            "Prediction: K, Target: K, True\n",
            "Prediction: L, Target: L, True\n",
            "Prediction: M, Target: M, True\n",
            "Prediction: N, Target: N, True\n",
            "Prediction: O, Target: O, True\n",
            "Prediction: P, Target: P, True\n",
            "Prediction: Q, Target: Q, True\n",
            "Prediction: R, Target: R, True\n",
            "Prediction: S, Target: S, True\n",
            "Prediction: T, Target: T, True\n",
            "Prediction: U, Target: U, True\n",
            "Prediction: V, Target: V, True\n",
            "Prediction: W, Target: W, True\n",
            "Prediction: X, Target: X, True\n",
            "Prediction: Y, Target: Y, True\n",
            "Prediction: Z, Target: Z, True\n",
            "Prediction: A, Target: A, True\n",
            "Prediction: B, Target: B, True\n",
            "Prediction: C, Target: C, True\n",
            "Prediction: D, Target: D, True\n",
            "Prediction: E, Target: E, True\n",
            "Prediction: F, Target: F, True\n",
            "Prediction: G, Target: G, True\n",
            "Prediction: H, Target: H, True\n",
            "Prediction: I, Target: I, True\n",
            "Prediction: J, Target: J, True\n",
            "Prediction: K, Target: K, True\n",
            "Prediction: L, Target: L, True\n",
            "Prediction: M, Target: M, True\n",
            "Prediction: N, Target: N, True\n",
            "Prediction: O, Target: O, True\n",
            "Prediction: P, Target: P, True\n",
            "Prediction: Q, Target: Q, True\n",
            "Prediction: R, Target: R, True\n",
            "Prediction: S, Target: S, True\n",
            "Prediction: T, Target: T, True\n",
            "Prediction: U, Target: U, True\n",
            "Prediction: V, Target: V, True\n",
            "Prediction: W, Target: W, True\n",
            "Prediction: X, Target: X, True\n",
            "Prediction: Y, Target: Y, True\n",
            "Prediction: Z, Target: Z, True\n",
            "\n",
            "Accuracy: 52/52 Percentage: 100.00%\n"
          ],
          "name": "stdout"
        }
      ]
    },
    {
      "cell_type": "code",
      "metadata": {
        "colab": {
          "base_uri": "https://localhost:8080/"
        },
        "id": "dietary-massage",
        "outputId": "adc908e0-18f6-4129-e780-0d2d1b4d4584"
      },
      "source": [
        "test_model(TEST_SET_2D, mul_pct_model)"
      ],
      "id": "dietary-massage",
      "execution_count": 21,
      "outputs": [
        {
          "output_type": "stream",
          "text": [
            "Prediction: J, Target: A, False\n",
            "Prediction: B, Target: B, True\n",
            "Prediction: C, Target: C, True\n",
            "Prediction: D, Target: D, True\n",
            "Prediction: E, Target: E, True\n",
            "Prediction: F, Target: F, True\n",
            "Prediction: C, Target: G, False\n",
            "Prediction: H, Target: H, True\n",
            "Prediction: I, Target: I, True\n",
            "Prediction: J, Target: J, True\n",
            "Prediction: K, Target: K, True\n",
            "Prediction: L, Target: L, True\n",
            "Prediction: W, Target: M, False\n",
            "Prediction: N, Target: N, True\n",
            "Prediction: O, Target: O, True\n",
            "Prediction: P, Target: P, True\n",
            "Prediction: Q, Target: Q, True\n",
            "Prediction: R, Target: R, True\n",
            "Prediction: S, Target: S, True\n",
            "Prediction: Z, Target: T, False\n",
            "Prediction: U, Target: U, True\n",
            "Prediction: V, Target: V, True\n",
            "Prediction: R, Target: W, False\n",
            "Prediction: X, Target: X, True\n",
            "Prediction: Y, Target: Y, True\n",
            "Prediction: T, Target: Z, False\n",
            "\n",
            "Accuracy: 20/26 Percentage: 76.92%\n"
          ],
          "name": "stdout"
        }
      ]
    },
    {
      "cell_type": "markdown",
      "metadata": {
        "id": "small-likelihood"
      },
      "source": [
        "# 7. Implement and train a multinomial logistic regression classifier as described in Section 2.3.3 of the textbook. \n",
        "## Begin with weights initialized to random values and a learning rate of 𝛼 = 0.01. Predict the letter using the softmax activation function of Equation 2.29 in the textbook.\n",
        "## Train the classifier by applying the update rule of Equation 2.37 in the textbook until all items in the training set are correctly classified.\n"
      ],
      "id": "small-likelihood"
    },
    {
      "cell_type": "code",
      "metadata": {
        "id": "thrown-blues"
      },
      "source": [
        "# use while-loop and no epochs\n",
        "def check_for_misclassification(epochs, W, X_train):\n",
        "    N = len(X_train)\n",
        "    misclassification = 0\n",
        "    pred_idx = 0\n",
        "    for i in range(N):\n",
        "        if pred_idx == 26:\n",
        "            pred_idx = 0\n",
        "        ascii_idx = np.argmax(np.matmul(W, X_train[i]))\n",
        "        y_pred = chr(ascii_idx + ord('A'))\n",
        "        if y_pred != string.ascii_uppercase[pred_idx]:\n",
        "            misclassification += 1\n",
        "        pred_idx += 1\n",
        "    print(f'Epoch {epochs} - Accuracy: {N - misclassification}/{N}')\n",
        "    return misclassification\n",
        "    \n",
        "    \n",
        "def mul_log_reg_train(data_train, target_train):\n",
        "    ALPHA = 0.01\n",
        "    LAMBDA = 0.60125 # penalty\n",
        "    \n",
        "    D = len(data_train[0])             # dimensions (including bias)\n",
        "    N = len(data_train)                # training instance\n",
        "    P = len(string.ascii_uppercase)    # number of perceptrons\n",
        "    \n",
        "    rng = default_rng()\n",
        "    W = rng.uniform(-1, +1, (P, D))\n",
        "    X_train = data_train\n",
        "    Y_train = target_train\n",
        "    \n",
        "    idx = np.arange(N)\n",
        "    w_idx = 0\n",
        "    misclassification = 0\n",
        "    epochs = 0\n",
        "    while True:\n",
        "        for i in range(N):\n",
        "            if w_idx == P:\n",
        "                w_idx = 0\n",
        "                \n",
        "            # Predict the letter using the softmax activation function of Equation 2.29 in the textbook\n",
        "            Y_hat = np.dot(W, X_train[i])\n",
        "            one_class_exp = np.exp(Y_hat)\n",
        "            sum_classes_exp = np.sum(one_class_exp)\n",
        "            probability = one_class_exp / sum_classes_exp\n",
        "            y_pred_idx = np.argmax(probability)\n",
        "\n",
        "            # prediction is incorrect, use update rule of equation 2.37 in textbook\n",
        "            if Y_train[i][y_pred_idx] == 0:\n",
        "                temp = W[w_idx]\n",
        "                W = W * (1.0 - ALPHA * LAMBDA) + (-ALPHA * probability[w_idx] * X_train[i])\n",
        "                W[w_idx] = temp * (1.0 - ALPHA * LAMBDA) + (ALPHA * (1.0 - probability[w_idx]) * X_train[i])\n",
        "                \n",
        "            w_idx += 1\n",
        "            \n",
        "        # check if all items in the training set are correctly classified\n",
        "        misclassification = check_for_misclassification(epochs, W, X_train)\n",
        "        if misclassification == 0:\n",
        "            print('All items are correctly classified')\n",
        "            print(f'number of epochs: {epochs}')\n",
        "            return W\n",
        "        else:\n",
        "            misclassification = 0\n",
        "        epochs += 1\n",
        "    return W "
      ],
      "id": "thrown-blues",
      "execution_count": 22,
      "outputs": []
    },
    {
      "cell_type": "code",
      "metadata": {
        "colab": {
          "base_uri": "https://localhost:8080/"
        },
        "id": "caring-responsibility",
        "outputId": "86de5efd-f83e-4a40-d57e-fa0fccad39e8"
      },
      "source": [
        "mul_log_reg_model = mul_log_reg_train(TRAINING_SET_2D, TRAINING_SET_LABELS)\n",
        "print(mul_log_reg_model.shape)\n",
        "mul_log_reg_model"
      ],
      "id": "caring-responsibility",
      "execution_count": 23,
      "outputs": [
        {
          "output_type": "stream",
          "text": [
            "Epoch 0 - Accuracy: 2/52\n",
            "Epoch 1 - Accuracy: 2/52\n",
            "Epoch 2 - Accuracy: 3/52\n",
            "Epoch 3 - Accuracy: 6/52\n",
            "Epoch 4 - Accuracy: 10/52\n",
            "Epoch 5 - Accuracy: 12/52\n",
            "Epoch 6 - Accuracy: 14/52\n",
            "Epoch 7 - Accuracy: 15/52\n",
            "Epoch 8 - Accuracy: 22/52\n",
            "Epoch 9 - Accuracy: 26/52\n",
            "Epoch 10 - Accuracy: 36/52\n",
            "Epoch 11 - Accuracy: 40/52\n",
            "Epoch 12 - Accuracy: 38/52\n",
            "Epoch 13 - Accuracy: 35/52\n",
            "Epoch 14 - Accuracy: 35/52\n",
            "Epoch 15 - Accuracy: 31/52\n",
            "Epoch 16 - Accuracy: 46/52\n",
            "Epoch 17 - Accuracy: 43/52\n",
            "Epoch 18 - Accuracy: 44/52\n",
            "Epoch 19 - Accuracy: 52/52\n",
            "All items are correctly classified\n",
            "number of epochs: 19\n",
            "(26, 36)\n"
          ],
          "name": "stdout"
        },
        {
          "output_type": "execute_result",
          "data": {
            "text/plain": [
              "array([[-1.21287241e-02, -4.41490684e-02,  2.30144540e-03,\n",
              "         3.18513503e-03,  1.16372397e-02, -5.01014472e-02,\n",
              "        -1.23650398e-02,  2.98207567e-03, -1.36513965e-02,\n",
              "        -7.25196290e-03,  2.09881556e-03, -1.60875355e-03,\n",
              "         2.73928213e-04, -9.71074577e-03,  5.72643009e-03,\n",
              "         2.70070586e-02, -3.76015834e-03,  2.37394134e-02,\n",
              "        -6.04580055e-03,  1.45141634e-02,  3.75843971e-02,\n",
              "        -1.18591960e-02,  7.73027528e-03,  9.34865469e-03,\n",
              "         1.70919653e-02,  1.89696288e-02,  4.47047733e-03,\n",
              "        -5.46517499e-03,  3.96797504e-03, -6.74979925e-03,\n",
              "         2.62401906e-02,  1.65547644e-02, -2.74618228e-02,\n",
              "        -5.56641448e-02, -4.36409105e-02,  3.96488657e-02],\n",
              "       [-1.73986841e-02, -1.37681725e-02,  1.69764295e-03,\n",
              "         1.62069508e-02,  1.57361320e-02, -4.48498097e-02,\n",
              "        -1.14208265e-02, -3.59352377e-03, -1.68549469e-02,\n",
              "         7.93901201e-03, -2.58679920e-03, -1.96604688e-03,\n",
              "         9.72349062e-03, -1.64114856e-02, -1.69551994e-02,\n",
              "         1.64048812e-02, -1.58629907e-02,  3.55099720e-02,\n",
              "         1.54450885e-02,  1.16042514e-02, -4.19294587e-02,\n",
              "        -1.83751816e-02,  1.07505142e-02, -1.45549408e-02,\n",
              "        -1.41811477e-02,  1.70868676e-03, -3.73593886e-03,\n",
              "         5.11757224e-03, -1.37779009e-02, -2.24646300e-02,\n",
              "         2.28322781e-02,  1.99021144e-02,  9.52173393e-03,\n",
              "        -8.66346296e-03,  1.66499320e-02, -3.20177041e-02],\n",
              "       [-8.44347023e-03, -4.57269433e-02,  2.98670815e-02,\n",
              "         2.65839120e-02,  4.36095884e-02, -3.47248988e-02,\n",
              "         6.22944576e-03,  3.92761276e-03, -1.10997146e-02,\n",
              "         2.24895571e-03,  1.31380891e-02,  1.94354568e-02,\n",
              "         6.44460193e-03,  8.12458982e-04,  9.45740490e-03,\n",
              "        -4.31314257e-02,  2.27668266e-02, -3.94426472e-02,\n",
              "        -3.17320517e-02, -3.05983898e-02, -3.35091236e-02,\n",
              "         3.20317522e-03, -4.32713509e-03, -5.88117701e-03,\n",
              "         6.99072331e-03, -5.98138956e-02,  1.09694240e-02,\n",
              "        -7.02634211e-03, -1.04737135e-02, -9.11553348e-03,\n",
              "         2.60528919e-02, -4.61690683e-02,  3.50439982e-02,\n",
              "         1.73657970e-02,  2.44363837e-02, -2.57135393e-02],\n",
              "       [-4.00988486e-03, -1.01235374e-03,  1.82694844e-02,\n",
              "         8.32910128e-03, -4.39355136e-03, -3.51077867e-02,\n",
              "         7.92008410e-03, -1.99368885e-02, -3.88353999e-03,\n",
              "         6.85976621e-03, -7.86923641e-03,  6.97259864e-03,\n",
              "        -8.61292298e-03, -1.57190354e-02, -5.64936429e-04,\n",
              "         7.44171948e-03, -1.85624203e-03, -3.74005917e-02,\n",
              "        -3.04465503e-02, -2.14459727e-02,  1.83941171e-02,\n",
              "         3.16719554e-03, -1.38843049e-02, -2.19046835e-02,\n",
              "        -6.11990077e-04,  1.06304577e-02,  1.36306745e-02,\n",
              "        -9.17661123e-03, -3.11460975e-03, -1.98091568e-03,\n",
              "         2.19164314e-02,  2.73586719e-02,  2.12547700e-02,\n",
              "         2.02817170e-02,  3.02692603e-02, -4.64502012e-02],\n",
              "       [-3.16068002e-02,  9.52168692e-03,  2.58057716e-02,\n",
              "         1.90565028e-02,  1.55740771e-03,  2.48243235e-02,\n",
              "        -7.38142902e-03,  8.79990115e-03, -4.86499569e-03,\n",
              "         7.54492337e-03, -5.17710123e-02, -6.30172184e-03,\n",
              "         1.20325081e-02, -1.18889276e-02,  2.38219582e-04,\n",
              "        -4.72459905e-02,  7.05159643e-03,  2.14325086e-02,\n",
              "         1.18630211e-02,  4.31137167e-02, -3.79145425e-02,\n",
              "         1.02517324e-02,  4.10018452e-03, -2.56054593e-02,\n",
              "        -5.43933274e-03, -5.77249285e-02,  3.38223113e-03,\n",
              "        -1.35251910e-03, -1.98266915e-02, -2.66438663e-02,\n",
              "        -3.49906457e-02,  2.71303378e-02,  1.59921597e-02,\n",
              "         5.70077714e-03,  2.58239935e-02,  2.54653316e-02],\n",
              "       [-1.35320230e-02,  1.05508861e-02,  2.33472808e-02,\n",
              "         2.43373079e-02,  3.32282897e-02,  1.78007875e-02,\n",
              "         2.22150085e-03, -1.96879237e-02, -1.43776137e-02,\n",
              "        -2.01993878e-02, -5.62469082e-02, -2.39274000e-03,\n",
              "         1.02307919e-02,  2.38056733e-03, -1.68938309e-02,\n",
              "        -4.95912850e-02,  3.93316365e-03,  5.20934743e-02,\n",
              "         3.71437245e-02,  1.62972321e-02, -4.54024922e-02,\n",
              "         1.47279958e-02, -1.36199179e-02, -3.06972412e-02,\n",
              "        -8.62075194e-03, -5.74202260e-02, -7.96286078e-03,\n",
              "        -2.24855867e-02, -2.63381627e-03, -2.08373126e-02,\n",
              "        -5.89103820e-02,  3.07078125e-02, -3.39744891e-02,\n",
              "        -4.96337058e-02, -5.02150373e-02, -2.81343455e-02],\n",
              "       [-5.70099537e-03, -4.21686497e-02,  3.67498934e-02,\n",
              "         1.86092511e-02,  9.37333376e-03, -4.54542144e-02,\n",
              "        -8.21236442e-03, -1.90330741e-02,  3.68829464e-03,\n",
              "         9.53351129e-04,  2.20144293e-02,  4.28602210e-03,\n",
              "         6.10582546e-03,  4.21167563e-04,  3.53992771e-03,\n",
              "        -4.55958159e-02,  1.80851807e-02, -3.69991242e-02,\n",
              "        -4.95473861e-02,  2.31554207e-02,  3.29379371e-02,\n",
              "        -1.40437251e-03,  6.79380969e-04, -1.77774372e-02,\n",
              "         1.48126000e-02,  1.83251372e-02,  1.62285287e-02,\n",
              "        -9.85434854e-03, -1.25032186e-02, -1.69407240e-02,\n",
              "         1.91251232e-02, -3.62476679e-02,  2.45457639e-02,\n",
              "         1.80121086e-02,  2.70055475e-02, -3.14842579e-02],\n",
              "       [-1.69512728e-02, -4.09830708e-03, -6.14167076e-02,\n",
              "        -4.68478150e-02, -5.28576468e-02,  1.41807018e-02,\n",
              "        -5.91435526e-03, -1.02708067e-03, -1.85504615e-02,\n",
              "        -6.09620628e-03,  4.65300438e-03, -1.96091659e-02,\n",
              "         3.14512281e-03, -2.61068498e-02,  7.54375086e-03,\n",
              "         7.78669132e-03,  2.93064455e-03,  3.70237959e-02,\n",
              "         2.15643043e-02,  1.97327894e-02, -1.24949001e-03,\n",
              "         4.56835356e-03, -1.76050659e-02, -1.08549868e-02,\n",
              "        -1.82940203e-02, -3.54752715e-05, -2.35303174e-03,\n",
              "        -2.18425121e-02, -3.48516093e-03, -2.44009915e-02,\n",
              "         6.27805393e-03,  4.05635993e-04, -3.15518405e-02,\n",
              "        -5.78072345e-02, -4.46725059e-02,  1.23409742e-02],\n",
              "       [-1.97057536e-02, -6.14326737e-02,  3.76466402e-03,\n",
              "        -1.46334800e-03,  9.75127477e-03, -5.23285192e-02,\n",
              "        -7.54030552e-02, -1.06518518e-03,  6.09778859e-02,\n",
              "         7.43666578e-04, -5.14105343e-02, -7.13426592e-02,\n",
              "        -1.46436807e-02,  3.98589277e-02,  7.53397844e-03,\n",
              "        -4.68189927e-02, -7.48678000e-02, -4.03755526e-02,\n",
              "         1.51154552e-02, -3.23698683e-02, -2.47158552e-02,\n",
              "        -7.54658778e-02, -1.95835133e-02,  3.25619002e-02,\n",
              "         3.89192460e-03, -5.58734656e-02, -5.99204606e-02,\n",
              "        -1.89532589e-02,  5.18364941e-02, -1.84607568e-02,\n",
              "        -4.28528854e-02, -4.33831654e-02,  2.16321055e-02,\n",
              "         3.58138080e-03,  7.76164797e-03, -3.93284452e-02],\n",
              "       [ 1.88189766e-02, -5.55764200e-02, -3.13687077e-02,\n",
              "        -1.64680185e-02, -3.53399710e-02,  5.58262940e-02,\n",
              "        -5.95184640e-02,  3.17383297e-04,  6.46853620e-03,\n",
              "         2.55986539e-02,  8.71242999e-03, -6.62212966e-02,\n",
              "        -1.48532363e-02, -2.05911528e-02,  2.19345085e-02,\n",
              "         2.13702406e-02, -6.81881795e-02, -4.18991526e-02,\n",
              "        -2.26952427e-02,  2.76002639e-03,  3.13896116e-02,\n",
              "         1.57387498e-02, -1.73204674e-03, -2.65276476e-02,\n",
              "         1.15684803e-02,  2.02463707e-02,  1.14684593e-02,\n",
              "        -1.67472497e-02, -1.96590501e-02,  6.51945241e-03,\n",
              "         1.79228964e-02, -3.25859907e-02,  3.58342102e-02,\n",
              "         2.69035162e-02,  3.34502396e-02, -4.83379908e-02],\n",
              "       [-2.06122086e-02, -6.56911130e-03, -5.19776218e-02,\n",
              "        -3.21848103e-02, -3.54997924e-02,  2.84273420e-03,\n",
              "        -2.39035242e-02, -1.33538563e-02, -1.30847965e-02,\n",
              "         3.38470219e-02, -4.72723528e-02, -1.58419419e-02,\n",
              "        -1.55520401e-02,  1.94704857e-02,  1.72999598e-03,\n",
              "        -3.99669489e-02, -1.14454911e-02,  1.43848767e-02,\n",
              "        -4.79426137e-02, -2.68205900e-02, -4.71383001e-02,\n",
              "        -1.12358649e-02,  7.97425571e-04,  3.61356467e-02,\n",
              "        -8.69013053e-03, -4.60135856e-02, -6.74722143e-03,\n",
              "        -1.36514858e-02, -7.38498524e-03,  4.13559946e-02,\n",
              "        -4.98846732e-02,  1.55905060e-02, -4.47193775e-02,\n",
              "        -4.57798937e-02, -2.50824726e-02, -2.46092206e-03],\n",
              "       [-1.52880179e-02,  2.81492848e-02, -5.81274839e-02,\n",
              "        -4.76773481e-02, -4.24128664e-02, -5.37615736e-02,\n",
              "        -7.54718346e-03, -2.03760744e-02, -3.41386947e-03,\n",
              "        -1.02591753e-02, -6.60563067e-02, -3.32125760e-03,\n",
              "        -1.00091838e-02, -2.65104234e-02,  7.93686070e-03,\n",
              "        -5.38640874e-02,  8.26991172e-03, -2.63752559e-02,\n",
              "        -4.31508937e-02, -4.66623233e-02, -2.82485610e-02,\n",
              "        -4.95520072e-03, -6.60416641e-03, -2.83477278e-02,\n",
              "         3.85360764e-03, -5.30444002e-02, -7.52703017e-03,\n",
              "         2.19512214e-03, -1.05475078e-02, -7.59955778e-04,\n",
              "        -4.20344210e-02,  8.97874363e-03,  3.45531455e-02,\n",
              "         1.86298110e-02,  4.69970246e-02,  4.44618601e-02],\n",
              "       [-2.10741546e-02, -1.60835238e-02, -4.44703981e-02,\n",
              "        -5.99999565e-02, -5.27103128e-02,  1.84080838e-02,\n",
              "        -1.32171367e-02,  5.24098741e-02,  3.58847823e-03,\n",
              "         3.57660544e-02, -2.81163024e-04, -6.88535499e-03,\n",
              "         1.14265343e-02,  3.44955988e-02, -1.67323959e-02,\n",
              "         8.16813116e-03, -2.87075354e-03, -3.96922708e-02,\n",
              "        -1.10930884e-02, -2.52036116e-02,  2.12991988e-02,\n",
              "        -2.98800016e-02, -5.56720234e-03, -3.29524433e-02,\n",
              "         2.83330862e-03,  4.48760412e-03, -2.69706484e-02,\n",
              "        -1.50180234e-02, -2.32710115e-02, -1.16060171e-02,\n",
              "         1.64495978e-02,  1.69639296e-02, -2.70502326e-02,\n",
              "        -5.11902349e-02, -3.19861853e-02,  9.08229859e-03],\n",
              "       [-3.20360171e-02,  1.60629965e-02, -6.14122466e-02,\n",
              "        -6.07990450e-02, -3.73955575e-02,  1.33747235e-02,\n",
              "        -1.96546677e-02,  3.76060782e-02, -1.50773232e-02,\n",
              "        -1.43521325e-02,  4.82392098e-03, -1.10981307e-03,\n",
              "         1.65132474e-02,  1.39815756e-02,  1.12458062e-03,\n",
              "         1.81227761e-02, -7.08722750e-03, -2.98011469e-02,\n",
              "        -9.74774375e-03,  3.01976792e-03,  9.83358837e-03,\n",
              "        -4.89112929e-03, -2.00482436e-02, -3.26588530e-02,\n",
              "         1.50227596e-02,  3.02188765e-03, -8.62147753e-03,\n",
              "        -1.85313541e-02, -1.14209071e-02, -1.95425097e-02,\n",
              "         5.46311742e-03,  2.22340641e-02, -5.65360054e-02,\n",
              "        -3.49468770e-02, -3.60638212e-02,  3.34156625e-02],\n",
              "       [-2.46300991e-03, -4.94311923e-02,  2.26834942e-02,\n",
              "         1.15998580e-02,  2.58433278e-02, -3.14484275e-02,\n",
              "         1.24885614e-02, -2.72423169e-03, -1.73583340e-02,\n",
              "        -7.66237608e-03,  2.20159420e-02,  7.59942983e-03,\n",
              "        -1.10759371e-02, -4.92373192e-03,  1.02981572e-03,\n",
              "         2.58181536e-02,  1.49256999e-02, -3.06066680e-02,\n",
              "        -3.28006674e-02, -1.75013253e-02,  4.19195551e-02,\n",
              "        -2.88020105e-03, -1.24841295e-03, -1.40107653e-02,\n",
              "        -8.29106136e-03,  1.76255378e-02,  6.02679079e-04,\n",
              "         3.61386730e-03, -3.42211550e-03, -1.29084480e-02,\n",
              "         2.91525111e-02, -5.59256665e-02,  1.66549679e-02,\n",
              "         7.24357579e-03,  4.37827308e-02, -3.89073455e-02],\n",
              "       [-1.18173322e-02,  2.88589484e-03,  1.91737920e-02,\n",
              "         1.59886896e-02,  1.35761996e-02, -4.21968437e-02,\n",
              "         6.73330898e-03,  6.89601768e-03,  1.83483054e-03,\n",
              "         1.07238962e-03, -8.57163476e-03,  5.35410758e-03,\n",
              "        -9.99362482e-03, -2.36060472e-02,  3.27295553e-03,\n",
              "         9.76683060e-03, -1.57222357e-03,  3.35224553e-02,\n",
              "         2.38780183e-02,  3.80871795e-02, -4.05201890e-02,\n",
              "         1.29247476e-02,  6.00327684e-03, -1.67606794e-02,\n",
              "        -1.60811936e-02, -4.13478693e-02,  2.35559189e-03,\n",
              "        -1.61502235e-02,  1.08341442e-04, -2.36555802e-02,\n",
              "        -3.34201781e-02,  2.00826792e-02, -2.79208632e-02,\n",
              "        -5.07513594e-02, -2.46681842e-02, -4.58362375e-02],\n",
              "       [-9.93926362e-03, -6.63300569e-02,  2.40187885e-02,\n",
              "         3.56997760e-02,  2.80101111e-02, -5.11824944e-02,\n",
              "         1.55226409e-02, -1.49056126e-02, -1.03273450e-02,\n",
              "        -1.33671166e-02,  3.11867357e-03,  1.43012578e-02,\n",
              "        -3.63849870e-03, -2.54415547e-02, -1.08397455e-02,\n",
              "         2.65505260e-02,  2.00245852e-02, -3.73835669e-02,\n",
              "        -3.18885362e-02, -1.61130035e-02,  3.38954473e-02,\n",
              "         1.95166140e-03, -1.43120785e-03,  4.01212544e-02,\n",
              "        -9.87172946e-03,  1.67906304e-02, -6.12394029e-03,\n",
              "         3.00323903e-02,  2.87584881e-02,  4.30993607e-02,\n",
              "        -4.58013848e-02, -5.05334115e-02,  1.63670805e-02,\n",
              "        -1.20159215e-02, -2.47854718e-02,  3.58050863e-02],\n",
              "       [-3.38970876e-02,  1.88124791e-02,  1.98029096e-02,\n",
              "         1.08546773e-03,  1.47303206e-02, -5.66016800e-02,\n",
              "        -1.95821142e-02, -1.43332374e-02, -2.37755239e-03,\n",
              "        -1.22397690e-02,  9.46258644e-03, -7.49900363e-03,\n",
              "         1.04958945e-02, -1.89245705e-02, -1.39237575e-02,\n",
              "         1.97385403e-02,  3.84202944e-03,  1.84174269e-02,\n",
              "         2.19360599e-02,  3.34211078e-02, -3.45835254e-02,\n",
              "         4.06446908e-03,  2.73147603e-03,  1.64285457e-02,\n",
              "        -3.80268336e-03, -2.05859016e-02,  5.65134821e-03,\n",
              "        -1.92467275e-02, -1.07728258e-02, -4.82155312e-03,\n",
              "        -4.43674066e-03, -4.20282287e-04, -3.12284721e-02,\n",
              "        -5.63993877e-02, -3.68028034e-02,  2.44293349e-02],\n",
              "       [-1.81016241e-02, -6.00354765e-02,  1.30615672e-02,\n",
              "         3.66441998e-02,  3.39671154e-02, -2.24085017e-02,\n",
              "         6.79353435e-03, -3.22744040e-03, -5.06877935e-03,\n",
              "        -2.42390706e-03, -1.20152404e-03, -1.56215574e-03,\n",
              "        -1.22700025e-02, -1.73042330e-02, -2.04021953e-02,\n",
              "        -4.87507257e-02, -4.99516372e-02,  2.67659476e-02,\n",
              "         3.42112077e-02,  3.04395835e-02, -3.09181189e-02,\n",
              "        -6.51116186e-02,  9.39466792e-04, -2.70608663e-02,\n",
              "         1.03110329e-02,  7.74453936e-03, -1.44361540e-02,\n",
              "        -1.30669414e-02, -7.02136396e-03, -8.60522047e-03,\n",
              "         2.63057666e-02, -2.82200182e-02,  4.04843341e-02,\n",
              "         2.75264677e-02,  3.19296348e-02, -4.00738273e-02],\n",
              "       [-2.52495818e-02, -1.69292276e-02,  7.92786070e-03,\n",
              "        -1.27265813e-02,  1.23416446e-02,  6.26195283e-03,\n",
              "        -7.38014285e-02, -1.20163349e-02,  3.41695534e-02,\n",
              "         6.67328025e-03, -5.12386482e-02, -5.72242014e-02,\n",
              "        -1.56643103e-02,  3.53515788e-02, -6.62540353e-03,\n",
              "        -4.78717085e-02, -5.83061282e-02, -1.86137125e-02,\n",
              "         4.65043956e-03, -3.82150903e-02, -2.78411965e-02,\n",
              "        -5.10669799e-02, -1.59394897e-02,  3.26418360e-02,\n",
              "        -8.65444194e-03, -4.24450116e-02, -5.53555886e-02,\n",
              "        -2.15829742e-02,  5.12738311e-02, -3.74484103e-03,\n",
              "        -4.53931795e-02, -4.78177456e-02, -3.07961409e-02,\n",
              "        -8.09426345e-03, -2.15064290e-02, -4.05214292e-02],\n",
              "       [-2.53622260e-02,  1.45116704e-02, -5.82595620e-02,\n",
              "        -4.84299561e-02, -5.33521771e-02,  4.26716715e-02,\n",
              "         1.45359841e-02, -8.20500514e-03, -1.20796043e-02,\n",
              "        -5.84813813e-03,  1.57843201e-02, -5.24981892e-03,\n",
              "        -1.61191740e-02, -1.30632269e-02, -1.75294206e-02,\n",
              "         3.31601258e-02,  1.97762150e-02, -4.38541711e-02,\n",
              "        -3.78006914e-02, -4.36810546e-02,  1.66371236e-02,\n",
              "         2.14746897e-02, -1.02656004e-02, -1.05020907e-02,\n",
              "        -8.98464984e-03,  1.12451656e-02,  1.64953271e-02,\n",
              "        -1.87232899e-02,  7.06886030e-04, -8.91374451e-03,\n",
              "         1.67040848e-02, -5.57382548e-02,  4.22744107e-02,\n",
              "         2.52264959e-02,  3.57595905e-02, -2.94156228e-02],\n",
              "       [-1.09583881e-02,  1.17838380e-02, -4.51983394e-02,\n",
              "        -3.79650995e-02, -4.18121027e-02,  3.63254697e-02,\n",
              "        -5.36805029e-04, -1.14698793e-02,  4.89680436e-03,\n",
              "        -1.77713458e-02,  1.64223214e-02,  1.13083515e-02,\n",
              "        -1.16268933e-02, -6.48189121e-03, -2.12608360e-02,\n",
              "         2.85386560e-02,  7.13861502e-04, -1.41770119e-02,\n",
              "        -3.53582524e-02, -2.79573306e-02,  2.94704783e-02,\n",
              "        -1.80712709e-03,  5.32089634e-03, -3.03959659e-02,\n",
              "        -2.57728375e-03,  1.61967425e-02, -6.03610947e-02,\n",
              "         5.35492139e-02, -1.09512585e-02,  7.10795980e-02,\n",
              "        -3.37936295e-02, -3.66338854e-02, -4.12489120e-02,\n",
              "         1.11449724e-02, -3.31131018e-02, -4.09935997e-02],\n",
              "       [-4.15479937e-02, -7.64288972e-03, -6.12348646e-02,\n",
              "        -4.84853557e-02, -3.22673790e-02, -2.51614140e-03,\n",
              "        -1.86972886e-02, -7.09012726e-03,  9.20369990e-03,\n",
              "         4.95727237e-03, -1.13847437e-02, -1.02440849e-02,\n",
              "         7.94009146e-04, -1.20450630e-02, -1.27936771e-02,\n",
              "         3.18838008e-03,  4.24437793e-03, -2.09352535e-02,\n",
              "        -2.13488363e-02, -3.73960500e-02, -2.31371342e-03,\n",
              "        -1.71940252e-02, -1.75583517e-02,  2.99978493e-02,\n",
              "         9.23541415e-03,  1.94272259e-02, -8.50528025e-03,\n",
              "         4.66826198e-02, -1.04913247e-02,  2.42658585e-02,\n",
              "         2.11408293e-02,  1.71256314e-02, -3.81944876e-02,\n",
              "        -6.21807320e-02, -3.98155728e-02,  2.53050640e-02],\n",
              "       [-2.38685517e-02,  7.76552920e-03, -5.67458876e-02,\n",
              "        -4.45965198e-02, -4.52785837e-02,  3.27639042e-02,\n",
              "        -4.16473200e-02,  1.19004019e-02, -3.82519693e-03,\n",
              "         1.15148110e-02, -1.30171463e-02, -6.63554019e-02,\n",
              "         2.70593473e-02,  7.85396971e-03,  2.38186755e-02,\n",
              "        -5.15101051e-02, -4.85987753e-02, -1.78739702e-02,\n",
              "         2.99113257e-02, -2.66685598e-02, -4.11416130e-02,\n",
              "        -6.95048376e-02,  3.61821491e-02, -4.96135125e-03,\n",
              "         5.09634187e-02, -5.47246570e-02, -3.89562969e-02,\n",
              "         1.77132210e-02, -5.80541084e-03,  1.03213056e-02,\n",
              "        -1.77355241e-02,  3.47741518e-02, -4.09846926e-02,\n",
              "        -6.42102272e-02, -4.42012996e-02,  1.96747969e-02],\n",
              "       [-1.74627368e-02,  2.11887553e-02, -5.13843791e-02,\n",
              "        -5.74045618e-02, -3.82197250e-02,  7.85836335e-03,\n",
              "        -2.26230156e-02,  5.60258253e-03, -1.61142146e-03,\n",
              "        -1.69772196e-02,  1.33169788e-02, -1.98839330e-02,\n",
              "         2.54574358e-02, -3.92854561e-03,  1.46492383e-02,\n",
              "         7.75509986e-03, -7.32576809e-02,  1.52490359e-02,\n",
              "        -1.30741202e-02,  4.63197874e-03, -5.36858043e-02,\n",
              "        -5.86004210e-02,  7.69917900e-03,  2.77343325e-02,\n",
              "        -6.94488596e-04, -3.92723074e-02, -5.26630160e-02,\n",
              "        -2.14300142e-02,  3.81455692e-02, -5.59209751e-03,\n",
              "        -3.89264598e-02, -3.19376280e-02, -2.75347394e-02,\n",
              "         2.42905450e-02, -3.45306558e-02, -4.48329741e-02],\n",
              "       [-3.67343869e-02,  4.87274807e-03,  1.68881466e-02,\n",
              "         3.70503374e-03, -3.89940504e-04, -5.94339478e-04,\n",
              "        -8.36098855e-02, -6.33127124e-03,  4.09102201e-03,\n",
              "        -1.84824848e-02,  1.71183035e-03, -6.31778523e-02,\n",
              "        -1.70934901e-02,  1.23925523e-03,  4.10754358e-02,\n",
              "        -5.69502845e-02, -7.44184670e-02, -2.47153481e-02,\n",
              "         2.39525433e-02, -2.63631694e-02, -4.06636886e-02,\n",
              "        -4.98572641e-02,  6.31031611e-02, -2.12073371e-02,\n",
              "         5.23966195e-03, -4.59925963e-02, -1.91121653e-02,\n",
              "         5.39379449e-04,  2.90805933e-03, -5.68352149e-03,\n",
              "        -4.45255777e-02,  3.46152108e-03,  1.65162688e-02,\n",
              "        -1.53585790e-03,  2.42099690e-02,  1.18599199e-02]])"
            ]
          },
          "metadata": {
            "tags": []
          },
          "execution_count": 23
        }
      ]
    },
    {
      "cell_type": "markdown",
      "metadata": {
        "id": "diverse-stanley"
      },
      "source": [
        "# 8. Repeat experiment (6) with your softmax classifier. You can find the formula for applying softmax using NumPy in the documentation for SciPy’s softmax() function."
      ],
      "id": "diverse-stanley"
    },
    {
      "cell_type": "code",
      "metadata": {
        "colab": {
          "base_uri": "https://localhost:8080/"
        },
        "id": "several-compromise",
        "outputId": "4370a510-06d6-484b-dd2f-6b15ecb7f57b"
      },
      "source": [
        "test_model(TRAINING_SET_2D, mul_log_reg_model)"
      ],
      "id": "several-compromise",
      "execution_count": 24,
      "outputs": [
        {
          "output_type": "stream",
          "text": [
            "Prediction: A, Target: A, True\n",
            "Prediction: B, Target: B, True\n",
            "Prediction: C, Target: C, True\n",
            "Prediction: D, Target: D, True\n",
            "Prediction: E, Target: E, True\n",
            "Prediction: F, Target: F, True\n",
            "Prediction: G, Target: G, True\n",
            "Prediction: H, Target: H, True\n",
            "Prediction: I, Target: I, True\n",
            "Prediction: J, Target: J, True\n",
            "Prediction: K, Target: K, True\n",
            "Prediction: L, Target: L, True\n",
            "Prediction: M, Target: M, True\n",
            "Prediction: N, Target: N, True\n",
            "Prediction: O, Target: O, True\n",
            "Prediction: P, Target: P, True\n",
            "Prediction: Q, Target: Q, True\n",
            "Prediction: R, Target: R, True\n",
            "Prediction: S, Target: S, True\n",
            "Prediction: T, Target: T, True\n",
            "Prediction: U, Target: U, True\n",
            "Prediction: V, Target: V, True\n",
            "Prediction: W, Target: W, True\n",
            "Prediction: X, Target: X, True\n",
            "Prediction: Y, Target: Y, True\n",
            "Prediction: Z, Target: Z, True\n",
            "Prediction: A, Target: A, True\n",
            "Prediction: B, Target: B, True\n",
            "Prediction: C, Target: C, True\n",
            "Prediction: D, Target: D, True\n",
            "Prediction: E, Target: E, True\n",
            "Prediction: F, Target: F, True\n",
            "Prediction: G, Target: G, True\n",
            "Prediction: H, Target: H, True\n",
            "Prediction: I, Target: I, True\n",
            "Prediction: J, Target: J, True\n",
            "Prediction: K, Target: K, True\n",
            "Prediction: L, Target: L, True\n",
            "Prediction: M, Target: M, True\n",
            "Prediction: N, Target: N, True\n",
            "Prediction: O, Target: O, True\n",
            "Prediction: P, Target: P, True\n",
            "Prediction: Q, Target: Q, True\n",
            "Prediction: R, Target: R, True\n",
            "Prediction: S, Target: S, True\n",
            "Prediction: T, Target: T, True\n",
            "Prediction: U, Target: U, True\n",
            "Prediction: V, Target: V, True\n",
            "Prediction: W, Target: W, True\n",
            "Prediction: X, Target: X, True\n",
            "Prediction: Y, Target: Y, True\n",
            "Prediction: Z, Target: Z, True\n",
            "\n",
            "Accuracy: 52/52 Percentage: 100.00%\n"
          ],
          "name": "stdout"
        }
      ]
    },
    {
      "cell_type": "code",
      "metadata": {
        "colab": {
          "base_uri": "https://localhost:8080/"
        },
        "id": "determined-brazil",
        "outputId": "27e21e72-9e50-4c3d-acfd-a150c5f53938"
      },
      "source": [
        "test_model(TEST_SET_2D, mul_log_reg_model)"
      ],
      "id": "determined-brazil",
      "execution_count": 25,
      "outputs": [
        {
          "output_type": "stream",
          "text": [
            "Prediction: A, Target: A, True\n",
            "Prediction: B, Target: B, True\n",
            "Prediction: C, Target: C, True\n",
            "Prediction: D, Target: D, True\n",
            "Prediction: E, Target: E, True\n",
            "Prediction: F, Target: F, True\n",
            "Prediction: C, Target: G, False\n",
            "Prediction: H, Target: H, True\n",
            "Prediction: I, Target: I, True\n",
            "Prediction: J, Target: J, True\n",
            "Prediction: K, Target: K, True\n",
            "Prediction: L, Target: L, True\n",
            "Prediction: M, Target: M, True\n",
            "Prediction: N, Target: N, True\n",
            "Prediction: O, Target: O, True\n",
            "Prediction: P, Target: P, True\n",
            "Prediction: Q, Target: Q, True\n",
            "Prediction: R, Target: R, True\n",
            "Prediction: S, Target: S, True\n",
            "Prediction: T, Target: T, True\n",
            "Prediction: U, Target: U, True\n",
            "Prediction: V, Target: V, True\n",
            "Prediction: U, Target: W, False\n",
            "Prediction: X, Target: X, True\n",
            "Prediction: Y, Target: Y, True\n",
            "Prediction: E, Target: Z, False\n",
            "\n",
            "Accuracy: 23/26 Percentage: 88.46%\n"
          ],
          "name": "stdout"
        }
      ]
    },
    {
      "cell_type": "markdown",
      "metadata": {
        "id": "straight-coating"
      },
      "source": [
        "# 9. Use your trained classifiers to identify the letters in MESSAGE\n",
        "## If you completed Project 1, compare the performance of that project with the performance with these classifiers. If you did not complete Project 1, use the sample code provided above under Libraries and Code.\n",
        "## If you completed Project 2 compare the performance of that project with the performance of these classifiers.\n"
      ],
      "id": "straight-coating"
    },
    {
      "cell_type": "code",
      "metadata": {
        "id": "solid-charge"
      },
      "source": [
        "def test_model_with_message(model):\n",
        "    DECODED = 'WATCHJEOPARDYALEXTREBEKSFUNTVQUIZGAME'\n",
        "    pred_msg = ''\n",
        "    for letter in MESSAGE_2D:\n",
        "        ascii_idx = np.argmax(np.dot(model, letter))\n",
        "        y_pred = chr(ascii_idx + ord('A'))\n",
        "        pred_msg += y_pred\n",
        "    print(f'MSG : {DECODED}')\n",
        "    print(f'Pred: {pred_msg}')\n",
        "    correct = 0\n",
        "    for true_letter, pred_letter in zip(DECODED, pred_msg):\n",
        "        if true_letter == pred_letter:\n",
        "            correct += 1\n",
        "    print(f'accuracy: {correct/len(DECODED)*100:.2f}%')"
      ],
      "id": "solid-charge",
      "execution_count": 26,
      "outputs": []
    },
    {
      "cell_type": "code",
      "metadata": {
        "colab": {
          "base_uri": "https://localhost:8080/"
        },
        "id": "hispanic-patio",
        "outputId": "d920fa00-9684-4939-b613-20bd94d8229e"
      },
      "source": [
        "# test with multiclass perceptron model\n",
        "test_model_with_message(mul_pct_model)"
      ],
      "id": "hispanic-patio",
      "execution_count": 27,
      "outputs": [
        {
          "output_type": "stream",
          "text": [
            "MSG : WATCHJEOPARDYALEXTREBEKSFUNTVQUIZGAME\n",
            "Pred: RNTCICEOHHRMWGJEXMZTDEUSSOHTVAUSTYHMS\n",
            "accuracy: 35.14%\n"
          ],
          "name": "stdout"
        }
      ]
    },
    {
      "cell_type": "code",
      "metadata": {
        "colab": {
          "base_uri": "https://localhost:8080/"
        },
        "id": "powerful-capital",
        "outputId": "7d29229e-de48-40e3-8f60-145bcecf55fb"
      },
      "source": [
        "# test with multinomial logistic regresstion model\n",
        "test_model_with_message(mul_log_reg_model)"
      ],
      "id": "powerful-capital",
      "execution_count": 28,
      "outputs": [
        {
          "output_type": "stream",
          "text": [
            "MSG : WATCHJEOPARDYALEXTREBEKSFUNTVQUIZGAME\n",
            "Pred: UAQCHJEOPAROYALEXTREDEKSFUATVQUIEGAME\n",
            "accuracy: 83.78%\n"
          ],
          "name": "stdout"
        }
      ]
    },
    {
      "cell_type": "markdown",
      "metadata": {
        "id": "immediate-mortgage"
      },
      "source": [
        "### Based on our observations, the multiclass perceptron performs worse than the perceptron model in project 1. But, the multinomial logistic regression performs much better than single perceptron model in project 1 \n",
        "- When testing against MESSAGE, the accuracy of single perceptron is around 43.24% in project 1\n",
        "\n",
        "### Compare to project 2, both models do not perform as good as the Sequential Keras model does\n",
        "- When testing against MESSAGE, the accuracy of the model is around 92.30% in project 2"
      ],
      "id": "immediate-mortgage"
    }
  ]
}