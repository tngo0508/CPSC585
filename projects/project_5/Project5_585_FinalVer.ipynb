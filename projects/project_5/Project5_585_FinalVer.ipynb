{
  "nbformat": 4,
  "nbformat_minor": 0,
  "metadata": {
    "accelerator": "GPU",
    "colab": {
      "name": "Project5_585_v2_imp6.ipynb",
      "provenance": [],
      "collapsed_sections": []
    },
    "kernelspec": {
      "display_name": "Python 3",
      "language": "python",
      "name": "python3"
    },
    "language_info": {
      "codemirror_mode": {
        "name": "ipython",
        "version": 3
      },
      "file_extension": ".py",
      "mimetype": "text/x-python",
      "name": "python",
      "nbconvert_exporter": "python",
      "pygments_lexer": "ipython3",
      "version": "3.8.5"
    }
  },
  "cells": [
    {
      "cell_type": "markdown",
      "metadata": {
        "id": "_RMG4eiI3p_6"
      },
      "source": [
        "# THOMAS NGO\n",
        "# TEVIN VU\n",
        "# PROJECT 5"
      ]
    },
    {
      "cell_type": "code",
      "metadata": {
        "colab": {
          "base_uri": "https://localhost:8080/"
        },
        "id": "Sk-3QTgujV19",
        "outputId": "6298cd58-07a7-4a5e-e459-456c72b0a269"
      },
      "source": [
        "from tensorflow.python.client import device_lib\n",
        "\n",
        "def get_available_devices():\n",
        "    local_device_protos = device_lib.list_local_devices()\n",
        "    return [x.name for x in local_device_protos]\n",
        "\n",
        "print(get_available_devices())"
      ],
      "execution_count": null,
      "outputs": [
        {
          "output_type": "stream",
          "text": [
            "['/device:CPU:0', '/device:GPU:0']\n"
          ],
          "name": "stdout"
        }
      ]
    },
    {
      "cell_type": "code",
      "metadata": {
        "id": "tOtzbA2MZI5y"
      },
      "source": [
        "import numpy as np\n",
        "import matplotlib.pyplot as plt\n",
        "\n",
        "from keras import models\n",
        "from keras.activations import relu, sigmoid, tanh, softmax\n",
        "from keras.layers import Dense, LeakyReLU, BatchNormalization, Dropout, Activation, ReLU\n",
        "from keras.callbacks import EarlyStopping\n",
        "from keras.regularizers import l1, l2, l1_l2\n",
        "from keras.wrappers.scikit_learn import KerasClassifier\n",
        "from keras.preprocessing.image import ImageDataGenerator\n",
        "\n",
        "from sklearn.preprocessing import minmax_scale, StandardScaler\n",
        "from sklearn.model_selection import GridSearchCV"
      ],
      "execution_count": 84,
      "outputs": []
    },
    {
      "cell_type": "markdown",
      "metadata": {
        "id": "GekuWHAF3wVo"
      },
      "source": [
        ""
      ]
    },
    {
      "cell_type": "markdown",
      "metadata": {
        "id": "LcCRgfycFKOS"
      },
      "source": [
        "### 1. Use plt.imshow() to verify that the image data has been loaded correctly and that the corresponding labels are correct."
      ]
    },
    {
      "cell_type": "code",
      "metadata": {
        "id": "lAeRD4JnEEFm"
      },
      "source": [
        "datasets = np.load('emnist_letters.npz')\n",
        "train_images, train_labels  = datasets['train_images'], datasets['train_labels']\n",
        "test_images, test_labels = datasets['test_images'], datasets['test_labels']\n",
        "validate_images, validate_labels = datasets['validate_images'], datasets['validate_labels']\n",
        "dataset_shape = datasets['train_images'].shape"
      ],
      "execution_count": 85,
      "outputs": []
    },
    {
      "cell_type": "code",
      "metadata": {
        "colab": {
          "base_uri": "https://localhost:8080/",
          "height": 282
        },
        "id": "49VUcW70kKO3",
        "outputId": "bf549bd5-0661-4e27-d0a9-1eb52d74325e"
      },
      "source": [
        "plt.imshow(train_images[5435].reshape(28,28))"
      ],
      "execution_count": null,
      "outputs": [
        {
          "output_type": "execute_result",
          "data": {
            "text/plain": [
              "<matplotlib.image.AxesImage at 0x7f8aa7c15710>"
            ]
          },
          "metadata": {
            "tags": []
          },
          "execution_count": 4
        },
        {
          "output_type": "display_data",
          "data": {
            "image/png": "[encoded data removed]",
            "text/plain": [
              "<Figure size 432x288 with 1 Axes>"
            ]
          },
          "metadata": {
            "tags": [],
            "needs_background": "light"
          }
        }
      ]
    },
    {
      "cell_type": "code",
      "metadata": {
        "colab": {
          "base_uri": "https://localhost:8080/"
        },
        "id": "nzKnXulhwljj",
        "outputId": "b34fe7a8-df7e-43d6-9ab7-b8f0b3356a48"
      },
      "source": [
        "print(chr(np.argmax(train_labels[5435]) - 1 + ord('A')))\n",
        "# print(chr(np.argmax(datasets['train_labels'][0]) - 1 + ord('A')))"
      ],
      "execution_count": null,
      "outputs": [
        {
          "output_type": "stream",
          "text": [
            "X\n"
          ],
          "name": "stdout"
        }
      ]
    },
    {
      "cell_type": "code",
      "metadata": {
        "colab": {
          "base_uri": "https://localhost:8080/",
          "height": 282
        },
        "id": "JIr4CwfulLqR",
        "outputId": "2faabc75-1b45-49bb-8464-2e47ab381dd5"
      },
      "source": [
        "plt.imshow(train_images[1].reshape(28,28))"
      ],
      "execution_count": null,
      "outputs": [
        {
          "output_type": "execute_result",
          "data": {
            "text/plain": [
              "<matplotlib.image.AxesImage at 0x7f8aa76facd0>"
            ]
          },
          "metadata": {
            "tags": []
          },
          "execution_count": 6
        },
        {
          "output_type": "display_data",
          "data": {
            "image/png": "[encoded data removed]",
            "text/plain": [
              "<Figure size 432x288 with 1 Axes>"
            ]
          },
          "metadata": {
            "tags": [],
            "needs_background": "light"
          }
        }
      ]
    },
    {
      "cell_type": "code",
      "metadata": {
        "colab": {
          "base_uri": "https://localhost:8080/"
        },
        "id": "SYbvYUJ7Fyc-",
        "outputId": "dffd12cc-e1fb-4204-f932-fd8280ca22b5"
      },
      "source": [
        "print(train_labels.shape)\n"
      ],
      "execution_count": null,
      "outputs": [
        {
          "output_type": "stream",
          "text": [
            "(104000, 27)\n"
          ],
          "name": "stdout"
        }
      ]
    },
    {
      "cell_type": "code",
      "metadata": {
        "colab": {
          "base_uri": "https://localhost:8080/"
        },
        "id": "nZQGJ2tmllb4",
        "outputId": "8a10020a-1849-4987-a91e-18ed41e92672"
      },
      "source": [
        "print(chr(np.argmax(train_labels[1]) - 1 + ord('A')))"
      ],
      "execution_count": null,
      "outputs": [
        {
          "output_type": "stream",
          "text": [
            "G\n"
          ],
          "name": "stdout"
        }
      ]
    },
    {
      "cell_type": "code",
      "metadata": {
        "colab": {
          "base_uri": "https://localhost:8080/",
          "height": 282
        },
        "id": "osJvTcMx5M_-",
        "outputId": "daf38f57-65b2-4355-f021-ebd7ce28bb7e"
      },
      "source": [
        "plt.imshow(validate_images[1].reshape(28,28))"
      ],
      "execution_count": null,
      "outputs": [
        {
          "output_type": "execute_result",
          "data": {
            "text/plain": [
              "<matplotlib.image.AxesImage at 0x7f8aa7672dd0>"
            ]
          },
          "metadata": {
            "tags": []
          },
          "execution_count": 9
        },
        {
          "output_type": "display_data",
          "data": {
            "image/png": "[encoded data removed]",
            "text/plain": [
              "<Figure size 432x288 with 1 Axes>"
            ]
          },
          "metadata": {
            "tags": [],
            "needs_background": "light"
          }
        }
      ]
    },
    {
      "cell_type": "code",
      "metadata": {
        "colab": {
          "base_uri": "https://localhost:8080/"
        },
        "id": "pqm5g2eM5SEE",
        "outputId": "dda4547c-eacb-4021-e0c4-52e80aac4fc3"
      },
      "source": [
        "print(chr(np.argmax(validate_labels[1]) - 1 + ord('A')))"
      ],
      "execution_count": null,
      "outputs": [
        {
          "output_type": "stream",
          "text": [
            "L\n"
          ],
          "name": "stdout"
        }
      ]
    },
    {
      "cell_type": "code",
      "metadata": {
        "colab": {
          "base_uri": "https://localhost:8080/"
        },
        "id": "PqqgwuZw7WCP",
        "outputId": "5b052ab4-ed73-43d4-8634-87d282c11d6b"
      },
      "source": [
        "print(validate_labels.shape)\n",
        "print(validate_images.shape)"
      ],
      "execution_count": null,
      "outputs": [
        {
          "output_type": "stream",
          "text": [
            "(20800, 27)\n",
            "(20800, 784)\n"
          ],
          "name": "stdout"
        }
      ]
    },
    {
      "cell_type": "markdown",
      "metadata": {
        "id": "jDGcWkkt1FPZ"
      },
      "source": [
        "### 2. Begin by applying the network architecture from Chollet’s MNIST notebook to the EMNIST Letters data. What accuracy do you achieve? How does this compare with the accuracy for MNIST?. "
      ]
    },
    {
      "cell_type": "code",
      "metadata": {
        "colab": {
          "base_uri": "https://localhost:8080/"
        },
        "id": "ox7eKoGh1Hzh",
        "outputId": "448d8dc9-208d-4ec5-c3da-dcb1377a16f2"
      },
      "source": [
        "train_images.shape"
      ],
      "execution_count": null,
      "outputs": [
        {
          "output_type": "execute_result",
          "data": {
            "text/plain": [
              "(104000, 784)"
            ]
          },
          "metadata": {
            "tags": []
          },
          "execution_count": 62
        }
      ]
    },
    {
      "cell_type": "code",
      "metadata": {
        "colab": {
          "base_uri": "https://localhost:8080/"
        },
        "id": "cg7_CAATRH_N",
        "outputId": "fdb70336-aba6-44f7-84da-28380bcfe70b"
      },
      "source": [
        "test_images.shape"
      ],
      "execution_count": null,
      "outputs": [
        {
          "output_type": "execute_result",
          "data": {
            "text/plain": [
              "(20800, 784)"
            ]
          },
          "metadata": {
            "tags": []
          },
          "execution_count": 13
        }
      ]
    },
    {
      "cell_type": "code",
      "metadata": {
        "colab": {
          "base_uri": "https://localhost:8080/"
        },
        "id": "MIKrb1J41SjU",
        "outputId": "f2a51006-2470-4491-bccd-f5f356f3764e"
      },
      "source": [
        "len(train_labels)"
      ],
      "execution_count": null,
      "outputs": [
        {
          "output_type": "execute_result",
          "data": {
            "text/plain": [
              "104000"
            ]
          },
          "metadata": {
            "tags": []
          },
          "execution_count": 14
        }
      ]
    },
    {
      "cell_type": "code",
      "metadata": {
        "colab": {
          "base_uri": "https://localhost:8080/"
        },
        "id": "MAdE6gWM1ZLL",
        "outputId": "23c5f9f7-50e5-4592-edd8-233fe3fd64db"
      },
      "source": [
        "test_labels.shape"
      ],
      "execution_count": null,
      "outputs": [
        {
          "output_type": "execute_result",
          "data": {
            "text/plain": [
              "(20800, 27)"
            ]
          },
          "metadata": {
            "tags": []
          },
          "execution_count": 15
        }
      ]
    },
    {
      "cell_type": "code",
      "metadata": {
        "colab": {
          "base_uri": "https://localhost:8080/"
        },
        "id": "G613PF531p_Z",
        "outputId": "62b5ed69-7335-4db1-897b-42d7c02cdc49"
      },
      "source": [
        "len(test_labels)"
      ],
      "execution_count": null,
      "outputs": [
        {
          "output_type": "execute_result",
          "data": {
            "text/plain": [
              "20800"
            ]
          },
          "metadata": {
            "tags": []
          },
          "execution_count": 16
        }
      ]
    },
    {
      "cell_type": "code",
      "metadata": {
        "colab": {
          "base_uri": "https://localhost:8080/"
        },
        "id": "WTk8EI6M1t4v",
        "outputId": "64902f7c-ea8f-4451-f942-5ce33a1357dd"
      },
      "source": [
        "test_labels"
      ],
      "execution_count": null,
      "outputs": [
        {
          "output_type": "execute_result",
          "data": {
            "text/plain": [
              "array([[0., 1., 0., ..., 0., 0., 0.],\n",
              "       [0., 1., 0., ..., 0., 0., 0.],\n",
              "       [0., 1., 0., ..., 0., 0., 0.],\n",
              "       ...,\n",
              "       [0., 0., 0., ..., 0., 0., 1.],\n",
              "       [0., 0., 0., ..., 0., 0., 1.],\n",
              "       [0., 0., 0., ..., 0., 0., 1.]], dtype=float32)"
            ]
          },
          "metadata": {
            "tags": []
          },
          "execution_count": 17
        }
      ]
    },
    {
      "cell_type": "code",
      "metadata": {
        "id": "YwW9TjubakTz"
      },
      "source": [
        "network = models.Sequential()\n",
        "network.add(Dense(512, activation='relu', input_shape=(28 * 28,)))\n",
        "network.add(Dense(27, activation='softmax'))"
      ],
      "execution_count": 86,
      "outputs": []
    },
    {
      "cell_type": "code",
      "metadata": {
        "colab": {
          "base_uri": "https://localhost:8080/"
        },
        "id": "cBtOA1ZxbA6F",
        "outputId": "5cfca720-04be-4fec-f19b-beba11dce598"
      },
      "source": [
        "network.compile(optimizer='rmsprop',\n",
        "                loss='categorical_crossentropy',\n",
        "                metrics=['accuracy'])\n",
        "# model.fit(train_images, train_labels, epochs=5, batch_size=128, validation_split=0.1)\n",
        "network.fit(train_images, train_labels, epochs=5, batch_size=128, validation_data=(validate_images,validate_labels))"
      ],
      "execution_count": 87,
      "outputs": [
        {
          "output_type": "stream",
          "text": [
            "Epoch 1/5\n",
            "813/813 [==============================] - 3s 3ms/step - loss: 1.0710 - accuracy: 0.6928 - val_loss: 0.4862 - val_accuracy: 0.8533\n",
            "Epoch 2/5\n",
            "813/813 [==============================] - 3s 3ms/step - loss: 0.3961 - accuracy: 0.8766 - val_loss: 0.3677 - val_accuracy: 0.8866\n",
            "Epoch 3/5\n",
            "813/813 [==============================] - 3s 3ms/step - loss: 0.3083 - accuracy: 0.9002 - val_loss: 0.3382 - val_accuracy: 0.8958\n",
            "Epoch 4/5\n",
            "813/813 [==============================] - 3s 3ms/step - loss: 0.2604 - accuracy: 0.9160 - val_loss: 0.3327 - val_accuracy: 0.8996\n",
            "Epoch 5/5\n",
            "813/813 [==============================] - 3s 3ms/step - loss: 0.2270 - accuracy: 0.9245 - val_loss: 0.3368 - val_accuracy: 0.8970\n"
          ],
          "name": "stdout"
        },
        {
          "output_type": "execute_result",
          "data": {
            "text/plain": [
              "<tensorflow.python.keras.callbacks.History at 0x7fdd6125ac10>"
            ]
          },
          "metadata": {
            "tags": []
          },
          "execution_count": 87
        }
      ]
    },
    {
      "cell_type": "code",
      "metadata": {
        "colab": {
          "base_uri": "https://localhost:8080/"
        },
        "id": "xdjZO9zxb1qV",
        "outputId": "41f1c0f1-fca6-4110-802e-fca61821a086"
      },
      "source": [
        "test_lost, test_acc = network.evaluate(test_images, test_labels) #run this"
      ],
      "execution_count": 88,
      "outputs": [
        {
          "output_type": "stream",
          "text": [
            "650/650 [==============================] - 1s 2ms/step - loss: 0.3433 - accuracy: 0.8962\n"
          ],
          "name": "stdout"
        }
      ]
    },
    {
      "cell_type": "code",
      "metadata": {
        "colab": {
          "base_uri": "https://localhost:8080/"
        },
        "id": "qOO1VZYBb-kB",
        "outputId": "2c29f88b-278f-46fd-d374-734b8ffda2e6"
      },
      "source": [
        "print('Test Accuracy: ', test_acc) #run this\n",
        "orginal_model_acc = test_acc"
      ],
      "execution_count": 89,
      "outputs": [
        {
          "output_type": "stream",
          "text": [
            "Test Accuracy:  0.8962019085884094\n"
          ],
          "name": "stdout"
        }
      ]
    },
    {
      "cell_type": "markdown",
      "metadata": {
        "id": "KBTgozH9aZ8H"
      },
      "source": [
        "### 3. Keeping the same number of layers in the network (i.e. an MLP with a single hidden layer), modify the architecture to improve the accuracy. You will need to decide on an appropriate number of neurons in the hidden layer. Keep in mind that:\n",
        "- There are 27 classes rather than 10, so you will need a larger hidden layer than the MNIST network.\n",
        "- In addition to having more classes, EMNIST Letters mixes upper- and lowercase letters within each class, so even with enough neurons in the hidden layer, your accuracy is likely to be lower.  See the details in the EMNIST paper for the kind of performance you might reasonably expect.\n",
        "- The Keras fit() method can take a validation_data parameter in order to evaluate metrics on the validation set."
      ]
    },
    {
      "cell_type": "code",
      "metadata": {
        "id": "eAKl1iRl15jq"
      },
      "source": [
        "#run this\n",
        "model = models.Sequential()\n",
        "model.add(Dense(10000, activation='relu', input_shape=(28*28,)))\n",
        "model.add(Dense(27, activation='softmax'))"
      ],
      "execution_count": 90,
      "outputs": []
    },
    {
      "cell_type": "code",
      "metadata": {
        "colab": {
          "base_uri": "https://localhost:8080/"
        },
        "id": "l1R3odEj5vgo",
        "outputId": "0b01ad2f-d3ec-4cc7-ba4b-a9e1d8ac888d"
      },
      "source": [
        "#run this\n",
        "model.compile(optimizer='rmsprop',\n",
        "                loss='categorical_crossentropy',\n",
        "                metrics=['accuracy'])\n",
        "# model.fit(train_images, train_labels, epochs=5, batch_size=128, validation_split=0.1)\n",
        "model.fit(train_images, train_labels, epochs=5, batch_size=128, validation_data=(validate_images,validate_labels))"
      ],
      "execution_count": 91,
      "outputs": [
        {
          "output_type": "stream",
          "text": [
            "Epoch 1/5\n",
            "813/813 [==============================] - 6s 7ms/step - loss: 0.9680 - accuracy: 0.7282 - val_loss: 0.4303 - val_accuracy: 0.8732\n",
            "Epoch 2/5\n",
            "813/813 [==============================] - 5s 6ms/step - loss: 0.3168 - accuracy: 0.8991 - val_loss: 0.3652 - val_accuracy: 0.8950\n",
            "Epoch 3/5\n",
            "813/813 [==============================] - 5s 6ms/step - loss: 0.2497 - accuracy: 0.9201 - val_loss: 0.4033 - val_accuracy: 0.8955\n",
            "Epoch 4/5\n",
            "813/813 [==============================] - 5s 7ms/step - loss: 0.2119 - accuracy: 0.9324 - val_loss: 0.3775 - val_accuracy: 0.9024\n",
            "Epoch 5/5\n",
            "813/813 [==============================] - 5s 6ms/step - loss: 0.1903 - accuracy: 0.9383 - val_loss: 0.4274 - val_accuracy: 0.9017\n"
          ],
          "name": "stdout"
        },
        {
          "output_type": "execute_result",
          "data": {
            "text/plain": [
              "<tensorflow.python.keras.callbacks.History at 0x7fdd5db30850>"
            ]
          },
          "metadata": {
            "tags": []
          },
          "execution_count": 91
        }
      ]
    },
    {
      "cell_type": "code",
      "metadata": {
        "colab": {
          "base_uri": "https://localhost:8080/"
        },
        "id": "itKGkPel6_vH",
        "outputId": "7f93c981-2a96-4193-a87e-18a7e394e24a"
      },
      "source": [
        "test_lost, test_acc = model.evaluate(test_images, test_labels) #run this"
      ],
      "execution_count": 92,
      "outputs": [
        {
          "output_type": "stream",
          "text": [
            "650/650 [==============================] - 1s 2ms/step - loss: 0.4350 - accuracy: 0.9012\n"
          ],
          "name": "stdout"
        }
      ]
    },
    {
      "cell_type": "markdown",
      "metadata": {
        "id": "XRG6LOF-_0TK"
      },
      "source": [
        "What accuracy do you achieve?"
      ]
    },
    {
      "cell_type": "code",
      "metadata": {
        "colab": {
          "base_uri": "https://localhost:8080/"
        },
        "id": "xc8U4e_e_qFp",
        "outputId": "7a531bd3-dd6b-40cc-dc09-78b0036f7c71"
      },
      "source": [
        "print('Test Accuracy: ', test_acc) #run this\n",
        "modified_org_model_acc = test_acc"
      ],
      "execution_count": 93,
      "outputs": [
        {
          "output_type": "stream",
          "text": [
            "Test Accuracy:  0.9012019038200378\n"
          ],
          "name": "stdout"
        }
      ]
    },
    {
      "cell_type": "markdown",
      "metadata": {
        "id": "1b-KErYr_7gU"
      },
      "source": [
        "How does this compare with the accuracy for MNIST? \n",
        "- This accuracy is greater than MNIST a little bit."
      ]
    },
    {
      "cell_type": "markdown",
      "metadata": {
        "id": "4ADwxPMkP5Sc"
      },
      "source": [
        "### 4. Once you have settled on the size of the hidden layer, use the techniques you learned in Chapters 3 and 4 of the textbook to obtain the highest accuracy you can on the validation set. These might include:\n",
        "\n",
        "  - Preprocessing\n",
        "  - Weight initialization\n",
        "  - Choice of activation function\n",
        "  - Optimizer\n",
        "  - Batch Normalization\n",
        "  - Regularization\n",
        "  - Data augmentation\n",
        "  - Dropout\n",
        "  - Early Stopping\n",
        "\n",
        "You may find the slides for Chapter 3 helpful, particularly the presentation “Neural Network Training [Initialization, Preprocessing, Mini-Batching, Tuning, and Other Black Art].”"
      ]
    },
    {
      "cell_type": "code",
      "metadata": {
        "id": "UCoFUvN9_yJc"
      },
      "source": [
        "# Preprocessing data input(run this)\n",
        "\n",
        "# using sklearn min-max scaler\n",
        "# train_images = minmax_scale(train_images)\n",
        "# test_images = minmax_scale(test_images)\n",
        "\n",
        "# using sklearn standard scaler\n",
        "X_scaler = StandardScaler().fit(train_images)\n",
        "train_images = X_scaler.transform(train_images)\n",
        "Y_scaler = StandardScaler().fit(test_images)\n",
        "test_images = Y_scaler.transform(test_images)\n",
        "\n"
      ],
      "execution_count": 3,
      "outputs": []
    },
    {
      "cell_type": "code",
      "metadata": {
        "id": "SQdLn9p30rfd"
      },
      "source": [
        "# define model with batch normalization\n",
        "def define_model(func_name='relu', \n",
        "                 kernel_initializer='glorot_normal', \n",
        "                 batch_size=128,\n",
        "                 epochs=5,\n",
        "                 optimizer='rmsprop'):\n",
        "  # build model\n",
        "  model = models.Sequential()\n",
        "  model.add(Dense(1000,\n",
        "                  kernel_initializer=kernel_initializer,\n",
        "                  use_bias=False))\n",
        "  model.add(BatchNormalization())\n",
        "  model.add(Activation(func_name))\n",
        "  model.add(Dense(27, activation='softmax'))\n",
        "  # compile mode\n",
        "  model.compile(optimizer=optimizer, loss='categorical_crossentropy', metrics=['accuracy'])\n",
        "  return model\n"
      ],
      "execution_count": null,
      "outputs": []
    },
    {
      "cell_type": "code",
      "metadata": {
        "colab": {
          "base_uri": "https://localhost:8080/"
        },
        "id": "fYFWk7rx-xBN",
        "outputId": "da5ca27a-2e4e-466d-e501-dc7267f8e40f"
      },
      "source": [
        "# create params dictionary for gridsearch\n",
        "func_names = ['relu', 'tanh', 'sigmoid']\n",
        "optimizers = ['rmsprop', 'sgd', 'adam', 'adadelta', 'adagrad']\n",
        "kernel_initializers= ['glorot_uniform', 'glorot_normal']\n",
        "batch_sizes = [128, 256, 512]\n",
        "parmam_grid = dict(optimizer=optimizers, \n",
        "                   func_name=func_names, \n",
        "                   batch_size=batch_sizes, \n",
        "                   kernel_initializer=kernel_initializers)\n",
        "print(parmam_grid)"
      ],
      "execution_count": null,
      "outputs": [
        {
          "output_type": "stream",
          "text": [
            "{'optimizer': ['rmsprop', 'sgd', 'adam', 'adadelta', 'adagrad'], 'func_name': ['relu', 'tanh', 'sigmoid'], 'batch_size': [128, 256, 512], 'kernel_initializer': ['glorot_uniform', 'glorot_normal']}\n"
          ],
          "name": "stdout"
        }
      ]
    },
    {
      "cell_type": "code",
      "metadata": {
        "colab": {
          "base_uri": "https://localhost:8080/"
        },
        "id": "bgGg7rF-F1v4",
        "outputId": "6f34bdb3-b462-46d6-e795-3c9b5aadcb24"
      },
      "source": [
        "# create model\n",
        "model = KerasClassifier(build_fn=define_model)\n",
        "\n",
        "# perform gridsearch\n",
        "grid = GridSearchCV(estimator=model, param_grid=parmam_grid, verbose=1)\n",
        "grid_res = grid.fit(train_images, train_labels)\n",
        "\n",
        "print(f'Best accuracy: {grid_res.best_score_} using {grid_res.best_params_}')"
      ],
      "execution_count": null,
      "outputs": [
        {
          "output_type": "stream",
          "text": [
            "Fitting 5 folds for each of 90 candidates, totalling 450 fits\n"
          ],
          "name": "stdout"
        },
        {
          "output_type": "stream",
          "text": [
            "[Parallel(n_jobs=1)]: Using backend SequentialBackend with 1 concurrent workers.\n"
          ],
          "name": "stderr"
        },
        {
          "output_type": "stream",
          "text": [
            "650/650 [==============================] - 2s 3ms/step - loss: 0.9447 - accuracy: 0.7242\n",
            "163/163 [==============================] - 0s 2ms/step - loss: 0.4909 - accuracy: 0.8476\n",
            "650/650 [==============================] - 2s 3ms/step - loss: 0.9350 - accuracy: 0.7276\n",
            "163/163 [==============================] - 1s 2ms/step - loss: 0.4793 - accuracy: 0.8552\n",
            "650/650 [==============================] - 2s 3ms/step - loss: 0.9423 - accuracy: 0.7272\n",
            "163/163 [==============================] - 0s 2ms/step - loss: 0.4923 - accuracy: 0.8526\n",
            "650/650 [==============================] - 2s 3ms/step - loss: 0.9379 - accuracy: 0.7290\n",
            "163/163 [==============================] - 1s 2ms/step - loss: 0.4701 - accuracy: 0.8508\n",
            "650/650 [==============================] - 2s 3ms/step - loss: 0.9337 - accuracy: 0.7284\n",
            "163/163 [==============================] - 1s 2ms/step - loss: 0.4781 - accuracy: 0.8577\n",
            "650/650 [==============================] - 2s 2ms/step - loss: 1.8977 - accuracy: 0.4943\n",
            "163/163 [==============================] - 1s 2ms/step - loss: 1.0181 - accuracy: 0.7134\n",
            "650/650 [==============================] - 2s 2ms/step - loss: 1.9223 - accuracy: 0.4897\n",
            "163/163 [==============================] - 1s 2ms/step - loss: 1.0207 - accuracy: 0.7152\n",
            "650/650 [==============================] - 2s 2ms/step - loss: 1.9065 - accuracy: 0.4895\n",
            "163/163 [==============================] - 1s 2ms/step - loss: 1.0322 - accuracy: 0.7077\n",
            "650/650 [==============================] - 2s 2ms/step - loss: 1.9308 - accuracy: 0.4839\n",
            "163/163 [==============================] - 1s 2ms/step - loss: 1.0193 - accuracy: 0.7125\n",
            "650/650 [==============================] - 2s 2ms/step - loss: 1.8960 - accuracy: 0.4893\n",
            "163/163 [==============================] - 0s 2ms/step - loss: 1.0302 - accuracy: 0.7134\n",
            "650/650 [==============================] - 2s 3ms/step - loss: 0.9871 - accuracy: 0.7140\n",
            "163/163 [==============================] - 1s 2ms/step - loss: 0.4997 - accuracy: 0.8540\n",
            "650/650 [==============================] - 2s 3ms/step - loss: 0.9770 - accuracy: 0.7163\n",
            "163/163 [==============================] - 1s 2ms/step - loss: 0.4830 - accuracy: 0.8529\n",
            "650/650 [==============================] - 2s 3ms/step - loss: 0.9860 - accuracy: 0.7173\n",
            "163/163 [==============================] - 1s 2ms/step - loss: 0.5144 - accuracy: 0.8432\n",
            "650/650 [==============================] - 2s 3ms/step - loss: 0.9704 - accuracy: 0.7221\n",
            "163/163 [==============================] - 1s 3ms/step - loss: 0.4878 - accuracy: 0.8537\n",
            "650/650 [==============================] - 2s 3ms/step - loss: 0.9727 - accuracy: 0.7201\n",
            "163/163 [==============================] - 1s 2ms/step - loss: 0.4952 - accuracy: 0.8525\n",
            "650/650 [==============================] - 2s 3ms/step - loss: 3.5626 - accuracy: 0.0488\n",
            "163/163 [==============================] - 1s 2ms/step - loss: 3.1504 - accuracy: 0.1234\n",
            "650/650 [==============================] - 2s 3ms/step - loss: 3.5675 - accuracy: 0.0492\n",
            "163/163 [==============================] - 1s 2ms/step - loss: 3.1634 - accuracy: 0.1294\n",
            "650/650 [==============================] - 2s 3ms/step - loss: 3.6760 - accuracy: 0.0417\n",
            "163/163 [==============================] - 1s 2ms/step - loss: 3.2579 - accuracy: 0.1048\n",
            "650/650 [==============================] - 2s 3ms/step - loss: 3.6323 - accuracy: 0.0534\n",
            "163/163 [==============================] - 1s 2ms/step - loss: 3.2431 - accuracy: 0.1023\n",
            "650/650 [==============================] - 2s 3ms/step - loss: 3.6031 - accuracy: 0.0559\n",
            "163/163 [==============================] - 1s 2ms/step - loss: 3.1862 - accuracy: 0.1091\n",
            "650/650 [==============================] - 2s 2ms/step - loss: 2.5731 - accuracy: 0.3113\n",
            "163/163 [==============================] - 1s 2ms/step - loss: 1.4605 - accuracy: 0.6167\n",
            "650/650 [==============================] - 2s 3ms/step - loss: 2.5978 - accuracy: 0.3105\n",
            "163/163 [==============================] - 1s 2ms/step - loss: 1.4312 - accuracy: 0.6234\n",
            "650/650 [==============================] - 2s 3ms/step - loss: 2.5346 - accuracy: 0.3205\n",
            "163/163 [==============================] - 1s 2ms/step - loss: 1.4758 - accuracy: 0.6096\n",
            "650/650 [==============================] - 2s 2ms/step - loss: 2.5812 - accuracy: 0.3184\n",
            "163/163 [==============================] - 1s 2ms/step - loss: 1.4551 - accuracy: 0.6176\n",
            "650/650 [==============================] - 2s 2ms/step - loss: 2.5373 - accuracy: 0.3205\n",
            "163/163 [==============================] - 1s 2ms/step - loss: 1.4403 - accuracy: 0.6184\n",
            "650/650 [==============================] - 2s 3ms/step - loss: 0.9343 - accuracy: 0.7249\n",
            "163/163 [==============================] - 1s 2ms/step - loss: 0.4807 - accuracy: 0.8550\n",
            "650/650 [==============================] - 2s 3ms/step - loss: 0.9352 - accuracy: 0.7265\n",
            "163/163 [==============================] - 1s 2ms/step - loss: 0.4613 - accuracy: 0.8573\n",
            "650/650 [==============================] - 2s 3ms/step - loss: 0.9353 - accuracy: 0.7277\n",
            "163/163 [==============================] - 1s 2ms/step - loss: 0.4870 - accuracy: 0.8541\n",
            "650/650 [==============================] - 2s 3ms/step - loss: 0.9468 - accuracy: 0.7255\n",
            "163/163 [==============================] - 1s 2ms/step - loss: 0.4758 - accuracy: 0.8551\n",
            "650/650 [==============================] - 2s 3ms/step - loss: 0.9360 - accuracy: 0.7272\n",
            "163/163 [==============================] - 1s 2ms/step - loss: 0.4914 - accuracy: 0.8519\n",
            "650/650 [==============================] - 2s 2ms/step - loss: 1.9074 - accuracy: 0.4823\n",
            "163/163 [==============================] - 0s 2ms/step - loss: 1.0253 - accuracy: 0.7118\n",
            "650/650 [==============================] - 2s 2ms/step - loss: 1.8884 - accuracy: 0.4895\n",
            "163/163 [==============================] - 1s 2ms/step - loss: 1.0048 - accuracy: 0.7150\n",
            "650/650 [==============================] - 2s 2ms/step - loss: 1.9105 - accuracy: 0.4896\n",
            "163/163 [==============================] - 1s 3ms/step - loss: 1.0287 - accuracy: 0.7108\n",
            "650/650 [==============================] - 2s 2ms/step - loss: 1.9005 - accuracy: 0.4930\n",
            "163/163 [==============================] - 1s 2ms/step - loss: 1.0168 - accuracy: 0.7160\n",
            "650/650 [==============================] - 2s 2ms/step - loss: 1.9104 - accuracy: 0.4832\n",
            "163/163 [==============================] - 1s 3ms/step - loss: 1.0391 - accuracy: 0.7111\n",
            "650/650 [==============================] - 2s 3ms/step - loss: 0.9776 - accuracy: 0.7155\n",
            "163/163 [==============================] - 1s 2ms/step - loss: 0.4986 - accuracy: 0.8491\n",
            "650/650 [==============================] - 2s 3ms/step - loss: 0.9839 - accuracy: 0.7122\n",
            "163/163 [==============================] - 1s 2ms/step - loss: 0.5010 - accuracy: 0.8542\n",
            "650/650 [==============================] - 2s 2ms/step - loss: 0.9887 - accuracy: 0.7160\n",
            "163/163 [==============================] - 1s 2ms/step - loss: 0.5248 - accuracy: 0.8419\n",
            "650/650 [==============================] - 2s 3ms/step - loss: 0.9733 - accuracy: 0.7165\n",
            "163/163 [==============================] - 1s 3ms/step - loss: 0.4982 - accuracy: 0.8496\n",
            "650/650 [==============================] - 2s 3ms/step - loss: 0.9701 - accuracy: 0.7184\n",
            "163/163 [==============================] - 1s 2ms/step - loss: 0.4924 - accuracy: 0.8517\n",
            "650/650 [==============================] - 2s 3ms/step - loss: 3.6321 - accuracy: 0.0480\n",
            "163/163 [==============================] - 1s 2ms/step - loss: 3.2156 - accuracy: 0.1127\n",
            "650/650 [==============================] - 2s 3ms/step - loss: 3.6091 - accuracy: 0.0405\n",
            "163/163 [==============================] - 1s 2ms/step - loss: 3.2257 - accuracy: 0.1044\n",
            "650/650 [==============================] - 2s 3ms/step - loss: 3.5964 - accuracy: 0.0717\n",
            "163/163 [==============================] - 1s 2ms/step - loss: 3.2068 - accuracy: 0.1383\n",
            "650/650 [==============================] - 2s 3ms/step - loss: 3.5439 - accuracy: 0.0545\n",
            "163/163 [==============================] - 1s 2ms/step - loss: 3.1545 - accuracy: 0.1139\n",
            "650/650 [==============================] - 2s 3ms/step - loss: 3.5731 - accuracy: 0.0613\n",
            "163/163 [==============================] - 1s 2ms/step - loss: 3.1639 - accuracy: 0.1247\n",
            "650/650 [==============================] - 2s 3ms/step - loss: 2.5098 - accuracy: 0.3253\n",
            "163/163 [==============================] - 1s 2ms/step - loss: 1.4288 - accuracy: 0.6197\n",
            "650/650 [==============================] - 2s 3ms/step - loss: 2.5775 - accuracy: 0.3088\n",
            "163/163 [==============================] - 1s 2ms/step - loss: 1.4451 - accuracy: 0.6217\n",
            "650/650 [==============================] - 2s 3ms/step - loss: 2.5432 - accuracy: 0.3240\n",
            "163/163 [==============================] - 1s 2ms/step - loss: 1.4514 - accuracy: 0.6152\n",
            "650/650 [==============================] - 2s 3ms/step - loss: 2.5213 - accuracy: 0.3244\n",
            "163/163 [==============================] - 1s 2ms/step - loss: 1.4379 - accuracy: 0.6226\n",
            "650/650 [==============================] - 2s 2ms/step - loss: 2.5295 - accuracy: 0.3254\n",
            "163/163 [==============================] - 1s 2ms/step - loss: 1.4474 - accuracy: 0.6199\n",
            "650/650 [==============================] - 2s 3ms/step - loss: 1.1489 - accuracy: 0.6673\n",
            "163/163 [==============================] - 1s 2ms/step - loss: 0.6686 - accuracy: 0.7996\n",
            "650/650 [==============================] - 2s 3ms/step - loss: 1.1611 - accuracy: 0.6625\n",
            "163/163 [==============================] - 1s 2ms/step - loss: 0.6664 - accuracy: 0.8041\n",
            "650/650 [==============================] - 2s 3ms/step - loss: 1.1528 - accuracy: 0.6697\n",
            "163/163 [==============================] - 1s 2ms/step - loss: 0.6823 - accuracy: 0.8004\n",
            "650/650 [==============================] - 2s 3ms/step - loss: 1.1478 - accuracy: 0.6673\n",
            "163/163 [==============================] - 1s 2ms/step - loss: 0.6669 - accuracy: 0.8038\n",
            "650/650 [==============================] - 2s 3ms/step - loss: 1.1527 - accuracy: 0.6684\n",
            "163/163 [==============================] - 1s 2ms/step - loss: 0.6778 - accuracy: 0.7979\n",
            "650/650 [==============================] - 2s 2ms/step - loss: 1.8451 - accuracy: 0.4916\n",
            "163/163 [==============================] - 1s 2ms/step - loss: 1.1026 - accuracy: 0.6850\n",
            "650/650 [==============================] - 2s 2ms/step - loss: 1.8424 - accuracy: 0.4878\n",
            "163/163 [==============================] - 1s 2ms/step - loss: 1.1036 - accuracy: 0.6842\n",
            "650/650 [==============================] - 2s 2ms/step - loss: 1.8356 - accuracy: 0.4927\n",
            "163/163 [==============================] - 1s 2ms/step - loss: 1.1230 - accuracy: 0.6776\n",
            "650/650 [==============================] - 2s 2ms/step - loss: 1.8522 - accuracy: 0.4881\n",
            "163/163 [==============================] - 1s 2ms/step - loss: 1.1071 - accuracy: 0.6831\n",
            "650/650 [==============================] - 2s 2ms/step - loss: 1.8253 - accuracy: 0.4939\n",
            "163/163 [==============================] - 1s 2ms/step - loss: 1.1182 - accuracy: 0.6815\n",
            "650/650 [==============================] - 2s 3ms/step - loss: 1.1589 - accuracy: 0.6667\n",
            "163/163 [==============================] - 1s 2ms/step - loss: 0.6747 - accuracy: 0.8031\n",
            "650/650 [==============================] - 2s 3ms/step - loss: 1.1669 - accuracy: 0.6630\n",
            "163/163 [==============================] - 1s 2ms/step - loss: 0.6927 - accuracy: 0.7923\n",
            "650/650 [==============================] - 2s 3ms/step - loss: 1.1582 - accuracy: 0.6671\n",
            "163/163 [==============================] - 1s 2ms/step - loss: 0.7107 - accuracy: 0.7937\n",
            "650/650 [==============================] - 2s 3ms/step - loss: 1.1589 - accuracy: 0.6676\n",
            "163/163 [==============================] - 1s 2ms/step - loss: 0.6873 - accuracy: 0.8002\n",
            "650/650 [==============================] - 2s 3ms/step - loss: 1.1600 - accuracy: 0.6653\n",
            "163/163 [==============================] - 1s 2ms/step - loss: 0.7065 - accuracy: 0.7948\n",
            "650/650 [==============================] - 2s 3ms/step - loss: 3.5402 - accuracy: 0.0489\n",
            "163/163 [==============================] - 1s 3ms/step - loss: 3.0561 - accuracy: 0.1407\n",
            "650/650 [==============================] - 2s 3ms/step - loss: 3.3927 - accuracy: 0.0713\n",
            "163/163 [==============================] - 1s 2ms/step - loss: 2.9318 - accuracy: 0.1723\n",
            "650/650 [==============================] - 2s 3ms/step - loss: 3.4433 - accuracy: 0.0593\n",
            "163/163 [==============================] - 1s 3ms/step - loss: 2.9906 - accuracy: 0.1469\n",
            "650/650 [==============================] - 2s 3ms/step - loss: 3.4242 - accuracy: 0.0759\n",
            "163/163 [==============================] - 1s 3ms/step - loss: 2.9478 - accuracy: 0.1722\n",
            "650/650 [==============================] - 2s 3ms/step - loss: 3.4461 - accuracy: 0.0689\n",
            "163/163 [==============================] - 1s 3ms/step - loss: 3.0100 - accuracy: 0.1612\n",
            "650/650 [==============================] - 2s 3ms/step - loss: 2.3699 - accuracy: 0.3488\n",
            "163/163 [==============================] - 1s 2ms/step - loss: 1.3863 - accuracy: 0.6138\n",
            "650/650 [==============================] - 2s 3ms/step - loss: 2.3632 - accuracy: 0.3535\n",
            "163/163 [==============================] - 1s 2ms/step - loss: 1.3782 - accuracy: 0.6154\n",
            "650/650 [==============================] - 2s 3ms/step - loss: 2.3812 - accuracy: 0.3451\n",
            "163/163 [==============================] - 1s 2ms/step - loss: 1.4092 - accuracy: 0.6069\n",
            "650/650 [==============================] - 2s 3ms/step - loss: 2.3575 - accuracy: 0.3492\n",
            "163/163 [==============================] - 1s 2ms/step - loss: 1.3901 - accuracy: 0.6125\n",
            "650/650 [==============================] - 2s 3ms/step - loss: 2.3358 - accuracy: 0.3585\n",
            "163/163 [==============================] - 1s 2ms/step - loss: 1.3922 - accuracy: 0.6098\n",
            "650/650 [==============================] - 2s 3ms/step - loss: 1.1531 - accuracy: 0.6647\n",
            "163/163 [==============================] - 1s 2ms/step - loss: 0.6701 - accuracy: 0.8026\n",
            "650/650 [==============================] - 2s 3ms/step - loss: 1.1690 - accuracy: 0.6617\n",
            "163/163 [==============================] - 1s 2ms/step - loss: 0.6667 - accuracy: 0.8017\n",
            "650/650 [==============================] - 2s 3ms/step - loss: 1.1563 - accuracy: 0.6681\n",
            "163/163 [==============================] - 1s 2ms/step - loss: 0.6980 - accuracy: 0.7936\n",
            "650/650 [==============================] - 3s 3ms/step - loss: 1.1558 - accuracy: 0.6668\n",
            "163/163 [==============================] - 1s 2ms/step - loss: 0.6761 - accuracy: 0.7979\n",
            "650/650 [==============================] - 2s 3ms/step - loss: 1.1611 - accuracy: 0.6669\n",
            "163/163 [==============================] - 1s 2ms/step - loss: 0.6798 - accuracy: 0.7999\n",
            "650/650 [==============================] - 2s 2ms/step - loss: 1.8173 - accuracy: 0.4957\n",
            "163/163 [==============================] - 1s 2ms/step - loss: 1.1123 - accuracy: 0.6799\n",
            "650/650 [==============================] - 2s 2ms/step - loss: 1.8231 - accuracy: 0.4965\n",
            "163/163 [==============================] - 1s 3ms/step - loss: 1.1015 - accuracy: 0.6829\n",
            "650/650 [==============================] - 2s 2ms/step - loss: 1.8388 - accuracy: 0.4928\n",
            "163/163 [==============================] - 1s 2ms/step - loss: 1.1172 - accuracy: 0.6781\n",
            "650/650 [==============================] - 2s 2ms/step - loss: 1.8154 - accuracy: 0.4975\n",
            "163/163 [==============================] - 1s 2ms/step - loss: 1.1085 - accuracy: 0.6843\n",
            "650/650 [==============================] - 2s 3ms/step - loss: 1.8222 - accuracy: 0.4960\n",
            "163/163 [==============================] - 1s 2ms/step - loss: 1.1172 - accuracy: 0.6799\n",
            "650/650 [==============================] - 2s 3ms/step - loss: 1.1652 - accuracy: 0.6645\n",
            "163/163 [==============================] - 1s 2ms/step - loss: 0.6956 - accuracy: 0.7921\n",
            "650/650 [==============================] - 2s 3ms/step - loss: 1.1781 - accuracy: 0.6607\n",
            "163/163 [==============================] - 1s 4ms/step - loss: 0.6698 - accuracy: 0.8044\n",
            "650/650 [==============================] - 2s 3ms/step - loss: 1.1708 - accuracy: 0.6652\n",
            "163/163 [==============================] - 1s 3ms/step - loss: 0.7007 - accuracy: 0.7946\n",
            "650/650 [==============================] - 2s 3ms/step - loss: 1.1642 - accuracy: 0.6657\n",
            "163/163 [==============================] - 1s 3ms/step - loss: 0.6764 - accuracy: 0.8036\n",
            "650/650 [==============================] - 2s 3ms/step - loss: 1.1600 - accuracy: 0.6657\n",
            "163/163 [==============================] - 1s 2ms/step - loss: 0.7044 - accuracy: 0.7928\n",
            "650/650 [==============================] - 2s 3ms/step - loss: 3.3839 - accuracy: 0.0711\n",
            "163/163 [==============================] - 1s 2ms/step - loss: 2.9131 - accuracy: 0.1731\n",
            "650/650 [==============================] - 2s 3ms/step - loss: 3.4744 - accuracy: 0.0581\n",
            "163/163 [==============================] - 1s 2ms/step - loss: 2.9804 - accuracy: 0.1620\n",
            "650/650 [==============================] - 2s 3ms/step - loss: 3.4261 - accuracy: 0.0533\n",
            "163/163 [==============================] - 1s 2ms/step - loss: 2.9537 - accuracy: 0.1521\n",
            "650/650 [==============================] - 2s 3ms/step - loss: 3.4916 - accuracy: 0.0581\n",
            "163/163 [==============================] - 1s 3ms/step - loss: 3.0212 - accuracy: 0.1560\n",
            "650/650 [==============================] - 2s 3ms/step - loss: 3.3912 - accuracy: 0.0663\n",
            "163/163 [==============================] - 1s 3ms/step - loss: 2.9275 - accuracy: 0.1786\n",
            "650/650 [==============================] - 2s 3ms/step - loss: 2.3862 - accuracy: 0.3427\n",
            "163/163 [==============================] - 1s 3ms/step - loss: 1.3871 - accuracy: 0.6093\n",
            "650/650 [==============================] - 2s 3ms/step - loss: 2.4004 - accuracy: 0.3399\n",
            "163/163 [==============================] - 1s 2ms/step - loss: 1.4091 - accuracy: 0.6061\n",
            "650/650 [==============================] - 2s 3ms/step - loss: 2.3672 - accuracy: 0.3507\n",
            "163/163 [==============================] - 1s 2ms/step - loss: 1.4016 - accuracy: 0.6079\n",
            "650/650 [==============================] - 2s 3ms/step - loss: 2.3783 - accuracy: 0.3475\n",
            "163/163 [==============================] - 1s 2ms/step - loss: 1.3838 - accuracy: 0.6125\n",
            "650/650 [==============================] - 2s 3ms/step - loss: 2.4104 - accuracy: 0.3403\n",
            "163/163 [==============================] - 1s 2ms/step - loss: 1.4053 - accuracy: 0.6115\n",
            "650/650 [==============================] - 2s 3ms/step - loss: 1.3466 - accuracy: 0.6146\n",
            "163/163 [==============================] - 1s 2ms/step - loss: 1.0312 - accuracy: 0.6935\n",
            "650/650 [==============================] - 2s 3ms/step - loss: 1.3439 - accuracy: 0.6138\n",
            "163/163 [==============================] - 1s 2ms/step - loss: 0.9527 - accuracy: 0.7175\n",
            "650/650 [==============================] - 2s 3ms/step - loss: 1.3505 - accuracy: 0.6125\n",
            "163/163 [==============================] - 1s 2ms/step - loss: 1.0163 - accuracy: 0.7016\n",
            "650/650 [==============================] - 2s 3ms/step - loss: 1.3525 - accuracy: 0.6099\n",
            "163/163 [==============================] - 1s 2ms/step - loss: 0.9652 - accuracy: 0.7181\n",
            "650/650 [==============================] - 2s 3ms/step - loss: 1.3345 - accuracy: 0.6159\n",
            "163/163 [==============================] - 1s 2ms/step - loss: 1.0095 - accuracy: 0.6981\n",
            "650/650 [==============================] - 2s 2ms/step - loss: 2.6689 - accuracy: 0.3412\n",
            "163/163 [==============================] - 1s 3ms/step - loss: 1.7062 - accuracy: 0.5948\n",
            "650/650 [==============================] - 2s 3ms/step - loss: 2.6523 - accuracy: 0.3438\n",
            "163/163 [==============================] - 1s 2ms/step - loss: 1.6818 - accuracy: 0.6015\n",
            "650/650 [==============================] - 2s 2ms/step - loss: 2.6524 - accuracy: 0.3343\n",
            "163/163 [==============================] - 1s 2ms/step - loss: 1.7036 - accuracy: 0.5884\n",
            "650/650 [==============================] - 2s 2ms/step - loss: 2.6746 - accuracy: 0.3355\n",
            "163/163 [==============================] - 1s 3ms/step - loss: 1.7063 - accuracy: 0.5906\n",
            "650/650 [==============================] - 2s 3ms/step - loss: 2.6436 - accuracy: 0.3384\n",
            "163/163 [==============================] - 1s 3ms/step - loss: 1.7070 - accuracy: 0.5865\n",
            "650/650 [==============================] - 2s 3ms/step - loss: 1.3537 - accuracy: 0.6145\n",
            "163/163 [==============================] - 1s 2ms/step - loss: 0.9644 - accuracy: 0.7187\n",
            "650/650 [==============================] - 2s 3ms/step - loss: 1.3677 - accuracy: 0.6100\n",
            "163/163 [==============================] - 1s 2ms/step - loss: 0.9871 - accuracy: 0.7084\n",
            "650/650 [==============================] - 2s 3ms/step - loss: 1.3472 - accuracy: 0.6143\n",
            "163/163 [==============================] - 1s 3ms/step - loss: 0.9693 - accuracy: 0.7181\n",
            "650/650 [==============================] - 2s 3ms/step - loss: 1.3514 - accuracy: 0.6146\n",
            "163/163 [==============================] - 1s 2ms/step - loss: 0.9749 - accuracy: 0.7169\n",
            "650/650 [==============================] - 2s 3ms/step - loss: 1.3585 - accuracy: 0.6155\n",
            "163/163 [==============================] - 1s 3ms/step - loss: 0.9874 - accuracy: 0.7137\n",
            "650/650 [==============================] - 2s 3ms/step - loss: 3.4835 - accuracy: 0.0482\n",
            "163/163 [==============================] - 1s 3ms/step - loss: 3.2534 - accuracy: 0.0690\n",
            "650/650 [==============================] - 2s 3ms/step - loss: 3.4427 - accuracy: 0.0584\n",
            "163/163 [==============================] - 1s 3ms/step - loss: 3.2371 - accuracy: 0.0941\n",
            "650/650 [==============================] - 2s 3ms/step - loss: 3.5054 - accuracy: 0.0298\n",
            "163/163 [==============================] - 1s 3ms/step - loss: 3.2675 - accuracy: 0.0706\n",
            "650/650 [==============================] - 2s 3ms/step - loss: 3.4748 - accuracy: 0.0361\n",
            "163/163 [==============================] - 1s 3ms/step - loss: 3.2544 - accuracy: 0.0661\n",
            "650/650 [==============================] - 2s 3ms/step - loss: 3.4457 - accuracy: 0.0403\n",
            "163/163 [==============================] - 1s 3ms/step - loss: 3.2270 - accuracy: 0.0640\n",
            "650/650 [==============================] - 2s 3ms/step - loss: 3.0707 - accuracy: 0.1784\n",
            "163/163 [==============================] - 1s 2ms/step - loss: 2.4276 - accuracy: 0.4828\n",
            "650/650 [==============================] - 2s 3ms/step - loss: 3.1045 - accuracy: 0.1757\n",
            "163/163 [==============================] - 1s 2ms/step - loss: 2.4349 - accuracy: 0.4666\n",
            "650/650 [==============================] - 2s 3ms/step - loss: 3.0543 - accuracy: 0.1832\n",
            "163/163 [==============================] - 1s 3ms/step - loss: 2.4160 - accuracy: 0.4698\n",
            "650/650 [==============================] - 2s 3ms/step - loss: 3.0763 - accuracy: 0.1991\n",
            "163/163 [==============================] - 1s 3ms/step - loss: 2.4348 - accuracy: 0.4744\n",
            "650/650 [==============================] - 2s 3ms/step - loss: 3.0463 - accuracy: 0.1953\n",
            "163/163 [==============================] - 1s 3ms/step - loss: 2.4304 - accuracy: 0.4802\n",
            "650/650 [==============================] - 2s 3ms/step - loss: 1.3454 - accuracy: 0.6133\n",
            "163/163 [==============================] - 1s 2ms/step - loss: 1.0069 - accuracy: 0.7042\n",
            "650/650 [==============================] - 2s 3ms/step - loss: 1.3493 - accuracy: 0.6119\n",
            "163/163 [==============================] - 1s 2ms/step - loss: 0.9601 - accuracy: 0.7189\n",
            "650/650 [==============================] - 2s 3ms/step - loss: 1.3393 - accuracy: 0.6159\n",
            "163/163 [==============================] - 1s 2ms/step - loss: 0.9888 - accuracy: 0.7119\n",
            "650/650 [==============================] - 2s 3ms/step - loss: 1.3332 - accuracy: 0.6165\n",
            "163/163 [==============================] - 0s 2ms/step - loss: 1.0041 - accuracy: 0.7073\n",
            "650/650 [==============================] - 3s 3ms/step - loss: 1.3488 - accuracy: 0.6136\n",
            "163/163 [==============================] - 1s 3ms/step - loss: 0.9956 - accuracy: 0.7080\n",
            "650/650 [==============================] - 2s 3ms/step - loss: 2.6734 - accuracy: 0.3402\n",
            "163/163 [==============================] - 1s 2ms/step - loss: 1.7060 - accuracy: 0.5850\n",
            "650/650 [==============================] - 2s 2ms/step - loss: 2.6510 - accuracy: 0.3425\n",
            "163/163 [==============================] - 1s 2ms/step - loss: 1.7018 - accuracy: 0.5972\n",
            "650/650 [==============================] - 2s 2ms/step - loss: 2.6489 - accuracy: 0.3440\n",
            "163/163 [==============================] - 1s 3ms/step - loss: 1.7254 - accuracy: 0.5809\n",
            "650/650 [==============================] - 2s 3ms/step - loss: 2.6576 - accuracy: 0.3413\n",
            "163/163 [==============================] - 1s 2ms/step - loss: 1.7009 - accuracy: 0.5967\n",
            "650/650 [==============================] - 2s 3ms/step - loss: 2.6408 - accuracy: 0.3514\n",
            "163/163 [==============================] - 1s 3ms/step - loss: 1.7065 - accuracy: 0.5946\n",
            "650/650 [==============================] - 2s 3ms/step - loss: 1.3519 - accuracy: 0.6175\n",
            "163/163 [==============================] - 1s 3ms/step - loss: 0.9576 - accuracy: 0.7249\n",
            "650/650 [==============================] - 2s 3ms/step - loss: 1.3509 - accuracy: 0.6178\n",
            "163/163 [==============================] - 1s 3ms/step - loss: 0.9668 - accuracy: 0.7179\n",
            "650/650 [==============================] - 2s 3ms/step - loss: 1.3530 - accuracy: 0.6153\n",
            "163/163 [==============================] - 1s 3ms/step - loss: 0.9977 - accuracy: 0.7065\n",
            "650/650 [==============================] - 2s 3ms/step - loss: 1.3570 - accuracy: 0.6171\n",
            "163/163 [==============================] - 1s 2ms/step - loss: 0.9622 - accuracy: 0.7211\n",
            "650/650 [==============================] - 2s 3ms/step - loss: 1.3463 - accuracy: 0.6177\n",
            "163/163 [==============================] - 1s 2ms/step - loss: 0.9759 - accuracy: 0.7160\n",
            "650/650 [==============================] - 2s 3ms/step - loss: 3.5709 - accuracy: 0.0363\n",
            "163/163 [==============================] - 1s 3ms/step - loss: 3.2978 - accuracy: 0.0522\n",
            "650/650 [==============================] - 2s 3ms/step - loss: 3.3986 - accuracy: 0.0355\n",
            "163/163 [==============================] - 1s 2ms/step - loss: 3.2026 - accuracy: 0.0777\n",
            "650/650 [==============================] - 2s 3ms/step - loss: 3.4203 - accuracy: 0.0485\n",
            "163/163 [==============================] - 1s 3ms/step - loss: 3.2165 - accuracy: 0.1000\n",
            "650/650 [==============================] - 2s 3ms/step - loss: 3.4922 - accuracy: 0.0500\n",
            "163/163 [==============================] - 1s 3ms/step - loss: 3.2669 - accuracy: 0.0698\n",
            "650/650 [==============================] - 2s 3ms/step - loss: 3.4618 - accuracy: 0.0465\n",
            "163/163 [==============================] - 1s 3ms/step - loss: 3.2437 - accuracy: 0.0893\n",
            "650/650 [==============================] - 2s 3ms/step - loss: 3.0662 - accuracy: 0.1919\n",
            "163/163 [==============================] - 1s 2ms/step - loss: 2.4241 - accuracy: 0.4776\n",
            "650/650 [==============================] - 2s 3ms/step - loss: 3.0475 - accuracy: 0.1969\n",
            "163/163 [==============================] - 1s 3ms/step - loss: 2.3943 - accuracy: 0.4939\n",
            "650/650 [==============================] - 2s 3ms/step - loss: 3.0754 - accuracy: 0.1912\n",
            "163/163 [==============================] - 1s 3ms/step - loss: 2.4276 - accuracy: 0.4760\n",
            "650/650 [==============================] - 2s 3ms/step - loss: 3.0873 - accuracy: 0.1802\n",
            "163/163 [==============================] - 1s 3ms/step - loss: 2.4458 - accuracy: 0.4772\n",
            "650/650 [==============================] - 2s 3ms/step - loss: 3.0780 - accuracy: 0.2002\n",
            "163/163 [==============================] - 1s 3ms/step - loss: 2.4365 - accuracy: 0.4780\n",
            "325/325 [==============================] - 2s 3ms/step - loss: 0.9929 - accuracy: 0.7140\n",
            "82/82 [==============================] - 0s 3ms/step - loss: 0.5077 - accuracy: 0.8485\n",
            "325/325 [==============================] - 2s 3ms/step - loss: 0.9817 - accuracy: 0.7155\n",
            "82/82 [==============================] - 0s 3ms/step - loss: 0.4870 - accuracy: 0.8535\n",
            "325/325 [==============================] - 1s 3ms/step - loss: 0.9888 - accuracy: 0.7178\n",
            "82/82 [==============================] - 0s 3ms/step - loss: 0.5152 - accuracy: 0.8473\n",
            "325/325 [==============================] - 2s 3ms/step - loss: 0.9924 - accuracy: 0.7167\n",
            "82/82 [==============================] - 0s 3ms/step - loss: 0.5155 - accuracy: 0.8411\n",
            "325/325 [==============================] - 2s 3ms/step - loss: 0.9938 - accuracy: 0.7107\n",
            "82/82 [==============================] - 0s 3ms/step - loss: 0.5032 - accuracy: 0.8462\n",
            "325/325 [==============================] - 1s 3ms/step - loss: 2.2333 - accuracy: 0.4077\n",
            "82/82 [==============================] - 0s 3ms/step - loss: 1.2211 - accuracy: 0.6681\n",
            "325/325 [==============================] - 1s 3ms/step - loss: 2.3156 - accuracy: 0.3854\n",
            "82/82 [==============================] - 0s 3ms/step - loss: 1.2299 - accuracy: 0.6656\n",
            "325/325 [==============================] - 1s 3ms/step - loss: 2.2400 - accuracy: 0.4036\n",
            "82/82 [==============================] - 0s 3ms/step - loss: 1.2328 - accuracy: 0.6588\n",
            "325/325 [==============================] - 1s 3ms/step - loss: 2.2816 - accuracy: 0.3981\n",
            "82/82 [==============================] - 0s 3ms/step - loss: 1.2234 - accuracy: 0.6661\n",
            "325/325 [==============================] - 1s 3ms/step - loss: 2.2686 - accuracy: 0.3939\n",
            "82/82 [==============================] - 0s 3ms/step - loss: 1.2349 - accuracy: 0.6624\n",
            "325/325 [==============================] - 1s 3ms/step - loss: 1.0491 - accuracy: 0.7008\n",
            "82/82 [==============================] - 0s 3ms/step - loss: 0.5173 - accuracy: 0.8450\n",
            "325/325 [==============================] - 1s 3ms/step - loss: 1.0634 - accuracy: 0.6944\n",
            "82/82 [==============================] - 0s 3ms/step - loss: 0.5138 - accuracy: 0.8457\n",
            "325/325 [==============================] - 1s 3ms/step - loss: 1.0499 - accuracy: 0.6975\n",
            "82/82 [==============================] - 0s 3ms/step - loss: 0.5477 - accuracy: 0.8389\n",
            "325/325 [==============================] - 2s 3ms/step - loss: 1.0528 - accuracy: 0.7012\n",
            "82/82 [==============================] - 0s 3ms/step - loss: 0.5132 - accuracy: 0.8458\n",
            "325/325 [==============================] - 1s 3ms/step - loss: 1.0457 - accuracy: 0.7017\n",
            "82/82 [==============================] - 0s 3ms/step - loss: 0.5374 - accuracy: 0.8417\n",
            "325/325 [==============================] - 1s 3ms/step - loss: 3.6335 - accuracy: 0.0379\n",
            "82/82 [==============================] - 0s 3ms/step - loss: 3.3517 - accuracy: 0.0694\n",
            "325/325 [==============================] - 1s 3ms/step - loss: 3.6001 - accuracy: 0.0434\n",
            "82/82 [==============================] - 0s 3ms/step - loss: 3.3301 - accuracy: 0.0788\n",
            "325/325 [==============================] - 1s 3ms/step - loss: 3.7370 - accuracy: 0.0231\n",
            "82/82 [==============================] - 0s 3ms/step - loss: 3.4650 - accuracy: 0.0470\n",
            "325/325 [==============================] - 1s 3ms/step - loss: 3.6206 - accuracy: 0.0448\n",
            "82/82 [==============================] - 0s 3ms/step - loss: 3.3462 - accuracy: 0.0651\n",
            "325/325 [==============================] - 1s 3ms/step - loss: 3.5914 - accuracy: 0.0423\n",
            "82/82 [==============================] - 0s 3ms/step - loss: 3.3235 - accuracy: 0.0724\n",
            "325/325 [==============================] - 1s 3ms/step - loss: 2.9941 - accuracy: 0.2069\n",
            "82/82 [==============================] - 0s 3ms/step - loss: 1.8289 - accuracy: 0.5380\n",
            "325/325 [==============================] - 1s 3ms/step - loss: 2.8699 - accuracy: 0.2352\n",
            "82/82 [==============================] - 0s 3ms/step - loss: 1.7777 - accuracy: 0.5532\n",
            "325/325 [==============================] - 2s 3ms/step - loss: 2.9297 - accuracy: 0.2161\n",
            "82/82 [==============================] - 0s 3ms/step - loss: 1.7992 - accuracy: 0.5414\n",
            "325/325 [==============================] - 1s 3ms/step - loss: 2.8871 - accuracy: 0.2298\n",
            "82/82 [==============================] - 0s 3ms/step - loss: 1.8065 - accuracy: 0.5377\n",
            "325/325 [==============================] - 1s 3ms/step - loss: 2.8909 - accuracy: 0.2280\n",
            "82/82 [==============================] - 0s 3ms/step - loss: 1.7968 - accuracy: 0.5406\n",
            "325/325 [==============================] - 2s 3ms/step - loss: 0.9911 - accuracy: 0.7132\n",
            "82/82 [==============================] - 0s 3ms/step - loss: 0.4955 - accuracy: 0.8500\n",
            "325/325 [==============================] - 2s 3ms/step - loss: 1.0067 - accuracy: 0.7122\n",
            "82/82 [==============================] - 0s 3ms/step - loss: 0.5031 - accuracy: 0.8501\n",
            "325/325 [==============================] - 1s 3ms/step - loss: 0.9791 - accuracy: 0.7174\n",
            "82/82 [==============================] - 0s 3ms/step - loss: 0.5122 - accuracy: 0.8464\n",
            "325/325 [==============================] - 2s 3ms/step - loss: 0.9980 - accuracy: 0.7123\n",
            "82/82 [==============================] - 0s 3ms/step - loss: 0.4971 - accuracy: 0.8488\n",
            "325/325 [==============================] - 1s 3ms/step - loss: 1.0036 - accuracy: 0.7104\n",
            "82/82 [==============================] - 0s 3ms/step - loss: 0.5120 - accuracy: 0.8501\n",
            "325/325 [==============================] - 2s 3ms/step - loss: 2.2673 - accuracy: 0.4020\n",
            "82/82 [==============================] - 0s 3ms/step - loss: 1.2318 - accuracy: 0.6605\n",
            "325/325 [==============================] - 1s 3ms/step - loss: 2.2936 - accuracy: 0.3921\n",
            "82/82 [==============================] - 0s 3ms/step - loss: 1.2233 - accuracy: 0.6684\n",
            "325/325 [==============================] - 1s 3ms/step - loss: 2.2506 - accuracy: 0.3979\n",
            "82/82 [==============================] - 0s 3ms/step - loss: 1.2357 - accuracy: 0.6604\n",
            "325/325 [==============================] - 1s 3ms/step - loss: 2.2541 - accuracy: 0.4079\n",
            "82/82 [==============================] - 0s 3ms/step - loss: 1.2082 - accuracy: 0.6705\n",
            "325/325 [==============================] - 1s 3ms/step - loss: 2.2770 - accuracy: 0.3936\n",
            "82/82 [==============================] - 0s 3ms/step - loss: 1.2249 - accuracy: 0.6661\n",
            "325/325 [==============================] - 1s 3ms/step - loss: 1.0504 - accuracy: 0.7005\n",
            "82/82 [==============================] - 0s 3ms/step - loss: 0.5254 - accuracy: 0.8453\n",
            "325/325 [==============================] - 1s 3ms/step - loss: 1.0507 - accuracy: 0.6991\n",
            "82/82 [==============================] - 0s 3ms/step - loss: 0.5135 - accuracy: 0.8463\n",
            "325/325 [==============================] - 1s 3ms/step - loss: 1.0436 - accuracy: 0.7015\n",
            "82/82 [==============================] - 0s 3ms/step - loss: 0.5306 - accuracy: 0.8411\n",
            "325/325 [==============================] - 1s 3ms/step - loss: 1.0416 - accuracy: 0.7010\n",
            "82/82 [==============================] - 1s 3ms/step - loss: 0.5158 - accuracy: 0.8478\n",
            "325/325 [==============================] - 1s 3ms/step - loss: 1.0493 - accuracy: 0.7005\n",
            "82/82 [==============================] - 0s 3ms/step - loss: 0.5257 - accuracy: 0.8444\n",
            "325/325 [==============================] - 1s 3ms/step - loss: 3.7077 - accuracy: 0.0404\n",
            "82/82 [==============================] - 0s 3ms/step - loss: 3.4236 - accuracy: 0.0590\n",
            "325/325 [==============================] - 1s 3ms/step - loss: 3.6672 - accuracy: 0.0288\n",
            "82/82 [==============================] - 0s 3ms/step - loss: 3.3905 - accuracy: 0.0542\n",
            "325/325 [==============================] - 1s 3ms/step - loss: 3.6786 - accuracy: 0.0473\n",
            "82/82 [==============================] - 0s 3ms/step - loss: 3.3989 - accuracy: 0.0940\n",
            "325/325 [==============================] - 1s 3ms/step - loss: 3.6508 - accuracy: 0.0299\n",
            "82/82 [==============================] - 0s 3ms/step - loss: 3.3665 - accuracy: 0.0622\n",
            "325/325 [==============================] - 1s 3ms/step - loss: 3.6579 - accuracy: 0.0518\n",
            "82/82 [==============================] - 0s 3ms/step - loss: 3.3810 - accuracy: 0.0752\n",
            "325/325 [==============================] - 1s 3ms/step - loss: 2.9127 - accuracy: 0.2254\n",
            "82/82 [==============================] - 0s 3ms/step - loss: 1.7818 - accuracy: 0.5448\n",
            "325/325 [==============================] - 1s 3ms/step - loss: 2.8716 - accuracy: 0.2295\n",
            "82/82 [==============================] - 0s 3ms/step - loss: 1.7749 - accuracy: 0.5534\n",
            "325/325 [==============================] - 2s 3ms/step - loss: 2.8168 - accuracy: 0.2469\n",
            "82/82 [==============================] - 0s 3ms/step - loss: 1.7695 - accuracy: 0.5456\n",
            "325/325 [==============================] - 1s 3ms/step - loss: 2.8748 - accuracy: 0.2320\n",
            "82/82 [==============================] - 0s 3ms/step - loss: 1.7705 - accuracy: 0.5530\n",
            "325/325 [==============================] - 1s 3ms/step - loss: 2.9759 - accuracy: 0.2076\n",
            "82/82 [==============================] - 0s 3ms/step - loss: 1.8321 - accuracy: 0.5360\n",
            "325/325 [==============================] - 2s 3ms/step - loss: 1.1949 - accuracy: 0.6566\n",
            "82/82 [==============================] - 0s 3ms/step - loss: 0.7184 - accuracy: 0.7884\n",
            "325/325 [==============================] - 2s 3ms/step - loss: 1.1959 - accuracy: 0.6557\n",
            "82/82 [==============================] - 0s 3ms/step - loss: 0.7133 - accuracy: 0.7905\n",
            "325/325 [==============================] - 1s 3ms/step - loss: 1.1743 - accuracy: 0.6608\n",
            "82/82 [==============================] - 0s 3ms/step - loss: 0.7242 - accuracy: 0.7850\n",
            "325/325 [==============================] - 1s 3ms/step - loss: 1.1874 - accuracy: 0.6590\n",
            "82/82 [==============================] - 0s 3ms/step - loss: 0.7162 - accuracy: 0.7951\n",
            "325/325 [==============================] - 2s 3ms/step - loss: 1.1844 - accuracy: 0.6587\n",
            "82/82 [==============================] - 0s 3ms/step - loss: 0.7387 - accuracy: 0.7865\n",
            "325/325 [==============================] - 1s 3ms/step - loss: 2.1256 - accuracy: 0.4155\n",
            "82/82 [==============================] - 1s 3ms/step - loss: 1.2332 - accuracy: 0.6524\n",
            "325/325 [==============================] - 1s 3ms/step - loss: 2.1347 - accuracy: 0.4119\n",
            "82/82 [==============================] - 0s 3ms/step - loss: 1.2324 - accuracy: 0.6513\n",
            "325/325 [==============================] - 1s 3ms/step - loss: 2.1273 - accuracy: 0.4185\n",
            "82/82 [==============================] - 0s 3ms/step - loss: 1.2481 - accuracy: 0.6432\n",
            "325/325 [==============================] - 1s 3ms/step - loss: 2.1157 - accuracy: 0.4150\n",
            "82/82 [==============================] - 0s 3ms/step - loss: 1.2382 - accuracy: 0.6500\n",
            "325/325 [==============================] - 1s 3ms/step - loss: 2.1237 - accuracy: 0.4212\n",
            "82/82 [==============================] - 0s 3ms/step - loss: 1.2430 - accuracy: 0.6505\n",
            "325/325 [==============================] - 1s 3ms/step - loss: 1.2051 - accuracy: 0.6522\n",
            "82/82 [==============================] - 0s 3ms/step - loss: 0.7408 - accuracy: 0.7833\n",
            "325/325 [==============================] - 1s 3ms/step - loss: 1.2053 - accuracy: 0.6568\n",
            "82/82 [==============================] - 0s 3ms/step - loss: 0.7340 - accuracy: 0.7856\n",
            "325/325 [==============================] - 1s 3ms/step - loss: 1.2025 - accuracy: 0.6553\n",
            "82/82 [==============================] - 0s 3ms/step - loss: 0.7516 - accuracy: 0.7782\n",
            "325/325 [==============================] - 1s 3ms/step - loss: 1.2114 - accuracy: 0.6505\n",
            "82/82 [==============================] - 0s 3ms/step - loss: 0.7434 - accuracy: 0.7876\n",
            "325/325 [==============================] - 2s 3ms/step - loss: 1.2086 - accuracy: 0.6529\n",
            "82/82 [==============================] - 0s 3ms/step - loss: 0.7600 - accuracy: 0.7824\n",
            "325/325 [==============================] - 1s 3ms/step - loss: 3.5366 - accuracy: 0.0409\n",
            "82/82 [==============================] - 0s 3ms/step - loss: 3.2282 - accuracy: 0.0928\n",
            "325/325 [==============================] - 1s 3ms/step - loss: 3.5604 - accuracy: 0.0472\n",
            "82/82 [==============================] - 0s 3ms/step - loss: 3.2458 - accuracy: 0.0990\n",
            "325/325 [==============================] - 1s 3ms/step - loss: 3.4276 - accuracy: 0.0626\n",
            "82/82 [==============================] - 0s 3ms/step - loss: 3.1310 - accuracy: 0.1308\n",
            "325/325 [==============================] - 1s 3ms/step - loss: 3.5406 - accuracy: 0.0569\n",
            "82/82 [==============================] - 0s 3ms/step - loss: 3.2198 - accuracy: 0.1033\n",
            "325/325 [==============================] - 1s 3ms/step - loss: 3.4776 - accuracy: 0.0429\n",
            "82/82 [==============================] - 0s 3ms/step - loss: 3.1741 - accuracy: 0.0938\n",
            "325/325 [==============================] - 1s 3ms/step - loss: 2.7855 - accuracy: 0.2336\n",
            "82/82 [==============================] - 0s 3ms/step - loss: 1.6687 - accuracy: 0.5407\n",
            "325/325 [==============================] - 1s 3ms/step - loss: 2.6784 - accuracy: 0.2577\n",
            "82/82 [==============================] - 0s 3ms/step - loss: 1.6428 - accuracy: 0.5544\n",
            "325/325 [==============================] - 1s 3ms/step - loss: 2.6887 - accuracy: 0.2594\n",
            "82/82 [==============================] - 0s 3ms/step - loss: 1.6667 - accuracy: 0.5471\n",
            "325/325 [==============================] - 2s 3ms/step - loss: 2.7055 - accuracy: 0.2555\n",
            "82/82 [==============================] - 0s 3ms/step - loss: 1.6611 - accuracy: 0.5523\n",
            "325/325 [==============================] - 1s 3ms/step - loss: 2.7226 - accuracy: 0.2550\n",
            "82/82 [==============================] - 0s 3ms/step - loss: 1.6595 - accuracy: 0.5529\n",
            "325/325 [==============================] - 2s 3ms/step - loss: 1.1904 - accuracy: 0.6568\n",
            "82/82 [==============================] - 0s 3ms/step - loss: 0.7163 - accuracy: 0.7913\n",
            "325/325 [==============================] - 2s 3ms/step - loss: 1.1949 - accuracy: 0.6560\n",
            "82/82 [==============================] - 0s 3ms/step - loss: 0.6986 - accuracy: 0.7948\n",
            "325/325 [==============================] - 2s 3ms/step - loss: 1.1875 - accuracy: 0.6586\n",
            "82/82 [==============================] - 0s 3ms/step - loss: 0.7367 - accuracy: 0.7816\n",
            "325/325 [==============================] - 2s 4ms/step - loss: 1.1938 - accuracy: 0.6555\n",
            "82/82 [==============================] - 0s 3ms/step - loss: 0.7143 - accuracy: 0.7919\n",
            "325/325 [==============================] - 2s 3ms/step - loss: 1.1808 - accuracy: 0.6585\n",
            "82/82 [==============================] - 0s 3ms/step - loss: 0.7226 - accuracy: 0.7915\n",
            "325/325 [==============================] - 1s 3ms/step - loss: 2.1655 - accuracy: 0.4038\n",
            "82/82 [==============================] - 0s 3ms/step - loss: 1.2350 - accuracy: 0.6478\n",
            "325/325 [==============================] - 2s 3ms/step - loss: 2.1513 - accuracy: 0.4086\n",
            "82/82 [==============================] - 0s 3ms/step - loss: 1.2363 - accuracy: 0.6485\n",
            "325/325 [==============================] - 1s 3ms/step - loss: 2.1043 - accuracy: 0.4214\n",
            "82/82 [==============================] - 0s 3ms/step - loss: 1.2453 - accuracy: 0.6462\n",
            "325/325 [==============================] - 1s 3ms/step - loss: 2.1146 - accuracy: 0.4188\n",
            "82/82 [==============================] - 0s 3ms/step - loss: 1.2413 - accuracy: 0.6508\n",
            "325/325 [==============================] - 1s 3ms/step - loss: 2.1275 - accuracy: 0.4171\n",
            "82/82 [==============================] - 0s 3ms/step - loss: 1.2471 - accuracy: 0.6483\n",
            "325/325 [==============================] - 1s 3ms/step - loss: 1.2027 - accuracy: 0.6558\n",
            "82/82 [==============================] - 0s 3ms/step - loss: 0.7245 - accuracy: 0.7904\n",
            "325/325 [==============================] - 1s 3ms/step - loss: 1.2104 - accuracy: 0.6539\n",
            "82/82 [==============================] - 0s 3ms/step - loss: 0.7358 - accuracy: 0.7835\n",
            "325/325 [==============================] - 1s 3ms/step - loss: 1.2008 - accuracy: 0.6549\n",
            "82/82 [==============================] - 0s 3ms/step - loss: 0.7586 - accuracy: 0.7770\n",
            "325/325 [==============================] - 1s 3ms/step - loss: 1.2056 - accuracy: 0.6550\n",
            "82/82 [==============================] - 0s 3ms/step - loss: 0.7312 - accuracy: 0.7911\n",
            "325/325 [==============================] - 1s 3ms/step - loss: 1.2095 - accuracy: 0.6563\n",
            "82/82 [==============================] - 1s 3ms/step - loss: 0.7326 - accuracy: 0.7903\n",
            "325/325 [==============================] - 1s 3ms/step - loss: 3.4593 - accuracy: 0.0644\n",
            "82/82 [==============================] - 0s 3ms/step - loss: 3.1577 - accuracy: 0.1147\n",
            "325/325 [==============================] - 1s 3ms/step - loss: 3.4328 - accuracy: 0.0512\n",
            "82/82 [==============================] - 0s 3ms/step - loss: 3.1323 - accuracy: 0.1098\n",
            "325/325 [==============================] - 1s 3ms/step - loss: 3.6299 - accuracy: 0.0471\n",
            "82/82 [==============================] - 0s 3ms/step - loss: 3.3127 - accuracy: 0.0896\n",
            "325/325 [==============================] - 1s 3ms/step - loss: 3.4786 - accuracy: 0.0523\n",
            "82/82 [==============================] - 0s 3ms/step - loss: 3.1620 - accuracy: 0.1000\n",
            "325/325 [==============================] - 1s 3ms/step - loss: 3.5855 - accuracy: 0.0470\n",
            "82/82 [==============================] - 0s 3ms/step - loss: 3.2758 - accuracy: 0.0965\n",
            "325/325 [==============================] - 1s 3ms/step - loss: 2.7347 - accuracy: 0.2476\n",
            "82/82 [==============================] - 0s 3ms/step - loss: 1.6464 - accuracy: 0.5545\n",
            "325/325 [==============================] - 1s 3ms/step - loss: 2.8034 - accuracy: 0.2369\n",
            "82/82 [==============================] - 0s 3ms/step - loss: 1.6541 - accuracy: 0.5541\n",
            "325/325 [==============================] - 1s 3ms/step - loss: 2.7869 - accuracy: 0.2463\n",
            "82/82 [==============================] - 0s 3ms/step - loss: 1.6759 - accuracy: 0.5473\n",
            "325/325 [==============================] - 1s 3ms/step - loss: 2.7650 - accuracy: 0.2406\n",
            "82/82 [==============================] - 0s 3ms/step - loss: 1.6658 - accuracy: 0.5475\n",
            "325/325 [==============================] - 1s 3ms/step - loss: 2.7463 - accuracy: 0.2424\n",
            "82/82 [==============================] - 0s 3ms/step - loss: 1.6671 - accuracy: 0.5481\n",
            "325/325 [==============================] - 2s 3ms/step - loss: 1.3961 - accuracy: 0.6025\n",
            "82/82 [==============================] - 0s 3ms/step - loss: 1.0464 - accuracy: 0.6864\n",
            "325/325 [==============================] - 2s 3ms/step - loss: 1.4082 - accuracy: 0.6013\n",
            "82/82 [==============================] - 0s 3ms/step - loss: 1.0090 - accuracy: 0.7025\n",
            "325/325 [==============================] - 2s 3ms/step - loss: 1.3979 - accuracy: 0.6093\n",
            "82/82 [==============================] - 0s 3ms/step - loss: 1.0179 - accuracy: 0.7066\n",
            "325/325 [==============================] - 2s 3ms/step - loss: 1.4037 - accuracy: 0.6015\n",
            "82/82 [==============================] - 0s 3ms/step - loss: 1.0143 - accuracy: 0.6984\n",
            "325/325 [==============================] - 2s 3ms/step - loss: 1.4025 - accuracy: 0.6049\n",
            "82/82 [==============================] - 0s 3ms/step - loss: 1.0089 - accuracy: 0.7082\n",
            "325/325 [==============================] - 1s 3ms/step - loss: 2.9365 - accuracy: 0.2492\n",
            "82/82 [==============================] - 0s 3ms/step - loss: 2.1053 - accuracy: 0.5416\n",
            "325/325 [==============================] - 1s 3ms/step - loss: 2.9539 - accuracy: 0.2416\n",
            "82/82 [==============================] - 1s 3ms/step - loss: 2.1072 - accuracy: 0.5465\n",
            "325/325 [==============================] - 1s 3ms/step - loss: 2.8924 - accuracy: 0.2698\n",
            "82/82 [==============================] - 0s 3ms/step - loss: 2.1055 - accuracy: 0.5346\n",
            "325/325 [==============================] - 1s 3ms/step - loss: 2.9279 - accuracy: 0.2540\n",
            "82/82 [==============================] - 0s 3ms/step - loss: 2.1098 - accuracy: 0.5285\n",
            "325/325 [==============================] - 1s 3ms/step - loss: 2.9511 - accuracy: 0.2289\n",
            "82/82 [==============================] - 0s 3ms/step - loss: 2.1378 - accuracy: 0.5341\n",
            "325/325 [==============================] - 1s 3ms/step - loss: 1.4487 - accuracy: 0.5941\n",
            "82/82 [==============================] - 0s 3ms/step - loss: 1.0005 - accuracy: 0.7064\n",
            "325/325 [==============================] - 1s 3ms/step - loss: 1.4345 - accuracy: 0.6032\n",
            "82/82 [==============================] - 0s 3ms/step - loss: 0.9768 - accuracy: 0.7169\n",
            "325/325 [==============================] - 1s 3ms/step - loss: 1.4265 - accuracy: 0.6023\n",
            "82/82 [==============================] - 0s 3ms/step - loss: 1.0113 - accuracy: 0.7043\n",
            "325/325 [==============================] - 1s 3ms/step - loss: 1.4508 - accuracy: 0.5972\n",
            "82/82 [==============================] - 0s 3ms/step - loss: 0.9970 - accuracy: 0.7080\n",
            "325/325 [==============================] - 1s 3ms/step - loss: 1.4381 - accuracy: 0.6022\n",
            "82/82 [==============================] - 0s 3ms/step - loss: 1.0087 - accuracy: 0.7074\n",
            "325/325 [==============================] - 2s 3ms/step - loss: 3.5473 - accuracy: 0.0399\n",
            "82/82 [==============================] - 0s 3ms/step - loss: 3.4031 - accuracy: 0.0444\n",
            "325/325 [==============================] - 1s 3ms/step - loss: 3.5164 - accuracy: 0.0386\n",
            "82/82 [==============================] - 0s 3ms/step - loss: 3.3772 - accuracy: 0.0432\n",
            "325/325 [==============================] - 1s 3ms/step - loss: 3.6124 - accuracy: 0.0242\n",
            "82/82 [==============================] - 0s 3ms/step - loss: 3.4530 - accuracy: 0.0281\n",
            "325/325 [==============================] - 1s 3ms/step - loss: 3.5313 - accuracy: 0.0048\n",
            "82/82 [==============================] - 0s 3ms/step - loss: 3.3896 - accuracy: 0.0112\n",
            "325/325 [==============================] - 1s 3ms/step - loss: 3.4067 - accuracy: 0.0367\n",
            "82/82 [==============================] - 0s 3ms/step - loss: 3.2798 - accuracy: 0.0443\n",
            "325/325 [==============================] - 1s 3ms/step - loss: 3.2363 - accuracy: 0.1246\n",
            "82/82 [==============================] - 0s 3ms/step - loss: 2.7660 - accuracy: 0.3724\n",
            "325/325 [==============================] - 1s 3ms/step - loss: 3.1465 - accuracy: 0.1431\n",
            "82/82 [==============================] - 0s 3ms/step - loss: 2.7375 - accuracy: 0.3661\n",
            "325/325 [==============================] - 1s 3ms/step - loss: 3.2479 - accuracy: 0.0952\n",
            "82/82 [==============================] - 0s 3ms/step - loss: 2.8003 - accuracy: 0.3453\n",
            "325/325 [==============================] - 1s 3ms/step - loss: 3.2428 - accuracy: 0.1129\n",
            "82/82 [==============================] - 0s 3ms/step - loss: 2.7983 - accuracy: 0.3568\n",
            "325/325 [==============================] - 2s 3ms/step - loss: 3.2223 - accuracy: 0.1217\n",
            "82/82 [==============================] - 0s 3ms/step - loss: 2.7745 - accuracy: 0.3620\n",
            "325/325 [==============================] - 2s 3ms/step - loss: 1.4087 - accuracy: 0.6042\n",
            "82/82 [==============================] - 0s 3ms/step - loss: 1.0088 - accuracy: 0.7044\n",
            "325/325 [==============================] - 2s 3ms/step - loss: 1.4102 - accuracy: 0.6027\n",
            "82/82 [==============================] - 0s 3ms/step - loss: 0.9730 - accuracy: 0.7175\n",
            "325/325 [==============================] - 2s 3ms/step - loss: 1.3972 - accuracy: 0.6062\n",
            "82/82 [==============================] - 0s 3ms/step - loss: 1.0358 - accuracy: 0.6920\n",
            "325/325 [==============================] - 2s 3ms/step - loss: 1.3917 - accuracy: 0.6040\n",
            "82/82 [==============================] - 0s 3ms/step - loss: 1.0049 - accuracy: 0.7081\n",
            "325/325 [==============================] - 2s 3ms/step - loss: 1.4019 - accuracy: 0.6039\n",
            "82/82 [==============================] - 0s 3ms/step - loss: 1.0028 - accuracy: 0.7113\n",
            "325/325 [==============================] - 1s 3ms/step - loss: 2.9090 - accuracy: 0.2669\n",
            "82/82 [==============================] - 0s 3ms/step - loss: 2.1015 - accuracy: 0.5392\n",
            "325/325 [==============================] - 1s 3ms/step - loss: 2.8973 - accuracy: 0.2614\n",
            "82/82 [==============================] - 0s 3ms/step - loss: 2.0923 - accuracy: 0.5494\n",
            "325/325 [==============================] - 2s 3ms/step - loss: 2.9020 - accuracy: 0.2535\n",
            "82/82 [==============================] - 0s 3ms/step - loss: 2.1025 - accuracy: 0.5375\n",
            "325/325 [==============================] - 1s 3ms/step - loss: 2.9354 - accuracy: 0.2382\n",
            "82/82 [==============================] - 0s 3ms/step - loss: 2.1196 - accuracy: 0.5340\n",
            "325/325 [==============================] - 1s 3ms/step - loss: 2.9506 - accuracy: 0.2391\n",
            "82/82 [==============================] - 0s 3ms/step - loss: 2.1337 - accuracy: 0.5451\n",
            "325/325 [==============================] - 1s 3ms/step - loss: 1.4275 - accuracy: 0.6051\n",
            "82/82 [==============================] - 0s 3ms/step - loss: 0.9929 - accuracy: 0.7096\n",
            "325/325 [==============================] - 1s 3ms/step - loss: 1.4346 - accuracy: 0.5970\n",
            "82/82 [==============================] - 0s 3ms/step - loss: 0.9832 - accuracy: 0.7108\n",
            "325/325 [==============================] - 1s 3ms/step - loss: 1.4306 - accuracy: 0.6021\n",
            "82/82 [==============================] - 0s 3ms/step - loss: 1.0064 - accuracy: 0.7063\n",
            "325/325 [==============================] - 1s 3ms/step - loss: 1.4353 - accuracy: 0.6030\n",
            "82/82 [==============================] - 0s 3ms/step - loss: 0.9962 - accuracy: 0.7124\n",
            "325/325 [==============================] - 1s 3ms/step - loss: 1.4414 - accuracy: 0.6001\n",
            "82/82 [==============================] - 0s 3ms/step - loss: 1.0035 - accuracy: 0.7076\n",
            "325/325 [==============================] - 1s 3ms/step - loss: 3.5785 - accuracy: 0.0422\n",
            "82/82 [==============================] - 0s 3ms/step - loss: 3.4153 - accuracy: 0.0445\n",
            "325/325 [==============================] - 1s 3ms/step - loss: 3.5158 - accuracy: 0.0366\n",
            "82/82 [==============================] - 0s 3ms/step - loss: 3.3667 - accuracy: 0.0413\n",
            "325/325 [==============================] - 1s 3ms/step - loss: 3.5506 - accuracy: 0.0424\n",
            "82/82 [==============================] - 0s 3ms/step - loss: 3.4154 - accuracy: 0.0454\n",
            "325/325 [==============================] - 1s 3ms/step - loss: 3.5080 - accuracy: 0.0462\n",
            "82/82 [==============================] - 0s 3ms/step - loss: 3.3647 - accuracy: 0.0620\n",
            "325/325 [==============================] - 1s 3ms/step - loss: 3.5361 - accuracy: 0.0366\n",
            "82/82 [==============================] - 0s 3ms/step - loss: 3.3954 - accuracy: 0.0473\n",
            "325/325 [==============================] - 1s 3ms/step - loss: 3.2035 - accuracy: 0.1095\n",
            "82/82 [==============================] - 0s 3ms/step - loss: 2.7595 - accuracy: 0.3522\n",
            "325/325 [==============================] - 1s 3ms/step - loss: 3.1675 - accuracy: 0.1175\n",
            "82/82 [==============================] - 0s 3ms/step - loss: 2.7558 - accuracy: 0.3623\n",
            "325/325 [==============================] - 1s 3ms/step - loss: 3.2415 - accuracy: 0.1051\n",
            "82/82 [==============================] - 0s 3ms/step - loss: 2.7764 - accuracy: 0.3596\n",
            "325/325 [==============================] - 1s 3ms/step - loss: 3.2028 - accuracy: 0.1176\n",
            "82/82 [==============================] - 0s 3ms/step - loss: 2.7651 - accuracy: 0.3580\n",
            "325/325 [==============================] - 1s 3ms/step - loss: 3.2462 - accuracy: 0.1000\n",
            "82/82 [==============================] - 1s 3ms/step - loss: 2.8153 - accuracy: 0.3459\n",
            "163/163 [==============================] - 1s 5ms/step - loss: 1.0856 - accuracy: 0.6898\n",
            "41/41 [==============================] - 0s 3ms/step - loss: 0.5550 - accuracy: 0.8332\n",
            "163/163 [==============================] - 1s 5ms/step - loss: 1.0836 - accuracy: 0.6912\n",
            "41/41 [==============================] - 0s 4ms/step - loss: 0.5630 - accuracy: 0.8279\n",
            "163/163 [==============================] - 1s 5ms/step - loss: 1.0658 - accuracy: 0.6993\n",
            "41/41 [==============================] - 0s 3ms/step - loss: 0.5742 - accuracy: 0.8259\n",
            "163/163 [==============================] - 1s 5ms/step - loss: 1.0851 - accuracy: 0.6916\n",
            "41/41 [==============================] - 0s 3ms/step - loss: 0.5336 - accuracy: 0.8352\n",
            "163/163 [==============================] - 1s 5ms/step - loss: 1.0778 - accuracy: 0.6932\n",
            "41/41 [==============================] - 0s 3ms/step - loss: 0.5737 - accuracy: 0.8291\n",
            "163/163 [==============================] - 1s 4ms/step - loss: 2.6218 - accuracy: 0.3049\n",
            "41/41 [==============================] - 0s 4ms/step - loss: 1.5076 - accuracy: 0.6062\n",
            "163/163 [==============================] - 1s 4ms/step - loss: 2.6869 - accuracy: 0.2883\n",
            "41/41 [==============================] - 0s 3ms/step - loss: 1.5177 - accuracy: 0.6040\n",
            "163/163 [==============================] - 1s 4ms/step - loss: 2.6142 - accuracy: 0.3043\n",
            "41/41 [==============================] - 0s 4ms/step - loss: 1.5190 - accuracy: 0.6047\n",
            "163/163 [==============================] - 1s 4ms/step - loss: 2.6194 - accuracy: 0.3004\n",
            "41/41 [==============================] - 0s 4ms/step - loss: 1.5081 - accuracy: 0.6062\n",
            "163/163 [==============================] - 1s 4ms/step - loss: 2.6459 - accuracy: 0.2995\n",
            "41/41 [==============================] - 0s 4ms/step - loss: 1.5119 - accuracy: 0.6079\n",
            "163/163 [==============================] - 1s 5ms/step - loss: 1.1808 - accuracy: 0.6689\n",
            "41/41 [==============================] - 0s 4ms/step - loss: 0.5636 - accuracy: 0.8375\n",
            "163/163 [==============================] - 1s 4ms/step - loss: 1.1805 - accuracy: 0.6643\n",
            "41/41 [==============================] - 0s 4ms/step - loss: 0.5476 - accuracy: 0.8377\n",
            "163/163 [==============================] - 1s 4ms/step - loss: 1.1701 - accuracy: 0.6684\n",
            "41/41 [==============================] - 0s 4ms/step - loss: 0.5653 - accuracy: 0.8291\n",
            "163/163 [==============================] - 1s 4ms/step - loss: 1.1703 - accuracy: 0.6690\n",
            "41/41 [==============================] - 0s 4ms/step - loss: 0.5523 - accuracy: 0.8301\n",
            "163/163 [==============================] - 1s 5ms/step - loss: 1.1840 - accuracy: 0.6646\n",
            "41/41 [==============================] - 0s 4ms/step - loss: 0.5633 - accuracy: 0.8357\n",
            "163/163 [==============================] - 1s 5ms/step - loss: 3.6846 - accuracy: 0.0388\n",
            "41/41 [==============================] - 0s 3ms/step - loss: 3.5102 - accuracy: 0.0503\n",
            "163/163 [==============================] - 1s 4ms/step - loss: 3.6544 - accuracy: 0.0424\n",
            "41/41 [==============================] - 0s 4ms/step - loss: 3.4890 - accuracy: 0.0572\n",
            "163/163 [==============================] - 1s 4ms/step - loss: 3.7178 - accuracy: 0.0470\n",
            "41/41 [==============================] - 0s 3ms/step - loss: 3.5407 - accuracy: 0.0587\n",
            "163/163 [==============================] - 1s 5ms/step - loss: 3.6824 - accuracy: 0.0309\n",
            "41/41 [==============================] - 0s 4ms/step - loss: 3.5038 - accuracy: 0.0412\n",
            "163/163 [==============================] - 1s 4ms/step - loss: 3.5606 - accuracy: 0.0542\n",
            "41/41 [==============================] - 0s 3ms/step - loss: 3.4054 - accuracy: 0.0690\n",
            "163/163 [==============================] - 1s 5ms/step - loss: 3.1866 - accuracy: 0.1352\n",
            "41/41 [==============================] - 0s 4ms/step - loss: 2.2547 - accuracy: 0.4222\n",
            "163/163 [==============================] - 1s 4ms/step - loss: 3.1859 - accuracy: 0.1463\n",
            "41/41 [==============================] - 0s 3ms/step - loss: 2.2443 - accuracy: 0.4365\n",
            "163/163 [==============================] - 1s 4ms/step - loss: 3.2218 - accuracy: 0.1473\n",
            "41/41 [==============================] - 0s 3ms/step - loss: 2.2753 - accuracy: 0.4227\n",
            "163/163 [==============================] - 1s 4ms/step - loss: 3.2277 - accuracy: 0.1271\n",
            "41/41 [==============================] - 0s 4ms/step - loss: 2.3150 - accuracy: 0.4039\n",
            "163/163 [==============================] - 1s 5ms/step - loss: 3.1345 - accuracy: 0.1480\n",
            "41/41 [==============================] - 0s 4ms/step - loss: 2.2598 - accuracy: 0.4246\n",
            "163/163 [==============================] - 2s 5ms/step - loss: 1.0861 - accuracy: 0.6896\n",
            "41/41 [==============================] - 0s 3ms/step - loss: 0.5961 - accuracy: 0.8202\n",
            "163/163 [==============================] - 1s 5ms/step - loss: 1.0925 - accuracy: 0.6896\n",
            "41/41 [==============================] - 0s 4ms/step - loss: 0.5501 - accuracy: 0.8335\n",
            "163/163 [==============================] - 1s 5ms/step - loss: 1.0722 - accuracy: 0.6951\n",
            "41/41 [==============================] - 0s 4ms/step - loss: 0.5690 - accuracy: 0.8266\n",
            "163/163 [==============================] - 1s 5ms/step - loss: 1.1080 - accuracy: 0.6888\n",
            "41/41 [==============================] - 0s 4ms/step - loss: 0.5564 - accuracy: 0.8291\n",
            "163/163 [==============================] - 1s 5ms/step - loss: 1.0873 - accuracy: 0.6903\n",
            "41/41 [==============================] - 0s 4ms/step - loss: 0.5685 - accuracy: 0.8311\n",
            "163/163 [==============================] - 1s 4ms/step - loss: 2.6608 - accuracy: 0.2885\n",
            "41/41 [==============================] - 0s 4ms/step - loss: 1.5042 - accuracy: 0.6062\n",
            "163/163 [==============================] - 1s 5ms/step - loss: 2.6441 - accuracy: 0.2914\n",
            "41/41 [==============================] - 0s 4ms/step - loss: 1.5016 - accuracy: 0.6099\n",
            "163/163 [==============================] - 1s 4ms/step - loss: 2.6100 - accuracy: 0.3068\n",
            "41/41 [==============================] - 0s 4ms/step - loss: 1.5253 - accuracy: 0.6025\n",
            "163/163 [==============================] - 1s 4ms/step - loss: 2.6082 - accuracy: 0.3011\n",
            "41/41 [==============================] - 1s 3ms/step - loss: 1.5146 - accuracy: 0.6012\n",
            "163/163 [==============================] - 1s 4ms/step - loss: 2.6372 - accuracy: 0.2981\n",
            "41/41 [==============================] - 0s 4ms/step - loss: 1.5348 - accuracy: 0.6006\n",
            "163/163 [==============================] - 1s 5ms/step - loss: 1.1710 - accuracy: 0.6660\n",
            "41/41 [==============================] - 0s 4ms/step - loss: 0.5551 - accuracy: 0.8362\n",
            "163/163 [==============================] - 1s 5ms/step - loss: 1.1783 - accuracy: 0.6696\n",
            "41/41 [==============================] - 0s 4ms/step - loss: 0.5503 - accuracy: 0.8328\n",
            "163/163 [==============================] - 1s 5ms/step - loss: 1.1418 - accuracy: 0.6762\n",
            "41/41 [==============================] - 0s 4ms/step - loss: 0.5732 - accuracy: 0.8314\n",
            "163/163 [==============================] - 1s 5ms/step - loss: 1.1622 - accuracy: 0.6723\n",
            "41/41 [==============================] - 0s 4ms/step - loss: 0.5529 - accuracy: 0.8349\n",
            "163/163 [==============================] - 1s 5ms/step - loss: 1.1690 - accuracy: 0.6705\n",
            "41/41 [==============================] - 0s 4ms/step - loss: 0.5576 - accuracy: 0.8340\n",
            "163/163 [==============================] - 1s 5ms/step - loss: 3.5322 - accuracy: 0.0548\n",
            "41/41 [==============================] - 0s 4ms/step - loss: 3.3551 - accuracy: 0.0751\n",
            "163/163 [==============================] - 1s 5ms/step - loss: 3.6374 - accuracy: 0.0381\n",
            "41/41 [==============================] - 0s 4ms/step - loss: 3.4659 - accuracy: 0.0547\n",
            "163/163 [==============================] - 1s 5ms/step - loss: 3.5470 - accuracy: 0.0562\n",
            "41/41 [==============================] - 0s 4ms/step - loss: 3.4009 - accuracy: 0.0721\n",
            "163/163 [==============================] - 1s 4ms/step - loss: 3.6243 - accuracy: 0.0413\n",
            "41/41 [==============================] - 0s 4ms/step - loss: 3.4496 - accuracy: 0.0605\n",
            "163/163 [==============================] - 1s 4ms/step - loss: 3.6374 - accuracy: 0.0402\n",
            "41/41 [==============================] - 0s 3ms/step - loss: 3.4681 - accuracy: 0.0518\n",
            "163/163 [==============================] - 1s 4ms/step - loss: 3.1825 - accuracy: 0.1403\n",
            "41/41 [==============================] - 0s 4ms/step - loss: 2.2577 - accuracy: 0.4225\n",
            "163/163 [==============================] - 1s 4ms/step - loss: 3.2350 - accuracy: 0.1350\n",
            "41/41 [==============================] - 0s 4ms/step - loss: 2.2808 - accuracy: 0.4198\n",
            "163/163 [==============================] - 1s 4ms/step - loss: 3.2597 - accuracy: 0.1245\n",
            "41/41 [==============================] - 0s 4ms/step - loss: 2.2913 - accuracy: 0.4214\n",
            "163/163 [==============================] - 1s 4ms/step - loss: 3.1752 - accuracy: 0.1282\n",
            "41/41 [==============================] - 0s 4ms/step - loss: 2.2685 - accuracy: 0.4156\n",
            "163/163 [==============================] - 1s 5ms/step - loss: 3.1800 - accuracy: 0.1281\n",
            "41/41 [==============================] - 0s 4ms/step - loss: 2.2715 - accuracy: 0.4140\n",
            "163/163 [==============================] - 1s 5ms/step - loss: 1.2686 - accuracy: 0.6364\n",
            "41/41 [==============================] - 0s 4ms/step - loss: 0.7883 - accuracy: 0.7710\n",
            "163/163 [==============================] - 2s 5ms/step - loss: 1.2585 - accuracy: 0.6399\n",
            "41/41 [==============================] - 0s 3ms/step - loss: 0.7968 - accuracy: 0.7645\n",
            "163/163 [==============================] - 1s 5ms/step - loss: 1.2624 - accuracy: 0.6379\n",
            "41/41 [==============================] - 0s 4ms/step - loss: 0.7996 - accuracy: 0.7629\n",
            "163/163 [==============================] - 1s 5ms/step - loss: 1.2652 - accuracy: 0.6367\n",
            "41/41 [==============================] - 0s 3ms/step - loss: 0.8108 - accuracy: 0.7619\n",
            "163/163 [==============================] - 1s 5ms/step - loss: 1.2588 - accuracy: 0.6376\n",
            "41/41 [==============================] - 0s 4ms/step - loss: 0.8248 - accuracy: 0.7564\n",
            "163/163 [==============================] - 1s 4ms/step - loss: 2.4289 - accuracy: 0.3356\n",
            "41/41 [==============================] - 0s 4ms/step - loss: 1.4340 - accuracy: 0.6004\n",
            "163/163 [==============================] - 1s 4ms/step - loss: 2.5071 - accuracy: 0.3172\n",
            "41/41 [==============================] - 0s 4ms/step - loss: 1.4362 - accuracy: 0.6050\n",
            "163/163 [==============================] - 1s 5ms/step - loss: 2.4521 - accuracy: 0.3272\n",
            "41/41 [==============================] - 0s 4ms/step - loss: 1.4581 - accuracy: 0.5957\n",
            "163/163 [==============================] - 1s 4ms/step - loss: 2.4417 - accuracy: 0.3322\n",
            "41/41 [==============================] - 0s 4ms/step - loss: 1.4376 - accuracy: 0.5999\n",
            "163/163 [==============================] - 1s 4ms/step - loss: 2.5161 - accuracy: 0.3090\n",
            "41/41 [==============================] - 0s 3ms/step - loss: 1.4527 - accuracy: 0.6024\n",
            "163/163 [==============================] - 1s 5ms/step - loss: 1.2839 - accuracy: 0.6322\n",
            "41/41 [==============================] - 0s 4ms/step - loss: 0.7893 - accuracy: 0.7703\n",
            "163/163 [==============================] - 1s 5ms/step - loss: 1.2890 - accuracy: 0.6298\n",
            "41/41 [==============================] - 0s 4ms/step - loss: 0.7924 - accuracy: 0.7704\n",
            "163/163 [==============================] - 1s 5ms/step - loss: 1.2948 - accuracy: 0.6337\n",
            "41/41 [==============================] - 0s 4ms/step - loss: 0.7977 - accuracy: 0.7720\n",
            "163/163 [==============================] - 1s 5ms/step - loss: 1.2825 - accuracy: 0.6342\n",
            "41/41 [==============================] - 0s 4ms/step - loss: 0.7937 - accuracy: 0.7722\n",
            "163/163 [==============================] - 1s 5ms/step - loss: 1.2766 - accuracy: 0.6373\n",
            "41/41 [==============================] - 0s 4ms/step - loss: 0.8012 - accuracy: 0.7713\n",
            "163/163 [==============================] - 1s 5ms/step - loss: 3.6019 - accuracy: 0.0394\n",
            "41/41 [==============================] - 0s 4ms/step - loss: 3.3986 - accuracy: 0.0648\n",
            "163/163 [==============================] - 1s 5ms/step - loss: 3.5538 - accuracy: 0.0412\n",
            "41/41 [==============================] - 0s 4ms/step - loss: 3.3750 - accuracy: 0.0650\n",
            "163/163 [==============================] - 1s 5ms/step - loss: 3.6897 - accuracy: 0.0282\n",
            "41/41 [==============================] - 0s 4ms/step - loss: 3.4827 - accuracy: 0.0446\n",
            "163/163 [==============================] - 1s 5ms/step - loss: 3.6229 - accuracy: 0.0334\n",
            "41/41 [==============================] - 0s 4ms/step - loss: 3.4268 - accuracy: 0.0563\n",
            "163/163 [==============================] - 1s 5ms/step - loss: 3.5763 - accuracy: 0.0388\n",
            "41/41 [==============================] - 0s 3ms/step - loss: 3.3843 - accuracy: 0.0615\n",
            "163/163 [==============================] - 1s 4ms/step - loss: 2.9830 - accuracy: 0.1845\n",
            "41/41 [==============================] - 0s 3ms/step - loss: 2.0046 - accuracy: 0.4675\n",
            "163/163 [==============================] - 1s 5ms/step - loss: 2.9675 - accuracy: 0.1790\n",
            "41/41 [==============================] - 0s 4ms/step - loss: 2.0191 - accuracy: 0.4668\n",
            "163/163 [==============================] - 1s 5ms/step - loss: 3.0592 - accuracy: 0.1637\n",
            "41/41 [==============================] - 0s 4ms/step - loss: 2.0674 - accuracy: 0.4522\n",
            "163/163 [==============================] - 1s 4ms/step - loss: 3.0560 - accuracy: 0.1548\n",
            "41/41 [==============================] - 0s 3ms/step - loss: 2.0666 - accuracy: 0.4473\n",
            "163/163 [==============================] - 1s 5ms/step - loss: 3.0661 - accuracy: 0.1658\n",
            "41/41 [==============================] - 0s 4ms/step - loss: 2.0659 - accuracy: 0.4466\n",
            "163/163 [==============================] - 1s 5ms/step - loss: 1.2500 - accuracy: 0.6419\n",
            "41/41 [==============================] - 0s 4ms/step - loss: 0.8228 - accuracy: 0.7519\n",
            "163/163 [==============================] - 1s 5ms/step - loss: 1.2639 - accuracy: 0.6373\n",
            "41/41 [==============================] - 1s 4ms/step - loss: 0.7815 - accuracy: 0.7670\n",
            "163/163 [==============================] - 1s 5ms/step - loss: 1.2623 - accuracy: 0.6369\n",
            "41/41 [==============================] - 0s 4ms/step - loss: 0.8307 - accuracy: 0.7593\n",
            "163/163 [==============================] - 1s 5ms/step - loss: 1.2549 - accuracy: 0.6367\n",
            "41/41 [==============================] - 0s 3ms/step - loss: 0.8129 - accuracy: 0.7611\n",
            "163/163 [==============================] - 1s 5ms/step - loss: 1.2613 - accuracy: 0.6357\n",
            "41/41 [==============================] - 0s 3ms/step - loss: 0.8169 - accuracy: 0.7637\n",
            "163/163 [==============================] - 1s 4ms/step - loss: 2.4985 - accuracy: 0.3260\n",
            "41/41 [==============================] - 0s 4ms/step - loss: 1.4439 - accuracy: 0.5963\n",
            "163/163 [==============================] - 1s 4ms/step - loss: 2.4873 - accuracy: 0.3136\n",
            "41/41 [==============================] - 0s 4ms/step - loss: 1.4399 - accuracy: 0.6040\n",
            "163/163 [==============================] - 1s 5ms/step - loss: 2.4852 - accuracy: 0.3166\n",
            "41/41 [==============================] - 0s 4ms/step - loss: 1.4652 - accuracy: 0.5932\n",
            "163/163 [==============================] - 1s 5ms/step - loss: 2.4331 - accuracy: 0.3304\n",
            "41/41 [==============================] - 0s 4ms/step - loss: 1.4372 - accuracy: 0.6036\n",
            "163/163 [==============================] - 1s 4ms/step - loss: 2.4486 - accuracy: 0.3239\n",
            "41/41 [==============================] - 0s 4ms/step - loss: 1.4533 - accuracy: 0.5973\n",
            "163/163 [==============================] - 1s 5ms/step - loss: 1.2796 - accuracy: 0.6319\n",
            "41/41 [==============================] - 0s 4ms/step - loss: 0.7794 - accuracy: 0.7786\n",
            "163/163 [==============================] - 1s 5ms/step - loss: 1.2930 - accuracy: 0.6300\n",
            "41/41 [==============================] - 0s 4ms/step - loss: 0.7799 - accuracy: 0.7755\n",
            "163/163 [==============================] - 1s 5ms/step - loss: 1.2901 - accuracy: 0.6307\n",
            "41/41 [==============================] - 0s 4ms/step - loss: 0.7972 - accuracy: 0.7706\n",
            "163/163 [==============================] - 1s 5ms/step - loss: 1.2908 - accuracy: 0.6286\n",
            "41/41 [==============================] - 0s 4ms/step - loss: 0.8042 - accuracy: 0.7693\n",
            "163/163 [==============================] - 1s 5ms/step - loss: 1.2901 - accuracy: 0.6345\n",
            "41/41 [==============================] - 0s 4ms/step - loss: 0.7975 - accuracy: 0.7725\n",
            "163/163 [==============================] - 1s 5ms/step - loss: 3.5550 - accuracy: 0.0396\n",
            "41/41 [==============================] - 0s 4ms/step - loss: 3.3859 - accuracy: 0.0606\n",
            "163/163 [==============================] - 1s 4ms/step - loss: 3.5846 - accuracy: 0.0431\n",
            "41/41 [==============================] - 0s 4ms/step - loss: 3.3959 - accuracy: 0.0684\n",
            "163/163 [==============================] - 1s 5ms/step - loss: 3.4847 - accuracy: 0.0537\n",
            "41/41 [==============================] - 0s 3ms/step - loss: 3.2986 - accuracy: 0.0820\n",
            "163/163 [==============================] - 1s 5ms/step - loss: 3.5277 - accuracy: 0.0423\n",
            "41/41 [==============================] - 0s 4ms/step - loss: 3.3409 - accuracy: 0.0654\n",
            "163/163 [==============================] - 1s 5ms/step - loss: 3.6034 - accuracy: 0.0425\n",
            "41/41 [==============================] - 0s 4ms/step - loss: 3.4265 - accuracy: 0.0573\n",
            "163/163 [==============================] - 1s 5ms/step - loss: 3.0849 - accuracy: 0.1573\n",
            "41/41 [==============================] - 0s 4ms/step - loss: 2.0675 - accuracy: 0.4499\n",
            "163/163 [==============================] - 1s 5ms/step - loss: 3.0468 - accuracy: 0.1559\n",
            "41/41 [==============================] - 0s 4ms/step - loss: 2.0437 - accuracy: 0.4566\n",
            "163/163 [==============================] - 1s 5ms/step - loss: 3.1097 - accuracy: 0.1595\n",
            "41/41 [==============================] - 0s 4ms/step - loss: 2.0876 - accuracy: 0.4493\n",
            "163/163 [==============================] - 1s 4ms/step - loss: 3.1065 - accuracy: 0.1509\n",
            "41/41 [==============================] - 0s 4ms/step - loss: 2.0496 - accuracy: 0.4563\n",
            "163/163 [==============================] - 1s 5ms/step - loss: 3.0087 - accuracy: 0.1700\n",
            "41/41 [==============================] - 0s 4ms/step - loss: 2.0440 - accuracy: 0.4511\n",
            "163/163 [==============================] - 1s 5ms/step - loss: 1.5054 - accuracy: 0.5828\n",
            "41/41 [==============================] - 0s 4ms/step - loss: 1.0303 - accuracy: 0.6957\n",
            "163/163 [==============================] - 1s 5ms/step - loss: 1.5131 - accuracy: 0.5809\n",
            "41/41 [==============================] - 0s 4ms/step - loss: 1.0299 - accuracy: 0.6961\n",
            "163/163 [==============================] - 2s 5ms/step - loss: 1.5017 - accuracy: 0.5836\n",
            "41/41 [==============================] - 0s 4ms/step - loss: 1.0774 - accuracy: 0.6840\n",
            "163/163 [==============================] - 1s 5ms/step - loss: 1.5174 - accuracy: 0.5809\n",
            "41/41 [==============================] - 0s 4ms/step - loss: 1.0400 - accuracy: 0.6923\n",
            "163/163 [==============================] - 1s 5ms/step - loss: 1.5065 - accuracy: 0.5820\n",
            "41/41 [==============================] - 0s 4ms/step - loss: 1.0558 - accuracy: 0.6948\n",
            "163/163 [==============================] - 1s 4ms/step - loss: 3.0859 - accuracy: 0.1820\n",
            "41/41 [==============================] - 0s 4ms/step - loss: 2.5212 - accuracy: 0.4535\n",
            "163/163 [==============================] - 1s 5ms/step - loss: 3.0801 - accuracy: 0.1849\n",
            "41/41 [==============================] - 0s 4ms/step - loss: 2.5140 - accuracy: 0.4712\n",
            "163/163 [==============================] - 1s 5ms/step - loss: 3.1406 - accuracy: 0.1640\n",
            "41/41 [==============================] - 0s 4ms/step - loss: 2.5425 - accuracy: 0.4451\n",
            "163/163 [==============================] - 1s 4ms/step - loss: 3.0851 - accuracy: 0.1669\n",
            "41/41 [==============================] - 0s 4ms/step - loss: 2.5382 - accuracy: 0.4438\n",
            "163/163 [==============================] - 1s 5ms/step - loss: 3.1103 - accuracy: 0.1663\n",
            "41/41 [==============================] - 0s 4ms/step - loss: 2.5510 - accuracy: 0.4367\n",
            "163/163 [==============================] - 1s 5ms/step - loss: 1.5764 - accuracy: 0.5697\n",
            "41/41 [==============================] - 0s 4ms/step - loss: 1.0150 - accuracy: 0.7073\n",
            "163/163 [==============================] - 1s 5ms/step - loss: 1.5624 - accuracy: 0.5741\n",
            "41/41 [==============================] - 0s 4ms/step - loss: 1.0020 - accuracy: 0.7098\n",
            "163/163 [==============================] - 1s 5ms/step - loss: 1.5664 - accuracy: 0.5724\n",
            "41/41 [==============================] - 0s 3ms/step - loss: 1.0304 - accuracy: 0.6971\n",
            "163/163 [==============================] - 1s 5ms/step - loss: 1.5851 - accuracy: 0.5691\n",
            "41/41 [==============================] - 0s 4ms/step - loss: 1.0136 - accuracy: 0.7102\n",
            "163/163 [==============================] - 1s 5ms/step - loss: 1.5629 - accuracy: 0.5727\n",
            "41/41 [==============================] - 0s 4ms/step - loss: 1.0289 - accuracy: 0.7007\n",
            "163/163 [==============================] - 1s 5ms/step - loss: 3.5208 - accuracy: 0.0383\n",
            "41/41 [==============================] - 0s 4ms/step - loss: 3.4413 - accuracy: 0.0427\n",
            "163/163 [==============================] - 1s 5ms/step - loss: 3.6038 - accuracy: 0.0310\n",
            "41/41 [==============================] - 0s 4ms/step - loss: 3.5209 - accuracy: 0.0349\n",
            "163/163 [==============================] - 1s 5ms/step - loss: 3.6610 - accuracy: 0.0434\n",
            "41/41 [==============================] - 0s 4ms/step - loss: 3.5732 - accuracy: 0.0451\n",
            "163/163 [==============================] - 1s 5ms/step - loss: 3.5203 - accuracy: 0.0307\n",
            "41/41 [==============================] - 0s 4ms/step - loss: 3.4401 - accuracy: 0.0320\n",
            "163/163 [==============================] - 1s 5ms/step - loss: 3.4912 - accuracy: 0.0322\n",
            "41/41 [==============================] - 0s 4ms/step - loss: 3.4173 - accuracy: 0.0391\n",
            "163/163 [==============================] - 1s 5ms/step - loss: 3.2926 - accuracy: 0.0870\n",
            "41/41 [==============================] - 0s 4ms/step - loss: 3.0014 - accuracy: 0.2340\n",
            "163/163 [==============================] - 1s 5ms/step - loss: 3.3210 - accuracy: 0.0866\n",
            "41/41 [==============================] - 0s 3ms/step - loss: 3.0106 - accuracy: 0.2268\n",
            "163/163 [==============================] - 1s 5ms/step - loss: 3.2805 - accuracy: 0.0658\n",
            "41/41 [==============================] - 0s 4ms/step - loss: 3.0012 - accuracy: 0.2363\n",
            "163/163 [==============================] - 1s 5ms/step - loss: 3.3425 - accuracy: 0.0596\n",
            "41/41 [==============================] - 0s 4ms/step - loss: 3.0174 - accuracy: 0.2206\n",
            "163/163 [==============================] - 1s 5ms/step - loss: 3.3399 - accuracy: 0.0614\n",
            "41/41 [==============================] - 0s 4ms/step - loss: 3.0226 - accuracy: 0.2257\n",
            "163/163 [==============================] - 1s 5ms/step - loss: 1.5030 - accuracy: 0.5864\n",
            "41/41 [==============================] - 0s 4ms/step - loss: 1.0563 - accuracy: 0.6888\n",
            "163/163 [==============================] - 1s 5ms/step - loss: 1.5047 - accuracy: 0.5816\n",
            "41/41 [==============================] - 0s 4ms/step - loss: 1.1204 - accuracy: 0.6625\n",
            "163/163 [==============================] - 1s 5ms/step - loss: 1.5174 - accuracy: 0.5812\n",
            "41/41 [==============================] - 0s 4ms/step - loss: 1.0773 - accuracy: 0.6824\n",
            "163/163 [==============================] - 2s 5ms/step - loss: 1.5157 - accuracy: 0.5815\n",
            "41/41 [==============================] - 0s 4ms/step - loss: 1.0298 - accuracy: 0.7002\n",
            "163/163 [==============================] - 1s 5ms/step - loss: 1.5027 - accuracy: 0.5819\n",
            "41/41 [==============================] - 0s 4ms/step - loss: 1.0602 - accuracy: 0.6851\n",
            "163/163 [==============================] - 1s 4ms/step - loss: 3.1120 - accuracy: 0.1598\n",
            "41/41 [==============================] - 0s 4ms/step - loss: 2.5445 - accuracy: 0.4498\n",
            "163/163 [==============================] - 1s 5ms/step - loss: 3.1027 - accuracy: 0.1713\n",
            "41/41 [==============================] - 0s 4ms/step - loss: 2.5115 - accuracy: 0.4683\n",
            "163/163 [==============================] - 1s 5ms/step - loss: 3.1142 - accuracy: 0.1742\n",
            "41/41 [==============================] - 0s 4ms/step - loss: 2.5340 - accuracy: 0.4746\n",
            "163/163 [==============================] - 1s 4ms/step - loss: 3.1462 - accuracy: 0.1544\n",
            "41/41 [==============================] - 0s 4ms/step - loss: 2.5583 - accuracy: 0.4678\n",
            "163/163 [==============================] - 1s 5ms/step - loss: 3.1195 - accuracy: 0.1691\n",
            "41/41 [==============================] - 0s 4ms/step - loss: 2.5496 - accuracy: 0.4384\n",
            "163/163 [==============================] - 1s 5ms/step - loss: 1.5877 - accuracy: 0.5651\n",
            "41/41 [==============================] - 0s 4ms/step - loss: 1.0122 - accuracy: 0.7078\n",
            "163/163 [==============================] - 1s 5ms/step - loss: 1.5764 - accuracy: 0.5719\n",
            "41/41 [==============================] - 0s 4ms/step - loss: 1.0035 - accuracy: 0.7056\n",
            "163/163 [==============================] - 1s 5ms/step - loss: 1.5675 - accuracy: 0.5757\n",
            "41/41 [==============================] - 0s 4ms/step - loss: 1.0356 - accuracy: 0.6937\n",
            "163/163 [==============================] - 1s 5ms/step - loss: 1.5645 - accuracy: 0.5759\n",
            "41/41 [==============================] - 0s 4ms/step - loss: 1.0059 - accuracy: 0.7128\n",
            "163/163 [==============================] - 1s 5ms/step - loss: 1.5936 - accuracy: 0.5630\n",
            "41/41 [==============================] - 0s 4ms/step - loss: 1.0315 - accuracy: 0.7014\n",
            "163/163 [==============================] - 1s 5ms/step - loss: 3.4609 - accuracy: 0.0397\n",
            "41/41 [==============================] - 0s 4ms/step - loss: 3.3827 - accuracy: 0.0474\n",
            "163/163 [==============================] - 1s 5ms/step - loss: 3.5718 - accuracy: 0.0415\n",
            "41/41 [==============================] - 0s 4ms/step - loss: 3.4878 - accuracy: 0.0483\n",
            "163/163 [==============================] - 1s 5ms/step - loss: 3.5658 - accuracy: 0.0400\n",
            "41/41 [==============================] - 0s 4ms/step - loss: 3.4798 - accuracy: 0.0429\n",
            "163/163 [==============================] - 1s 5ms/step - loss: 3.4724 - accuracy: 0.0330\n",
            "41/41 [==============================] - 0s 4ms/step - loss: 3.4049 - accuracy: 0.0371\n",
            "163/163 [==============================] - 1s 5ms/step - loss: 3.4534 - accuracy: 0.0515\n",
            "41/41 [==============================] - 0s 4ms/step - loss: 3.3843 - accuracy: 0.0582\n",
            "163/163 [==============================] - 1s 5ms/step - loss: 3.2613 - accuracy: 0.0928\n",
            "41/41 [==============================] - 0s 4ms/step - loss: 2.9702 - accuracy: 0.2594\n",
            "163/163 [==============================] - 1s 5ms/step - loss: 3.2956 - accuracy: 0.0787\n",
            "41/41 [==============================] - 0s 4ms/step - loss: 3.0089 - accuracy: 0.2186\n",
            "163/163 [==============================] - 1s 4ms/step - loss: 3.3390 - accuracy: 0.0729\n",
            "41/41 [==============================] - 0s 4ms/step - loss: 3.0192 - accuracy: 0.2030\n",
            "163/163 [==============================] - 1s 5ms/step - loss: 3.3151 - accuracy: 0.0683\n",
            "41/41 [==============================] - 0s 4ms/step - loss: 3.0220 - accuracy: 0.2118\n",
            "163/163 [==============================] - 1s 5ms/step - loss: 3.3090 - accuracy: 0.0640\n",
            "41/41 [==============================] - 0s 4ms/step - loss: 3.0282 - accuracy: 0.2084\n"
          ],
          "name": "stdout"
        },
        {
          "output_type": "stream",
          "text": [
            "[Parallel(n_jobs=1)]: Done 450 out of 450 | elapsed: 17.1min finished\n"
          ],
          "name": "stderr"
        },
        {
          "output_type": "stream",
          "text": [
            "813/813 [==============================] - 3s 3ms/step - loss: 0.8941 - accuracy: 0.7384\n",
            "Best accuracy: 0.8546826958656311 using {'batch_size': 128, 'func_name': 'relu', 'kernel_initializer': 'glorot_normal', 'optimizer': 'rmsprop'}\n"
          ],
          "name": "stdout"
        }
      ]
    },
    {
      "cell_type": "code",
      "metadata": {
        "colab": {
          "base_uri": "https://localhost:8080/"
        },
        "id": "5OBSOVkBjV2n",
        "outputId": "08205e8a-76de-4aac-f3a0-17356f8fd665"
      },
      "source": [
        "print(f'Best accuracy: {grid_res.best_score_} using {grid_res.best_params_}')"
      ],
      "execution_count": null,
      "outputs": [
        {
          "output_type": "stream",
          "text": [
            "Best accuracy: 0.8546826958656311 using {'batch_size': 128, 'func_name': 'relu', 'kernel_initializer': 'glorot_normal', 'optimizer': 'rmsprop'}\n"
          ],
          "name": "stdout"
        }
      ]
    },
    {
      "cell_type": "code",
      "metadata": {
        "id": "mZZ7Hw7djV2p"
      },
      "source": [
        "# define model with dropout\n",
        "def define_model_2(func_name='relu', \n",
        "                   kernel_initializer='glorot_normal', \n",
        "                   batch_size=128,\n",
        "                   epochs=100,\n",
        "                   dropout_rate=0.5,\n",
        "                   optimizer='rmsprop'):\n",
        "    # build model\n",
        "    model = models.Sequential()\n",
        "    model.add(Dense(1000,\n",
        "                    activation=func_name,\n",
        "                    kernel_initializer=kernel_initializer,\n",
        "                    use_bias=True))\n",
        "    model.add(Dense(27, activation='softmax'))\n",
        "    model.add(Dropout(dropout_rate))\n",
        "    # compile model\n",
        "    model.compile(optimizer=optimizer, loss='categorical_crossentropy', metrics=['accuracy'])\n",
        "    return model"
      ],
      "execution_count": null,
      "outputs": []
    },
    {
      "cell_type": "code",
      "metadata": {
        "colab": {
          "base_uri": "https://localhost:8080/"
        },
        "id": "SOfJfTQTjV2p",
        "outputId": "8fb2c441-a792-416d-e328-f842f38abf3d"
      },
      "source": [
        "# create params dictionary for gridsearch\n",
        "func_names = ['relu', 'tanh', 'sigmoid']\n",
        "optimizers = ['rmsprop', 'sgd', 'adam', 'adadelta', 'adagrad']\n",
        "kernel_initializers= ['glorot_uniform', 'glorot_normal']\n",
        "batch_sizes = [128, 256, 512]\n",
        "dropout_rates = [0.2, 0.5]\n",
        "parmam_grid = dict(optimizer=optimizers, \n",
        "                   func_name=func_names, \n",
        "                   batch_size=batch_sizes,\n",
        "                   dropout_rate=dropout_rates,\n",
        "                   kernel_initializer=kernel_initializers)\n",
        "print(parmam_grid)"
      ],
      "execution_count": null,
      "outputs": [
        {
          "output_type": "stream",
          "text": [
            "{'optimizer': ['rmsprop', 'sgd', 'adam', 'adadelta', 'adagrad'], 'func_name': ['relu', 'tanh', 'sigmoid'], 'batch_size': [128, 256, 512], 'dropout_rate': [0.2, 0.5], 'kernel_initializer': ['glorot_uniform', 'glorot_normal']}\n"
          ],
          "name": "stdout"
        }
      ]
    },
    {
      "cell_type": "code",
      "metadata": {
        "colab": {
          "base_uri": "https://localhost:8080/"
        },
        "id": "SC0p-3qtjV2p",
        "outputId": "77a4fda0-538b-49a5-f984-d21665b287e9"
      },
      "source": [
        "# create model\n",
        "model = KerasClassifier(build_fn=define_model_2)\n",
        "\n",
        "# perform gridsearch\n",
        "grid = GridSearchCV(estimator=model, param_grid=parmam_grid, verbose=1)\n",
        "grid_res = grid.fit(train_images, train_labels)"
      ],
      "execution_count": null,
      "outputs": [
        {
          "output_type": "stream",
          "text": [
            "Fitting 5 folds for each of 180 candidates, totalling 900 fits\n"
          ],
          "name": "stdout"
        },
        {
          "output_type": "stream",
          "text": [
            "[Parallel(n_jobs=1)]: Using backend SequentialBackend with 1 concurrent workers.\n"
          ],
          "name": "stderr"
        },
        {
          "output_type": "stream",
          "text": [
            "650/650 [==============================] - 2s 2ms/step - loss: 3.9792 - accuracy: 0.5888\n",
            "163/163 [==============================] - 0s 2ms/step - loss: 0.5964 - accuracy: 0.8341\n",
            "650/650 [==============================] - 2s 2ms/step - loss: 3.9438 - accuracy: 0.5891\n",
            "163/163 [==============================] - 0s 2ms/step - loss: 0.6268 - accuracy: 0.8225\n",
            "650/650 [==============================] - 2s 2ms/step - loss: 3.9499 - accuracy: 0.5905\n",
            "163/163 [==============================] - 0s 2ms/step - loss: 0.6183 - accuracy: 0.8255\n",
            "650/650 [==============================] - 2s 2ms/step - loss: 3.9459 - accuracy: 0.5906\n",
            "163/163 [==============================] - 0s 2ms/step - loss: 0.5767 - accuracy: 0.8339\n",
            "650/650 [==============================] - 2s 2ms/step - loss: 3.9338 - accuracy: 0.5933\n",
            "163/163 [==============================] - 0s 2ms/step - loss: 0.5882 - accuracy: 0.8340\n",
            "650/650 [==============================] - 2s 2ms/step - loss: 4.7132 - accuracy: 0.3857\n",
            "163/163 [==============================] - 0s 2ms/step - loss: 1.1079 - accuracy: 0.6905\n",
            "650/650 [==============================] - 2s 2ms/step - loss: 4.7922 - accuracy: 0.3775\n",
            "163/163 [==============================] - 0s 2ms/step - loss: 1.1065 - accuracy: 0.6888\n",
            "650/650 [==============================] - 2s 2ms/step - loss: 4.7365 - accuracy: 0.3869\n",
            "163/163 [==============================] - 0s 2ms/step - loss: 1.1199 - accuracy: 0.6844\n",
            "650/650 [==============================] - 2s 2ms/step - loss: 4.7756 - accuracy: 0.3748\n",
            "163/163 [==============================] - 0s 2ms/step - loss: 1.1098 - accuracy: 0.6859\n",
            "650/650 [==============================] - 2s 2ms/step - loss: 4.7568 - accuracy: 0.3807\n",
            "163/163 [==============================] - 0s 2ms/step - loss: 1.1264 - accuracy: 0.6834\n",
            "650/650 [==============================] - 2s 2ms/step - loss: 3.9370 - accuracy: 0.5849\n",
            "163/163 [==============================] - 0s 2ms/step - loss: 0.5892 - accuracy: 0.8270\n",
            "650/650 [==============================] - 2s 2ms/step - loss: nan - accuracy: 0.4841\n",
            "163/163 [==============================] - 0s 2ms/step - loss: nan - accuracy: 0.0000e+00\n",
            "650/650 [==============================] - 2s 2ms/step - loss: 3.9526 - accuracy: 0.5872\n",
            "163/163 [==============================] - 0s 2ms/step - loss: 0.6242 - accuracy: 0.8213\n",
            "650/650 [==============================] - 2s 2ms/step - loss: 3.9774 - accuracy: 0.5860\n",
            "163/163 [==============================] - 1s 2ms/step - loss: 0.5633 - accuracy: 0.8331\n",
            "650/650 [==============================] - 2s 2ms/step - loss: nan - accuracy: 0.5782\n",
            "163/163 [==============================] - 0s 2ms/step - loss: nan - accuracy: 0.0000e+00\n",
            "650/650 [==============================] - 2s 2ms/step - loss: 5.9316 - accuracy: 0.0305\n",
            "163/163 [==============================] - 0s 2ms/step - loss: 3.2853 - accuracy: 0.0691\n",
            "650/650 [==============================] - 2s 2ms/step - loss: 5.8536 - accuracy: 0.0517\n",
            "163/163 [==============================] - 0s 2ms/step - loss: 3.1889 - accuracy: 0.1178\n",
            "650/650 [==============================] - 2s 2ms/step - loss: 5.8576 - accuracy: 0.0508\n",
            "163/163 [==============================] - 0s 2ms/step - loss: 3.2264 - accuracy: 0.1044\n",
            "650/650 [==============================] - 2s 2ms/step - loss: 5.9124 - accuracy: 0.0392\n",
            "163/163 [==============================] - 0s 2ms/step - loss: 3.1915 - accuracy: 0.1044\n",
            "650/650 [==============================] - 2s 2ms/step - loss: 5.8442 - accuracy: 0.0563\n",
            "163/163 [==============================] - 0s 2ms/step - loss: 3.1524 - accuracy: 0.1187\n",
            "650/650 [==============================] - 2s 2ms/step - loss: 5.2279 - accuracy: 0.2354\n",
            "163/163 [==============================] - 0s 2ms/step - loss: 1.6211 - accuracy: 0.5782\n",
            "650/650 [==============================] - 2s 2ms/step - loss: 5.1994 - accuracy: 0.2368\n",
            "163/163 [==============================] - 0s 2ms/step - loss: 1.6058 - accuracy: 0.5888\n",
            "650/650 [==============================] - 2s 2ms/step - loss: 5.2325 - accuracy: 0.2281\n",
            "163/163 [==============================] - 0s 2ms/step - loss: 1.6620 - accuracy: 0.5641\n",
            "650/650 [==============================] - 2s 2ms/step - loss: 5.1698 - accuracy: 0.2534\n",
            "163/163 [==============================] - 0s 2ms/step - loss: 1.5960 - accuracy: 0.5873\n",
            "650/650 [==============================] - 2s 2ms/step - loss: 5.1950 - accuracy: 0.2405\n",
            "163/163 [==============================] - 0s 2ms/step - loss: 1.6280 - accuracy: 0.5836\n",
            "650/650 [==============================] - 2s 2ms/step - loss: nan - accuracy: 0.5879\n",
            "163/163 [==============================] - 0s 2ms/step - loss: nan - accuracy: 0.0000e+00\n",
            "650/650 [==============================] - 2s 2ms/step - loss: 3.9171 - accuracy: 0.5939\n",
            "163/163 [==============================] - 0s 2ms/step - loss: 0.6129 - accuracy: 0.8267\n",
            "650/650 [==============================] - 2s 2ms/step - loss: 3.8799 - accuracy: 0.5908\n",
            "163/163 [==============================] - 0s 2ms/step - loss: 0.6122 - accuracy: 0.8311\n",
            "650/650 [==============================] - 2s 2ms/step - loss: 3.9716 - accuracy: 0.5883\n",
            "163/163 [==============================] - 0s 2ms/step - loss: 0.5944 - accuracy: 0.8300\n",
            "650/650 [==============================] - 2s 2ms/step - loss: nan - accuracy: 0.5558\n",
            "163/163 [==============================] - 0s 2ms/step - loss: nan - accuracy: 0.0000e+00\n",
            "650/650 [==============================] - 2s 2ms/step - loss: 4.7169 - accuracy: 0.3810\n",
            "163/163 [==============================] - 0s 2ms/step - loss: 1.1136 - accuracy: 0.6841\n",
            "650/650 [==============================] - 2s 2ms/step - loss: 4.7325 - accuracy: 0.3885\n",
            "163/163 [==============================] - 0s 2ms/step - loss: 1.0939 - accuracy: 0.6934\n",
            "650/650 [==============================] - 2s 2ms/step - loss: 4.7580 - accuracy: 0.3860\n",
            "163/163 [==============================] - 0s 2ms/step - loss: 1.1269 - accuracy: 0.6812\n",
            "650/650 [==============================] - 2s 2ms/step - loss: 4.7176 - accuracy: 0.3832\n",
            "163/163 [==============================] - 0s 2ms/step - loss: 1.0978 - accuracy: 0.6916\n",
            "650/650 [==============================] - 2s 2ms/step - loss: 4.7104 - accuracy: 0.3794\n",
            "163/163 [==============================] - 0s 2ms/step - loss: 1.1136 - accuracy: 0.6880\n",
            "650/650 [==============================] - 2s 2ms/step - loss: 4.0135 - accuracy: 0.5820\n",
            "163/163 [==============================] - 0s 2ms/step - loss: 0.5636 - accuracy: 0.8365\n",
            "650/650 [==============================] - 2s 2ms/step - loss: 3.9894 - accuracy: 0.5822\n",
            "163/163 [==============================] - 0s 2ms/step - loss: 0.5609 - accuracy: 0.8362\n",
            "650/650 [==============================] - 2s 2ms/step - loss: 3.9414 - accuracy: 0.5883\n",
            "163/163 [==============================] - 0s 2ms/step - loss: 0.6132 - accuracy: 0.8204\n",
            "650/650 [==============================] - 2s 2ms/step - loss: 3.9941 - accuracy: 0.5803\n",
            "163/163 [==============================] - 0s 2ms/step - loss: 0.5698 - accuracy: 0.8330\n",
            "650/650 [==============================] - 2s 2ms/step - loss: 3.9666 - accuracy: 0.5864\n",
            "163/163 [==============================] - 0s 2ms/step - loss: 0.6218 - accuracy: 0.8227\n",
            "650/650 [==============================] - 2s 2ms/step - loss: 5.9349 - accuracy: 0.0533\n",
            "163/163 [==============================] - 0s 2ms/step - loss: 3.2425 - accuracy: 0.1189\n",
            "650/650 [==============================] - 2s 2ms/step - loss: 5.8301 - accuracy: 0.0521\n",
            "163/163 [==============================] - 0s 2ms/step - loss: 3.1911 - accuracy: 0.1150\n",
            "650/650 [==============================] - 2s 2ms/step - loss: 5.8463 - accuracy: 0.0402\n",
            "163/163 [==============================] - 0s 2ms/step - loss: 3.2522 - accuracy: 0.0963\n",
            "650/650 [==============================] - 2s 2ms/step - loss: 5.8996 - accuracy: 0.0554\n",
            "163/163 [==============================] - 0s 2ms/step - loss: 3.2427 - accuracy: 0.1111\n",
            "650/650 [==============================] - 2s 2ms/step - loss: 5.8705 - accuracy: 0.0432\n",
            "163/163 [==============================] - 0s 2ms/step - loss: 3.1905 - accuracy: 0.1074\n",
            "650/650 [==============================] - 2s 2ms/step - loss: 5.2600 - accuracy: 0.2363\n",
            "163/163 [==============================] - 0s 2ms/step - loss: 1.6309 - accuracy: 0.5813\n",
            "650/650 [==============================] - 2s 2ms/step - loss: 5.1903 - accuracy: 0.2509\n",
            "163/163 [==============================] - 1s 2ms/step - loss: 1.6118 - accuracy: 0.5813\n",
            "650/650 [==============================] - 2s 2ms/step - loss: 5.1757 - accuracy: 0.2433\n",
            "163/163 [==============================] - 0s 2ms/step - loss: 1.6283 - accuracy: 0.5725\n",
            "650/650 [==============================] - 2s 2ms/step - loss: 5.2670 - accuracy: 0.2403\n",
            "163/163 [==============================] - 0s 2ms/step - loss: 1.6181 - accuracy: 0.5797\n",
            "650/650 [==============================] - 2s 2ms/step - loss: 5.2334 - accuracy: 0.2426\n",
            "163/163 [==============================] - 0s 2ms/step - loss: 1.6240 - accuracy: 0.5825\n",
            "650/650 [==============================] - 2s 2ms/step - loss: 4.0544 - accuracy: 0.5586\n",
            "163/163 [==============================] - 0s 2ms/step - loss: 0.6094 - accuracy: 0.8185\n",
            "650/650 [==============================] - 2s 2ms/step - loss: 4.0186 - accuracy: 0.5630\n",
            "163/163 [==============================] - 0s 2ms/step - loss: 0.6134 - accuracy: 0.8195\n",
            "650/650 [==============================] - 2s 2ms/step - loss: 3.9830 - accuracy: 0.5613\n",
            "163/163 [==============================] - 0s 2ms/step - loss: 0.6096 - accuracy: 0.8167\n",
            "650/650 [==============================] - 2s 2ms/step - loss: 4.0504 - accuracy: 0.5591\n",
            "163/163 [==============================] - 0s 2ms/step - loss: 0.5948 - accuracy: 0.8241\n",
            "650/650 [==============================] - 2s 2ms/step - loss: 4.0380 - accuracy: 0.5620\n",
            "163/163 [==============================] - 0s 2ms/step - loss: 0.6147 - accuracy: 0.8213\n",
            "650/650 [==============================] - 2s 2ms/step - loss: 4.6896 - accuracy: 0.3898\n",
            "163/163 [==============================] - 0s 2ms/step - loss: 1.1786 - accuracy: 0.6621\n",
            "650/650 [==============================] - 2s 2ms/step - loss: 4.6449 - accuracy: 0.3909\n",
            "163/163 [==============================] - 0s 2ms/step - loss: 1.1665 - accuracy: 0.6664\n",
            "650/650 [==============================] - 2s 2ms/step - loss: 4.6515 - accuracy: 0.3991\n",
            "163/163 [==============================] - 0s 2ms/step - loss: 1.1823 - accuracy: 0.6621\n",
            "650/650 [==============================] - 2s 2ms/step - loss: 4.6378 - accuracy: 0.3957\n",
            "163/163 [==============================] - 0s 2ms/step - loss: 1.1702 - accuracy: 0.6702\n",
            "650/650 [==============================] - 2s 2ms/step - loss: 4.6416 - accuracy: 0.3960\n",
            "163/163 [==============================] - 0s 2ms/step - loss: 1.1702 - accuracy: 0.6645\n",
            "650/650 [==============================] - 2s 2ms/step - loss: 4.0462 - accuracy: 0.5570\n",
            "163/163 [==============================] - 0s 2ms/step - loss: 0.6273 - accuracy: 0.8155\n",
            "650/650 [==============================] - 2s 2ms/step - loss: 4.0596 - accuracy: 0.5588\n",
            "163/163 [==============================] - 0s 2ms/step - loss: 0.6274 - accuracy: 0.8133\n",
            "650/650 [==============================] - 2s 2ms/step - loss: 4.0215 - accuracy: 0.5560\n",
            "163/163 [==============================] - 0s 2ms/step - loss: 0.6265 - accuracy: 0.8157\n",
            "650/650 [==============================] - 2s 2ms/step - loss: 4.0488 - accuracy: 0.5553\n",
            "163/163 [==============================] - 0s 2ms/step - loss: 0.6051 - accuracy: 0.8202\n",
            "650/650 [==============================] - 2s 2ms/step - loss: 4.1131 - accuracy: 0.5546\n",
            "163/163 [==============================] - 0s 2ms/step - loss: 0.6282 - accuracy: 0.8130\n",
            "650/650 [==============================] - 2s 2ms/step - loss: 5.7270 - accuracy: 0.0622\n",
            "163/163 [==============================] - 0s 2ms/step - loss: 2.9646 - accuracy: 0.1700\n",
            "650/650 [==============================] - 2s 2ms/step - loss: 5.8747 - accuracy: 0.0422\n",
            "163/163 [==============================] - 0s 2ms/step - loss: 3.0779 - accuracy: 0.1340\n",
            "650/650 [==============================] - 2s 2ms/step - loss: 5.8189 - accuracy: 0.0650\n",
            "163/163 [==============================] - 0s 2ms/step - loss: 3.0017 - accuracy: 0.1547\n",
            "650/650 [==============================] - 2s 2ms/step - loss: 5.7552 - accuracy: 0.0638\n",
            "163/163 [==============================] - 0s 2ms/step - loss: 2.9666 - accuracy: 0.1641\n",
            "650/650 [==============================] - 2s 2ms/step - loss: 5.6354 - accuracy: 0.0697\n",
            "163/163 [==============================] - 0s 2ms/step - loss: 2.8924 - accuracy: 0.1692\n",
            "650/650 [==============================] - 2s 2ms/step - loss: 5.1024 - accuracy: 0.2694\n",
            "163/163 [==============================] - 0s 2ms/step - loss: 1.5129 - accuracy: 0.5862\n",
            "650/650 [==============================] - 2s 2ms/step - loss: 5.1312 - accuracy: 0.2624\n",
            "163/163 [==============================] - 0s 2ms/step - loss: 1.4984 - accuracy: 0.5933\n",
            "650/650 [==============================] - 2s 2ms/step - loss: 5.1027 - accuracy: 0.2756\n",
            "163/163 [==============================] - 0s 2ms/step - loss: 1.5153 - accuracy: 0.5828\n",
            "650/650 [==============================] - 2s 2ms/step - loss: 5.0926 - accuracy: 0.2675\n",
            "163/163 [==============================] - 0s 2ms/step - loss: 1.5091 - accuracy: 0.5817\n",
            "650/650 [==============================] - 2s 2ms/step - loss: 5.0567 - accuracy: 0.2717\n",
            "163/163 [==============================] - 0s 2ms/step - loss: 1.5163 - accuracy: 0.5799\n",
            "650/650 [==============================] - 2s 2ms/step - loss: 4.0348 - accuracy: 0.5611\n",
            "163/163 [==============================] - 0s 2ms/step - loss: 0.6053 - accuracy: 0.8168\n",
            "650/650 [==============================] - 2s 2ms/step - loss: 3.9977 - accuracy: 0.5622\n",
            "163/163 [==============================] - 0s 2ms/step - loss: 0.5925 - accuracy: 0.8219\n",
            "650/650 [==============================] - 2s 2ms/step - loss: 4.0369 - accuracy: 0.5578\n",
            "163/163 [==============================] - 0s 2ms/step - loss: 0.6180 - accuracy: 0.8159\n",
            "650/650 [==============================] - 2s 2ms/step - loss: 3.9929 - accuracy: 0.5614\n",
            "163/163 [==============================] - 0s 2ms/step - loss: 0.6061 - accuracy: 0.8206\n",
            "650/650 [==============================] - 2s 2ms/step - loss: 4.0594 - accuracy: 0.5592\n",
            "163/163 [==============================] - 0s 2ms/step - loss: 0.5998 - accuracy: 0.8235\n",
            "650/650 [==============================] - 2s 2ms/step - loss: 4.6329 - accuracy: 0.3936\n",
            "163/163 [==============================] - 0s 2ms/step - loss: 1.1687 - accuracy: 0.6662\n",
            "650/650 [==============================] - 2s 2ms/step - loss: 4.6529 - accuracy: 0.4029\n",
            "163/163 [==============================] - 0s 2ms/step - loss: 1.1636 - accuracy: 0.6628\n",
            "650/650 [==============================] - 2s 2ms/step - loss: 4.6894 - accuracy: 0.3927\n",
            "163/163 [==============================] - 0s 2ms/step - loss: 1.1897 - accuracy: 0.6594\n",
            "650/650 [==============================] - 2s 2ms/step - loss: 4.6764 - accuracy: 0.3926\n",
            "163/163 [==============================] - 0s 2ms/step - loss: 1.1706 - accuracy: 0.6646\n",
            "650/650 [==============================] - 2s 2ms/step - loss: 4.6312 - accuracy: 0.3950\n",
            "163/163 [==============================] - 0s 2ms/step - loss: 1.1810 - accuracy: 0.6612\n",
            "650/650 [==============================] - 2s 2ms/step - loss: 4.0746 - accuracy: 0.5543\n",
            "163/163 [==============================] - 0s 2ms/step - loss: 0.6216 - accuracy: 0.8126\n",
            "650/650 [==============================] - 2s 2ms/step - loss: 4.1010 - accuracy: 0.5516\n",
            "163/163 [==============================] - 0s 2ms/step - loss: 0.6082 - accuracy: 0.8179\n",
            "650/650 [==============================] - 2s 2ms/step - loss: 4.0488 - accuracy: 0.5588\n",
            "163/163 [==============================] - 0s 2ms/step - loss: 0.6545 - accuracy: 0.8038\n",
            "650/650 [==============================] - 2s 2ms/step - loss: 3.9753 - accuracy: 0.5631\n",
            "163/163 [==============================] - 0s 2ms/step - loss: 0.6066 - accuracy: 0.8217\n",
            "650/650 [==============================] - 2s 2ms/step - loss: 4.1030 - accuracy: 0.5535\n",
            "163/163 [==============================] - 0s 2ms/step - loss: 0.6303 - accuracy: 0.8139\n",
            "650/650 [==============================] - 2s 2ms/step - loss: 5.7512 - accuracy: 0.0586\n",
            "163/163 [==============================] - 0s 2ms/step - loss: 3.0201 - accuracy: 0.1458\n",
            "650/650 [==============================] - 2s 2ms/step - loss: 5.7718 - accuracy: 0.0624\n",
            "163/163 [==============================] - 0s 2ms/step - loss: 2.9859 - accuracy: 0.1679\n",
            "650/650 [==============================] - 2s 2ms/step - loss: 5.8308 - accuracy: 0.0479\n",
            "163/163 [==============================] - 0s 2ms/step - loss: 3.0152 - accuracy: 0.1420\n",
            "650/650 [==============================] - 2s 2ms/step - loss: 5.8115 - accuracy: 0.0627\n",
            "163/163 [==============================] - 0s 2ms/step - loss: 3.0172 - accuracy: 0.1639\n",
            "650/650 [==============================] - 2s 2ms/step - loss: 5.8147 - accuracy: 0.0613\n",
            "163/163 [==============================] - 0s 2ms/step - loss: 3.0093 - accuracy: 0.1524\n",
            "650/650 [==============================] - 2s 2ms/step - loss: 5.1087 - accuracy: 0.2627\n",
            "163/163 [==============================] - 0s 2ms/step - loss: 1.5136 - accuracy: 0.5835\n",
            "650/650 [==============================] - 2s 2ms/step - loss: 5.0690 - accuracy: 0.2724\n",
            "163/163 [==============================] - 0s 2ms/step - loss: 1.4888 - accuracy: 0.5937\n",
            "650/650 [==============================] - 2s 2ms/step - loss: 5.1137 - accuracy: 0.2720\n",
            "163/163 [==============================] - 0s 2ms/step - loss: 1.5129 - accuracy: 0.5863\n",
            "650/650 [==============================] - 2s 2ms/step - loss: 5.0856 - accuracy: 0.2672\n",
            "163/163 [==============================] - 0s 2ms/step - loss: 1.5103 - accuracy: 0.5840\n",
            "650/650 [==============================] - 2s 2ms/step - loss: 5.0450 - accuracy: 0.2701\n",
            "163/163 [==============================] - 0s 2ms/step - loss: 1.5195 - accuracy: 0.5809\n",
            "650/650 [==============================] - 2s 2ms/step - loss: 4.1702 - accuracy: 0.5297\n",
            "163/163 [==============================] - 0s 2ms/step - loss: 0.7187 - accuracy: 0.7875\n",
            "650/650 [==============================] - 2s 2ms/step - loss: 4.1550 - accuracy: 0.5332\n",
            "163/163 [==============================] - 0s 2ms/step - loss: 0.7505 - accuracy: 0.7792\n",
            "650/650 [==============================] - 2s 2ms/step - loss: 4.0997 - accuracy: 0.5334\n",
            "163/163 [==============================] - 0s 2ms/step - loss: 0.7506 - accuracy: 0.7767\n",
            "650/650 [==============================] - 2s 2ms/step - loss: 4.1252 - accuracy: 0.5314\n",
            "163/163 [==============================] - 0s 2ms/step - loss: 0.7335 - accuracy: 0.7827\n",
            "650/650 [==============================] - 2s 2ms/step - loss: 4.0891 - accuracy: 0.5350\n",
            "163/163 [==============================] - 0s 2ms/step - loss: 0.7539 - accuracy: 0.7763\n",
            "650/650 [==============================] - 2s 2ms/step - loss: 5.2855 - accuracy: 0.2642\n",
            "163/163 [==============================] - 0s 2ms/step - loss: 1.8842 - accuracy: 0.5666\n",
            "650/650 [==============================] - 2s 2ms/step - loss: 5.3398 - accuracy: 0.2489\n",
            "163/163 [==============================] - 0s 2ms/step - loss: 1.8894 - accuracy: 0.5751\n",
            "650/650 [==============================] - 2s 2ms/step - loss: 5.2907 - accuracy: 0.2660\n",
            "163/163 [==============================] - 0s 2ms/step - loss: 1.8858 - accuracy: 0.5592\n",
            "650/650 [==============================] - 2s 2ms/step - loss: 5.3506 - accuracy: 0.2531\n",
            "163/163 [==============================] - 0s 2ms/step - loss: 1.9012 - accuracy: 0.5699\n",
            "650/650 [==============================] - 2s 2ms/step - loss: 5.3276 - accuracy: 0.2579\n",
            "163/163 [==============================] - 0s 2ms/step - loss: 1.8983 - accuracy: 0.5562\n",
            "650/650 [==============================] - 2s 2ms/step - loss: 4.1690 - accuracy: 0.5271\n",
            "163/163 [==============================] - 0s 2ms/step - loss: 0.7582 - accuracy: 0.7811\n",
            "650/650 [==============================] - 2s 2ms/step - loss: 4.1857 - accuracy: 0.5276\n",
            "163/163 [==============================] - 0s 2ms/step - loss: 0.7531 - accuracy: 0.7789\n",
            "650/650 [==============================] - 2s 2ms/step - loss: 4.1132 - accuracy: 0.5289\n",
            "163/163 [==============================] - 0s 2ms/step - loss: 0.7725 - accuracy: 0.7743\n",
            "650/650 [==============================] - 2s 2ms/step - loss: 4.1335 - accuracy: 0.5265\n",
            "163/163 [==============================] - 0s 2ms/step - loss: 0.7710 - accuracy: 0.7730\n",
            "650/650 [==============================] - 2s 2ms/step - loss: 4.1729 - accuracy: 0.5284\n",
            "163/163 [==============================] - 0s 2ms/step - loss: 0.7627 - accuracy: 0.7816\n",
            "650/650 [==============================] - 2s 2ms/step - loss: 5.7222 - accuracy: 0.0425\n",
            "163/163 [==============================] - 0s 2ms/step - loss: 3.2223 - accuracy: 0.0811\n",
            "650/650 [==============================] - 2s 2ms/step - loss: 5.8066 - accuracy: 0.0506\n",
            "163/163 [==============================] - 0s 2ms/step - loss: 3.2296 - accuracy: 0.0971\n",
            "650/650 [==============================] - 2s 2ms/step - loss: 5.7950 - accuracy: 0.0374\n",
            "163/163 [==============================] - 0s 2ms/step - loss: 3.2558 - accuracy: 0.0587\n",
            "650/650 [==============================] - 2s 2ms/step - loss: 5.8242 - accuracy: 0.0384\n",
            "163/163 [==============================] - 0s 2ms/step - loss: 3.3057 - accuracy: 0.0564\n",
            "650/650 [==============================] - 2s 2ms/step - loss: 5.8238 - accuracy: 0.0402\n",
            "163/163 [==============================] - 0s 2ms/step - loss: 3.3128 - accuracy: 0.0450\n",
            "650/650 [==============================] - 2s 2ms/step - loss: 5.4594 - accuracy: 0.1629\n",
            "163/163 [==============================] - 0s 2ms/step - loss: 2.6075 - accuracy: 0.4325\n",
            "650/650 [==============================] - 2s 2ms/step - loss: 5.5702 - accuracy: 0.1474\n",
            "163/163 [==============================] - 0s 2ms/step - loss: 2.6126 - accuracy: 0.4517\n",
            "650/650 [==============================] - 2s 2ms/step - loss: 5.5216 - accuracy: 0.1603\n",
            "163/163 [==============================] - 0s 2ms/step - loss: 2.6114 - accuracy: 0.4475\n",
            "650/650 [==============================] - 2s 2ms/step - loss: 5.5300 - accuracy: 0.1417\n",
            "163/163 [==============================] - 0s 2ms/step - loss: 2.6269 - accuracy: 0.4292\n",
            "650/650 [==============================] - 2s 2ms/step - loss: 5.5424 - accuracy: 0.1467\n",
            "163/163 [==============================] - 0s 2ms/step - loss: 2.6152 - accuracy: 0.4377\n",
            "650/650 [==============================] - 2s 2ms/step - loss: 4.1169 - accuracy: 0.5313\n",
            "163/163 [==============================] - 0s 2ms/step - loss: 0.7437 - accuracy: 0.7821\n",
            "650/650 [==============================] - 2s 2ms/step - loss: 4.1077 - accuracy: 0.5341\n",
            "163/163 [==============================] - 0s 2ms/step - loss: 0.7579 - accuracy: 0.7758\n",
            "650/650 [==============================] - 2s 2ms/step - loss: 4.0954 - accuracy: 0.5336\n",
            "163/163 [==============================] - 0s 2ms/step - loss: 0.7581 - accuracy: 0.7772\n",
            "650/650 [==============================] - 2s 2ms/step - loss: 4.0823 - accuracy: 0.5356\n",
            "163/163 [==============================] - 0s 2ms/step - loss: 0.7524 - accuracy: 0.7781\n",
            "650/650 [==============================] - 2s 2ms/step - loss: 4.1162 - accuracy: 0.5346\n",
            "163/163 [==============================] - 0s 2ms/step - loss: 0.7822 - accuracy: 0.7675\n",
            "650/650 [==============================] - 2s 2ms/step - loss: 5.2628 - accuracy: 0.2682\n",
            "163/163 [==============================] - 0s 2ms/step - loss: 1.8844 - accuracy: 0.5678\n",
            "650/650 [==============================] - 2s 2ms/step - loss: 5.3135 - accuracy: 0.2506\n",
            "163/163 [==============================] - 0s 2ms/step - loss: 1.8938 - accuracy: 0.5646\n",
            "650/650 [==============================] - 2s 2ms/step - loss: 5.3018 - accuracy: 0.2573\n",
            "163/163 [==============================] - 0s 2ms/step - loss: 1.8978 - accuracy: 0.5564\n",
            "650/650 [==============================] - 2s 2ms/step - loss: 5.2947 - accuracy: 0.2665\n",
            "163/163 [==============================] - 0s 2ms/step - loss: 1.8839 - accuracy: 0.5692\n",
            "650/650 [==============================] - 2s 2ms/step - loss: 5.3360 - accuracy: 0.2519\n",
            "163/163 [==============================] - 0s 2ms/step - loss: 1.9000 - accuracy: 0.5659\n",
            "650/650 [==============================] - 2s 2ms/step - loss: 4.1431 - accuracy: 0.5297\n",
            "163/163 [==============================] - 0s 2ms/step - loss: 0.7852 - accuracy: 0.7683\n",
            "650/650 [==============================] - 2s 2ms/step - loss: 4.1464 - accuracy: 0.5269\n",
            "163/163 [==============================] - 0s 2ms/step - loss: 0.7650 - accuracy: 0.7771\n",
            "650/650 [==============================] - 2s 2ms/step - loss: 4.1479 - accuracy: 0.5332\n",
            "163/163 [==============================] - 0s 2ms/step - loss: 0.7970 - accuracy: 0.7649\n",
            "650/650 [==============================] - 2s 2ms/step - loss: 4.1637 - accuracy: 0.5278\n",
            "163/163 [==============================] - 0s 2ms/step - loss: 0.7624 - accuracy: 0.7763\n",
            "650/650 [==============================] - 2s 2ms/step - loss: 4.0581 - accuracy: 0.5313\n",
            "163/163 [==============================] - 0s 2ms/step - loss: 0.7645 - accuracy: 0.7768\n",
            "650/650 [==============================] - 2s 2ms/step - loss: 5.7743 - accuracy: 0.0454\n",
            "163/163 [==============================] - 0s 2ms/step - loss: 3.2294 - accuracy: 0.0743\n",
            "650/650 [==============================] - 2s 2ms/step - loss: 5.8641 - accuracy: 0.0416\n",
            "163/163 [==============================] - 0s 2ms/step - loss: 3.3028 - accuracy: 0.0408\n",
            "650/650 [==============================] - 2s 2ms/step - loss: 5.8109 - accuracy: 0.0378\n",
            "163/163 [==============================] - 0s 2ms/step - loss: 3.3095 - accuracy: 0.0506\n",
            "650/650 [==============================] - 2s 2ms/step - loss: 5.8038 - accuracy: 0.0413\n",
            "163/163 [==============================] - 1s 2ms/step - loss: 3.2394 - accuracy: 0.0647\n",
            "650/650 [==============================] - 2s 2ms/step - loss: 5.8712 - accuracy: 0.0412\n",
            "163/163 [==============================] - 0s 2ms/step - loss: 3.2860 - accuracy: 0.0650\n",
            "650/650 [==============================] - 2s 2ms/step - loss: 5.6199 - accuracy: 0.1349\n",
            "163/163 [==============================] - 0s 2ms/step - loss: 2.6493 - accuracy: 0.4265\n",
            "650/650 [==============================] - 2s 2ms/step - loss: 5.5874 - accuracy: 0.1236\n",
            "163/163 [==============================] - 0s 2ms/step - loss: 2.6657 - accuracy: 0.4086\n",
            "650/650 [==============================] - 2s 2ms/step - loss: 5.5773 - accuracy: 0.1214\n",
            "163/163 [==============================] - 0s 2ms/step - loss: 2.6521 - accuracy: 0.4231\n",
            "650/650 [==============================] - 2s 2ms/step - loss: 5.6025 - accuracy: 0.1290\n",
            "163/163 [==============================] - 0s 2ms/step - loss: 2.6415 - accuracy: 0.4377\n",
            "650/650 [==============================] - 2s 2ms/step - loss: 5.5616 - accuracy: 0.1451\n",
            "163/163 [==============================] - 0s 2ms/step - loss: 2.6266 - accuracy: 0.4280\n",
            "650/650 [==============================] - 2s 2ms/step - loss: nan - accuracy: 0.3732\n",
            "163/163 [==============================] - 0s 2ms/step - loss: nan - accuracy: 0.0000e+00\n",
            "650/650 [==============================] - 2s 2ms/step - loss: 8.4559 - accuracy: 0.3764\n",
            "163/163 [==============================] - 0s 2ms/step - loss: 0.7166 - accuracy: 0.8038\n",
            "650/650 [==============================] - 2s 2ms/step - loss: nan - accuracy: 0.3597\n",
            "163/163 [==============================] - 0s 2ms/step - loss: nan - accuracy: 0.0000e+00\n",
            "650/650 [==============================] - 2s 2ms/step - loss: 8.5407 - accuracy: 0.3744\n",
            "163/163 [==============================] - 0s 2ms/step - loss: 0.7957 - accuracy: 0.7781\n",
            "650/650 [==============================] - 2s 3ms/step - loss: 8.3918 - accuracy: 0.3843\n",
            "163/163 [==============================] - 0s 2ms/step - loss: 0.7517 - accuracy: 0.7942\n",
            "650/650 [==============================] - 2s 2ms/step - loss: 8.9451 - accuracy: 0.2363\n",
            "163/163 [==============================] - 0s 2ms/step - loss: 1.3198 - accuracy: 0.6369\n",
            "650/650 [==============================] - 2s 2ms/step - loss: 9.0247 - accuracy: 0.2306\n",
            "163/163 [==============================] - 0s 2ms/step - loss: 1.3203 - accuracy: 0.6432\n",
            "650/650 [==============================] - 2s 2ms/step - loss: 8.9635 - accuracy: 0.2310\n",
            "163/163 [==============================] - 0s 2ms/step - loss: 1.3455 - accuracy: 0.6312\n",
            "650/650 [==============================] - 2s 2ms/step - loss: 8.9571 - accuracy: 0.2379\n",
            "163/163 [==============================] - 0s 2ms/step - loss: 1.3241 - accuracy: 0.6407\n",
            "650/650 [==============================] - 2s 2ms/step - loss: 8.9072 - accuracy: 0.2379\n",
            "163/163 [==============================] - 0s 2ms/step - loss: 1.3203 - accuracy: 0.6429\n",
            "650/650 [==============================] - 2s 2ms/step - loss: nan - accuracy: 0.2577\n",
            "163/163 [==============================] - 0s 2ms/step - loss: nan - accuracy: 0.0000e+00\n",
            "650/650 [==============================] - 2s 2ms/step - loss: 8.5246 - accuracy: 0.3703\n",
            "163/163 [==============================] - 0s 2ms/step - loss: 0.7838 - accuracy: 0.7845\n",
            "650/650 [==============================] - 2s 2ms/step - loss: 8.4954 - accuracy: 0.3734\n",
            "163/163 [==============================] - 0s 2ms/step - loss: 0.7596 - accuracy: 0.7851\n",
            "650/650 [==============================] - 2s 2ms/step - loss: nan - accuracy: 0.3724\n",
            "163/163 [==============================] - 0s 2ms/step - loss: nan - accuracy: 0.0000e+00\n",
            "650/650 [==============================] - 2s 2ms/step - loss: nan - accuracy: 0.3754\n",
            "163/163 [==============================] - 0s 2ms/step - loss: nan - accuracy: 0.0000e+00\n",
            "650/650 [==============================] - 2s 2ms/step - loss: 9.4973 - accuracy: 0.0449\n",
            "163/163 [==============================] - 0s 2ms/step - loss: 3.2998 - accuracy: 0.0862\n",
            "650/650 [==============================] - 2s 2ms/step - loss: 9.4210 - accuracy: 0.0504\n",
            "163/163 [==============================] - 0s 2ms/step - loss: 3.2901 - accuracy: 0.0982\n",
            "650/650 [==============================] - 2s 2ms/step - loss: 9.4782 - accuracy: 0.0393\n",
            "163/163 [==============================] - 0s 2ms/step - loss: 3.3071 - accuracy: 0.0866\n",
            "650/650 [==============================] - 2s 2ms/step - loss: 9.4369 - accuracy: 0.0432\n",
            "163/163 [==============================] - 0s 2ms/step - loss: 3.2717 - accuracy: 0.0787\n",
            "650/650 [==============================] - 2s 2ms/step - loss: 9.5140 - accuracy: 0.0370\n",
            "163/163 [==============================] - 0s 2ms/step - loss: 3.3231 - accuracy: 0.0692\n",
            "650/650 [==============================] - 2s 2ms/step - loss: 9.1749 - accuracy: 0.1370\n",
            "163/163 [==============================] - 0s 2ms/step - loss: 1.9472 - accuracy: 0.5000\n",
            "650/650 [==============================] - 2s 2ms/step - loss: 9.1707 - accuracy: 0.1375\n",
            "163/163 [==============================] - 0s 2ms/step - loss: 1.9382 - accuracy: 0.5148\n",
            "650/650 [==============================] - 2s 2ms/step - loss: 9.1806 - accuracy: 0.1444\n",
            "163/163 [==============================] - 0s 2ms/step - loss: 1.9464 - accuracy: 0.5192\n",
            "650/650 [==============================] - 2s 2ms/step - loss: 9.2663 - accuracy: 0.1320\n",
            "163/163 [==============================] - 0s 2ms/step - loss: 1.9612 - accuracy: 0.5091\n",
            "650/650 [==============================] - 2s 2ms/step - loss: 9.1910 - accuracy: 0.1401\n",
            "163/163 [==============================] - 0s 2ms/step - loss: 1.9577 - accuracy: 0.5063\n",
            "650/650 [==============================] - 2s 2ms/step - loss: nan - accuracy: 0.3504\n",
            "163/163 [==============================] - 1s 2ms/step - loss: nan - accuracy: 0.0000e+00\n",
            "650/650 [==============================] - 2s 2ms/step - loss: nan - accuracy: 0.3600\n",
            "163/163 [==============================] - 0s 2ms/step - loss: nan - accuracy: 0.0000e+00\n",
            "650/650 [==============================] - 2s 2ms/step - loss: 8.4839 - accuracy: 0.3782\n",
            "163/163 [==============================] - 0s 2ms/step - loss: 0.8253 - accuracy: 0.7821\n",
            "650/650 [==============================] - 2s 2ms/step - loss: nan - accuracy: 0.3444\n",
            "163/163 [==============================] - 0s 2ms/step - loss: nan - accuracy: 0.0000e+00\n",
            "650/650 [==============================] - 2s 2ms/step - loss: 8.4682 - accuracy: 0.3789\n",
            "163/163 [==============================] - 0s 2ms/step - loss: 0.7686 - accuracy: 0.7890\n",
            "650/650 [==============================] - 2s 2ms/step - loss: 8.9684 - accuracy: 0.2343\n",
            "163/163 [==============================] - 0s 2ms/step - loss: 1.3267 - accuracy: 0.6396\n",
            "650/650 [==============================] - 2s 2ms/step - loss: 9.0102 - accuracy: 0.2268\n",
            "163/163 [==============================] - 0s 2ms/step - loss: 1.3195 - accuracy: 0.6462\n",
            "650/650 [==============================] - 2s 2ms/step - loss: 8.9819 - accuracy: 0.2336\n",
            "163/163 [==============================] - 0s 2ms/step - loss: 1.3484 - accuracy: 0.6260\n",
            "650/650 [==============================] - 2s 2ms/step - loss: 8.9435 - accuracy: 0.2306\n",
            "163/163 [==============================] - 0s 2ms/step - loss: 1.3097 - accuracy: 0.6438\n",
            "650/650 [==============================] - 2s 2ms/step - loss: 8.9693 - accuracy: 0.2292\n",
            "163/163 [==============================] - 0s 2ms/step - loss: 1.3416 - accuracy: 0.6340\n",
            "650/650 [==============================] - 2s 2ms/step - loss: 8.5236 - accuracy: 0.3701\n",
            "163/163 [==============================] - 0s 2ms/step - loss: 0.7039 - accuracy: 0.8042\n",
            "650/650 [==============================] - 2s 2ms/step - loss: nan - accuracy: 0.3709\n",
            "163/163 [==============================] - 1s 2ms/step - loss: nan - accuracy: 0.0000e+00\n",
            "650/650 [==============================] - 2s 2ms/step - loss: 8.4686 - accuracy: 0.3741\n",
            "163/163 [==============================] - 0s 2ms/step - loss: 0.7407 - accuracy: 0.7917\n",
            "650/650 [==============================] - 2s 2ms/step - loss: nan - accuracy: 0.2031\n",
            "163/163 [==============================] - 0s 2ms/step - loss: nan - accuracy: 0.0000e+00\n",
            "650/650 [==============================] - 2s 2ms/step - loss: nan - accuracy: 0.3476\n",
            "163/163 [==============================] - 0s 2ms/step - loss: nan - accuracy: 0.0000e+00\n",
            "650/650 [==============================] - 2s 2ms/step - loss: 9.5402 - accuracy: 0.0472\n",
            "163/163 [==============================] - 0s 2ms/step - loss: 3.3459 - accuracy: 0.0938\n",
            "650/650 [==============================] - 2s 2ms/step - loss: 9.5022 - accuracy: 0.0457\n",
            "163/163 [==============================] - 0s 2ms/step - loss: 3.3166 - accuracy: 0.0892\n",
            "650/650 [==============================] - 2s 2ms/step - loss: 9.5303 - accuracy: 0.0473\n",
            "163/163 [==============================] - 0s 2ms/step - loss: 3.3431 - accuracy: 0.0927\n",
            "650/650 [==============================] - 2s 2ms/step - loss: 9.4383 - accuracy: 0.0509\n",
            "163/163 [==============================] - 0s 2ms/step - loss: 3.2318 - accuracy: 0.0960\n",
            "650/650 [==============================] - 2s 2ms/step - loss: 9.4003 - accuracy: 0.0483\n",
            "163/163 [==============================] - 0s 2ms/step - loss: 3.2274 - accuracy: 0.0938\n",
            "650/650 [==============================] - 2s 2ms/step - loss: 9.2505 - accuracy: 0.1290\n",
            "163/163 [==============================] - 0s 2ms/step - loss: 1.9799 - accuracy: 0.5024\n",
            "650/650 [==============================] - 2s 2ms/step - loss: 9.1740 - accuracy: 0.1386\n",
            "163/163 [==============================] - 0s 2ms/step - loss: 1.9453 - accuracy: 0.5203\n",
            "650/650 [==============================] - 2s 2ms/step - loss: 9.2182 - accuracy: 0.1409\n",
            "163/163 [==============================] - 0s 2ms/step - loss: 1.9626 - accuracy: 0.5047\n",
            "650/650 [==============================] - 2s 2ms/step - loss: 9.2058 - accuracy: 0.1502\n",
            "163/163 [==============================] - 0s 2ms/step - loss: 1.9249 - accuracy: 0.5079\n",
            "650/650 [==============================] - 2s 2ms/step - loss: 9.2137 - accuracy: 0.1371\n",
            "163/163 [==============================] - 0s 2ms/step - loss: 1.9522 - accuracy: 0.5055\n",
            "650/650 [==============================] - 2s 3ms/step - loss: 8.5014 - accuracy: 0.3600\n",
            "163/163 [==============================] - 0s 2ms/step - loss: 0.7488 - accuracy: 0.7801\n",
            "650/650 [==============================] - 2s 3ms/step - loss: 8.4827 - accuracy: 0.3607\n",
            "163/163 [==============================] - 0s 2ms/step - loss: 0.7273 - accuracy: 0.7827\n",
            "650/650 [==============================] - 2s 3ms/step - loss: 8.4744 - accuracy: 0.3649\n",
            "163/163 [==============================] - 0s 2ms/step - loss: 0.7414 - accuracy: 0.7752\n",
            "650/650 [==============================] - 2s 2ms/step - loss: 8.4826 - accuracy: 0.3613\n",
            "163/163 [==============================] - 0s 2ms/step - loss: 0.7488 - accuracy: 0.7783\n",
            "650/650 [==============================] - 2s 2ms/step - loss: 8.4933 - accuracy: 0.3615\n",
            "163/163 [==============================] - 0s 2ms/step - loss: 0.7582 - accuracy: 0.7776\n",
            "650/650 [==============================] - 2s 2ms/step - loss: 8.8991 - accuracy: 0.2455\n",
            "163/163 [==============================] - 0s 2ms/step - loss: 1.3157 - accuracy: 0.6261\n",
            "650/650 [==============================] - 2s 2ms/step - loss: 8.8669 - accuracy: 0.2453\n",
            "163/163 [==============================] - 0s 2ms/step - loss: 1.2988 - accuracy: 0.6333\n",
            "650/650 [==============================] - 2s 2ms/step - loss: 8.8601 - accuracy: 0.2465\n",
            "163/163 [==============================] - 0s 2ms/step - loss: 1.3283 - accuracy: 0.6218\n",
            "650/650 [==============================] - 2s 2ms/step - loss: 8.8554 - accuracy: 0.2469\n",
            "163/163 [==============================] - 0s 2ms/step - loss: 1.3144 - accuracy: 0.6294\n",
            "650/650 [==============================] - 2s 2ms/step - loss: 8.8721 - accuracy: 0.2473\n",
            "163/163 [==============================] - 0s 2ms/step - loss: 1.3242 - accuracy: 0.6249\n",
            "650/650 [==============================] - 2s 2ms/step - loss: 8.4999 - accuracy: 0.3605\n",
            "163/163 [==============================] - 0s 2ms/step - loss: 0.7256 - accuracy: 0.7854\n",
            "650/650 [==============================] - 2s 2ms/step - loss: 8.4761 - accuracy: 0.3625\n",
            "163/163 [==============================] - 0s 2ms/step - loss: 0.7781 - accuracy: 0.7646\n",
            "650/650 [==============================] - 2s 2ms/step - loss: 8.5236 - accuracy: 0.3572\n",
            "163/163 [==============================] - 0s 2ms/step - loss: 0.7737 - accuracy: 0.7693\n",
            "650/650 [==============================] - 2s 2ms/step - loss: 8.5488 - accuracy: 0.3579\n",
            "163/163 [==============================] - 0s 2ms/step - loss: 0.7696 - accuracy: 0.7758\n",
            "650/650 [==============================] - 2s 2ms/step - loss: 8.4884 - accuracy: 0.3597\n",
            "163/163 [==============================] - 0s 2ms/step - loss: 0.7663 - accuracy: 0.7742\n",
            "650/650 [==============================] - 2s 2ms/step - loss: 9.4957 - accuracy: 0.0481\n",
            "163/163 [==============================] - 0s 2ms/step - loss: 3.1557 - accuracy: 0.1125\n",
            "650/650 [==============================] - 2s 2ms/step - loss: 9.4410 - accuracy: 0.0595\n",
            "163/163 [==============================] - 0s 2ms/step - loss: 3.1073 - accuracy: 0.1394\n",
            "650/650 [==============================] - 2s 2ms/step - loss: 9.4033 - accuracy: 0.0508\n",
            "163/163 [==============================] - 0s 2ms/step - loss: 3.1077 - accuracy: 0.1222\n",
            "650/650 [==============================] - 2s 2ms/step - loss: 9.4831 - accuracy: 0.0398\n",
            "163/163 [==============================] - 0s 2ms/step - loss: 3.1977 - accuracy: 0.1031\n",
            "650/650 [==============================] - 2s 3ms/step - loss: 9.4686 - accuracy: 0.0499\n",
            "163/163 [==============================] - 0s 2ms/step - loss: 3.1175 - accuracy: 0.1285\n",
            "650/650 [==============================] - 2s 2ms/step - loss: 9.1111 - accuracy: 0.1552\n",
            "163/163 [==============================] - 0s 2ms/step - loss: 1.7843 - accuracy: 0.5162\n",
            "650/650 [==============================] - 2s 2ms/step - loss: 9.0664 - accuracy: 0.1558\n",
            "163/163 [==============================] - 0s 2ms/step - loss: 1.7610 - accuracy: 0.5313\n",
            "650/650 [==============================] - 2s 2ms/step - loss: 9.1598 - accuracy: 0.1610\n",
            "163/163 [==============================] - 0s 2ms/step - loss: 1.7799 - accuracy: 0.5242\n",
            "650/650 [==============================] - 2s 2ms/step - loss: 9.0787 - accuracy: 0.1656\n",
            "163/163 [==============================] - 0s 2ms/step - loss: 1.7515 - accuracy: 0.5329\n",
            "650/650 [==============================] - 2s 2ms/step - loss: 9.1654 - accuracy: 0.1562\n",
            "163/163 [==============================] - 0s 2ms/step - loss: 1.7660 - accuracy: 0.5245\n",
            "650/650 [==============================] - 2s 3ms/step - loss: 8.5464 - accuracy: 0.3559\n",
            "163/163 [==============================] - 0s 2ms/step - loss: 0.7547 - accuracy: 0.7750\n",
            "650/650 [==============================] - 2s 3ms/step - loss: 8.5265 - accuracy: 0.3634\n",
            "163/163 [==============================] - 0s 2ms/step - loss: 0.7085 - accuracy: 0.7906\n",
            "650/650 [==============================] - 2s 3ms/step - loss: 8.5182 - accuracy: 0.3591\n",
            "163/163 [==============================] - 0s 2ms/step - loss: 0.7575 - accuracy: 0.7728\n",
            "650/650 [==============================] - 2s 3ms/step - loss: 8.4869 - accuracy: 0.3610\n",
            "163/163 [==============================] - 0s 2ms/step - loss: 0.7404 - accuracy: 0.7806\n",
            "650/650 [==============================] - 2s 3ms/step - loss: 8.5176 - accuracy: 0.3615\n",
            "163/163 [==============================] - 0s 2ms/step - loss: 0.7485 - accuracy: 0.7784\n",
            "650/650 [==============================] - 2s 2ms/step - loss: 8.9204 - accuracy: 0.2461\n",
            "163/163 [==============================] - 0s 2ms/step - loss: 1.3113 - accuracy: 0.6341\n",
            "650/650 [==============================] - 2s 2ms/step - loss: 8.9114 - accuracy: 0.2489\n",
            "163/163 [==============================] - 0s 2ms/step - loss: 1.3090 - accuracy: 0.6325\n",
            "650/650 [==============================] - 2s 2ms/step - loss: 8.9160 - accuracy: 0.2496\n",
            "163/163 [==============================] - 0s 2ms/step - loss: 1.3268 - accuracy: 0.6266\n",
            "650/650 [==============================] - 2s 2ms/step - loss: 8.9144 - accuracy: 0.2465\n",
            "163/163 [==============================] - 0s 2ms/step - loss: 1.3207 - accuracy: 0.6257\n",
            "650/650 [==============================] - 2s 2ms/step - loss: 8.8711 - accuracy: 0.2507\n",
            "163/163 [==============================] - 0s 2ms/step - loss: 1.3246 - accuracy: 0.6212\n",
            "650/650 [==============================] - 2s 2ms/step - loss: 8.5222 - accuracy: 0.3571\n",
            "163/163 [==============================] - 0s 2ms/step - loss: 0.7803 - accuracy: 0.7648\n",
            "650/650 [==============================] - 2s 2ms/step - loss: 8.4929 - accuracy: 0.3598\n",
            "163/163 [==============================] - 0s 2ms/step - loss: 0.7686 - accuracy: 0.7707\n",
            "650/650 [==============================] - 2s 2ms/step - loss: 8.6268 - accuracy: 0.3545\n",
            "163/163 [==============================] - 0s 2ms/step - loss: 0.7703 - accuracy: 0.7716\n",
            "650/650 [==============================] - 2s 2ms/step - loss: 8.5448 - accuracy: 0.3568\n",
            "163/163 [==============================] - 0s 2ms/step - loss: 0.7661 - accuracy: 0.7742\n",
            "650/650 [==============================] - 2s 2ms/step - loss: 8.5101 - accuracy: 0.3620\n",
            "163/163 [==============================] - 0s 2ms/step - loss: 0.7857 - accuracy: 0.7648\n",
            "650/650 [==============================] - 2s 2ms/step - loss: 9.5226 - accuracy: 0.0470\n",
            "163/163 [==============================] - 1s 2ms/step - loss: 3.1421 - accuracy: 0.1116\n",
            "650/650 [==============================] - 2s 2ms/step - loss: 9.4879 - accuracy: 0.0481\n",
            "163/163 [==============================] - 0s 2ms/step - loss: 3.1381 - accuracy: 0.1197\n",
            "650/650 [==============================] - 2s 2ms/step - loss: 9.4824 - accuracy: 0.0541\n",
            "163/163 [==============================] - 0s 2ms/step - loss: 3.1077 - accuracy: 0.1246\n",
            "650/650 [==============================] - 2s 2ms/step - loss: 9.4328 - accuracy: 0.0534\n",
            "163/163 [==============================] - 0s 2ms/step - loss: 3.0844 - accuracy: 0.1303\n",
            "650/650 [==============================] - 2s 2ms/step - loss: 9.4765 - accuracy: 0.0499\n",
            "163/163 [==============================] - 0s 2ms/step - loss: 3.1558 - accuracy: 0.1271\n",
            "650/650 [==============================] - 2s 2ms/step - loss: 9.1293 - accuracy: 0.1618\n",
            "163/163 [==============================] - 0s 2ms/step - loss: 1.7565 - accuracy: 0.5295\n",
            "650/650 [==============================] - 2s 2ms/step - loss: 9.1474 - accuracy: 0.1650\n",
            "163/163 [==============================] - 0s 2ms/step - loss: 1.7476 - accuracy: 0.5388\n",
            "650/650 [==============================] - 2s 2ms/step - loss: 9.1699 - accuracy: 0.1641\n",
            "163/163 [==============================] - 0s 2ms/step - loss: 1.7560 - accuracy: 0.5348\n",
            "650/650 [==============================] - 2s 2ms/step - loss: 9.1472 - accuracy: 0.1643\n",
            "163/163 [==============================] - 0s 2ms/step - loss: 1.7624 - accuracy: 0.5217\n",
            "650/650 [==============================] - 2s 2ms/step - loss: 9.1414 - accuracy: 0.1619\n",
            "163/163 [==============================] - 0s 2ms/step - loss: 1.7723 - accuracy: 0.5339\n",
            "650/650 [==============================] - 2s 3ms/step - loss: 8.5022 - accuracy: 0.3545\n",
            "163/163 [==============================] - 0s 2ms/step - loss: 0.8781 - accuracy: 0.7402\n",
            "650/650 [==============================] - 2s 3ms/step - loss: 8.5391 - accuracy: 0.3494\n",
            "163/163 [==============================] - 0s 2ms/step - loss: 0.8906 - accuracy: 0.7317\n",
            "650/650 [==============================] - 2s 3ms/step - loss: 8.5052 - accuracy: 0.3518\n",
            "163/163 [==============================] - 0s 2ms/step - loss: 0.9103 - accuracy: 0.7239\n",
            "650/650 [==============================] - 2s 3ms/step - loss: 8.5808 - accuracy: 0.3471\n",
            "163/163 [==============================] - 0s 2ms/step - loss: 0.8696 - accuracy: 0.7405\n",
            "650/650 [==============================] - 2s 3ms/step - loss: 8.5804 - accuracy: 0.3462\n",
            "163/163 [==============================] - 0s 2ms/step - loss: 0.8849 - accuracy: 0.7366\n",
            "650/650 [==============================] - 2s 2ms/step - loss: 9.2482 - accuracy: 0.1564\n",
            "163/163 [==============================] - 0s 2ms/step - loss: 2.2391 - accuracy: 0.5277\n",
            "650/650 [==============================] - 2s 2ms/step - loss: 9.2304 - accuracy: 0.1582\n",
            "163/163 [==============================] - 0s 2ms/step - loss: 2.2296 - accuracy: 0.5211\n",
            "650/650 [==============================] - 2s 2ms/step - loss: 9.2327 - accuracy: 0.1506\n",
            "163/163 [==============================] - 0s 2ms/step - loss: 2.2497 - accuracy: 0.5086\n",
            "650/650 [==============================] - 2s 2ms/step - loss: 9.1985 - accuracy: 0.1594\n",
            "163/163 [==============================] - 0s 2ms/step - loss: 2.2402 - accuracy: 0.5233\n",
            "650/650 [==============================] - 2s 2ms/step - loss: 9.2446 - accuracy: 0.1598\n",
            "163/163 [==============================] - 0s 2ms/step - loss: 2.2529 - accuracy: 0.5221\n",
            "650/650 [==============================] - 2s 2ms/step - loss: 8.5647 - accuracy: 0.3476\n",
            "163/163 [==============================] - 0s 2ms/step - loss: 0.8884 - accuracy: 0.7310\n",
            "650/650 [==============================] - 2s 2ms/step - loss: 8.5115 - accuracy: 0.3497\n",
            "163/163 [==============================] - 0s 2ms/step - loss: 0.8638 - accuracy: 0.7446\n",
            "650/650 [==============================] - 2s 2ms/step - loss: 8.4419 - accuracy: 0.3551\n",
            "163/163 [==============================] - 0s 2ms/step - loss: 0.9080 - accuracy: 0.7303\n",
            "650/650 [==============================] - 2s 2ms/step - loss: 8.5131 - accuracy: 0.3504\n",
            "163/163 [==============================] - 0s 2ms/step - loss: 0.9049 - accuracy: 0.7273\n",
            "650/650 [==============================] - 2s 2ms/step - loss: 8.5461 - accuracy: 0.3473\n",
            "163/163 [==============================] - 0s 2ms/step - loss: 0.8837 - accuracy: 0.7386\n",
            "650/650 [==============================] - 2s 2ms/step - loss: 9.5140 - accuracy: 0.0313\n",
            "163/163 [==============================] - 0s 2ms/step - loss: 3.3352 - accuracy: 0.0448\n",
            "650/650 [==============================] - 2s 2ms/step - loss: 9.5216 - accuracy: 0.0422\n",
            "163/163 [==============================] - 0s 2ms/step - loss: 3.4056 - accuracy: 0.0507\n",
            "650/650 [==============================] - 2s 2ms/step - loss: 9.4095 - accuracy: 0.0388\n",
            "163/163 [==============================] - 0s 2ms/step - loss: 3.3008 - accuracy: 0.0599\n",
            "650/650 [==============================] - 2s 2ms/step - loss: 9.4577 - accuracy: 0.0345\n",
            "163/163 [==============================] - 0s 2ms/step - loss: 3.3611 - accuracy: 0.0469\n",
            "650/650 [==============================] - 2s 2ms/step - loss: 9.5219 - accuracy: 0.0377\n",
            "163/163 [==============================] - 0s 2ms/step - loss: 3.4017 - accuracy: 0.0540\n",
            "650/650 [==============================] - 2s 2ms/step - loss: 9.3810 - accuracy: 0.0724\n",
            "163/163 [==============================] - 0s 2ms/step - loss: 2.8755 - accuracy: 0.3144\n",
            "650/650 [==============================] - 2s 2ms/step - loss: 9.3749 - accuracy: 0.0782\n",
            "163/163 [==============================] - 0s 2ms/step - loss: 2.8662 - accuracy: 0.3387\n",
            "650/650 [==============================] - 2s 2ms/step - loss: 9.3740 - accuracy: 0.0920\n",
            "163/163 [==============================] - 0s 2ms/step - loss: 2.8558 - accuracy: 0.3368\n",
            "650/650 [==============================] - 2s 2ms/step - loss: 9.2701 - accuracy: 0.0753\n",
            "163/163 [==============================] - 1s 2ms/step - loss: 2.8720 - accuracy: 0.3321\n",
            "650/650 [==============================] - 2s 2ms/step - loss: 9.3261 - accuracy: 0.0837\n",
            "163/163 [==============================] - 0s 2ms/step - loss: 2.8351 - accuracy: 0.3230\n",
            "650/650 [==============================] - 2s 3ms/step - loss: 8.4851 - accuracy: 0.3504\n",
            "163/163 [==============================] - 0s 2ms/step - loss: 0.8699 - accuracy: 0.7424\n",
            "650/650 [==============================] - 2s 3ms/step - loss: 8.5331 - accuracy: 0.3500\n",
            "163/163 [==============================] - 0s 2ms/step - loss: 0.9005 - accuracy: 0.7274\n",
            "650/650 [==============================] - 2s 3ms/step - loss: 8.4964 - accuracy: 0.3517\n",
            "163/163 [==============================] - 0s 2ms/step - loss: 0.8841 - accuracy: 0.7378\n",
            "650/650 [==============================] - 2s 3ms/step - loss: 8.4976 - accuracy: 0.3535\n",
            "163/163 [==============================] - 0s 2ms/step - loss: 0.8938 - accuracy: 0.7366\n",
            "650/650 [==============================] - 2s 3ms/step - loss: 8.5467 - accuracy: 0.3476\n",
            "163/163 [==============================] - 0s 2ms/step - loss: 0.8671 - accuracy: 0.7423\n",
            "650/650 [==============================] - 2s 2ms/step - loss: 9.2354 - accuracy: 0.1524\n",
            "163/163 [==============================] - 0s 2ms/step - loss: 2.2411 - accuracy: 0.5085\n",
            "650/650 [==============================] - 2s 2ms/step - loss: 9.2691 - accuracy: 0.1557\n",
            "163/163 [==============================] - 0s 2ms/step - loss: 2.2316 - accuracy: 0.5242\n",
            "650/650 [==============================] - 2s 2ms/step - loss: 9.2415 - accuracy: 0.1611\n",
            "163/163 [==============================] - 0s 2ms/step - loss: 2.2383 - accuracy: 0.5121\n",
            "650/650 [==============================] - 2s 2ms/step - loss: 9.1808 - accuracy: 0.1695\n",
            "163/163 [==============================] - 0s 2ms/step - loss: 2.2097 - accuracy: 0.5287\n",
            "650/650 [==============================] - 2s 2ms/step - loss: 9.1676 - accuracy: 0.1622\n",
            "163/163 [==============================] - 1s 2ms/step - loss: 2.2401 - accuracy: 0.5169\n",
            "650/650 [==============================] - 2s 2ms/step - loss: 8.5629 - accuracy: 0.3453\n",
            "163/163 [==============================] - 0s 2ms/step - loss: 0.9273 - accuracy: 0.7240\n",
            "650/650 [==============================] - 2s 2ms/step - loss: 8.5296 - accuracy: 0.3507\n",
            "163/163 [==============================] - 0s 2ms/step - loss: 0.8631 - accuracy: 0.7452\n",
            "650/650 [==============================] - 2s 2ms/step - loss: 8.5599 - accuracy: 0.3479\n",
            "163/163 [==============================] - 0s 2ms/step - loss: 0.9016 - accuracy: 0.7354\n",
            "650/650 [==============================] - 2s 2ms/step - loss: 8.5469 - accuracy: 0.3473\n",
            "163/163 [==============================] - 0s 2ms/step - loss: 0.8954 - accuracy: 0.7355\n",
            "650/650 [==============================] - 2s 2ms/step - loss: 8.5779 - accuracy: 0.3450\n",
            "163/163 [==============================] - 0s 2ms/step - loss: 0.8891 - accuracy: 0.7378\n",
            "650/650 [==============================] - 2s 2ms/step - loss: 9.4878 - accuracy: 0.0300\n",
            "163/163 [==============================] - 0s 2ms/step - loss: 3.4188 - accuracy: 0.0288\n",
            "650/650 [==============================] - 2s 2ms/step - loss: 9.4167 - accuracy: 0.0383\n",
            "163/163 [==============================] - 0s 2ms/step - loss: 3.3390 - accuracy: 0.0449\n",
            "650/650 [==============================] - 2s 2ms/step - loss: 9.4463 - accuracy: 0.0449\n",
            "163/163 [==============================] - 0s 2ms/step - loss: 3.3234 - accuracy: 0.0727\n",
            "650/650 [==============================] - 2s 2ms/step - loss: 9.4016 - accuracy: 0.0413\n",
            "163/163 [==============================] - 0s 2ms/step - loss: 3.2783 - accuracy: 0.0618\n",
            "650/650 [==============================] - 2s 2ms/step - loss: 9.4298 - accuracy: 0.0491\n",
            "163/163 [==============================] - 0s 2ms/step - loss: 3.3279 - accuracy: 0.0796\n",
            "650/650 [==============================] - 2s 2ms/step - loss: 9.2973 - accuracy: 0.0858\n",
            "163/163 [==============================] - 0s 2ms/step - loss: 2.8292 - accuracy: 0.3400\n",
            "650/650 [==============================] - 2s 2ms/step - loss: 9.3762 - accuracy: 0.0766\n",
            "163/163 [==============================] - 0s 2ms/step - loss: 2.8659 - accuracy: 0.3203\n",
            "650/650 [==============================] - 2s 2ms/step - loss: 9.3272 - accuracy: 0.0862\n",
            "163/163 [==============================] - 0s 2ms/step - loss: 2.8413 - accuracy: 0.3310\n",
            "650/650 [==============================] - 2s 2ms/step - loss: 9.3458 - accuracy: 0.0806\n",
            "163/163 [==============================] - 0s 2ms/step - loss: 2.8484 - accuracy: 0.3388\n",
            "650/650 [==============================] - 2s 2ms/step - loss: 9.3645 - accuracy: 0.0843\n",
            "163/163 [==============================] - 0s 2ms/step - loss: 2.8454 - accuracy: 0.3387\n",
            "325/325 [==============================] - 1s 3ms/step - loss: 3.9934 - accuracy: 0.5813\n",
            "82/82 [==============================] - 0s 2ms/step - loss: 0.5473 - accuracy: 0.8370\n",
            "325/325 [==============================] - 1s 3ms/step - loss: nan - accuracy: 0.5479\n",
            "82/82 [==============================] - 0s 2ms/step - loss: nan - accuracy: 0.0000e+00\n",
            "325/325 [==============================] - 1s 3ms/step - loss: 3.9765 - accuracy: 0.5816\n",
            "82/82 [==============================] - 0s 2ms/step - loss: 0.5669 - accuracy: 0.8316\n",
            "325/325 [==============================] - 1s 3ms/step - loss: 3.9060 - accuracy: 0.5852\n",
            "82/82 [==============================] - 0s 2ms/step - loss: 0.5595 - accuracy: 0.8293\n",
            "325/325 [==============================] - 1s 3ms/step - loss: 3.9977 - accuracy: 0.5841\n",
            "82/82 [==============================] - 0s 2ms/step - loss: 0.5733 - accuracy: 0.8335\n",
            "325/325 [==============================] - 1s 2ms/step - loss: 4.9679 - accuracy: 0.3009\n",
            "82/82 [==============================] - 0s 2ms/step - loss: 1.3601 - accuracy: 0.6289\n",
            "325/325 [==============================] - 1s 3ms/step - loss: 5.0905 - accuracy: 0.2934\n",
            "82/82 [==============================] - 0s 3ms/step - loss: 1.3562 - accuracy: 0.6349\n",
            "325/325 [==============================] - 1s 3ms/step - loss: 4.9936 - accuracy: 0.3101\n",
            "82/82 [==============================] - 0s 3ms/step - loss: 1.3684 - accuracy: 0.6273\n",
            "325/325 [==============================] - 1s 3ms/step - loss: 5.0222 - accuracy: 0.3087\n",
            "82/82 [==============================] - 0s 3ms/step - loss: 1.3523 - accuracy: 0.6329\n",
            "325/325 [==============================] - 1s 3ms/step - loss: 5.0426 - accuracy: 0.3007\n",
            "82/82 [==============================] - 0s 2ms/step - loss: 1.3645 - accuracy: 0.6325\n",
            "325/325 [==============================] - 1s 3ms/step - loss: 3.9653 - accuracy: 0.5770\n",
            "82/82 [==============================] - 0s 3ms/step - loss: 0.5600 - accuracy: 0.8352\n",
            "325/325 [==============================] - 1s 3ms/step - loss: 3.9842 - accuracy: 0.5766\n",
            "82/82 [==============================] - 0s 2ms/step - loss: 0.5572 - accuracy: 0.8305\n",
            "325/325 [==============================] - 1s 3ms/step - loss: 3.9471 - accuracy: 0.5786\n",
            "82/82 [==============================] - 0s 3ms/step - loss: 0.5909 - accuracy: 0.8245\n",
            "325/325 [==============================] - 1s 3ms/step - loss: 3.9989 - accuracy: 0.5739\n",
            "82/82 [==============================] - 0s 2ms/step - loss: 0.5510 - accuracy: 0.8347\n",
            "325/325 [==============================] - 1s 3ms/step - loss: 3.9749 - accuracy: 0.5754\n",
            "82/82 [==============================] - 0s 2ms/step - loss: 0.5842 - accuracy: 0.8254\n",
            "325/325 [==============================] - 1s 3ms/step - loss: 5.8352 - accuracy: 0.0558\n",
            "82/82 [==============================] - 0s 3ms/step - loss: 3.2706 - accuracy: 0.0939\n",
            "325/325 [==============================] - 1s 3ms/step - loss: 5.9284 - accuracy: 0.0505\n",
            "82/82 [==============================] - 0s 3ms/step - loss: 3.3539 - accuracy: 0.0813\n",
            "325/325 [==============================] - 1s 3ms/step - loss: 5.8360 - accuracy: 0.0520\n",
            "82/82 [==============================] - 0s 3ms/step - loss: 3.2904 - accuracy: 0.0899\n",
            "325/325 [==============================] - 1s 3ms/step - loss: 5.9234 - accuracy: 0.0408\n",
            "82/82 [==============================] - 0s 3ms/step - loss: 3.3556 - accuracy: 0.0674\n",
            "325/325 [==============================] - 1s 3ms/step - loss: 5.9233 - accuracy: 0.0395\n",
            "82/82 [==============================] - 0s 3ms/step - loss: 3.4095 - accuracy: 0.0624\n",
            "325/325 [==============================] - 1s 3ms/step - loss: 5.5284 - accuracy: 0.1488\n",
            "82/82 [==============================] - 0s 2ms/step - loss: 2.0707 - accuracy: 0.4723\n",
            "325/325 [==============================] - 1s 3ms/step - loss: 5.4508 - accuracy: 0.1805\n",
            "82/82 [==============================] - 0s 3ms/step - loss: 2.0012 - accuracy: 0.5031\n",
            "325/325 [==============================] - 1s 3ms/step - loss: 5.5147 - accuracy: 0.1675\n",
            "82/82 [==============================] - 0s 3ms/step - loss: 2.0340 - accuracy: 0.4883\n",
            "325/325 [==============================] - 1s 3ms/step - loss: 5.4903 - accuracy: 0.1573\n",
            "82/82 [==============================] - 0s 2ms/step - loss: 2.0421 - accuracy: 0.4893\n",
            "325/325 [==============================] - 1s 3ms/step - loss: 5.4672 - accuracy: 0.1657\n",
            "82/82 [==============================] - 0s 2ms/step - loss: 2.0456 - accuracy: 0.4835\n",
            "325/325 [==============================] - 1s 3ms/step - loss: 3.9751 - accuracy: 0.5852\n",
            "82/82 [==============================] - 0s 2ms/step - loss: 0.5461 - accuracy: 0.8401\n",
            "325/325 [==============================] - 1s 3ms/step - loss: 3.9353 - accuracy: 0.5859\n",
            "82/82 [==============================] - 0s 2ms/step - loss: 0.5568 - accuracy: 0.8316\n",
            "325/325 [==============================] - 1s 3ms/step - loss: 4.0114 - accuracy: 0.5816\n",
            "82/82 [==============================] - 1s 2ms/step - loss: 0.5967 - accuracy: 0.8172\n",
            "325/325 [==============================] - 1s 3ms/step - loss: 3.9364 - accuracy: 0.5866\n",
            "82/82 [==============================] - 0s 2ms/step - loss: 0.5868 - accuracy: 0.8204\n",
            "325/325 [==============================] - 1s 3ms/step - loss: 3.9993 - accuracy: 0.5820\n",
            "82/82 [==============================] - 0s 2ms/step - loss: 0.5632 - accuracy: 0.8320\n",
            "325/325 [==============================] - 1s 3ms/step - loss: 5.0265 - accuracy: 0.2957\n",
            "82/82 [==============================] - 0s 3ms/step - loss: 1.3656 - accuracy: 0.6320\n",
            "325/325 [==============================] - 1s 3ms/step - loss: 5.0664 - accuracy: 0.2957\n",
            "82/82 [==============================] - 0s 2ms/step - loss: 1.3449 - accuracy: 0.6367\n",
            "325/325 [==============================] - 1s 3ms/step - loss: 5.0236 - accuracy: 0.3067\n",
            "82/82 [==============================] - 0s 2ms/step - loss: 1.3751 - accuracy: 0.6268\n",
            "325/325 [==============================] - 1s 3ms/step - loss: 5.0116 - accuracy: 0.3021\n",
            "82/82 [==============================] - 0s 2ms/step - loss: 1.3557 - accuracy: 0.6330\n",
            "325/325 [==============================] - 1s 3ms/step - loss: 5.0248 - accuracy: 0.3056\n",
            "82/82 [==============================] - 0s 3ms/step - loss: 1.3628 - accuracy: 0.6338\n",
            "325/325 [==============================] - 1s 3ms/step - loss: 3.9539 - accuracy: 0.5762\n",
            "82/82 [==============================] - 0s 3ms/step - loss: 0.5454 - accuracy: 0.8372\n",
            "325/325 [==============================] - 1s 3ms/step - loss: 4.0175 - accuracy: 0.5721\n",
            "82/82 [==============================] - 0s 3ms/step - loss: 0.5305 - accuracy: 0.8429\n",
            "325/325 [==============================] - 1s 3ms/step - loss: 3.9930 - accuracy: 0.5747\n",
            "82/82 [==============================] - 0s 3ms/step - loss: 0.5971 - accuracy: 0.8245\n",
            "325/325 [==============================] - 1s 3ms/step - loss: nan - accuracy: 0.5736\n",
            "82/82 [==============================] - 0s 3ms/step - loss: nan - accuracy: 0.0000e+00\n",
            "325/325 [==============================] - 1s 3ms/step - loss: nan - accuracy: 0.4942\n",
            "82/82 [==============================] - 0s 3ms/step - loss: nan - accuracy: 0.0000e+00\n",
            "325/325 [==============================] - 1s 3ms/step - loss: 5.8742 - accuracy: 0.0362\n",
            "82/82 [==============================] - 0s 2ms/step - loss: 3.3828 - accuracy: 0.0614\n",
            "325/325 [==============================] - 1s 3ms/step - loss: 5.8934 - accuracy: 0.0325\n",
            "82/82 [==============================] - 0s 3ms/step - loss: 3.3711 - accuracy: 0.0590\n",
            "325/325 [==============================] - 1s 3ms/step - loss: 5.8381 - accuracy: 0.0427\n",
            "82/82 [==============================] - 0s 3ms/step - loss: 3.3499 - accuracy: 0.0691\n",
            "325/325 [==============================] - 1s 3ms/step - loss: 5.9971 - accuracy: 0.0384\n",
            "82/82 [==============================] - 0s 3ms/step - loss: 3.4260 - accuracy: 0.0637\n",
            "325/325 [==============================] - 1s 3ms/step - loss: 5.9549 - accuracy: 0.0485\n",
            "82/82 [==============================] - 0s 3ms/step - loss: 3.4154 - accuracy: 0.0783\n",
            "325/325 [==============================] - 1s 3ms/step - loss: 5.5266 - accuracy: 0.1530\n",
            "82/82 [==============================] - 0s 2ms/step - loss: 2.0443 - accuracy: 0.4761\n",
            "325/325 [==============================] - 1s 3ms/step - loss: 5.5658 - accuracy: 0.1377\n",
            "82/82 [==============================] - 0s 2ms/step - loss: 2.0509 - accuracy: 0.4871\n",
            "325/325 [==============================] - 1s 3ms/step - loss: 5.4368 - accuracy: 0.1671\n",
            "82/82 [==============================] - 0s 2ms/step - loss: 2.0491 - accuracy: 0.4779\n",
            "325/325 [==============================] - 1s 3ms/step - loss: 5.4268 - accuracy: 0.1734\n",
            "82/82 [==============================] - 0s 3ms/step - loss: 2.0333 - accuracy: 0.4913\n",
            "325/325 [==============================] - 2s 3ms/step - loss: 5.5461 - accuracy: 0.1562\n",
            "82/82 [==============================] - 0s 3ms/step - loss: 2.0558 - accuracy: 0.4886\n",
            "325/325 [==============================] - 1s 3ms/step - loss: 4.1101 - accuracy: 0.5449\n",
            "82/82 [==============================] - 0s 3ms/step - loss: 0.6529 - accuracy: 0.8055\n",
            "325/325 [==============================] - 1s 3ms/step - loss: 4.0241 - accuracy: 0.5539\n",
            "82/82 [==============================] - 0s 3ms/step - loss: 0.6412 - accuracy: 0.8093\n",
            "325/325 [==============================] - 1s 3ms/step - loss: 4.0804 - accuracy: 0.5493\n",
            "82/82 [==============================] - 0s 3ms/step - loss: 0.6683 - accuracy: 0.8047\n",
            "325/325 [==============================] - 1s 3ms/step - loss: 4.0520 - accuracy: 0.5496\n",
            "82/82 [==============================] - 0s 3ms/step - loss: 0.6692 - accuracy: 0.8057\n",
            "325/325 [==============================] - 1s 3ms/step - loss: 4.0890 - accuracy: 0.5475\n",
            "82/82 [==============================] - 0s 2ms/step - loss: 0.6784 - accuracy: 0.8016\n",
            "325/325 [==============================] - 1s 3ms/step - loss: 4.9234 - accuracy: 0.3236\n",
            "82/82 [==============================] - 0s 3ms/step - loss: 1.3280 - accuracy: 0.6245\n",
            "325/325 [==============================] - 1s 3ms/step - loss: 4.8616 - accuracy: 0.3324\n",
            "82/82 [==============================] - 0s 3ms/step - loss: 1.3219 - accuracy: 0.6282\n",
            "325/325 [==============================] - 1s 3ms/step - loss: 4.9423 - accuracy: 0.3331\n",
            "82/82 [==============================] - 0s 3ms/step - loss: 1.3406 - accuracy: 0.6217\n",
            "325/325 [==============================] - 1s 3ms/step - loss: 4.9260 - accuracy: 0.3295\n",
            "82/82 [==============================] - 0s 3ms/step - loss: 1.3358 - accuracy: 0.6263\n",
            "325/325 [==============================] - 1s 3ms/step - loss: 4.9259 - accuracy: 0.3232\n",
            "82/82 [==============================] - 0s 3ms/step - loss: 1.3450 - accuracy: 0.6225\n",
            "325/325 [==============================] - 1s 3ms/step - loss: 4.0664 - accuracy: 0.5464\n",
            "82/82 [==============================] - 0s 3ms/step - loss: 0.6575 - accuracy: 0.8099\n",
            "325/325 [==============================] - 1s 3ms/step - loss: 4.1404 - accuracy: 0.5430\n",
            "82/82 [==============================] - 0s 3ms/step - loss: 0.6826 - accuracy: 0.8005\n",
            "325/325 [==============================] - 1s 3ms/step - loss: 4.0917 - accuracy: 0.5450\n",
            "82/82 [==============================] - 0s 3ms/step - loss: 0.6952 - accuracy: 0.7939\n",
            "325/325 [==============================] - 1s 3ms/step - loss: 4.0986 - accuracy: 0.5427\n",
            "82/82 [==============================] - 0s 2ms/step - loss: 0.6906 - accuracy: 0.7973\n",
            "325/325 [==============================] - 1s 3ms/step - loss: 4.0689 - accuracy: 0.5434\n",
            "82/82 [==============================] - 0s 3ms/step - loss: 0.6747 - accuracy: 0.8077\n",
            "325/325 [==============================] - 1s 3ms/step - loss: 5.8975 - accuracy: 0.0463\n",
            "82/82 [==============================] - 0s 3ms/step - loss: 3.2788 - accuracy: 0.0871\n",
            "325/325 [==============================] - 1s 3ms/step - loss: 5.8453 - accuracy: 0.0495\n",
            "82/82 [==============================] - 0s 2ms/step - loss: 3.2295 - accuracy: 0.0886\n",
            "325/325 [==============================] - 1s 3ms/step - loss: 5.7194 - accuracy: 0.0554\n",
            "82/82 [==============================] - 0s 3ms/step - loss: 3.1301 - accuracy: 0.1053\n",
            "325/325 [==============================] - 1s 3ms/step - loss: 5.7374 - accuracy: 0.0627\n",
            "82/82 [==============================] - 0s 3ms/step - loss: 3.1490 - accuracy: 0.1167\n",
            "325/325 [==============================] - 1s 3ms/step - loss: 5.8048 - accuracy: 0.0499\n",
            "82/82 [==============================] - 0s 2ms/step - loss: 3.1827 - accuracy: 0.1061\n",
            "325/325 [==============================] - 1s 3ms/step - loss: 5.3324 - accuracy: 0.1874\n",
            "82/82 [==============================] - 0s 3ms/step - loss: 1.8264 - accuracy: 0.5145\n",
            "325/325 [==============================] - 1s 3ms/step - loss: 5.3117 - accuracy: 0.1916\n",
            "82/82 [==============================] - 1s 3ms/step - loss: 1.8139 - accuracy: 0.5121\n",
            "325/325 [==============================] - 1s 3ms/step - loss: 5.3929 - accuracy: 0.1838\n",
            "82/82 [==============================] - 0s 2ms/step - loss: 1.8537 - accuracy: 0.5088\n",
            "325/325 [==============================] - 1s 3ms/step - loss: 5.3496 - accuracy: 0.1770\n",
            "82/82 [==============================] - 0s 3ms/step - loss: 1.8316 - accuracy: 0.5179\n",
            "325/325 [==============================] - 1s 3ms/step - loss: 5.3732 - accuracy: 0.1906\n",
            "82/82 [==============================] - 0s 2ms/step - loss: 1.8245 - accuracy: 0.5152\n",
            "325/325 [==============================] - 1s 3ms/step - loss: 4.0713 - accuracy: 0.5482\n",
            "82/82 [==============================] - 0s 2ms/step - loss: 0.6500 - accuracy: 0.8032\n",
            "325/325 [==============================] - 1s 3ms/step - loss: 4.0121 - accuracy: 0.5492\n",
            "82/82 [==============================] - 0s 2ms/step - loss: 0.6550 - accuracy: 0.8046\n",
            "325/325 [==============================] - 1s 3ms/step - loss: 4.0690 - accuracy: 0.5461\n",
            "82/82 [==============================] - 0s 2ms/step - loss: 0.6612 - accuracy: 0.8034\n",
            "325/325 [==============================] - 1s 3ms/step - loss: 4.0187 - accuracy: 0.5532\n",
            "82/82 [==============================] - 0s 2ms/step - loss: 0.6534 - accuracy: 0.8075\n",
            "325/325 [==============================] - 1s 3ms/step - loss: 4.0780 - accuracy: 0.5460\n",
            "82/82 [==============================] - 0s 2ms/step - loss: 0.6569 - accuracy: 0.8087\n",
            "325/325 [==============================] - 1s 3ms/step - loss: 4.9355 - accuracy: 0.3288\n",
            "82/82 [==============================] - 0s 3ms/step - loss: 1.3306 - accuracy: 0.6250\n",
            "325/325 [==============================] - 1s 3ms/step - loss: 4.9412 - accuracy: 0.3227\n",
            "82/82 [==============================] - 0s 2ms/step - loss: 1.3245 - accuracy: 0.6291\n",
            "325/325 [==============================] - 1s 3ms/step - loss: 4.8795 - accuracy: 0.3234\n",
            "82/82 [==============================] - 1s 2ms/step - loss: 1.3468 - accuracy: 0.6226\n",
            "325/325 [==============================] - 1s 3ms/step - loss: 4.8730 - accuracy: 0.3221\n",
            "82/82 [==============================] - 0s 3ms/step - loss: 1.3378 - accuracy: 0.6271\n",
            "325/325 [==============================] - 1s 3ms/step - loss: 4.8011 - accuracy: 0.3360\n",
            "82/82 [==============================] - 0s 2ms/step - loss: 1.3368 - accuracy: 0.6255\n",
            "325/325 [==============================] - 1s 3ms/step - loss: 4.1241 - accuracy: 0.5444\n",
            "82/82 [==============================] - 0s 3ms/step - loss: 0.6675 - accuracy: 0.8031\n",
            "325/325 [==============================] - 1s 3ms/step - loss: 4.0985 - accuracy: 0.5470\n",
            "82/82 [==============================] - 0s 3ms/step - loss: 0.6685 - accuracy: 0.8045\n",
            "325/325 [==============================] - 1s 3ms/step - loss: 4.0996 - accuracy: 0.5447\n",
            "82/82 [==============================] - 0s 2ms/step - loss: 0.7015 - accuracy: 0.7934\n",
            "325/325 [==============================] - 1s 3ms/step - loss: 4.0592 - accuracy: 0.5468\n",
            "82/82 [==============================] - 0s 2ms/step - loss: 0.6665 - accuracy: 0.8073\n",
            "325/325 [==============================] - 1s 3ms/step - loss: 4.0667 - accuracy: 0.5455\n",
            "82/82 [==============================] - 0s 3ms/step - loss: 0.6834 - accuracy: 0.8024\n",
            "325/325 [==============================] - 1s 3ms/step - loss: 5.7700 - accuracy: 0.0555\n",
            "82/82 [==============================] - 0s 2ms/step - loss: 3.1623 - accuracy: 0.1004\n",
            "325/325 [==============================] - 1s 3ms/step - loss: 5.7799 - accuracy: 0.0592\n",
            "82/82 [==============================] - 0s 3ms/step - loss: 3.1576 - accuracy: 0.1138\n",
            "325/325 [==============================] - 1s 3ms/step - loss: 5.8452 - accuracy: 0.0416\n",
            "82/82 [==============================] - 0s 3ms/step - loss: 3.2271 - accuracy: 0.0726\n",
            "325/325 [==============================] - 1s 3ms/step - loss: 5.9028 - accuracy: 0.0372\n",
            "82/82 [==============================] - 0s 3ms/step - loss: 3.2986 - accuracy: 0.0708\n",
            "325/325 [==============================] - 1s 3ms/step - loss: 5.8783 - accuracy: 0.0369\n",
            "82/82 [==============================] - 0s 3ms/step - loss: 3.2806 - accuracy: 0.0762\n",
            "325/325 [==============================] - 1s 3ms/step - loss: 5.3253 - accuracy: 0.1966\n",
            "82/82 [==============================] - 0s 3ms/step - loss: 1.8413 - accuracy: 0.5076\n",
            "325/325 [==============================] - 1s 3ms/step - loss: 5.3506 - accuracy: 0.2002\n",
            "82/82 [==============================] - 0s 3ms/step - loss: 1.8158 - accuracy: 0.5132\n",
            "325/325 [==============================] - 1s 3ms/step - loss: 5.3619 - accuracy: 0.1869\n",
            "82/82 [==============================] - 0s 3ms/step - loss: 1.8416 - accuracy: 0.5083\n",
            "325/325 [==============================] - 1s 3ms/step - loss: 5.2636 - accuracy: 0.1999\n",
            "82/82 [==============================] - 0s 3ms/step - loss: 1.8098 - accuracy: 0.5175\n",
            "325/325 [==============================] - 1s 3ms/step - loss: 5.3716 - accuracy: 0.1921\n",
            "82/82 [==============================] - 0s 3ms/step - loss: 1.8193 - accuracy: 0.5198\n",
            "325/325 [==============================] - 1s 3ms/step - loss: 4.1778 - accuracy: 0.5221\n",
            "82/82 [==============================] - 0s 3ms/step - loss: 0.8119 - accuracy: 0.7629\n",
            "325/325 [==============================] - 1s 3ms/step - loss: 4.1606 - accuracy: 0.5212\n",
            "82/82 [==============================] - 0s 2ms/step - loss: 0.8136 - accuracy: 0.7647\n",
            "325/325 [==============================] - 1s 3ms/step - loss: 4.1982 - accuracy: 0.5157\n",
            "82/82 [==============================] - 0s 2ms/step - loss: 0.8432 - accuracy: 0.7540\n",
            "325/325 [==============================] - 1s 3ms/step - loss: 4.1675 - accuracy: 0.5216\n",
            "82/82 [==============================] - 0s 2ms/step - loss: 0.8238 - accuracy: 0.7620\n",
            "325/325 [==============================] - 2s 3ms/step - loss: 4.2057 - accuracy: 0.5168\n",
            "82/82 [==============================] - 0s 3ms/step - loss: 0.8388 - accuracy: 0.7569\n",
            "325/325 [==============================] - 1s 3ms/step - loss: 5.4499 - accuracy: 0.1909\n",
            "82/82 [==============================] - 0s 3ms/step - loss: 2.3260 - accuracy: 0.4960\n",
            "325/325 [==============================] - 1s 3ms/step - loss: 5.5186 - accuracy: 0.1911\n",
            "82/82 [==============================] - 0s 3ms/step - loss: 2.3346 - accuracy: 0.5044\n",
            "325/325 [==============================] - 1s 3ms/step - loss: 5.5073 - accuracy: 0.1682\n",
            "82/82 [==============================] - 0s 3ms/step - loss: 2.3626 - accuracy: 0.4892\n",
            "325/325 [==============================] - 1s 3ms/step - loss: 5.4501 - accuracy: 0.1999\n",
            "82/82 [==============================] - 0s 2ms/step - loss: 2.3231 - accuracy: 0.5084\n",
            "325/325 [==============================] - 1s 3ms/step - loss: 5.5098 - accuracy: 0.1777\n",
            "82/82 [==============================] - 0s 3ms/step - loss: 2.3465 - accuracy: 0.5044\n",
            "325/325 [==============================] - 1s 3ms/step - loss: 4.2175 - accuracy: 0.5106\n",
            "82/82 [==============================] - 0s 3ms/step - loss: 0.8509 - accuracy: 0.7506\n",
            "325/325 [==============================] - 1s 3ms/step - loss: 4.1774 - accuracy: 0.5140\n",
            "82/82 [==============================] - 0s 3ms/step - loss: 0.8277 - accuracy: 0.7587\n",
            "325/325 [==============================] - 1s 3ms/step - loss: 4.2568 - accuracy: 0.5114\n",
            "82/82 [==============================] - 0s 3ms/step - loss: 0.8684 - accuracy: 0.7446\n",
            "325/325 [==============================] - 1s 3ms/step - loss: 4.1973 - accuracy: 0.5091\n",
            "82/82 [==============================] - 0s 3ms/step - loss: 0.8583 - accuracy: 0.7464\n",
            "325/325 [==============================] - 2s 3ms/step - loss: 4.2574 - accuracy: 0.5070\n",
            "82/82 [==============================] - 0s 3ms/step - loss: 0.8476 - accuracy: 0.7563\n",
            "325/325 [==============================] - 1s 3ms/step - loss: 5.8262 - accuracy: 0.0406\n",
            "82/82 [==============================] - 0s 3ms/step - loss: 3.3573 - accuracy: 0.0428\n",
            "325/325 [==============================] - 1s 3ms/step - loss: 5.8634 - accuracy: 0.0393\n",
            "82/82 [==============================] - 0s 3ms/step - loss: 3.4305 - accuracy: 0.0412\n",
            "325/325 [==============================] - 1s 3ms/step - loss: 5.8897 - accuracy: 0.0422\n",
            "82/82 [==============================] - 0s 2ms/step - loss: 3.4254 - accuracy: 0.0471\n",
            "325/325 [==============================] - 1s 3ms/step - loss: 5.8878 - accuracy: 0.0433\n",
            "82/82 [==============================] - 0s 3ms/step - loss: 3.4443 - accuracy: 0.0594\n",
            "325/325 [==============================] - 1s 3ms/step - loss: 5.8093 - accuracy: 0.0432\n",
            "82/82 [==============================] - 0s 3ms/step - loss: 3.3624 - accuracy: 0.0563\n",
            "325/325 [==============================] - 1s 3ms/step - loss: 5.6499 - accuracy: 0.1004\n",
            "82/82 [==============================] - 0s 3ms/step - loss: 2.8883 - accuracy: 0.3089\n",
            "325/325 [==============================] - 1s 3ms/step - loss: 5.6401 - accuracy: 0.0846\n",
            "82/82 [==============================] - 0s 3ms/step - loss: 2.9085 - accuracy: 0.2981\n",
            "325/325 [==============================] - 1s 3ms/step - loss: 5.6672 - accuracy: 0.0972\n",
            "82/82 [==============================] - 0s 3ms/step - loss: 2.8909 - accuracy: 0.3140\n",
            "325/325 [==============================] - 1s 3ms/step - loss: 5.6155 - accuracy: 0.0871\n",
            "82/82 [==============================] - 0s 3ms/step - loss: 2.9088 - accuracy: 0.3040\n",
            "325/325 [==============================] - 1s 3ms/step - loss: 5.6273 - accuracy: 0.0834\n",
            "82/82 [==============================] - 0s 2ms/step - loss: 2.9217 - accuracy: 0.2966\n",
            "325/325 [==============================] - 1s 3ms/step - loss: 4.1657 - accuracy: 0.5230\n",
            "82/82 [==============================] - 0s 3ms/step - loss: 0.8407 - accuracy: 0.7510\n",
            "325/325 [==============================] - 2s 3ms/step - loss: 4.1070 - accuracy: 0.5221\n",
            "82/82 [==============================] - 0s 3ms/step - loss: 0.8367 - accuracy: 0.7526\n",
            "325/325 [==============================] - 1s 3ms/step - loss: 4.0860 - accuracy: 0.5203\n",
            "82/82 [==============================] - 0s 3ms/step - loss: 0.8602 - accuracy: 0.7429\n",
            "325/325 [==============================] - 1s 3ms/step - loss: 4.2068 - accuracy: 0.5151\n",
            "82/82 [==============================] - 0s 3ms/step - loss: 0.8393 - accuracy: 0.7563\n",
            "325/325 [==============================] - 1s 3ms/step - loss: 4.1560 - accuracy: 0.5188\n",
            "82/82 [==============================] - 0s 3ms/step - loss: 0.8499 - accuracy: 0.7510\n",
            "325/325 [==============================] - 1s 3ms/step - loss: 5.4563 - accuracy: 0.1957\n",
            "82/82 [==============================] - 0s 3ms/step - loss: 2.3189 - accuracy: 0.5058\n",
            "325/325 [==============================] - 1s 3ms/step - loss: 5.4828 - accuracy: 0.1800\n",
            "82/82 [==============================] - 0s 3ms/step - loss: 2.3425 - accuracy: 0.5138\n",
            "325/325 [==============================] - 1s 3ms/step - loss: 5.4910 - accuracy: 0.1869\n",
            "82/82 [==============================] - 0s 3ms/step - loss: 2.3502 - accuracy: 0.4944\n",
            "325/325 [==============================] - 1s 3ms/step - loss: 5.4733 - accuracy: 0.1927\n",
            "82/82 [==============================] - 0s 2ms/step - loss: 2.3304 - accuracy: 0.4961\n",
            "325/325 [==============================] - 1s 3ms/step - loss: 5.4984 - accuracy: 0.1869\n",
            "82/82 [==============================] - 0s 3ms/step - loss: 2.3368 - accuracy: 0.5051\n",
            "325/325 [==============================] - 1s 3ms/step - loss: 4.1785 - accuracy: 0.5121\n",
            "82/82 [==============================] - 0s 3ms/step - loss: 0.8410 - accuracy: 0.7577\n",
            "325/325 [==============================] - 1s 3ms/step - loss: 4.2379 - accuracy: 0.5098\n",
            "82/82 [==============================] - 0s 3ms/step - loss: 0.8433 - accuracy: 0.7571\n",
            "325/325 [==============================] - 1s 3ms/step - loss: 4.2631 - accuracy: 0.5087\n",
            "82/82 [==============================] - 0s 3ms/step - loss: 0.8659 - accuracy: 0.7480\n",
            "325/325 [==============================] - 1s 3ms/step - loss: 4.2409 - accuracy: 0.5076\n",
            "82/82 [==============================] - 0s 3ms/step - loss: 0.8546 - accuracy: 0.7500\n",
            "325/325 [==============================] - 1s 3ms/step - loss: 4.2256 - accuracy: 0.5105\n",
            "82/82 [==============================] - 0s 3ms/step - loss: 0.8497 - accuracy: 0.7505\n",
            "325/325 [==============================] - 1s 3ms/step - loss: 5.8787 - accuracy: 0.0353\n",
            "82/82 [==============================] - 0s 3ms/step - loss: 3.4395 - accuracy: 0.0417\n",
            "325/325 [==============================] - 1s 3ms/step - loss: 5.9760 - accuracy: 0.0512\n",
            "82/82 [==============================] - 0s 2ms/step - loss: 3.4647 - accuracy: 0.0621\n",
            "325/325 [==============================] - 1s 3ms/step - loss: 5.9589 - accuracy: 0.0408\n",
            "82/82 [==============================] - 0s 3ms/step - loss: 3.5062 - accuracy: 0.0518\n",
            "325/325 [==============================] - 1s 3ms/step - loss: 5.8374 - accuracy: 0.0435\n",
            "82/82 [==============================] - 0s 2ms/step - loss: 3.3782 - accuracy: 0.0509\n",
            "325/325 [==============================] - 1s 3ms/step - loss: 5.8629 - accuracy: 0.0504\n",
            "82/82 [==============================] - 0s 3ms/step - loss: 3.3531 - accuracy: 0.0585\n",
            "325/325 [==============================] - 1s 3ms/step - loss: 5.6045 - accuracy: 0.0925\n",
            "82/82 [==============================] - 0s 3ms/step - loss: 2.8886 - accuracy: 0.3088\n",
            "325/325 [==============================] - 1s 3ms/step - loss: 5.6764 - accuracy: 0.0881\n",
            "82/82 [==============================] - 0s 3ms/step - loss: 2.9037 - accuracy: 0.2951\n",
            "325/325 [==============================] - 1s 3ms/step - loss: 5.7115 - accuracy: 0.0798\n",
            "82/82 [==============================] - 0s 3ms/step - loss: 2.9308 - accuracy: 0.2902\n",
            "325/325 [==============================] - 1s 3ms/step - loss: 5.6783 - accuracy: 0.0812\n",
            "82/82 [==============================] - 0s 3ms/step - loss: 2.9219 - accuracy: 0.2697\n",
            "325/325 [==============================] - 1s 3ms/step - loss: 5.6673 - accuracy: 0.0878\n",
            "82/82 [==============================] - 0s 2ms/step - loss: 2.9182 - accuracy: 0.2930\n",
            "325/325 [==============================] - 1s 3ms/step - loss: 8.5166 - accuracy: 0.3742\n",
            "82/82 [==============================] - 0s 3ms/step - loss: 0.7004 - accuracy: 0.7980\n",
            "325/325 [==============================] - 1s 3ms/step - loss: nan - accuracy: 0.2903\n",
            "82/82 [==============================] - 0s 3ms/step - loss: nan - accuracy: 0.0000e+00\n",
            "325/325 [==============================] - 1s 3ms/step - loss: 8.4241 - accuracy: 0.3786\n",
            "82/82 [==============================] - 0s 3ms/step - loss: 0.6969 - accuracy: 0.7975\n",
            "325/325 [==============================] - 1s 3ms/step - loss: 8.4830 - accuracy: 0.3759\n",
            "82/82 [==============================] - 0s 2ms/step - loss: 0.7076 - accuracy: 0.7917\n",
            "325/325 [==============================] - 1s 3ms/step - loss: 8.5000 - accuracy: 0.3740\n",
            "82/82 [==============================] - 0s 3ms/step - loss: 0.7017 - accuracy: 0.7960\n",
            "325/325 [==============================] - 1s 3ms/step - loss: 9.0991 - accuracy: 0.1794\n",
            "82/82 [==============================] - 0s 3ms/step - loss: 1.6429 - accuracy: 0.5804\n",
            "325/325 [==============================] - 1s 3ms/step - loss: 9.0784 - accuracy: 0.1795\n",
            "82/82 [==============================] - 0s 3ms/step - loss: 1.6380 - accuracy: 0.5837\n",
            "325/325 [==============================] - 1s 3ms/step - loss: 9.1247 - accuracy: 0.1744\n",
            "82/82 [==============================] - 0s 3ms/step - loss: 1.6663 - accuracy: 0.5689\n",
            "325/325 [==============================] - 1s 3ms/step - loss: 9.1048 - accuracy: 0.1814\n",
            "82/82 [==============================] - 0s 3ms/step - loss: 1.6310 - accuracy: 0.5779\n",
            "325/325 [==============================] - 1s 3ms/step - loss: 9.0541 - accuracy: 0.1867\n",
            "82/82 [==============================] - 0s 3ms/step - loss: 1.6334 - accuracy: 0.5833\n",
            "325/325 [==============================] - 1s 3ms/step - loss: 8.5226 - accuracy: 0.3673\n",
            "82/82 [==============================] - 0s 3ms/step - loss: 0.6853 - accuracy: 0.7944\n",
            "325/325 [==============================] - 1s 3ms/step - loss: nan - accuracy: 0.3292\n",
            "82/82 [==============================] - 0s 3ms/step - loss: nan - accuracy: 0.0000e+00\n",
            "325/325 [==============================] - 1s 3ms/step - loss: 8.4615 - accuracy: 0.3704\n",
            "82/82 [==============================] - 0s 3ms/step - loss: 0.6895 - accuracy: 0.7955\n",
            "325/325 [==============================] - 1s 3ms/step - loss: nan - accuracy: 0.3690\n",
            "82/82 [==============================] - 0s 3ms/step - loss: nan - accuracy: 0.0000e+00\n",
            "325/325 [==============================] - 1s 3ms/step - loss: 8.5002 - accuracy: 0.3681\n",
            "82/82 [==============================] - 0s 3ms/step - loss: 0.7035 - accuracy: 0.7925\n",
            "325/325 [==============================] - 1s 3ms/step - loss: 9.4922 - accuracy: 0.0494\n",
            "82/82 [==============================] - 0s 3ms/step - loss: 3.4117 - accuracy: 0.0761\n",
            "325/325 [==============================] - 1s 3ms/step - loss: 9.5114 - accuracy: 0.0392\n",
            "82/82 [==============================] - 0s 3ms/step - loss: 3.4996 - accuracy: 0.0642\n",
            "325/325 [==============================] - 1s 3ms/step - loss: 9.5119 - accuracy: 0.0400\n",
            "82/82 [==============================] - 0s 3ms/step - loss: 3.4640 - accuracy: 0.0552\n",
            "325/325 [==============================] - 1s 3ms/step - loss: 9.4711 - accuracy: 0.0440\n",
            "82/82 [==============================] - 0s 3ms/step - loss: 3.4578 - accuracy: 0.0710\n",
            "325/325 [==============================] - 1s 3ms/step - loss: 9.5016 - accuracy: 0.0473\n",
            "82/82 [==============================] - 1s 3ms/step - loss: 3.3955 - accuracy: 0.0770\n",
            "325/325 [==============================] - 1s 3ms/step - loss: 9.3441 - accuracy: 0.0947\n",
            "82/82 [==============================] - 0s 3ms/step - loss: 2.4316 - accuracy: 0.3801\n",
            "325/325 [==============================] - 1s 3ms/step - loss: 9.3485 - accuracy: 0.0936\n",
            "82/82 [==============================] - 0s 2ms/step - loss: 2.3822 - accuracy: 0.3935\n",
            "325/325 [==============================] - 1s 3ms/step - loss: 9.3145 - accuracy: 0.0993\n",
            "82/82 [==============================] - 0s 3ms/step - loss: 2.4225 - accuracy: 0.3692\n",
            "325/325 [==============================] - 1s 3ms/step - loss: 9.2866 - accuracy: 0.1012\n",
            "82/82 [==============================] - 0s 3ms/step - loss: 2.3955 - accuracy: 0.3808\n",
            "325/325 [==============================] - 1s 3ms/step - loss: 9.3202 - accuracy: 0.0953\n",
            "82/82 [==============================] - 0s 2ms/step - loss: 2.3917 - accuracy: 0.3757\n",
            "325/325 [==============================] - 1s 3ms/step - loss: 8.4772 - accuracy: 0.3762\n",
            "82/82 [==============================] - 0s 2ms/step - loss: 0.6851 - accuracy: 0.8053\n",
            "325/325 [==============================] - 1s 3ms/step - loss: nan - accuracy: 0.3780\n",
            "82/82 [==============================] - 0s 3ms/step - loss: nan - accuracy: 0.0000e+00\n",
            "325/325 [==============================] - 1s 3ms/step - loss: 8.4416 - accuracy: 0.3798\n",
            "82/82 [==============================] - 0s 3ms/step - loss: 0.7027 - accuracy: 0.7942\n",
            "325/325 [==============================] - 1s 3ms/step - loss: nan - accuracy: 0.3708\n",
            "82/82 [==============================] - 0s 3ms/step - loss: nan - accuracy: 0.0000e+00\n",
            "325/325 [==============================] - 1s 3ms/step - loss: 8.5051 - accuracy: 0.3748\n",
            "82/82 [==============================] - 1s 3ms/step - loss: 0.6944 - accuracy: 0.7959\n",
            "325/325 [==============================] - 1s 3ms/step - loss: 9.0665 - accuracy: 0.1784\n",
            "82/82 [==============================] - 0s 3ms/step - loss: 1.6460 - accuracy: 0.5705\n",
            "325/325 [==============================] - 1s 3ms/step - loss: 9.1271 - accuracy: 0.1708\n",
            "82/82 [==============================] - 0s 3ms/step - loss: 1.6552 - accuracy: 0.5763\n",
            "325/325 [==============================] - 1s 3ms/step - loss: 9.1032 - accuracy: 0.1818\n",
            "82/82 [==============================] - 0s 3ms/step - loss: 1.6491 - accuracy: 0.5748\n",
            "325/325 [==============================] - 1s 3ms/step - loss: 9.0434 - accuracy: 0.1982\n",
            "82/82 [==============================] - 0s 3ms/step - loss: 1.6188 - accuracy: 0.5831\n",
            "325/325 [==============================] - 1s 3ms/step - loss: 9.1290 - accuracy: 0.1828\n",
            "82/82 [==============================] - 0s 2ms/step - loss: 1.6396 - accuracy: 0.5820\n",
            "325/325 [==============================] - 1s 3ms/step - loss: nan - accuracy: 0.3700\n",
            "82/82 [==============================] - 0s 3ms/step - loss: nan - accuracy: 0.0000e+00\n",
            "325/325 [==============================] - 1s 3ms/step - loss: 8.4743 - accuracy: 0.3706\n",
            "82/82 [==============================] - 0s 3ms/step - loss: 0.6874 - accuracy: 0.7940\n",
            "325/325 [==============================] - 1s 3ms/step - loss: 8.4957 - accuracy: 0.3686\n",
            "82/82 [==============================] - 0s 3ms/step - loss: 0.7127 - accuracy: 0.7909\n",
            "325/325 [==============================] - 1s 3ms/step - loss: 8.4180 - accuracy: 0.3757\n",
            "82/82 [==============================] - 0s 3ms/step - loss: 0.6843 - accuracy: 0.8004\n",
            "325/325 [==============================] - 1s 3ms/step - loss: 8.4829 - accuracy: 0.3688\n",
            "82/82 [==============================] - 0s 3ms/step - loss: 0.6974 - accuracy: 0.7974\n",
            "325/325 [==============================] - 1s 3ms/step - loss: 9.5238 - accuracy: 0.0358\n",
            "82/82 [==============================] - 0s 3ms/step - loss: 3.4319 - accuracy: 0.0551\n",
            "325/325 [==============================] - 2s 3ms/step - loss: 9.4674 - accuracy: 0.0425\n",
            "82/82 [==============================] - 0s 3ms/step - loss: 3.3657 - accuracy: 0.0629\n",
            "325/325 [==============================] - 1s 3ms/step - loss: 9.5113 - accuracy: 0.0411\n",
            "82/82 [==============================] - 0s 3ms/step - loss: 3.4149 - accuracy: 0.0640\n",
            "325/325 [==============================] - 1s 3ms/step - loss: nan - accuracy: 0.0379\n",
            "82/82 [==============================] - 0s 3ms/step - loss: nan - accuracy: 0.0000e+00\n",
            "325/325 [==============================] - 1s 3ms/step - loss: 9.5522 - accuracy: 0.0399\n",
            "82/82 [==============================] - 0s 2ms/step - loss: 3.4767 - accuracy: 0.0662\n",
            "325/325 [==============================] - 1s 3ms/step - loss: 9.2957 - accuracy: 0.0938\n",
            "82/82 [==============================] - 0s 3ms/step - loss: 2.4057 - accuracy: 0.3777\n",
            "325/325 [==============================] - 1s 3ms/step - loss: 9.2792 - accuracy: 0.0952\n",
            "82/82 [==============================] - 0s 3ms/step - loss: 2.4130 - accuracy: 0.3815\n",
            "325/325 [==============================] - 1s 3ms/step - loss: 9.4032 - accuracy: 0.0933\n",
            "82/82 [==============================] - 0s 3ms/step - loss: 2.4337 - accuracy: 0.3709\n",
            "325/325 [==============================] - 1s 3ms/step - loss: 9.3117 - accuracy: 0.0923\n",
            "82/82 [==============================] - 0s 3ms/step - loss: 2.4106 - accuracy: 0.3776\n",
            "325/325 [==============================] - 1s 3ms/step - loss: 9.2874 - accuracy: 0.0861\n",
            "82/82 [==============================] - 0s 3ms/step - loss: 2.4623 - accuracy: 0.3642\n",
            "325/325 [==============================] - 1s 3ms/step - loss: 8.5068 - accuracy: 0.3595\n",
            "82/82 [==============================] - 0s 2ms/step - loss: 0.8013 - accuracy: 0.7571\n",
            "325/325 [==============================] - 2s 4ms/step - loss: 8.5658 - accuracy: 0.3567\n",
            "82/82 [==============================] - 0s 3ms/step - loss: 0.7807 - accuracy: 0.7673\n",
            "325/325 [==============================] - 1s 3ms/step - loss: 8.4866 - accuracy: 0.3595\n",
            "82/82 [==============================] - 0s 3ms/step - loss: 0.7993 - accuracy: 0.7663\n",
            "325/325 [==============================] - 1s 3ms/step - loss: 8.5177 - accuracy: 0.3597\n",
            "82/82 [==============================] - 0s 3ms/step - loss: 0.8301 - accuracy: 0.7558\n",
            "325/325 [==============================] - 1s 3ms/step - loss: 8.4683 - accuracy: 0.3597\n",
            "82/82 [==============================] - 0s 3ms/step - loss: 0.7822 - accuracy: 0.7679\n",
            "325/325 [==============================] - 1s 3ms/step - loss: 9.0296 - accuracy: 0.1982\n",
            "82/82 [==============================] - 0s 3ms/step - loss: 1.5407 - accuracy: 0.5774\n",
            "325/325 [==============================] - 1s 3ms/step - loss: 8.9716 - accuracy: 0.2018\n",
            "82/82 [==============================] - 0s 2ms/step - loss: 1.5329 - accuracy: 0.5815\n",
            "325/325 [==============================] - 1s 3ms/step - loss: 9.0538 - accuracy: 0.1934\n",
            "82/82 [==============================] - 0s 3ms/step - loss: 1.5498 - accuracy: 0.5734\n",
            "325/325 [==============================] - 1s 3ms/step - loss: 9.0277 - accuracy: 0.1902\n",
            "82/82 [==============================] - 0s 3ms/step - loss: 1.5490 - accuracy: 0.5730\n",
            "325/325 [==============================] - 1s 3ms/step - loss: 9.0163 - accuracy: 0.1913\n",
            "82/82 [==============================] - 0s 3ms/step - loss: 1.5572 - accuracy: 0.5802\n",
            "325/325 [==============================] - 1s 3ms/step - loss: 8.4908 - accuracy: 0.3569\n",
            "82/82 [==============================] - 0s 3ms/step - loss: 0.8091 - accuracy: 0.7640\n",
            "325/325 [==============================] - 1s 3ms/step - loss: 8.4840 - accuracy: 0.3558\n",
            "82/82 [==============================] - 0s 3ms/step - loss: 0.8015 - accuracy: 0.7601\n",
            "325/325 [==============================] - 1s 3ms/step - loss: 8.5071 - accuracy: 0.3572\n",
            "82/82 [==============================] - 0s 3ms/step - loss: 0.8321 - accuracy: 0.7568\n",
            "325/325 [==============================] - 1s 3ms/step - loss: 8.5168 - accuracy: 0.3540\n",
            "82/82 [==============================] - 0s 3ms/step - loss: 0.8297 - accuracy: 0.7531\n",
            "325/325 [==============================] - 1s 3ms/step - loss: 8.4903 - accuracy: 0.3576\n",
            "82/82 [==============================] - 0s 3ms/step - loss: 0.7971 - accuracy: 0.7650\n",
            "325/325 [==============================] - 1s 3ms/step - loss: 9.4338 - accuracy: 0.0361\n",
            "82/82 [==============================] - 0s 3ms/step - loss: 3.3001 - accuracy: 0.0661\n",
            "325/325 [==============================] - 1s 3ms/step - loss: 9.4600 - accuracy: 0.0530\n",
            "82/82 [==============================] - 0s 3ms/step - loss: 3.2826 - accuracy: 0.0936\n",
            "325/325 [==============================] - 1s 3ms/step - loss: 9.4218 - accuracy: 0.0490\n",
            "82/82 [==============================] - 0s 3ms/step - loss: 3.2434 - accuracy: 0.0831\n",
            "325/325 [==============================] - 1s 3ms/step - loss: 9.4879 - accuracy: 0.0458\n",
            "82/82 [==============================] - 0s 3ms/step - loss: 3.3050 - accuracy: 0.0816\n",
            "325/325 [==============================] - 1s 3ms/step - loss: 9.4269 - accuracy: 0.0633\n",
            "82/82 [==============================] - 0s 3ms/step - loss: 3.2255 - accuracy: 0.1130\n",
            "325/325 [==============================] - 1s 3ms/step - loss: 9.2247 - accuracy: 0.1099\n",
            "82/82 [==============================] - 0s 3ms/step - loss: 2.1498 - accuracy: 0.4230\n",
            "325/325 [==============================] - 1s 3ms/step - loss: 9.2488 - accuracy: 0.1077\n",
            "82/82 [==============================] - 0s 3ms/step - loss: 2.1599 - accuracy: 0.4242\n",
            "325/325 [==============================] - 1s 3ms/step - loss: 9.2744 - accuracy: 0.1133\n",
            "82/82 [==============================] - 0s 3ms/step - loss: 2.1487 - accuracy: 0.4279\n",
            "325/325 [==============================] - 1s 3ms/step - loss: 9.2881 - accuracy: 0.1031\n",
            "82/82 [==============================] - 0s 3ms/step - loss: 2.1819 - accuracy: 0.4109\n",
            "325/325 [==============================] - 2s 3ms/step - loss: 9.3609 - accuracy: 0.0966\n",
            "82/82 [==============================] - 0s 3ms/step - loss: 2.2030 - accuracy: 0.4209\n",
            "325/325 [==============================] - 1s 3ms/step - loss: 8.5049 - accuracy: 0.3552\n",
            "82/82 [==============================] - 0s 3ms/step - loss: 0.8310 - accuracy: 0.7554\n",
            "325/325 [==============================] - 1s 3ms/step - loss: 8.6338 - accuracy: 0.3520\n",
            "82/82 [==============================] - 0s 3ms/step - loss: 0.8250 - accuracy: 0.7552\n",
            "325/325 [==============================] - 1s 3ms/step - loss: 8.5435 - accuracy: 0.3555\n",
            "82/82 [==============================] - 0s 3ms/step - loss: 0.8260 - accuracy: 0.7564\n",
            "325/325 [==============================] - 1s 3ms/step - loss: 8.5321 - accuracy: 0.3567\n",
            "82/82 [==============================] - 0s 3ms/step - loss: 0.7831 - accuracy: 0.7686\n",
            "325/325 [==============================] - 1s 3ms/step - loss: 8.5601 - accuracy: 0.3564\n",
            "82/82 [==============================] - 0s 3ms/step - loss: 0.7988 - accuracy: 0.7644\n",
            "325/325 [==============================] - 1s 3ms/step - loss: 9.0378 - accuracy: 0.2031\n",
            "82/82 [==============================] - 0s 3ms/step - loss: 1.5354 - accuracy: 0.5783\n",
            "325/325 [==============================] - 1s 3ms/step - loss: 8.9625 - accuracy: 0.2107\n",
            "82/82 [==============================] - 0s 3ms/step - loss: 1.5004 - accuracy: 0.5941\n",
            "325/325 [==============================] - 1s 3ms/step - loss: 9.0709 - accuracy: 0.1942\n",
            "82/82 [==============================] - 0s 3ms/step - loss: 1.5691 - accuracy: 0.5680\n",
            "325/325 [==============================] - 1s 3ms/step - loss: 9.0835 - accuracy: 0.1946\n",
            "82/82 [==============================] - 0s 3ms/step - loss: 1.5473 - accuracy: 0.5819\n",
            "325/325 [==============================] - 1s 3ms/step - loss: 9.0462 - accuracy: 0.1881\n",
            "82/82 [==============================] - 0s 3ms/step - loss: 1.5543 - accuracy: 0.5738\n",
            "325/325 [==============================] - 1s 3ms/step - loss: 8.5595 - accuracy: 0.3530\n",
            "82/82 [==============================] - 0s 2ms/step - loss: 0.8235 - accuracy: 0.7544\n",
            "325/325 [==============================] - 1s 3ms/step - loss: 8.5295 - accuracy: 0.3550\n",
            "82/82 [==============================] - 0s 3ms/step - loss: 0.8129 - accuracy: 0.7589\n",
            "325/325 [==============================] - 1s 3ms/step - loss: 8.5309 - accuracy: 0.3544\n",
            "82/82 [==============================] - 0s 3ms/step - loss: 0.8159 - accuracy: 0.7615\n",
            "325/325 [==============================] - 1s 3ms/step - loss: 8.4998 - accuracy: 0.3531\n",
            "82/82 [==============================] - 0s 3ms/step - loss: 0.8298 - accuracy: 0.7576\n",
            "325/325 [==============================] - 1s 3ms/step - loss: 8.5381 - accuracy: 0.3535\n",
            "82/82 [==============================] - 0s 3ms/step - loss: 0.8127 - accuracy: 0.7601\n",
            "325/325 [==============================] - 1s 3ms/step - loss: 9.4444 - accuracy: 0.0560\n",
            "82/82 [==============================] - 0s 3ms/step - loss: 3.1996 - accuracy: 0.1025\n",
            "325/325 [==============================] - 1s 3ms/step - loss: 9.4864 - accuracy: 0.0422\n",
            "82/82 [==============================] - 0s 3ms/step - loss: 3.2775 - accuracy: 0.0841\n",
            "325/325 [==============================] - 1s 3ms/step - loss: 9.4604 - accuracy: 0.0523\n",
            "82/82 [==============================] - 0s 3ms/step - loss: 3.2267 - accuracy: 0.0992\n",
            "325/325 [==============================] - 1s 3ms/step - loss: 9.4484 - accuracy: 0.0477\n",
            "82/82 [==============================] - 0s 3ms/step - loss: 3.2545 - accuracy: 0.0793\n",
            "325/325 [==============================] - 1s 3ms/step - loss: 9.4264 - accuracy: 0.0507\n",
            "82/82 [==============================] - 0s 3ms/step - loss: 3.2293 - accuracy: 0.0908\n",
            "325/325 [==============================] - 1s 3ms/step - loss: 9.2946 - accuracy: 0.1119\n",
            "82/82 [==============================] - 0s 3ms/step - loss: 2.1275 - accuracy: 0.4333\n",
            "325/325 [==============================] - 1s 3ms/step - loss: 9.2193 - accuracy: 0.1205\n",
            "82/82 [==============================] - 0s 3ms/step - loss: 2.1412 - accuracy: 0.4389\n",
            "325/325 [==============================] - 1s 3ms/step - loss: 9.2495 - accuracy: 0.1128\n",
            "82/82 [==============================] - 0s 3ms/step - loss: 2.1656 - accuracy: 0.4255\n",
            "325/325 [==============================] - 1s 3ms/step - loss: 9.2844 - accuracy: 0.1075\n",
            "82/82 [==============================] - 0s 3ms/step - loss: 2.1520 - accuracy: 0.4269\n",
            "325/325 [==============================] - 1s 3ms/step - loss: 9.2891 - accuracy: 0.1103\n",
            "82/82 [==============================] - 0s 3ms/step - loss: 2.1861 - accuracy: 0.4166\n",
            "325/325 [==============================] - 1s 3ms/step - loss: 8.5583 - accuracy: 0.3472\n",
            "82/82 [==============================] - 0s 3ms/step - loss: 0.9583 - accuracy: 0.7190\n",
            "325/325 [==============================] - 1s 3ms/step - loss: 8.5818 - accuracy: 0.3418\n",
            "82/82 [==============================] - 0s 3ms/step - loss: 0.9179 - accuracy: 0.7245\n",
            "325/325 [==============================] - 1s 3ms/step - loss: 8.5832 - accuracy: 0.3438\n",
            "82/82 [==============================] - 0s 2ms/step - loss: 0.9593 - accuracy: 0.7165\n",
            "325/325 [==============================] - 1s 3ms/step - loss: 8.5115 - accuracy: 0.3455\n",
            "82/82 [==============================] - 0s 3ms/step - loss: 0.9220 - accuracy: 0.7249\n",
            "325/325 [==============================] - 1s 3ms/step - loss: 8.6168 - accuracy: 0.3411\n",
            "82/82 [==============================] - 0s 3ms/step - loss: 0.9232 - accuracy: 0.7258\n",
            "325/325 [==============================] - 1s 3ms/step - loss: 9.2787 - accuracy: 0.1181\n",
            "82/82 [==============================] - 0s 3ms/step - loss: 2.6291 - accuracy: 0.4334\n",
            "325/325 [==============================] - 1s 3ms/step - loss: 9.2911 - accuracy: 0.1215\n",
            "82/82 [==============================] - 0s 3ms/step - loss: 2.6126 - accuracy: 0.4279\n",
            "325/325 [==============================] - 1s 3ms/step - loss: 9.2715 - accuracy: 0.1178\n",
            "82/82 [==============================] - 0s 3ms/step - loss: 2.6300 - accuracy: 0.4208\n",
            "325/325 [==============================] - 1s 3ms/step - loss: 9.3531 - accuracy: 0.0998\n",
            "82/82 [==============================] - 0s 3ms/step - loss: 2.6610 - accuracy: 0.4007\n",
            "325/325 [==============================] - 1s 3ms/step - loss: 9.3986 - accuracy: 0.1046\n",
            "82/82 [==============================] - 0s 3ms/step - loss: 2.6559 - accuracy: 0.4135\n",
            "325/325 [==============================] - 1s 3ms/step - loss: 8.5845 - accuracy: 0.3391\n",
            "82/82 [==============================] - 0s 3ms/step - loss: 0.9364 - accuracy: 0.7221\n",
            "325/325 [==============================] - 1s 3ms/step - loss: 8.5811 - accuracy: 0.3366\n",
            "82/82 [==============================] - 0s 3ms/step - loss: 0.9355 - accuracy: 0.7189\n",
            "325/325 [==============================] - 1s 3ms/step - loss: 8.6082 - accuracy: 0.3403\n",
            "82/82 [==============================] - 0s 3ms/step - loss: 0.9684 - accuracy: 0.7104\n",
            "325/325 [==============================] - 1s 3ms/step - loss: 8.6015 - accuracy: 0.3390\n",
            "82/82 [==============================] - 0s 3ms/step - loss: 0.9209 - accuracy: 0.7289\n",
            "325/325 [==============================] - 1s 3ms/step - loss: 8.5722 - accuracy: 0.3394\n",
            "82/82 [==============================] - 0s 3ms/step - loss: 0.9712 - accuracy: 0.7086\n",
            "325/325 [==============================] - 1s 3ms/step - loss: 9.4874 - accuracy: 0.0368\n",
            "82/82 [==============================] - 0s 3ms/step - loss: 3.4070 - accuracy: 0.0398\n",
            "325/325 [==============================] - 1s 3ms/step - loss: 9.5772 - accuracy: 0.0254\n",
            "82/82 [==============================] - 0s 3ms/step - loss: 3.5594 - accuracy: 0.0292\n",
            "325/325 [==============================] - 1s 3ms/step - loss: 9.4862 - accuracy: 0.0429\n",
            "82/82 [==============================] - 0s 3ms/step - loss: 3.4259 - accuracy: 0.0555\n",
            "325/325 [==============================] - 1s 3ms/step - loss: 9.5262 - accuracy: 0.0342\n",
            "82/82 [==============================] - 0s 3ms/step - loss: 3.5415 - accuracy: 0.0365\n",
            "325/325 [==============================] - 1s 3ms/step - loss: 9.4269 - accuracy: 0.0360\n",
            "82/82 [==============================] - 0s 3ms/step - loss: 3.4371 - accuracy: 0.0392\n",
            "325/325 [==============================] - 1s 3ms/step - loss: 9.4044 - accuracy: 0.0438\n",
            "82/82 [==============================] - 0s 3ms/step - loss: 3.0870 - accuracy: 0.1726\n",
            "325/325 [==============================] - 1s 3ms/step - loss: 9.3147 - accuracy: 0.0611\n",
            "82/82 [==============================] - 0s 3ms/step - loss: 3.0548 - accuracy: 0.2092\n",
            "325/325 [==============================] - 1s 3ms/step - loss: 9.3783 - accuracy: 0.0527\n",
            "82/82 [==============================] - 0s 3ms/step - loss: 3.0578 - accuracy: 0.1811\n",
            "325/325 [==============================] - 1s 3ms/step - loss: 9.4080 - accuracy: 0.0571\n",
            "82/82 [==============================] - 0s 3ms/step - loss: 3.0536 - accuracy: 0.2053\n",
            "325/325 [==============================] - 1s 3ms/step - loss: 9.3004 - accuracy: 0.0589\n",
            "82/82 [==============================] - 0s 3ms/step - loss: 3.0533 - accuracy: 0.1912\n",
            "325/325 [==============================] - 1s 3ms/step - loss: 8.5799 - accuracy: 0.3462\n",
            "82/82 [==============================] - 0s 3ms/step - loss: 0.9275 - accuracy: 0.7238\n",
            "325/325 [==============================] - 1s 3ms/step - loss: 8.5126 - accuracy: 0.3481\n",
            "82/82 [==============================] - 0s 3ms/step - loss: 0.9152 - accuracy: 0.7223\n",
            "325/325 [==============================] - 2s 3ms/step - loss: 8.5688 - accuracy: 0.3446\n",
            "82/82 [==============================] - 0s 3ms/step - loss: 0.9540 - accuracy: 0.7115\n",
            "325/325 [==============================] - 1s 3ms/step - loss: 8.5784 - accuracy: 0.3424\n",
            "82/82 [==============================] - 0s 3ms/step - loss: 0.9362 - accuracy: 0.7249\n",
            "325/325 [==============================] - 1s 3ms/step - loss: 8.5885 - accuracy: 0.3428\n",
            "82/82 [==============================] - 0s 3ms/step - loss: 0.9412 - accuracy: 0.7207\n",
            "325/325 [==============================] - 1s 3ms/step - loss: 9.2956 - accuracy: 0.1083\n",
            "82/82 [==============================] - 0s 3ms/step - loss: 2.6405 - accuracy: 0.4195\n",
            "325/325 [==============================] - 1s 3ms/step - loss: 9.4051 - accuracy: 0.0965\n",
            "82/82 [==============================] - 0s 3ms/step - loss: 2.6595 - accuracy: 0.4274\n",
            "325/325 [==============================] - 1s 3ms/step - loss: 9.2889 - accuracy: 0.1161\n",
            "82/82 [==============================] - 0s 3ms/step - loss: 2.6368 - accuracy: 0.4046\n",
            "325/325 [==============================] - 1s 3ms/step - loss: 9.3340 - accuracy: 0.1038\n",
            "82/82 [==============================] - 0s 3ms/step - loss: 2.6550 - accuracy: 0.4238\n",
            "325/325 [==============================] - 1s 3ms/step - loss: 9.2797 - accuracy: 0.1191\n",
            "82/82 [==============================] - 0s 3ms/step - loss: 2.6157 - accuracy: 0.4325\n",
            "325/325 [==============================] - 1s 3ms/step - loss: 8.5625 - accuracy: 0.3411\n",
            "82/82 [==============================] - 0s 3ms/step - loss: 0.9331 - accuracy: 0.7251\n",
            "325/325 [==============================] - 1s 3ms/step - loss: 8.5698 - accuracy: 0.3379\n",
            "82/82 [==============================] - 0s 3ms/step - loss: 0.9389 - accuracy: 0.7228\n",
            "325/325 [==============================] - 2s 3ms/step - loss: 8.6521 - accuracy: 0.3380\n",
            "82/82 [==============================] - 0s 3ms/step - loss: 0.9521 - accuracy: 0.7151\n",
            "325/325 [==============================] - 1s 3ms/step - loss: 8.5253 - accuracy: 0.3392\n",
            "82/82 [==============================] - 0s 3ms/step - loss: 0.9303 - accuracy: 0.7257\n",
            "325/325 [==============================] - 1s 3ms/step - loss: 8.6004 - accuracy: 0.3384\n",
            "82/82 [==============================] - 0s 3ms/step - loss: 0.9588 - accuracy: 0.7229\n",
            "325/325 [==============================] - 1s 3ms/step - loss: 9.5498 - accuracy: 0.0394\n",
            "82/82 [==============================] - 0s 3ms/step - loss: 3.4344 - accuracy: 0.0468\n",
            "325/325 [==============================] - 1s 3ms/step - loss: 9.5661 - accuracy: 0.0382\n",
            "82/82 [==============================] - 0s 3ms/step - loss: 3.4897 - accuracy: 0.0398\n",
            "325/325 [==============================] - 1s 3ms/step - loss: 9.4347 - accuracy: 0.0401\n",
            "82/82 [==============================] - 0s 3ms/step - loss: 3.4522 - accuracy: 0.0399\n",
            "325/325 [==============================] - 1s 3ms/step - loss: 9.4495 - accuracy: 0.0351\n",
            "82/82 [==============================] - 0s 2ms/step - loss: 3.4320 - accuracy: 0.0348\n",
            "325/325 [==============================] - 1s 3ms/step - loss: 9.4856 - accuracy: 0.0410\n",
            "82/82 [==============================] - 0s 3ms/step - loss: 3.3734 - accuracy: 0.0497\n",
            "325/325 [==============================] - 1s 3ms/step - loss: 9.3480 - accuracy: 0.0647\n",
            "82/82 [==============================] - 0s 3ms/step - loss: 3.0453 - accuracy: 0.2053\n",
            "325/325 [==============================] - 1s 3ms/step - loss: 9.3896 - accuracy: 0.0446\n",
            "82/82 [==============================] - 0s 3ms/step - loss: 3.1013 - accuracy: 0.1604\n",
            "325/325 [==============================] - 1s 3ms/step - loss: 9.3522 - accuracy: 0.0609\n",
            "82/82 [==============================] - 0s 3ms/step - loss: 3.0582 - accuracy: 0.1926\n",
            "325/325 [==============================] - 1s 3ms/step - loss: 9.3538 - accuracy: 0.0580\n",
            "82/82 [==============================] - 0s 3ms/step - loss: 3.0545 - accuracy: 0.1829\n",
            "325/325 [==============================] - 1s 3ms/step - loss: 9.3998 - accuracy: 0.0631\n",
            "82/82 [==============================] - 0s 3ms/step - loss: 3.0514 - accuracy: 0.2045\n",
            "163/163 [==============================] - 1s 5ms/step - loss: 4.0231 - accuracy: 0.5658\n",
            "41/41 [==============================] - 0s 3ms/step - loss: 0.5785 - accuracy: 0.8264\n",
            "163/163 [==============================] - 1s 4ms/step - loss: 4.0389 - accuracy: 0.5667\n",
            "41/41 [==============================] - 0s 3ms/step - loss: 0.5926 - accuracy: 0.8157\n",
            "163/163 [==============================] - 1s 4ms/step - loss: 3.9612 - accuracy: 0.5699\n",
            "41/41 [==============================] - 0s 3ms/step - loss: 0.5989 - accuracy: 0.8200\n",
            "163/163 [==============================] - 1s 4ms/step - loss: 3.9708 - accuracy: 0.5707\n",
            "41/41 [==============================] - 0s 3ms/step - loss: 0.5939 - accuracy: 0.8207\n",
            "163/163 [==============================] - 1s 4ms/step - loss: 4.0317 - accuracy: 0.5708\n",
            "41/41 [==============================] - 0s 3ms/step - loss: 0.6184 - accuracy: 0.8128\n",
            "163/163 [==============================] - 1s 4ms/step - loss: 5.3375 - accuracy: 0.2167\n",
            "41/41 [==============================] - 0s 3ms/step - loss: 1.7253 - accuracy: 0.5583\n",
            "163/163 [==============================] - 1s 4ms/step - loss: 5.3392 - accuracy: 0.2079\n",
            "41/41 [==============================] - 0s 4ms/step - loss: 1.7150 - accuracy: 0.5631\n",
            "163/163 [==============================] - 1s 4ms/step - loss: 5.2512 - accuracy: 0.2255\n",
            "41/41 [==============================] - 0s 3ms/step - loss: 1.7137 - accuracy: 0.5652\n",
            "163/163 [==============================] - 1s 4ms/step - loss: 5.3124 - accuracy: 0.2130\n",
            "41/41 [==============================] - 0s 3ms/step - loss: 1.7227 - accuracy: 0.5593\n",
            "163/163 [==============================] - 1s 4ms/step - loss: 5.3560 - accuracy: 0.2084\n",
            "41/41 [==============================] - 0s 3ms/step - loss: 1.7196 - accuracy: 0.5612\n",
            "163/163 [==============================] - 1s 4ms/step - loss: 4.0874 - accuracy: 0.5468\n",
            "41/41 [==============================] - 0s 3ms/step - loss: 0.5771 - accuracy: 0.8284\n",
            "163/163 [==============================] - 1s 4ms/step - loss: 4.0926 - accuracy: 0.5470\n",
            "41/41 [==============================] - 0s 3ms/step - loss: 0.5620 - accuracy: 0.8317\n",
            "163/163 [==============================] - 1s 4ms/step - loss: 4.1119 - accuracy: 0.5514\n",
            "41/41 [==============================] - 0s 3ms/step - loss: 0.5908 - accuracy: 0.8246\n",
            "163/163 [==============================] - 1s 4ms/step - loss: 4.1128 - accuracy: 0.5455\n",
            "41/41 [==============================] - 0s 4ms/step - loss: 0.5684 - accuracy: 0.8281\n",
            "163/163 [==============================] - 1s 4ms/step - loss: 4.0390 - accuracy: 0.5525\n",
            "41/41 [==============================] - 0s 3ms/step - loss: 0.5827 - accuracy: 0.8294\n",
            "163/163 [==============================] - 1s 4ms/step - loss: 5.8700 - accuracy: 0.0495\n",
            "41/41 [==============================] - 0s 3ms/step - loss: 3.3923 - accuracy: 0.0608\n",
            "163/163 [==============================] - 1s 4ms/step - loss: 6.0114 - accuracy: 0.0425\n",
            "41/41 [==============================] - 0s 3ms/step - loss: 3.6424 - accuracy: 0.0550\n",
            "163/163 [==============================] - 1s 4ms/step - loss: 5.9688 - accuracy: 0.0273\n",
            "41/41 [==============================] - 0s 3ms/step - loss: 3.5620 - accuracy: 0.0375\n",
            "163/163 [==============================] - 1s 4ms/step - loss: 5.9915 - accuracy: 0.0414\n",
            "41/41 [==============================] - 0s 3ms/step - loss: 3.5781 - accuracy: 0.0611\n",
            "163/163 [==============================] - 1s 4ms/step - loss: 5.9720 - accuracy: 0.0324\n",
            "41/41 [==============================] - 0s 3ms/step - loss: 3.5992 - accuracy: 0.0421\n",
            "163/163 [==============================] - 1s 4ms/step - loss: 5.6337 - accuracy: 0.1045\n",
            "41/41 [==============================] - 0s 4ms/step - loss: 2.5102 - accuracy: 0.3399\n",
            "163/163 [==============================] - 1s 4ms/step - loss: 5.6425 - accuracy: 0.1069\n",
            "41/41 [==============================] - 0s 3ms/step - loss: 2.5077 - accuracy: 0.3486\n",
            "163/163 [==============================] - 1s 4ms/step - loss: 5.6321 - accuracy: 0.1050\n",
            "41/41 [==============================] - 0s 4ms/step - loss: 2.5064 - accuracy: 0.3448\n",
            "163/163 [==============================] - 1s 4ms/step - loss: 5.6085 - accuracy: 0.1132\n",
            "41/41 [==============================] - 0s 3ms/step - loss: 2.4886 - accuracy: 0.3401\n",
            "163/163 [==============================] - 1s 4ms/step - loss: 5.6733 - accuracy: 0.0982\n",
            "41/41 [==============================] - 0s 3ms/step - loss: 2.5137 - accuracy: 0.3483\n",
            "163/163 [==============================] - 1s 4ms/step - loss: 4.0364 - accuracy: 0.5633\n",
            "41/41 [==============================] - 0s 3ms/step - loss: 0.6351 - accuracy: 0.8033\n",
            "163/163 [==============================] - 1s 4ms/step - loss: 4.0119 - accuracy: 0.5678\n",
            "41/41 [==============================] - 0s 3ms/step - loss: 0.5874 - accuracy: 0.8232\n",
            "163/163 [==============================] - 1s 5ms/step - loss: 4.0048 - accuracy: 0.5696\n",
            "41/41 [==============================] - 0s 3ms/step - loss: 0.6189 - accuracy: 0.8130\n",
            "163/163 [==============================] - 1s 4ms/step - loss: 4.0196 - accuracy: 0.5687\n",
            "41/41 [==============================] - 0s 3ms/step - loss: 0.6245 - accuracy: 0.8096\n",
            "163/163 [==============================] - 1s 4ms/step - loss: 3.9932 - accuracy: 0.5678\n",
            "41/41 [==============================] - 0s 3ms/step - loss: 0.6239 - accuracy: 0.8114\n",
            "163/163 [==============================] - 1s 4ms/step - loss: 5.3927 - accuracy: 0.2148\n",
            "41/41 [==============================] - 0s 3ms/step - loss: 1.7057 - accuracy: 0.5582\n",
            "163/163 [==============================] - 1s 4ms/step - loss: 5.2664 - accuracy: 0.2150\n",
            "41/41 [==============================] - 0s 4ms/step - loss: 1.6884 - accuracy: 0.5714\n",
            "163/163 [==============================] - 1s 4ms/step - loss: 5.3312 - accuracy: 0.2069\n",
            "41/41 [==============================] - 0s 3ms/step - loss: 1.7350 - accuracy: 0.5532\n",
            "163/163 [==============================] - 1s 4ms/step - loss: 5.3142 - accuracy: 0.2156\n",
            "41/41 [==============================] - 0s 3ms/step - loss: 1.7052 - accuracy: 0.5602\n",
            "163/163 [==============================] - 1s 4ms/step - loss: 5.3024 - accuracy: 0.2111\n",
            "41/41 [==============================] - 0s 3ms/step - loss: 1.7215 - accuracy: 0.5583\n",
            "163/163 [==============================] - 1s 4ms/step - loss: 4.1130 - accuracy: 0.5480\n",
            "41/41 [==============================] - 0s 3ms/step - loss: 0.5635 - accuracy: 0.8329\n",
            "163/163 [==============================] - 1s 4ms/step - loss: 4.0567 - accuracy: 0.5531\n",
            "41/41 [==============================] - 0s 3ms/step - loss: 0.5650 - accuracy: 0.8343\n",
            "163/163 [==============================] - 1s 4ms/step - loss: 4.1028 - accuracy: 0.5513\n",
            "41/41 [==============================] - 0s 3ms/step - loss: 0.5869 - accuracy: 0.8253\n",
            "163/163 [==============================] - 1s 4ms/step - loss: 4.0752 - accuracy: 0.5516\n",
            "41/41 [==============================] - 0s 4ms/step - loss: 0.5565 - accuracy: 0.8331\n",
            "163/163 [==============================] - 1s 4ms/step - loss: 4.0605 - accuracy: 0.5507\n",
            "41/41 [==============================] - 0s 3ms/step - loss: 0.5993 - accuracy: 0.8216\n",
            "163/163 [==============================] - 1s 4ms/step - loss: 5.8497 - accuracy: 0.0431\n",
            "41/41 [==============================] - 0s 3ms/step - loss: 3.3662 - accuracy: 0.0608\n",
            "163/163 [==============================] - 1s 4ms/step - loss: 5.9644 - accuracy: 0.0366\n",
            "41/41 [==============================] - 0s 3ms/step - loss: 3.4762 - accuracy: 0.0486\n",
            "163/163 [==============================] - 1s 4ms/step - loss: 5.9192 - accuracy: 0.0500\n",
            "41/41 [==============================] - 0s 3ms/step - loss: 3.4828 - accuracy: 0.0666\n",
            "163/163 [==============================] - 1s 4ms/step - loss: 6.0270 - accuracy: 0.0234\n",
            "41/41 [==============================] - 0s 4ms/step - loss: 3.5947 - accuracy: 0.0353\n",
            "163/163 [==============================] - 1s 4ms/step - loss: 5.9143 - accuracy: 0.0446\n",
            "41/41 [==============================] - 0s 3ms/step - loss: 3.4857 - accuracy: 0.0538\n",
            "163/163 [==============================] - 1s 4ms/step - loss: 5.6794 - accuracy: 0.0908\n",
            "41/41 [==============================] - 0s 3ms/step - loss: 2.5334 - accuracy: 0.3295\n",
            "163/163 [==============================] - 1s 4ms/step - loss: 5.6891 - accuracy: 0.0952\n",
            "41/41 [==============================] - 0s 3ms/step - loss: 2.5460 - accuracy: 0.3433\n",
            "163/163 [==============================] - 1s 4ms/step - loss: 5.6823 - accuracy: 0.1025\n",
            "41/41 [==============================] - 0s 4ms/step - loss: 2.5435 - accuracy: 0.3505\n",
            "163/163 [==============================] - 1s 4ms/step - loss: 5.6897 - accuracy: 0.1082\n",
            "41/41 [==============================] - 0s 3ms/step - loss: 2.5081 - accuracy: 0.3436\n",
            "163/163 [==============================] - 1s 4ms/step - loss: 5.6454 - accuracy: 0.1079\n",
            "41/41 [==============================] - 0s 3ms/step - loss: 2.4941 - accuracy: 0.3603\n",
            "163/163 [==============================] - 1s 4ms/step - loss: 4.1426 - accuracy: 0.5300\n",
            "41/41 [==============================] - 0s 3ms/step - loss: 0.7744 - accuracy: 0.7685\n",
            "163/163 [==============================] - 1s 5ms/step - loss: 4.1407 - accuracy: 0.5305\n",
            "41/41 [==============================] - 0s 3ms/step - loss: 0.7511 - accuracy: 0.7804\n",
            "163/163 [==============================] - 1s 4ms/step - loss: 4.1158 - accuracy: 0.5310\n",
            "41/41 [==============================] - 0s 3ms/step - loss: 0.7592 - accuracy: 0.7744\n",
            "163/163 [==============================] - 1s 4ms/step - loss: 4.1367 - accuracy: 0.5290\n",
            "41/41 [==============================] - 0s 3ms/step - loss: 0.7425 - accuracy: 0.7834\n",
            "163/163 [==============================] - 1s 4ms/step - loss: 4.1468 - accuracy: 0.5317\n",
            "41/41 [==============================] - 0s 3ms/step - loss: 0.7557 - accuracy: 0.7809\n",
            "163/163 [==============================] - 1s 4ms/step - loss: 5.2066 - accuracy: 0.2302\n",
            "41/41 [==============================] - 0s 3ms/step - loss: 1.5757 - accuracy: 0.5694\n",
            "163/163 [==============================] - 1s 4ms/step - loss: 5.1766 - accuracy: 0.2452\n",
            "41/41 [==============================] - 0s 3ms/step - loss: 1.5685 - accuracy: 0.5756\n",
            "163/163 [==============================] - 1s 4ms/step - loss: 5.2307 - accuracy: 0.2361\n",
            "41/41 [==============================] - 0s 3ms/step - loss: 1.6074 - accuracy: 0.5589\n",
            "163/163 [==============================] - 1s 4ms/step - loss: 5.1407 - accuracy: 0.2393\n",
            "41/41 [==============================] - 0s 3ms/step - loss: 1.5871 - accuracy: 0.5701\n",
            "163/163 [==============================] - 1s 4ms/step - loss: 5.1365 - accuracy: 0.2453\n",
            "41/41 [==============================] - 0s 3ms/step - loss: 1.5975 - accuracy: 0.5670\n",
            "163/163 [==============================] - 1s 4ms/step - loss: 4.1368 - accuracy: 0.5287\n",
            "41/41 [==============================] - 0s 3ms/step - loss: 0.7602 - accuracy: 0.7776\n",
            "163/163 [==============================] - 1s 4ms/step - loss: 4.1761 - accuracy: 0.5256\n",
            "41/41 [==============================] - 0s 4ms/step - loss: 0.7593 - accuracy: 0.7806\n",
            "163/163 [==============================] - 1s 4ms/step - loss: 4.1397 - accuracy: 0.5263\n",
            "41/41 [==============================] - 0s 3ms/step - loss: 0.7716 - accuracy: 0.7775\n",
            "163/163 [==============================] - 1s 4ms/step - loss: 4.1480 - accuracy: 0.5261\n",
            "41/41 [==============================] - 0s 3ms/step - loss: 0.7680 - accuracy: 0.7814\n",
            "163/163 [==============================] - 1s 4ms/step - loss: 4.1741 - accuracy: 0.5240\n",
            "41/41 [==============================] - 0s 3ms/step - loss: 0.7757 - accuracy: 0.7782\n",
            "163/163 [==============================] - 1s 4ms/step - loss: 5.9810 - accuracy: 0.0336\n",
            "41/41 [==============================] - 0s 4ms/step - loss: 3.4420 - accuracy: 0.0506\n",
            "163/163 [==============================] - 1s 4ms/step - loss: 5.8462 - accuracy: 0.0491\n",
            "41/41 [==============================] - 0s 3ms/step - loss: 3.3549 - accuracy: 0.0752\n",
            "163/163 [==============================] - 1s 4ms/step - loss: 5.9320 - accuracy: 0.0403\n",
            "41/41 [==============================] - 0s 3ms/step - loss: 3.4155 - accuracy: 0.0626\n",
            "163/163 [==============================] - 1s 4ms/step - loss: 5.8403 - accuracy: 0.0467\n",
            "41/41 [==============================] - 0s 3ms/step - loss: 3.3064 - accuracy: 0.0708\n",
            "163/163 [==============================] - 1s 4ms/step - loss: 5.9026 - accuracy: 0.0357\n",
            "41/41 [==============================] - 0s 3ms/step - loss: 3.4204 - accuracy: 0.0531\n",
            "163/163 [==============================] - 1s 4ms/step - loss: 5.5593 - accuracy: 0.1206\n",
            "41/41 [==============================] - 0s 3ms/step - loss: 2.2397 - accuracy: 0.4046\n",
            "163/163 [==============================] - 1s 4ms/step - loss: 5.5677 - accuracy: 0.1226\n",
            "41/41 [==============================] - 0s 3ms/step - loss: 2.2774 - accuracy: 0.3826\n",
            "163/163 [==============================] - 1s 4ms/step - loss: 5.5593 - accuracy: 0.1194\n",
            "41/41 [==============================] - 0s 4ms/step - loss: 2.2746 - accuracy: 0.3957\n",
            "163/163 [==============================] - 1s 4ms/step - loss: 5.4992 - accuracy: 0.1373\n",
            "41/41 [==============================] - 0s 3ms/step - loss: 2.2366 - accuracy: 0.3972\n",
            "163/163 [==============================] - 1s 4ms/step - loss: 5.6016 - accuracy: 0.1172\n",
            "41/41 [==============================] - 0s 3ms/step - loss: 2.2742 - accuracy: 0.3912\n",
            "163/163 [==============================] - 1s 4ms/step - loss: 4.1224 - accuracy: 0.5346\n",
            "41/41 [==============================] - 0s 3ms/step - loss: 0.7467 - accuracy: 0.7807\n",
            "163/163 [==============================] - 1s 4ms/step - loss: 4.1046 - accuracy: 0.5305\n",
            "41/41 [==============================] - 0s 3ms/step - loss: 0.7630 - accuracy: 0.7730\n",
            "163/163 [==============================] - 1s 5ms/step - loss: 4.1569 - accuracy: 0.5308\n",
            "41/41 [==============================] - 0s 3ms/step - loss: 0.7836 - accuracy: 0.7699\n",
            "163/163 [==============================] - 1s 4ms/step - loss: 4.1335 - accuracy: 0.5302\n",
            "41/41 [==============================] - 0s 3ms/step - loss: 0.7696 - accuracy: 0.7768\n",
            "163/163 [==============================] - 1s 5ms/step - loss: 4.1894 - accuracy: 0.5300\n",
            "41/41 [==============================] - 0s 4ms/step - loss: 0.7669 - accuracy: 0.7735\n",
            "163/163 [==============================] - 1s 4ms/step - loss: 5.2270 - accuracy: 0.2347\n",
            "41/41 [==============================] - 0s 3ms/step - loss: 1.5832 - accuracy: 0.5712\n",
            "163/163 [==============================] - 1s 4ms/step - loss: 5.1196 - accuracy: 0.2552\n",
            "41/41 [==============================] - 0s 3ms/step - loss: 1.5551 - accuracy: 0.5751\n",
            "163/163 [==============================] - 1s 4ms/step - loss: 5.1730 - accuracy: 0.2471\n",
            "41/41 [==============================] - 0s 3ms/step - loss: 1.5776 - accuracy: 0.5712\n",
            "163/163 [==============================] - 1s 4ms/step - loss: 5.1651 - accuracy: 0.2484\n",
            "41/41 [==============================] - 0s 3ms/step - loss: 1.5806 - accuracy: 0.5736\n",
            "163/163 [==============================] - 1s 4ms/step - loss: 5.1272 - accuracy: 0.2474\n",
            "41/41 [==============================] - 0s 3ms/step - loss: 1.5758 - accuracy: 0.5747\n",
            "163/163 [==============================] - 1s 4ms/step - loss: 4.1726 - accuracy: 0.5235\n",
            "41/41 [==============================] - 0s 3ms/step - loss: 0.7479 - accuracy: 0.7838\n",
            "163/163 [==============================] - 1s 4ms/step - loss: 4.1392 - accuracy: 0.5273\n",
            "41/41 [==============================] - 0s 3ms/step - loss: 0.7443 - accuracy: 0.7871\n",
            "163/163 [==============================] - 1s 4ms/step - loss: 4.1831 - accuracy: 0.5256\n",
            "41/41 [==============================] - 0s 3ms/step - loss: 0.7720 - accuracy: 0.7778\n",
            "163/163 [==============================] - 1s 4ms/step - loss: 4.1354 - accuracy: 0.5260\n",
            "41/41 [==============================] - 0s 3ms/step - loss: 0.7532 - accuracy: 0.7842\n",
            "163/163 [==============================] - 1s 4ms/step - loss: 4.2043 - accuracy: 0.5242\n",
            "41/41 [==============================] - 0s 3ms/step - loss: 0.7585 - accuracy: 0.7833\n",
            "163/163 [==============================] - 1s 4ms/step - loss: 5.8355 - accuracy: 0.0409\n",
            "41/41 [==============================] - 0s 3ms/step - loss: 3.3522 - accuracy: 0.0618\n",
            "163/163 [==============================] - 1s 4ms/step - loss: 5.7941 - accuracy: 0.0595\n",
            "41/41 [==============================] - 0s 3ms/step - loss: 3.3266 - accuracy: 0.0876\n",
            "163/163 [==============================] - 1s 4ms/step - loss: 5.8841 - accuracy: 0.0375\n",
            "41/41 [==============================] - 0s 4ms/step - loss: 3.4421 - accuracy: 0.0571\n",
            "163/163 [==============================] - 1s 4ms/step - loss: 5.8090 - accuracy: 0.0562\n",
            "41/41 [==============================] - 0s 3ms/step - loss: 3.3071 - accuracy: 0.0861\n",
            "163/163 [==============================] - 1s 4ms/step - loss: 5.8421 - accuracy: 0.0451\n",
            "41/41 [==============================] - 0s 4ms/step - loss: 3.3793 - accuracy: 0.0665\n",
            "163/163 [==============================] - 1s 4ms/step - loss: 5.4391 - accuracy: 0.1555\n",
            "41/41 [==============================] - 0s 3ms/step - loss: 2.2150 - accuracy: 0.3954\n",
            "163/163 [==============================] - 1s 4ms/step - loss: 5.5212 - accuracy: 0.1364\n",
            "41/41 [==============================] - 0s 3ms/step - loss: 2.2503 - accuracy: 0.4074\n",
            "163/163 [==============================] - 1s 4ms/step - loss: 5.6267 - accuracy: 0.1246\n",
            "41/41 [==============================] - 0s 3ms/step - loss: 2.2892 - accuracy: 0.3914\n",
            "163/163 [==============================] - 1s 4ms/step - loss: 5.5968 - accuracy: 0.1121\n",
            "41/41 [==============================] - 0s 3ms/step - loss: 2.2716 - accuracy: 0.3997\n",
            "163/163 [==============================] - 1s 4ms/step - loss: 5.5960 - accuracy: 0.1124\n",
            "41/41 [==============================] - 0s 3ms/step - loss: 2.2874 - accuracy: 0.3954\n",
            "163/163 [==============================] - 1s 5ms/step - loss: 4.2157 - accuracy: 0.5003\n",
            "41/41 [==============================] - 0s 3ms/step - loss: 0.9268 - accuracy: 0.7307\n",
            "163/163 [==============================] - 1s 5ms/step - loss: 4.2389 - accuracy: 0.4961\n",
            "41/41 [==============================] - 0s 3ms/step - loss: 0.8971 - accuracy: 0.7364\n",
            "163/163 [==============================] - 1s 5ms/step - loss: 4.2682 - accuracy: 0.4975\n",
            "41/41 [==============================] - 0s 3ms/step - loss: 0.9349 - accuracy: 0.7236\n",
            "163/163 [==============================] - 1s 4ms/step - loss: 4.2915 - accuracy: 0.4978\n",
            "41/41 [==============================] - 0s 3ms/step - loss: 0.9301 - accuracy: 0.7210\n",
            "163/163 [==============================] - 1s 5ms/step - loss: 4.2611 - accuracy: 0.4971\n",
            "41/41 [==============================] - 0s 3ms/step - loss: 0.9733 - accuracy: 0.7086\n",
            "163/163 [==============================] - 1s 4ms/step - loss: 5.5542 - accuracy: 0.1124\n",
            "41/41 [==============================] - 0s 4ms/step - loss: 2.7361 - accuracy: 0.3919\n",
            "163/163 [==============================] - 1s 4ms/step - loss: 5.5967 - accuracy: 0.1238\n",
            "41/41 [==============================] - 0s 3ms/step - loss: 2.7157 - accuracy: 0.3865\n",
            "163/163 [==============================] - 1s 4ms/step - loss: 5.6496 - accuracy: 0.1049\n",
            "41/41 [==============================] - 0s 3ms/step - loss: 2.7319 - accuracy: 0.3931\n",
            "163/163 [==============================] - 1s 4ms/step - loss: 5.5385 - accuracy: 0.1309\n",
            "41/41 [==============================] - 0s 3ms/step - loss: 2.6971 - accuracy: 0.3917\n",
            "163/163 [==============================] - 1s 4ms/step - loss: 5.5827 - accuracy: 0.1088\n",
            "41/41 [==============================] - 0s 3ms/step - loss: 2.7274 - accuracy: 0.3819\n",
            "163/163 [==============================] - 1s 4ms/step - loss: 4.3059 - accuracy: 0.4871\n",
            "41/41 [==============================] - 0s 4ms/step - loss: 0.9218 - accuracy: 0.7326\n",
            "163/163 [==============================] - 1s 4ms/step - loss: 4.3119 - accuracy: 0.4858\n",
            "41/41 [==============================] - 0s 3ms/step - loss: 0.9281 - accuracy: 0.7253\n",
            "163/163 [==============================] - 1s 4ms/step - loss: 4.3395 - accuracy: 0.4821\n",
            "41/41 [==============================] - 0s 3ms/step - loss: 0.9352 - accuracy: 0.7272\n",
            "163/163 [==============================] - 1s 4ms/step - loss: 4.3289 - accuracy: 0.4852\n",
            "41/41 [==============================] - 0s 3ms/step - loss: 0.9350 - accuracy: 0.7292\n",
            "163/163 [==============================] - 1s 4ms/step - loss: 4.3688 - accuracy: 0.4789\n",
            "41/41 [==============================] - 0s 3ms/step - loss: 0.9395 - accuracy: 0.7271\n",
            "163/163 [==============================] - 1s 4ms/step - loss: 5.8864 - accuracy: 0.0409\n",
            "41/41 [==============================] - 0s 3ms/step - loss: 3.5057 - accuracy: 0.0449\n",
            "163/163 [==============================] - 1s 4ms/step - loss: 5.8269 - accuracy: 0.0312\n",
            "41/41 [==============================] - 0s 3ms/step - loss: 3.3825 - accuracy: 0.0320\n",
            "163/163 [==============================] - 1s 4ms/step - loss: 5.8631 - accuracy: 0.0220\n",
            "41/41 [==============================] - 0s 4ms/step - loss: 3.4135 - accuracy: 0.0237\n",
            "163/163 [==============================] - 1s 4ms/step - loss: 5.7668 - accuracy: 0.0447\n",
            "41/41 [==============================] - 0s 3ms/step - loss: 3.3644 - accuracy: 0.0517\n",
            "163/163 [==============================] - 1s 4ms/step - loss: 5.9199 - accuracy: 0.0430\n",
            "41/41 [==============================] - 0s 4ms/step - loss: 3.5248 - accuracy: 0.0438\n",
            "163/163 [==============================] - 1s 4ms/step - loss: 5.7370 - accuracy: 0.0635\n",
            "41/41 [==============================] - 0s 3ms/step - loss: 3.0858 - accuracy: 0.1729\n",
            "163/163 [==============================] - 1s 4ms/step - loss: 5.7042 - accuracy: 0.0608\n",
            "41/41 [==============================] - 0s 3ms/step - loss: 3.0772 - accuracy: 0.1936\n",
            "163/163 [==============================] - 1s 4ms/step - loss: 5.7234 - accuracy: 0.0548\n",
            "41/41 [==============================] - 0s 4ms/step - loss: 3.1087 - accuracy: 0.1588\n",
            "163/163 [==============================] - 1s 4ms/step - loss: 5.7214 - accuracy: 0.0534\n",
            "41/41 [==============================] - 0s 3ms/step - loss: 3.0895 - accuracy: 0.1810\n",
            "163/163 [==============================] - 1s 4ms/step - loss: 5.6730 - accuracy: 0.0552\n",
            "41/41 [==============================] - 0s 3ms/step - loss: 3.1078 - accuracy: 0.1624\n",
            "163/163 [==============================] - 1s 5ms/step - loss: 4.2397 - accuracy: 0.5003\n",
            "41/41 [==============================] - 0s 3ms/step - loss: 0.9086 - accuracy: 0.7308\n",
            "163/163 [==============================] - 1s 5ms/step - loss: 4.2454 - accuracy: 0.4947\n",
            "41/41 [==============================] - 0s 3ms/step - loss: 0.9316 - accuracy: 0.7209\n",
            "163/163 [==============================] - 1s 5ms/step - loss: 4.2447 - accuracy: 0.4980\n",
            "41/41 [==============================] - 0s 3ms/step - loss: 0.9206 - accuracy: 0.7268\n",
            "163/163 [==============================] - 1s 4ms/step - loss: 4.2461 - accuracy: 0.4997\n",
            "41/41 [==============================] - 0s 3ms/step - loss: 0.9269 - accuracy: 0.7287\n",
            "163/163 [==============================] - 1s 4ms/step - loss: 4.2716 - accuracy: 0.4984\n",
            "41/41 [==============================] - 0s 3ms/step - loss: 0.9540 - accuracy: 0.7207\n",
            "163/163 [==============================] - 1s 4ms/step - loss: 5.6219 - accuracy: 0.1058\n",
            "41/41 [==============================] - 0s 4ms/step - loss: 2.7397 - accuracy: 0.3831\n",
            "163/163 [==============================] - 1s 4ms/step - loss: 5.5807 - accuracy: 0.1204\n",
            "41/41 [==============================] - 0s 3ms/step - loss: 2.7198 - accuracy: 0.3929\n",
            "163/163 [==============================] - 1s 4ms/step - loss: 5.6044 - accuracy: 0.1331\n",
            "41/41 [==============================] - 0s 4ms/step - loss: 2.7156 - accuracy: 0.3945\n",
            "163/163 [==============================] - 1s 4ms/step - loss: 5.5766 - accuracy: 0.1211\n",
            "41/41 [==============================] - 0s 3ms/step - loss: 2.7358 - accuracy: 0.3657\n",
            "163/163 [==============================] - 1s 4ms/step - loss: 5.6354 - accuracy: 0.1318\n",
            "41/41 [==============================] - 0s 3ms/step - loss: 2.7209 - accuracy: 0.3953\n",
            "163/163 [==============================] - 1s 5ms/step - loss: 4.3323 - accuracy: 0.4829\n",
            "41/41 [==============================] - 0s 3ms/step - loss: 0.9238 - accuracy: 0.7330\n",
            "163/163 [==============================] - 1s 4ms/step - loss: 4.3108 - accuracy: 0.4811\n",
            "41/41 [==============================] - 0s 4ms/step - loss: 0.9133 - accuracy: 0.7352\n",
            "163/163 [==============================] - 1s 4ms/step - loss: 4.3321 - accuracy: 0.4840\n",
            "41/41 [==============================] - 0s 4ms/step - loss: 0.9414 - accuracy: 0.7227\n",
            "163/163 [==============================] - 1s 4ms/step - loss: 4.2729 - accuracy: 0.4863\n",
            "41/41 [==============================] - 0s 3ms/step - loss: 0.9214 - accuracy: 0.7322\n",
            "163/163 [==============================] - 1s 4ms/step - loss: 4.3724 - accuracy: 0.4830\n",
            "41/41 [==============================] - 0s 3ms/step - loss: 0.9339 - accuracy: 0.7345\n",
            "163/163 [==============================] - 1s 4ms/step - loss: 5.8048 - accuracy: 0.0333\n",
            "41/41 [==============================] - 0s 3ms/step - loss: 3.3846 - accuracy: 0.0343\n",
            "163/163 [==============================] - 1s 4ms/step - loss: 5.7968 - accuracy: 0.0463\n",
            "41/41 [==============================] - 0s 3ms/step - loss: 3.3888 - accuracy: 0.0536\n",
            "163/163 [==============================] - 1s 4ms/step - loss: 5.8871 - accuracy: 0.0449\n",
            "41/41 [==============================] - 0s 3ms/step - loss: 3.4721 - accuracy: 0.0497\n",
            "163/163 [==============================] - 1s 4ms/step - loss: 5.8864 - accuracy: 0.0289\n",
            "41/41 [==============================] - 0s 3ms/step - loss: 3.4338 - accuracy: 0.0284\n",
            "163/163 [==============================] - 1s 4ms/step - loss: 5.8197 - accuracy: 0.0392\n",
            "41/41 [==============================] - 0s 3ms/step - loss: 3.4040 - accuracy: 0.0434\n",
            "163/163 [==============================] - 1s 4ms/step - loss: 5.6922 - accuracy: 0.0566\n",
            "41/41 [==============================] - 0s 3ms/step - loss: 3.1167 - accuracy: 0.1416\n",
            "163/163 [==============================] - 1s 4ms/step - loss: 5.6288 - accuracy: 0.0576\n",
            "41/41 [==============================] - 0s 3ms/step - loss: 3.0816 - accuracy: 0.1625\n",
            "163/163 [==============================] - 1s 4ms/step - loss: 5.7490 - accuracy: 0.0686\n",
            "41/41 [==============================] - 0s 3ms/step - loss: 3.0827 - accuracy: 0.1849\n",
            "163/163 [==============================] - 1s 4ms/step - loss: 5.7174 - accuracy: 0.0571\n",
            "41/41 [==============================] - 0s 3ms/step - loss: 3.1029 - accuracy: 0.1533\n",
            "163/163 [==============================] - 1s 4ms/step - loss: 5.6959 - accuracy: 0.0561\n",
            "41/41 [==============================] - 0s 3ms/step - loss: 3.0905 - accuracy: 0.1727\n",
            "163/163 [==============================] - 1s 5ms/step - loss: 8.5153 - accuracy: 0.3660\n",
            "41/41 [==============================] - 0s 4ms/step - loss: 0.7124 - accuracy: 0.7842\n",
            "163/163 [==============================] - 1s 5ms/step - loss: 8.4603 - accuracy: 0.3733\n",
            "41/41 [==============================] - 0s 4ms/step - loss: 0.7198 - accuracy: 0.7875\n",
            "163/163 [==============================] - 1s 4ms/step - loss: 8.5826 - accuracy: 0.3640\n",
            "41/41 [==============================] - 0s 3ms/step - loss: 0.7108 - accuracy: 0.7852\n",
            "163/163 [==============================] - 1s 5ms/step - loss: 8.4933 - accuracy: 0.3652\n",
            "41/41 [==============================] - 0s 3ms/step - loss: 0.7148 - accuracy: 0.7836\n",
            "163/163 [==============================] - 1s 5ms/step - loss: 8.4415 - accuracy: 0.3719\n",
            "41/41 [==============================] - 0s 3ms/step - loss: 0.7165 - accuracy: 0.7833\n",
            "163/163 [==============================] - 1s 4ms/step - loss: 9.2724 - accuracy: 0.1179\n",
            "41/41 [==============================] - 0s 4ms/step - loss: 2.0799 - accuracy: 0.4787\n",
            "163/163 [==============================] - 1s 4ms/step - loss: 9.2184 - accuracy: 0.1316\n",
            "41/41 [==============================] - 0s 3ms/step - loss: 2.0579 - accuracy: 0.4965\n",
            "163/163 [==============================] - 1s 4ms/step - loss: 9.3034 - accuracy: 0.1108\n",
            "41/41 [==============================] - 0s 3ms/step - loss: 2.1237 - accuracy: 0.4657\n",
            "163/163 [==============================] - 1s 4ms/step - loss: 9.2547 - accuracy: 0.1190\n",
            "41/41 [==============================] - 0s 4ms/step - loss: 2.0803 - accuracy: 0.4850\n",
            "163/163 [==============================] - 1s 4ms/step - loss: 9.2809 - accuracy: 0.1301\n",
            "41/41 [==============================] - 0s 3ms/step - loss: 2.0668 - accuracy: 0.4791\n",
            "163/163 [==============================] - 1s 4ms/step - loss: 8.5295 - accuracy: 0.3557\n",
            "41/41 [==============================] - 0s 3ms/step - loss: 0.6705 - accuracy: 0.8017\n",
            "163/163 [==============================] - 1s 4ms/step - loss: 8.4378 - accuracy: 0.3620\n",
            "41/41 [==============================] - 0s 4ms/step - loss: 0.6660 - accuracy: 0.8001\n",
            "163/163 [==============================] - 1s 4ms/step - loss: 8.5266 - accuracy: 0.3581\n",
            "41/41 [==============================] - 0s 3ms/step - loss: 0.6887 - accuracy: 0.7941\n",
            "163/163 [==============================] - 1s 4ms/step - loss: 8.5343 - accuracy: 0.3559\n",
            "41/41 [==============================] - 0s 3ms/step - loss: 0.6719 - accuracy: 0.7988\n",
            "163/163 [==============================] - 1s 4ms/step - loss: 8.5104 - accuracy: 0.3584\n",
            "41/41 [==============================] - 0s 3ms/step - loss: 0.6750 - accuracy: 0.7980\n",
            "163/163 [==============================] - 1s 4ms/step - loss: 9.4449 - accuracy: 0.0499\n",
            "41/41 [==============================] - 0s 3ms/step - loss: 3.4958 - accuracy: 0.0693\n",
            "163/163 [==============================] - 1s 4ms/step - loss: 9.4989 - accuracy: 0.0389\n",
            "41/41 [==============================] - 0s 3ms/step - loss: 3.5604 - accuracy: 0.0423\n",
            "163/163 [==============================] - 1s 4ms/step - loss: 9.4790 - accuracy: 0.0534\n",
            "41/41 [==============================] - 0s 4ms/step - loss: 3.4064 - accuracy: 0.0701\n",
            "163/163 [==============================] - 1s 4ms/step - loss: 9.5435 - accuracy: 0.0354\n",
            "41/41 [==============================] - 0s 3ms/step - loss: 3.5144 - accuracy: 0.0419\n",
            "163/163 [==============================] - 1s 5ms/step - loss: 9.5148 - accuracy: 0.0363\n",
            "41/41 [==============================] - 0s 3ms/step - loss: 3.5517 - accuracy: 0.0452\n",
            "163/163 [==============================] - 1s 4ms/step - loss: 9.5138 - accuracy: 0.0523\n",
            "41/41 [==============================] - 0s 4ms/step - loss: 2.9042 - accuracy: 0.2034\n",
            "163/163 [==============================] - 1s 4ms/step - loss: 9.4303 - accuracy: 0.0651\n",
            "41/41 [==============================] - 0s 3ms/step - loss: 2.8561 - accuracy: 0.2227\n",
            "163/163 [==============================] - 1s 4ms/step - loss: 9.4093 - accuracy: 0.0650\n",
            "41/41 [==============================] - 0s 3ms/step - loss: 2.8716 - accuracy: 0.2233\n",
            "163/163 [==============================] - 1s 4ms/step - loss: 9.4148 - accuracy: 0.0623\n",
            "41/41 [==============================] - 0s 4ms/step - loss: 2.8682 - accuracy: 0.2134\n",
            "163/163 [==============================] - 1s 4ms/step - loss: 9.4247 - accuracy: 0.0618\n",
            "41/41 [==============================] - 0s 3ms/step - loss: 2.8122 - accuracy: 0.2297\n",
            "163/163 [==============================] - 1s 4ms/step - loss: 8.4667 - accuracy: 0.3690\n",
            "41/41 [==============================] - 0s 3ms/step - loss: 0.7041 - accuracy: 0.7907\n",
            "163/163 [==============================] - 1s 4ms/step - loss: nan - accuracy: 0.3520\n",
            "41/41 [==============================] - 0s 3ms/step - loss: nan - accuracy: 0.0000e+00\n",
            "163/163 [==============================] - 1s 5ms/step - loss: 8.4421 - accuracy: 0.3714\n",
            "41/41 [==============================] - 0s 3ms/step - loss: 0.7735 - accuracy: 0.7689\n",
            "163/163 [==============================] - 1s 4ms/step - loss: 8.5271 - accuracy: 0.3674\n",
            "41/41 [==============================] - 1s 3ms/step - loss: 0.7067 - accuracy: 0.7887\n",
            "163/163 [==============================] - 1s 5ms/step - loss: 8.5338 - accuracy: 0.3661\n",
            "41/41 [==============================] - 0s 3ms/step - loss: 0.7200 - accuracy: 0.7844\n",
            "163/163 [==============================] - 1s 4ms/step - loss: 9.2528 - accuracy: 0.1282\n",
            "41/41 [==============================] - 0s 3ms/step - loss: 2.0566 - accuracy: 0.4915\n",
            "163/163 [==============================] - 1s 4ms/step - loss: 9.2896 - accuracy: 0.1186\n",
            "41/41 [==============================] - 0s 3ms/step - loss: 2.0670 - accuracy: 0.4837\n",
            "163/163 [==============================] - 1s 4ms/step - loss: 9.2734 - accuracy: 0.1206\n",
            "41/41 [==============================] - 0s 3ms/step - loss: 2.1003 - accuracy: 0.4650\n",
            "163/163 [==============================] - 1s 4ms/step - loss: 9.2169 - accuracy: 0.1304\n",
            "41/41 [==============================] - 0s 4ms/step - loss: 2.0659 - accuracy: 0.4822\n",
            "163/163 [==============================] - 1s 4ms/step - loss: 9.3070 - accuracy: 0.1272\n",
            "41/41 [==============================] - 0s 3ms/step - loss: 2.0759 - accuracy: 0.4757\n",
            "163/163 [==============================] - 1s 4ms/step - loss: 8.5829 - accuracy: 0.3560\n",
            "41/41 [==============================] - 0s 3ms/step - loss: 0.6958 - accuracy: 0.7886\n",
            "163/163 [==============================] - 1s 4ms/step - loss: 8.5336 - accuracy: 0.3594\n",
            "41/41 [==============================] - 0s 4ms/step - loss: 0.6698 - accuracy: 0.8014\n",
            "163/163 [==============================] - 1s 4ms/step - loss: 8.5070 - accuracy: 0.3590\n",
            "41/41 [==============================] - 0s 3ms/step - loss: 0.6908 - accuracy: 0.7911\n",
            "163/163 [==============================] - 1s 4ms/step - loss: 8.5457 - accuracy: 0.3583\n",
            "41/41 [==============================] - 0s 3ms/step - loss: 0.6576 - accuracy: 0.8049\n",
            "163/163 [==============================] - 1s 4ms/step - loss: 8.5184 - accuracy: 0.3576\n",
            "41/41 [==============================] - 0s 3ms/step - loss: 0.6779 - accuracy: 0.7978\n",
            "163/163 [==============================] - 1s 4ms/step - loss: 9.5241 - accuracy: 0.0406\n",
            "41/41 [==============================] - 0s 3ms/step - loss: 3.5361 - accuracy: 0.0537\n",
            "163/163 [==============================] - 1s 5ms/step - loss: 9.5522 - accuracy: 0.0391\n",
            "41/41 [==============================] - 0s 3ms/step - loss: 3.4982 - accuracy: 0.0509\n",
            "163/163 [==============================] - 1s 5ms/step - loss: 9.5337 - accuracy: 0.0467\n",
            "41/41 [==============================] - 0s 4ms/step - loss: 3.5437 - accuracy: 0.0621\n",
            "163/163 [==============================] - 1s 4ms/step - loss: 9.5480 - accuracy: 0.0460\n",
            "41/41 [==============================] - 0s 3ms/step - loss: 3.5644 - accuracy: 0.0612\n",
            "163/163 [==============================] - 1s 4ms/step - loss: 9.4382 - accuracy: 0.0435\n",
            "41/41 [==============================] - 0s 3ms/step - loss: 3.4155 - accuracy: 0.0551\n",
            "163/163 [==============================] - 1s 4ms/step - loss: 9.4713 - accuracy: 0.0563\n",
            "41/41 [==============================] - 0s 3ms/step - loss: 2.8677 - accuracy: 0.2096\n",
            "163/163 [==============================] - 1s 4ms/step - loss: 9.4372 - accuracy: 0.0665\n",
            "41/41 [==============================] - 0s 3ms/step - loss: 2.8274 - accuracy: 0.2325\n",
            "163/163 [==============================] - 1s 4ms/step - loss: 9.3734 - accuracy: 0.0733\n",
            "41/41 [==============================] - 0s 3ms/step - loss: 2.7856 - accuracy: 0.2576\n",
            "163/163 [==============================] - 1s 4ms/step - loss: 9.3845 - accuracy: 0.0589\n",
            "41/41 [==============================] - 0s 3ms/step - loss: 2.8640 - accuracy: 0.2113\n",
            "163/163 [==============================] - 1s 4ms/step - loss: 9.3899 - accuracy: 0.0603\n",
            "41/41 [==============================] - 0s 3ms/step - loss: 2.8654 - accuracy: 0.2275\n",
            "163/163 [==============================] - 1s 4ms/step - loss: 8.6480 - accuracy: 0.3468\n",
            "41/41 [==============================] - 0s 3ms/step - loss: 0.9202 - accuracy: 0.7255\n",
            "163/163 [==============================] - 1s 5ms/step - loss: 8.5654 - accuracy: 0.3481\n",
            "41/41 [==============================] - 0s 3ms/step - loss: 0.8522 - accuracy: 0.7471\n",
            "163/163 [==============================] - 1s 5ms/step - loss: 8.5172 - accuracy: 0.3501\n",
            "41/41 [==============================] - 0s 3ms/step - loss: 0.8909 - accuracy: 0.7326\n",
            "163/163 [==============================] - 1s 5ms/step - loss: 8.5340 - accuracy: 0.3536\n",
            "41/41 [==============================] - 0s 3ms/step - loss: 0.8983 - accuracy: 0.7330\n",
            "163/163 [==============================] - 1s 5ms/step - loss: 8.5320 - accuracy: 0.3482\n",
            "41/41 [==============================] - 0s 3ms/step - loss: 0.8642 - accuracy: 0.7484\n",
            "163/163 [==============================] - 1s 4ms/step - loss: 9.2079 - accuracy: 0.1439\n",
            "41/41 [==============================] - 0s 3ms/step - loss: 1.8649 - accuracy: 0.4986\n",
            "163/163 [==============================] - 1s 4ms/step - loss: 9.1158 - accuracy: 0.1519\n",
            "41/41 [==============================] - 0s 3ms/step - loss: 1.8411 - accuracy: 0.5159\n",
            "163/163 [==============================] - 1s 4ms/step - loss: 9.1954 - accuracy: 0.1530\n",
            "41/41 [==============================] - 0s 3ms/step - loss: 1.8815 - accuracy: 0.4975\n",
            "163/163 [==============================] - 1s 4ms/step - loss: 9.1735 - accuracy: 0.1381\n",
            "41/41 [==============================] - 0s 3ms/step - loss: 1.8681 - accuracy: 0.5002\n",
            "163/163 [==============================] - 1s 4ms/step - loss: 9.1392 - accuracy: 0.1457\n",
            "41/41 [==============================] - 0s 3ms/step - loss: 1.8667 - accuracy: 0.5036\n",
            "163/163 [==============================] - 1s 4ms/step - loss: 8.4749 - accuracy: 0.3529\n",
            "41/41 [==============================] - 0s 3ms/step - loss: 0.8695 - accuracy: 0.7457\n",
            "163/163 [==============================] - 1s 4ms/step - loss: 8.5671 - accuracy: 0.3452\n",
            "41/41 [==============================] - 0s 3ms/step - loss: 0.8778 - accuracy: 0.7384\n",
            "163/163 [==============================] - 1s 4ms/step - loss: 8.4803 - accuracy: 0.3479\n",
            "41/41 [==============================] - 0s 3ms/step - loss: 0.8952 - accuracy: 0.7376\n",
            "163/163 [==============================] - 1s 4ms/step - loss: 8.4974 - accuracy: 0.3508\n",
            "41/41 [==============================] - 0s 3ms/step - loss: 0.8783 - accuracy: 0.7402\n",
            "163/163 [==============================] - 1s 4ms/step - loss: 8.5550 - accuracy: 0.3469\n",
            "41/41 [==============================] - 0s 3ms/step - loss: 0.8772 - accuracy: 0.7458\n",
            "163/163 [==============================] - 1s 5ms/step - loss: 9.5031 - accuracy: 0.0341\n",
            "41/41 [==============================] - 0s 4ms/step - loss: 3.4468 - accuracy: 0.0440\n",
            "163/163 [==============================] - 1s 4ms/step - loss: 9.5038 - accuracy: 0.0325\n",
            "41/41 [==============================] - 0s 3ms/step - loss: 3.4220 - accuracy: 0.0468\n",
            "163/163 [==============================] - 1s 5ms/step - loss: 9.5202 - accuracy: 0.0310\n",
            "41/41 [==============================] - 0s 3ms/step - loss: 3.5085 - accuracy: 0.0409\n",
            "163/163 [==============================] - 1s 4ms/step - loss: 9.4179 - accuracy: 0.0634\n",
            "41/41 [==============================] - 0s 3ms/step - loss: 3.2867 - accuracy: 0.1012\n",
            "163/163 [==============================] - 1s 5ms/step - loss: 9.4735 - accuracy: 0.0427\n",
            "41/41 [==============================] - 0s 4ms/step - loss: 3.3488 - accuracy: 0.0645\n",
            "163/163 [==============================] - 1s 4ms/step - loss: 9.4163 - accuracy: 0.0631\n",
            "41/41 [==============================] - 0s 3ms/step - loss: 2.6468 - accuracy: 0.2651\n",
            "163/163 [==============================] - 1s 4ms/step - loss: 9.4060 - accuracy: 0.0735\n",
            "41/41 [==============================] - 0s 3ms/step - loss: 2.6227 - accuracy: 0.2675\n",
            "163/163 [==============================] - 1s 4ms/step - loss: 9.4213 - accuracy: 0.0710\n",
            "41/41 [==============================] - 0s 3ms/step - loss: 2.6456 - accuracy: 0.2769\n",
            "163/163 [==============================] - 1s 4ms/step - loss: 9.3207 - accuracy: 0.0848\n",
            "41/41 [==============================] - 0s 3ms/step - loss: 2.5485 - accuracy: 0.3228\n",
            "163/163 [==============================] - 1s 4ms/step - loss: 9.3808 - accuracy: 0.0701\n",
            "41/41 [==============================] - 0s 4ms/step - loss: 2.6530 - accuracy: 0.2661\n",
            "163/163 [==============================] - 1s 5ms/step - loss: 8.5235 - accuracy: 0.3522\n",
            "41/41 [==============================] - 0s 3ms/step - loss: 0.8747 - accuracy: 0.7437\n",
            "163/163 [==============================] - 1s 4ms/step - loss: 8.6115 - accuracy: 0.3448\n",
            "41/41 [==============================] - 0s 4ms/step - loss: 0.8803 - accuracy: 0.7404\n",
            "163/163 [==============================] - 1s 5ms/step - loss: 8.5396 - accuracy: 0.3518\n",
            "41/41 [==============================] - 0s 3ms/step - loss: 0.8884 - accuracy: 0.7423\n",
            "163/163 [==============================] - 1s 5ms/step - loss: 8.5015 - accuracy: 0.3530\n",
            "41/41 [==============================] - 0s 3ms/step - loss: 0.8894 - accuracy: 0.7367\n",
            "163/163 [==============================] - 1s 5ms/step - loss: 8.5240 - accuracy: 0.3530\n",
            "41/41 [==============================] - 0s 4ms/step - loss: 0.8898 - accuracy: 0.7376\n",
            "163/163 [==============================] - 1s 4ms/step - loss: 9.2253 - accuracy: 0.1395\n",
            "41/41 [==============================] - 0s 3ms/step - loss: 1.8668 - accuracy: 0.5070\n",
            "163/163 [==============================] - 1s 4ms/step - loss: 9.2047 - accuracy: 0.1366\n",
            "41/41 [==============================] - 0s 3ms/step - loss: 1.8835 - accuracy: 0.4993\n",
            "163/163 [==============================] - 1s 4ms/step - loss: 9.1883 - accuracy: 0.1457\n",
            "41/41 [==============================] - 0s 3ms/step - loss: 1.8804 - accuracy: 0.4971\n",
            "163/163 [==============================] - 1s 4ms/step - loss: 9.1673 - accuracy: 0.1543\n",
            "41/41 [==============================] - 0s 3ms/step - loss: 1.8480 - accuracy: 0.5117\n",
            "163/163 [==============================] - 1s 4ms/step - loss: 9.1473 - accuracy: 0.1461\n",
            "41/41 [==============================] - 0s 3ms/step - loss: 1.8637 - accuracy: 0.5092\n",
            "163/163 [==============================] - 1s 4ms/step - loss: 8.5869 - accuracy: 0.3466\n",
            "41/41 [==============================] - 0s 3ms/step - loss: 0.8879 - accuracy: 0.7378\n",
            "163/163 [==============================] - 1s 4ms/step - loss: 8.6090 - accuracy: 0.3419\n",
            "41/41 [==============================] - 0s 3ms/step - loss: 0.8679 - accuracy: 0.7449\n",
            "163/163 [==============================] - 1s 4ms/step - loss: 8.5273 - accuracy: 0.3484\n",
            "41/41 [==============================] - 0s 3ms/step - loss: 0.8884 - accuracy: 0.7392\n",
            "163/163 [==============================] - 1s 4ms/step - loss: 8.5768 - accuracy: 0.3437\n",
            "41/41 [==============================] - 0s 3ms/step - loss: 0.8815 - accuracy: 0.7464\n",
            "163/163 [==============================] - 1s 4ms/step - loss: 8.5431 - accuracy: 0.3487\n",
            "41/41 [==============================] - 0s 3ms/step - loss: 0.8919 - accuracy: 0.7373\n",
            "163/163 [==============================] - 1s 4ms/step - loss: 9.5439 - accuracy: 0.0321\n",
            "41/41 [==============================] - 0s 4ms/step - loss: 3.4648 - accuracy: 0.0464\n",
            "163/163 [==============================] - 1s 4ms/step - loss: 9.4710 - accuracy: 0.0426\n",
            "41/41 [==============================] - 0s 3ms/step - loss: 3.3648 - accuracy: 0.0613\n",
            "163/163 [==============================] - 1s 5ms/step - loss: 9.5152 - accuracy: 0.0305\n",
            "41/41 [==============================] - 0s 3ms/step - loss: 3.5205 - accuracy: 0.0407\n",
            "163/163 [==============================] - 1s 4ms/step - loss: 9.5260 - accuracy: 0.0386\n",
            "41/41 [==============================] - 0s 3ms/step - loss: 3.4848 - accuracy: 0.0547\n",
            "163/163 [==============================] - 1s 4ms/step - loss: 9.4573 - accuracy: 0.0433\n",
            "41/41 [==============================] - 0s 3ms/step - loss: 3.4066 - accuracy: 0.0655\n",
            "163/163 [==============================] - 1s 5ms/step - loss: 9.3577 - accuracy: 0.0767\n",
            "41/41 [==============================] - 0s 3ms/step - loss: 2.6213 - accuracy: 0.2804\n",
            "163/163 [==============================] - 1s 4ms/step - loss: 9.4120 - accuracy: 0.0658\n",
            "41/41 [==============================] - 0s 3ms/step - loss: 2.6455 - accuracy: 0.2840\n",
            "163/163 [==============================] - 1s 4ms/step - loss: 9.3872 - accuracy: 0.0614\n",
            "41/41 [==============================] - 0s 3ms/step - loss: 2.6460 - accuracy: 0.2663\n",
            "163/163 [==============================] - 1s 4ms/step - loss: 9.3446 - accuracy: 0.0824\n",
            "41/41 [==============================] - 0s 4ms/step - loss: 2.5878 - accuracy: 0.2872\n",
            "163/163 [==============================] - 1s 4ms/step - loss: 9.3874 - accuracy: 0.0810\n",
            "41/41 [==============================] - 0s 3ms/step - loss: 2.6294 - accuracy: 0.2851\n",
            "163/163 [==============================] - 1s 5ms/step - loss: 8.6228 - accuracy: 0.3318\n",
            "41/41 [==============================] - 0s 3ms/step - loss: 1.0379 - accuracy: 0.6916\n",
            "163/163 [==============================] - 1s 5ms/step - loss: 8.6560 - accuracy: 0.3300\n",
            "41/41 [==============================] - 0s 3ms/step - loss: 0.9839 - accuracy: 0.7100\n",
            "163/163 [==============================] - 1s 5ms/step - loss: 8.6157 - accuracy: 0.3322\n",
            "41/41 [==============================] - 0s 4ms/step - loss: 1.0230 - accuracy: 0.6966\n",
            "163/163 [==============================] - 1s 5ms/step - loss: 8.5915 - accuracy: 0.3343\n",
            "41/41 [==============================] - 0s 3ms/step - loss: 1.0650 - accuracy: 0.6712\n",
            "163/163 [==============================] - 1s 5ms/step - loss: 8.6047 - accuracy: 0.3311\n",
            "41/41 [==============================] - 0s 3ms/step - loss: 1.0320 - accuracy: 0.6863\n",
            "163/163 [==============================] - 1s 4ms/step - loss: 9.3348 - accuracy: 0.0769\n",
            "41/41 [==============================] - 0s 3ms/step - loss: 2.9112 - accuracy: 0.2925\n",
            "163/163 [==============================] - 1s 4ms/step - loss: 9.3028 - accuracy: 0.0742\n",
            "41/41 [==============================] - 0s 3ms/step - loss: 2.9109 - accuracy: 0.2861\n",
            "163/163 [==============================] - 1s 4ms/step - loss: 9.3295 - accuracy: 0.0699\n",
            "41/41 [==============================] - 0s 4ms/step - loss: 2.9214 - accuracy: 0.2832\n",
            "163/163 [==============================] - 1s 4ms/step - loss: 9.3232 - accuracy: 0.0800\n",
            "41/41 [==============================] - 0s 3ms/step - loss: 2.9071 - accuracy: 0.2885\n",
            "163/163 [==============================] - 1s 4ms/step - loss: 9.3082 - accuracy: 0.0813\n",
            "41/41 [==============================] - 0s 3ms/step - loss: 2.9135 - accuracy: 0.3026\n",
            "163/163 [==============================] - 1s 4ms/step - loss: 8.5653 - accuracy: 0.3292\n",
            "41/41 [==============================] - 0s 3ms/step - loss: 1.0174 - accuracy: 0.6958\n",
            "163/163 [==============================] - 1s 5ms/step - loss: 8.6292 - accuracy: 0.3227\n",
            "41/41 [==============================] - 0s 3ms/step - loss: 0.9891 - accuracy: 0.7134\n",
            "163/163 [==============================] - 1s 4ms/step - loss: 8.6445 - accuracy: 0.3216\n",
            "41/41 [==============================] - 0s 3ms/step - loss: 1.0057 - accuracy: 0.7015\n",
            "163/163 [==============================] - 1s 4ms/step - loss: 8.6566 - accuracy: 0.3236\n",
            "41/41 [==============================] - 0s 4ms/step - loss: 0.9922 - accuracy: 0.7072\n",
            "163/163 [==============================] - 1s 4ms/step - loss: 8.6592 - accuracy: 0.3219\n",
            "41/41 [==============================] - 0s 3ms/step - loss: 1.0060 - accuracy: 0.7046\n",
            "163/163 [==============================] - 1s 4ms/step - loss: 9.4948 - accuracy: 0.0356\n",
            "41/41 [==============================] - 0s 4ms/step - loss: 3.4770 - accuracy: 0.0344\n",
            "163/163 [==============================] - 1s 4ms/step - loss: 9.4374 - accuracy: 0.0382\n",
            "41/41 [==============================] - 0s 4ms/step - loss: 3.4327 - accuracy: 0.0404\n",
            "163/163 [==============================] - 1s 5ms/step - loss: 9.4882 - accuracy: 0.0343\n",
            "41/41 [==============================] - 0s 3ms/step - loss: 3.4443 - accuracy: 0.0350\n",
            "163/163 [==============================] - 1s 4ms/step - loss: 9.5292 - accuracy: 0.0367\n",
            "41/41 [==============================] - 0s 4ms/step - loss: 3.4247 - accuracy: 0.0347\n",
            "163/163 [==============================] - 1s 5ms/step - loss: 9.4823 - accuracy: 0.0321\n",
            "41/41 [==============================] - 0s 4ms/step - loss: 3.5076 - accuracy: 0.0350\n",
            "163/163 [==============================] - 1s 5ms/step - loss: 9.3582 - accuracy: 0.0423\n",
            "41/41 [==============================] - 0s 3ms/step - loss: 3.1895 - accuracy: 0.0985\n",
            "163/163 [==============================] - 1s 4ms/step - loss: 9.4530 - accuracy: 0.0410\n",
            "41/41 [==============================] - 0s 3ms/step - loss: 3.2061 - accuracy: 0.0866\n",
            "163/163 [==============================] - 1s 4ms/step - loss: 9.3602 - accuracy: 0.0424\n",
            "41/41 [==============================] - 0s 3ms/step - loss: 3.1648 - accuracy: 0.1000\n",
            "163/163 [==============================] - 1s 4ms/step - loss: 9.4241 - accuracy: 0.0384\n",
            "41/41 [==============================] - 0s 3ms/step - loss: 3.1745 - accuracy: 0.0990\n",
            "163/163 [==============================] - 1s 4ms/step - loss: 9.4254 - accuracy: 0.0462\n",
            "41/41 [==============================] - 0s 3ms/step - loss: 3.1972 - accuracy: 0.0785\n",
            "163/163 [==============================] - 1s 5ms/step - loss: 8.6081 - accuracy: 0.3315\n",
            "41/41 [==============================] - 0s 3ms/step - loss: 1.0766 - accuracy: 0.6702\n",
            "163/163 [==============================] - 1s 4ms/step - loss: 8.6214 - accuracy: 0.3313\n",
            "41/41 [==============================] - 0s 3ms/step - loss: 0.9884 - accuracy: 0.7048\n",
            "163/163 [==============================] - 1s 5ms/step - loss: 8.5916 - accuracy: 0.3326\n",
            "41/41 [==============================] - 0s 3ms/step - loss: 1.0308 - accuracy: 0.6924\n",
            "163/163 [==============================] - 1s 5ms/step - loss: 8.5956 - accuracy: 0.3327\n",
            "41/41 [==============================] - 0s 4ms/step - loss: 1.0222 - accuracy: 0.6892\n",
            "163/163 [==============================] - 1s 5ms/step - loss: 8.6451 - accuracy: 0.3299\n",
            "41/41 [==============================] - 0s 3ms/step - loss: 1.0551 - accuracy: 0.6800\n",
            "163/163 [==============================] - 1s 4ms/step - loss: 9.4072 - accuracy: 0.0760\n",
            "41/41 [==============================] - 0s 3ms/step - loss: 2.9140 - accuracy: 0.3066\n",
            "163/163 [==============================] - 1s 4ms/step - loss: 9.4118 - accuracy: 0.0733\n",
            "41/41 [==============================] - 0s 4ms/step - loss: 2.9249 - accuracy: 0.3010\n",
            "163/163 [==============================] - 1s 4ms/step - loss: 9.3675 - accuracy: 0.0735\n",
            "41/41 [==============================] - 0s 4ms/step - loss: 2.9348 - accuracy: 0.2837\n",
            "163/163 [==============================] - 1s 4ms/step - loss: 9.3777 - accuracy: 0.0816\n",
            "41/41 [==============================] - 0s 3ms/step - loss: 2.9096 - accuracy: 0.3141\n",
            "163/163 [==============================] - 1s 4ms/step - loss: 9.3666 - accuracy: 0.0791\n",
            "41/41 [==============================] - 0s 4ms/step - loss: 2.9238 - accuracy: 0.2788\n",
            "163/163 [==============================] - 1s 5ms/step - loss: 8.6224 - accuracy: 0.3246\n",
            "41/41 [==============================] - 0s 3ms/step - loss: 1.0122 - accuracy: 0.6983\n",
            "163/163 [==============================] - 1s 5ms/step - loss: 8.7020 - accuracy: 0.3182\n",
            "41/41 [==============================] - 0s 4ms/step - loss: 0.9749 - accuracy: 0.7132\n",
            "163/163 [==============================] - 1s 4ms/step - loss: 8.6373 - accuracy: 0.3256\n",
            "41/41 [==============================] - 0s 3ms/step - loss: 1.0100 - accuracy: 0.7037\n",
            "163/163 [==============================] - 1s 5ms/step - loss: 8.5986 - accuracy: 0.3290\n",
            "41/41 [==============================] - 0s 3ms/step - loss: 0.9795 - accuracy: 0.7136\n",
            "163/163 [==============================] - 1s 5ms/step - loss: 8.5879 - accuracy: 0.3279\n",
            "41/41 [==============================] - 0s 4ms/step - loss: 1.0008 - accuracy: 0.7094\n",
            "163/163 [==============================] - 1s 5ms/step - loss: 9.4922 - accuracy: 0.0334\n",
            "41/41 [==============================] - 0s 3ms/step - loss: 3.5216 - accuracy: 0.0311\n",
            "163/163 [==============================] - 1s 4ms/step - loss: 9.3874 - accuracy: 0.0438\n",
            "41/41 [==============================] - 0s 4ms/step - loss: 3.3409 - accuracy: 0.0481\n",
            "163/163 [==============================] - 1s 5ms/step - loss: 9.4727 - accuracy: 0.0398\n",
            "41/41 [==============================] - 0s 4ms/step - loss: 3.4904 - accuracy: 0.0437\n",
            "163/163 [==============================] - 1s 4ms/step - loss: 9.4456 - accuracy: 0.0406\n",
            "41/41 [==============================] - 0s 3ms/step - loss: 3.3959 - accuracy: 0.0409\n",
            "163/163 [==============================] - 1s 4ms/step - loss: 9.4095 - accuracy: 0.0375\n",
            "41/41 [==============================] - 0s 3ms/step - loss: 3.4085 - accuracy: 0.0378\n",
            "163/163 [==============================] - 1s 4ms/step - loss: 9.4669 - accuracy: 0.0429\n",
            "41/41 [==============================] - 0s 3ms/step - loss: 3.1826 - accuracy: 0.1101\n",
            "163/163 [==============================] - 1s 4ms/step - loss: 9.4321 - accuracy: 0.0486\n",
            "41/41 [==============================] - 0s 4ms/step - loss: 3.1615 - accuracy: 0.1016\n",
            "163/163 [==============================] - 1s 4ms/step - loss: 9.4383 - accuracy: 0.0438\n",
            "41/41 [==============================] - 0s 3ms/step - loss: 3.1883 - accuracy: 0.0919\n",
            "163/163 [==============================] - 1s 4ms/step - loss: 9.3859 - accuracy: 0.0462\n",
            "41/41 [==============================] - 0s 3ms/step - loss: 3.1715 - accuracy: 0.0869\n",
            "163/163 [==============================] - 1s 4ms/step - loss: 9.4329 - accuracy: 0.0419\n",
            "41/41 [==============================] - 0s 4ms/step - loss: 3.2041 - accuracy: 0.0855\n"
          ],
          "name": "stdout"
        },
        {
          "output_type": "stream",
          "text": [
            "[Parallel(n_jobs=1)]: Done 900 out of 900 | elapsed: 30.4min finished\n"
          ],
          "name": "stderr"
        },
        {
          "output_type": "stream",
          "text": [
            "407/407 [==============================] - 2s 3ms/step - loss: nan - accuracy: 0.5598\n"
          ],
          "name": "stdout"
        }
      ]
    },
    {
      "cell_type": "code",
      "metadata": {
        "colab": {
          "base_uri": "https://localhost:8080/"
        },
        "id": "yinZj47UjV2q",
        "outputId": "ef7dea3d-d098-4166-e6d3-87ba11e1b54a"
      },
      "source": [
        "print(f'Best accuracy: {grid_res.best_score_} using {grid_res.best_params_}')"
      ],
      "execution_count": null,
      "outputs": [
        {
          "output_type": "stream",
          "text": [
            "Best accuracy: 0.8300673007965088 using {'batch_size': 256, 'dropout_rate': 0.2, 'func_name': 'relu', 'kernel_initializer': 'glorot_uniform', 'optimizer': 'adam'}\n"
          ],
          "name": "stdout"
        }
      ]
    },
    {
      "cell_type": "code",
      "metadata": {
        "id": "mOyCWj1ZZGNZ"
      },
      "source": [
        "# building model (run this)\n",
        "model = models.Sequential()\n",
        "model.add(Dense(10000,\n",
        "                # activation=LeakyReLU(alpha=0.01), \n",
        "                # activation='relu',\n",
        "                input_shape=(28*28,),\n",
        "                kernel_initializer='glorot_normal',\n",
        "                # kernel_regularizer=l2(0.01),\n",
        "                use_bias=False)) # set False if BatchNormalization is used and remove dropout\n",
        "model.add(BatchNormalization()) # pre-activation normalization\n",
        "model.add(LeakyReLU(alpha=0.01))\n",
        "# model.add(Activation(relu))\n",
        "# model.add(Dropout(0.2)) # don't use this when using with BatchNormalization??\n",
        "model.add(Dense(27, activation='softmax'))"
      ],
      "execution_count": 73,
      "outputs": []
    },
    {
      "cell_type": "code",
      "metadata": {
        "id": "FqrdQYeIiUcE",
        "colab": {
          "base_uri": "https://localhost:8080/"
        },
        "outputId": "24731151-4904-4c8d-cdba-b4d59ec09d74"
      },
      "source": [
        "# compile model (run this)\n",
        "model.compile(\n",
        "    optimizer='adam',\n",
        "              # optimizer='rmsprop',\n",
        "              loss='categorical_crossentropy',\n",
        "              metrics=['accuracy'])\n",
        "\n",
        "callback = EarlyStopping(monitor='accuracy', \n",
        "                         patience=10,\n",
        "                        #  restore_best_weights=False)\n",
        "                         restore_best_weights=True)\n",
        "\n",
        "model.fit(train_images, \n",
        "          train_labels, \n",
        "          epochs=1000, \n",
        "          batch_size=256, \n",
        "          # batch_size=128,\n",
        "          validation_data=(validate_images,validate_labels),\n",
        "          callbacks=[callback],\n",
        "          verbose=1)"
      ],
      "execution_count": 74,
      "outputs": [
        {
          "output_type": "stream",
          "text": [
            "Epoch 1/1000\n",
            "407/407 [==============================] - 4s 8ms/step - loss: 1.3393 - accuracy: 0.7152 - val_loss: 1.8784 - val_accuracy: 0.4358\n",
            "Epoch 2/1000\n",
            "407/407 [==============================] - 3s 8ms/step - loss: 0.4473 - accuracy: 0.8671 - val_loss: 1.5449 - val_accuracy: 0.5373\n",
            "Epoch 3/1000\n",
            "407/407 [==============================] - 3s 8ms/step - loss: 0.3586 - accuracy: 0.8894 - val_loss: 1.3136 - val_accuracy: 0.6137\n",
            "Epoch 4/1000\n",
            "407/407 [==============================] - 3s 8ms/step - loss: 0.2874 - accuracy: 0.9085 - val_loss: 1.3341 - val_accuracy: 0.5895\n",
            "Epoch 5/1000\n",
            "407/407 [==============================] - 3s 8ms/step - loss: 0.2453 - accuracy: 0.9196 - val_loss: 1.3431 - val_accuracy: 0.5846\n",
            "Epoch 6/1000\n",
            "407/407 [==============================] - 3s 8ms/step - loss: 0.2071 - accuracy: 0.9296 - val_loss: 1.2749 - val_accuracy: 0.6262\n",
            "Epoch 7/1000\n",
            "407/407 [==============================] - 3s 8ms/step - loss: 0.1960 - accuracy: 0.9326 - val_loss: 1.2473 - val_accuracy: 0.6249\n",
            "Epoch 8/1000\n",
            "407/407 [==============================] - 3s 8ms/step - loss: 0.1577 - accuracy: 0.9431 - val_loss: 1.3136 - val_accuracy: 0.5989\n",
            "Epoch 9/1000\n",
            "407/407 [==============================] - 3s 8ms/step - loss: 0.1597 - accuracy: 0.9437 - val_loss: 1.3152 - val_accuracy: 0.6079\n",
            "Epoch 10/1000\n",
            "407/407 [==============================] - 3s 8ms/step - loss: 0.1371 - accuracy: 0.9505 - val_loss: 1.3308 - val_accuracy: 0.5960\n",
            "Epoch 11/1000\n",
            "407/407 [==============================] - 3s 8ms/step - loss: 0.1233 - accuracy: 0.9546 - val_loss: 1.3131 - val_accuracy: 0.6122\n",
            "Epoch 12/1000\n",
            "407/407 [==============================] - 3s 8ms/step - loss: 0.1218 - accuracy: 0.9557 - val_loss: 1.3825 - val_accuracy: 0.5880\n",
            "Epoch 13/1000\n",
            "407/407 [==============================] - 3s 8ms/step - loss: 0.1142 - accuracy: 0.9579 - val_loss: 1.3157 - val_accuracy: 0.6001\n",
            "Epoch 14/1000\n",
            "407/407 [==============================] - 3s 8ms/step - loss: 0.1057 - accuracy: 0.9613 - val_loss: 1.3840 - val_accuracy: 0.5933\n",
            "Epoch 15/1000\n",
            "407/407 [==============================] - 3s 8ms/step - loss: 0.0937 - accuracy: 0.9640 - val_loss: 1.3926 - val_accuracy: 0.5855\n",
            "Epoch 16/1000\n",
            "407/407 [==============================] - 3s 8ms/step - loss: 0.0920 - accuracy: 0.9647 - val_loss: 1.4488 - val_accuracy: 0.5558\n",
            "Epoch 17/1000\n",
            "407/407 [==============================] - 3s 8ms/step - loss: 0.0922 - accuracy: 0.9647 - val_loss: 1.4238 - val_accuracy: 0.5716\n",
            "Epoch 18/1000\n",
            "407/407 [==============================] - 3s 8ms/step - loss: 0.0835 - accuracy: 0.9672 - val_loss: 1.4964 - val_accuracy: 0.5481\n",
            "Epoch 19/1000\n",
            "407/407 [==============================] - 3s 8ms/step - loss: 0.0825 - accuracy: 0.9690 - val_loss: 1.5370 - val_accuracy: 0.5276\n",
            "Epoch 20/1000\n",
            "407/407 [==============================] - 3s 8ms/step - loss: 0.0826 - accuracy: 0.9682 - val_loss: 1.4903 - val_accuracy: 0.5385\n",
            "Epoch 21/1000\n",
            "407/407 [==============================] - 3s 8ms/step - loss: 0.0811 - accuracy: 0.9704 - val_loss: 1.4479 - val_accuracy: 0.5686\n",
            "Epoch 22/1000\n",
            "407/407 [==============================] - 3s 8ms/step - loss: 0.0663 - accuracy: 0.9735 - val_loss: 1.4687 - val_accuracy: 0.5481\n",
            "Epoch 23/1000\n",
            "407/407 [==============================] - 3s 8ms/step - loss: 0.0621 - accuracy: 0.9746 - val_loss: 1.4916 - val_accuracy: 0.5405\n",
            "Epoch 24/1000\n",
            "407/407 [==============================] - 3s 8ms/step - loss: 0.0613 - accuracy: 0.9745 - val_loss: 1.5573 - val_accuracy: 0.5113\n",
            "Epoch 25/1000\n",
            "407/407 [==============================] - 3s 8ms/step - loss: 0.0694 - accuracy: 0.9748 - val_loss: 1.4607 - val_accuracy: 0.5524\n",
            "Epoch 26/1000\n",
            "407/407 [==============================] - 3s 8ms/step - loss: 0.0648 - accuracy: 0.9746 - val_loss: 1.5285 - val_accuracy: 0.5212\n",
            "Epoch 27/1000\n",
            "407/407 [==============================] - 3s 8ms/step - loss: 0.0632 - accuracy: 0.9753 - val_loss: 1.5120 - val_accuracy: 0.5316\n",
            "Epoch 28/1000\n",
            "407/407 [==============================] - 3s 8ms/step - loss: 0.0626 - accuracy: 0.9759 - val_loss: 1.5410 - val_accuracy: 0.5157\n",
            "Epoch 29/1000\n",
            "407/407 [==============================] - 3s 8ms/step - loss: 0.0569 - accuracy: 0.9766 - val_loss: 1.4930 - val_accuracy: 0.5399\n",
            "Epoch 30/1000\n",
            "407/407 [==============================] - 3s 8ms/step - loss: 0.0585 - accuracy: 0.9783 - val_loss: 1.6052 - val_accuracy: 0.5103\n",
            "Epoch 31/1000\n",
            "407/407 [==============================] - 3s 8ms/step - loss: 0.0492 - accuracy: 0.9793 - val_loss: 1.6381 - val_accuracy: 0.4818\n",
            "Epoch 32/1000\n",
            "407/407 [==============================] - 3s 8ms/step - loss: 0.0546 - accuracy: 0.9778 - val_loss: 1.5310 - val_accuracy: 0.5305\n",
            "Epoch 33/1000\n",
            "407/407 [==============================] - 3s 8ms/step - loss: 0.0537 - accuracy: 0.9782 - val_loss: 1.6197 - val_accuracy: 0.5025\n",
            "Epoch 34/1000\n",
            "407/407 [==============================] - 3s 8ms/step - loss: 0.0475 - accuracy: 0.9801 - val_loss: 1.5384 - val_accuracy: 0.5259\n",
            "Epoch 35/1000\n",
            "407/407 [==============================] - 3s 8ms/step - loss: 0.0488 - accuracy: 0.9795 - val_loss: 1.5795 - val_accuracy: 0.5103\n",
            "Epoch 36/1000\n",
            "407/407 [==============================] - 3s 8ms/step - loss: 0.0489 - accuracy: 0.9797 - val_loss: 1.5972 - val_accuracy: 0.5046\n",
            "Epoch 37/1000\n",
            "407/407 [==============================] - 3s 8ms/step - loss: 0.0503 - accuracy: 0.9801 - val_loss: 1.6194 - val_accuracy: 0.4939\n",
            "Epoch 38/1000\n",
            "407/407 [==============================] - 3s 8ms/step - loss: 0.0494 - accuracy: 0.9796 - val_loss: 1.6236 - val_accuracy: 0.4950\n",
            "Epoch 39/1000\n",
            "407/407 [==============================] - 3s 8ms/step - loss: 0.0440 - accuracy: 0.9810 - val_loss: 1.5963 - val_accuracy: 0.5096\n",
            "Epoch 40/1000\n",
            "407/407 [==============================] - 3s 8ms/step - loss: 0.0439 - accuracy: 0.9824 - val_loss: 1.6456 - val_accuracy: 0.4917\n",
            "Epoch 41/1000\n",
            "407/407 [==============================] - 3s 8ms/step - loss: 0.0421 - accuracy: 0.9818 - val_loss: 1.6455 - val_accuracy: 0.4936\n",
            "Epoch 42/1000\n",
            "407/407 [==============================] - 3s 8ms/step - loss: 0.0427 - accuracy: 0.9823 - val_loss: 1.6896 - val_accuracy: 0.4718\n",
            "Epoch 43/1000\n",
            "407/407 [==============================] - 3s 8ms/step - loss: 0.0417 - accuracy: 0.9826 - val_loss: 1.6918 - val_accuracy: 0.4767\n",
            "Epoch 44/1000\n",
            "407/407 [==============================] - 3s 8ms/step - loss: 0.0411 - accuracy: 0.9830 - val_loss: 1.6481 - val_accuracy: 0.4863\n",
            "Epoch 45/1000\n",
            "407/407 [==============================] - 3s 8ms/step - loss: 0.0406 - accuracy: 0.9834 - val_loss: 1.6831 - val_accuracy: 0.4727\n",
            "Epoch 46/1000\n",
            "407/407 [==============================] - 3s 8ms/step - loss: 0.0491 - accuracy: 0.9821 - val_loss: 1.6779 - val_accuracy: 0.4819\n",
            "Epoch 47/1000\n",
            "407/407 [==============================] - 3s 8ms/step - loss: 0.0403 - accuracy: 0.9838 - val_loss: 1.7051 - val_accuracy: 0.4679\n",
            "Epoch 48/1000\n",
            "407/407 [==============================] - 3s 8ms/step - loss: 0.0400 - accuracy: 0.9849 - val_loss: 1.7064 - val_accuracy: 0.4681\n",
            "Epoch 49/1000\n",
            "407/407 [==============================] - 3s 8ms/step - loss: 0.0363 - accuracy: 0.9847 - val_loss: 1.6531 - val_accuracy: 0.4814\n",
            "Epoch 50/1000\n",
            "407/407 [==============================] - 3s 8ms/step - loss: 0.0475 - accuracy: 0.9819 - val_loss: 1.6952 - val_accuracy: 0.4793\n",
            "Epoch 51/1000\n",
            "407/407 [==============================] - 3s 8ms/step - loss: 0.0377 - accuracy: 0.9840 - val_loss: 1.7312 - val_accuracy: 0.4572\n",
            "Epoch 52/1000\n",
            "407/407 [==============================] - 3s 8ms/step - loss: 0.0316 - accuracy: 0.9866 - val_loss: 1.7030 - val_accuracy: 0.4664\n",
            "Epoch 53/1000\n",
            "407/407 [==============================] - 3s 8ms/step - loss: 0.0320 - accuracy: 0.9862 - val_loss: 1.7345 - val_accuracy: 0.4625\n",
            "Epoch 54/1000\n",
            "407/407 [==============================] - 3s 8ms/step - loss: 0.0366 - accuracy: 0.9845 - val_loss: 1.6789 - val_accuracy: 0.4908\n",
            "Epoch 55/1000\n",
            "407/407 [==============================] - 3s 8ms/step - loss: 0.0413 - accuracy: 0.9831 - val_loss: 1.7873 - val_accuracy: 0.4323\n",
            "Epoch 56/1000\n",
            "407/407 [==============================] - 3s 8ms/step - loss: 0.0385 - accuracy: 0.9842 - val_loss: 1.7837 - val_accuracy: 0.4575\n",
            "Epoch 57/1000\n",
            "407/407 [==============================] - 3s 8ms/step - loss: 0.0409 - accuracy: 0.9848 - val_loss: 1.8172 - val_accuracy: 0.4393\n",
            "Epoch 58/1000\n",
            "407/407 [==============================] - 3s 8ms/step - loss: 0.0427 - accuracy: 0.9842 - val_loss: 1.8240 - val_accuracy: 0.4362\n",
            "Epoch 59/1000\n",
            "407/407 [==============================] - 3s 8ms/step - loss: 0.0290 - accuracy: 0.9875 - val_loss: 1.8142 - val_accuracy: 0.4500\n",
            "Epoch 60/1000\n",
            "407/407 [==============================] - 3s 8ms/step - loss: 0.0279 - accuracy: 0.9872 - val_loss: 1.7913 - val_accuracy: 0.4570\n",
            "Epoch 61/1000\n",
            "407/407 [==============================] - 3s 8ms/step - loss: 0.0288 - accuracy: 0.9876 - val_loss: 1.7219 - val_accuracy: 0.4763\n",
            "Epoch 62/1000\n",
            "407/407 [==============================] - 3s 8ms/step - loss: 0.0313 - accuracy: 0.9868 - val_loss: 1.7858 - val_accuracy: 0.4526\n",
            "Epoch 63/1000\n",
            "407/407 [==============================] - 3s 8ms/step - loss: 0.0360 - accuracy: 0.9853 - val_loss: 1.7894 - val_accuracy: 0.4567\n",
            "Epoch 64/1000\n",
            "407/407 [==============================] - 3s 8ms/step - loss: 0.0427 - accuracy: 0.9847 - val_loss: 1.8098 - val_accuracy: 0.4456\n",
            "Epoch 65/1000\n",
            "407/407 [==============================] - 3s 8ms/step - loss: 0.0315 - accuracy: 0.9871 - val_loss: 1.8326 - val_accuracy: 0.4513\n",
            "Epoch 66/1000\n",
            "407/407 [==============================] - 3s 8ms/step - loss: 0.0294 - accuracy: 0.9875 - val_loss: 1.8101 - val_accuracy: 0.4490\n",
            "Epoch 67/1000\n",
            "407/407 [==============================] - 3s 8ms/step - loss: 0.0348 - accuracy: 0.9869 - val_loss: 1.7987 - val_accuracy: 0.4551\n",
            "Epoch 68/1000\n",
            "407/407 [==============================] - 3s 8ms/step - loss: 0.0318 - accuracy: 0.9874 - val_loss: 1.8677 - val_accuracy: 0.4369\n",
            "Epoch 69/1000\n",
            "407/407 [==============================] - 3s 8ms/step - loss: 0.0299 - accuracy: 0.9873 - val_loss: 1.8555 - val_accuracy: 0.4388\n",
            "Epoch 70/1000\n",
            "407/407 [==============================] - 3s 8ms/step - loss: 0.0287 - accuracy: 0.9879 - val_loss: 1.7751 - val_accuracy: 0.4644\n",
            "Epoch 71/1000\n",
            "407/407 [==============================] - 3s 8ms/step - loss: 0.0237 - accuracy: 0.9897 - val_loss: 1.8200 - val_accuracy: 0.4470\n",
            "Epoch 72/1000\n",
            "407/407 [==============================] - 3s 8ms/step - loss: 0.0289 - accuracy: 0.9879 - val_loss: 1.8839 - val_accuracy: 0.4251\n",
            "Epoch 73/1000\n",
            "407/407 [==============================] - 3s 8ms/step - loss: 0.0377 - accuracy: 0.9862 - val_loss: 1.8431 - val_accuracy: 0.4317\n",
            "Epoch 74/1000\n",
            "407/407 [==============================] - 3s 8ms/step - loss: 0.0400 - accuracy: 0.9868 - val_loss: 1.8689 - val_accuracy: 0.4215\n",
            "Epoch 75/1000\n",
            "407/407 [==============================] - 3s 8ms/step - loss: 0.0286 - accuracy: 0.9884 - val_loss: 1.8359 - val_accuracy: 0.4425\n",
            "Epoch 76/1000\n",
            "407/407 [==============================] - 3s 8ms/step - loss: 0.0262 - accuracy: 0.9890 - val_loss: 1.8469 - val_accuracy: 0.4304\n",
            "Epoch 77/1000\n",
            "407/407 [==============================] - 3s 8ms/step - loss: 0.0218 - accuracy: 0.9905 - val_loss: 1.8439 - val_accuracy: 0.4333\n",
            "Epoch 78/1000\n",
            "407/407 [==============================] - 3s 8ms/step - loss: 0.0257 - accuracy: 0.9889 - val_loss: 1.8982 - val_accuracy: 0.4144\n",
            "Epoch 79/1000\n",
            "407/407 [==============================] - 3s 8ms/step - loss: 0.0259 - accuracy: 0.9891 - val_loss: 1.9339 - val_accuracy: 0.4002\n",
            "Epoch 80/1000\n",
            "407/407 [==============================] - 3s 8ms/step - loss: 0.0273 - accuracy: 0.9889 - val_loss: 1.8451 - val_accuracy: 0.4394\n",
            "Epoch 81/1000\n",
            "407/407 [==============================] - 3s 8ms/step - loss: 0.0259 - accuracy: 0.9889 - val_loss: 1.8373 - val_accuracy: 0.4460\n",
            "Epoch 82/1000\n",
            "407/407 [==============================] - 3s 8ms/step - loss: 0.0270 - accuracy: 0.9893 - val_loss: 1.9109 - val_accuracy: 0.4071\n",
            "Epoch 83/1000\n",
            "407/407 [==============================] - 3s 8ms/step - loss: 0.0259 - accuracy: 0.9894 - val_loss: 1.9074 - val_accuracy: 0.4229\n",
            "Epoch 84/1000\n",
            "407/407 [==============================] - 3s 8ms/step - loss: 0.0259 - accuracy: 0.9896 - val_loss: 1.9194 - val_accuracy: 0.4065\n",
            "Epoch 85/1000\n",
            "407/407 [==============================] - 3s 8ms/step - loss: 0.0250 - accuracy: 0.9905 - val_loss: 1.8942 - val_accuracy: 0.4203\n",
            "Epoch 86/1000\n",
            "407/407 [==============================] - 3s 8ms/step - loss: 0.0252 - accuracy: 0.9895 - val_loss: 1.9611 - val_accuracy: 0.4103\n",
            "Epoch 87/1000\n",
            "407/407 [==============================] - 3s 8ms/step - loss: 0.0265 - accuracy: 0.9898 - val_loss: 1.8740 - val_accuracy: 0.4316\n",
            "Epoch 88/1000\n",
            "407/407 [==============================] - 3s 8ms/step - loss: 0.0259 - accuracy: 0.9908 - val_loss: 1.9748 - val_accuracy: 0.3716\n",
            "Epoch 89/1000\n",
            "407/407 [==============================] - 3s 8ms/step - loss: 0.0268 - accuracy: 0.9902 - val_loss: 1.8700 - val_accuracy: 0.4253\n",
            "Epoch 90/1000\n",
            "407/407 [==============================] - 3s 8ms/step - loss: 0.0253 - accuracy: 0.9902 - val_loss: 1.9817 - val_accuracy: 0.3786\n",
            "Epoch 91/1000\n",
            "407/407 [==============================] - 3s 8ms/step - loss: 0.0222 - accuracy: 0.9903 - val_loss: 1.9469 - val_accuracy: 0.3853\n",
            "Epoch 92/1000\n",
            "407/407 [==============================] - 3s 8ms/step - loss: 0.0232 - accuracy: 0.9903 - val_loss: 1.9279 - val_accuracy: 0.3973\n",
            "Epoch 93/1000\n",
            "407/407 [==============================] - 3s 8ms/step - loss: 0.0253 - accuracy: 0.9907 - val_loss: 1.9778 - val_accuracy: 0.3875\n",
            "Epoch 94/1000\n",
            "407/407 [==============================] - 3s 8ms/step - loss: 0.0219 - accuracy: 0.9905 - val_loss: 1.9734 - val_accuracy: 0.3881\n",
            "Epoch 95/1000\n",
            "407/407 [==============================] - 3s 8ms/step - loss: 0.0222 - accuracy: 0.9909 - val_loss: 1.9390 - val_accuracy: 0.3931\n",
            "Epoch 96/1000\n",
            "407/407 [==============================] - 3s 8ms/step - loss: 0.0224 - accuracy: 0.9911 - val_loss: 1.9921 - val_accuracy: 0.3798\n",
            "Epoch 97/1000\n",
            "407/407 [==============================] - 3s 8ms/step - loss: 0.0233 - accuracy: 0.9906 - val_loss: 1.9627 - val_accuracy: 0.3943\n",
            "Epoch 98/1000\n",
            "407/407 [==============================] - 3s 8ms/step - loss: 0.0212 - accuracy: 0.9917 - val_loss: 1.9330 - val_accuracy: 0.4155\n",
            "Epoch 99/1000\n",
            "407/407 [==============================] - 3s 8ms/step - loss: 0.0192 - accuracy: 0.9918 - val_loss: 1.9332 - val_accuracy: 0.4092\n",
            "Epoch 100/1000\n",
            "407/407 [==============================] - 3s 8ms/step - loss: 0.0201 - accuracy: 0.9918 - val_loss: 2.0168 - val_accuracy: 0.3797\n",
            "Epoch 101/1000\n",
            "407/407 [==============================] - 3s 8ms/step - loss: 0.0231 - accuracy: 0.9910 - val_loss: 1.9764 - val_accuracy: 0.3946\n",
            "Epoch 102/1000\n",
            "407/407 [==============================] - 3s 8ms/step - loss: 0.0314 - accuracy: 0.9893 - val_loss: 1.9785 - val_accuracy: 0.3917\n",
            "Epoch 103/1000\n",
            "407/407 [==============================] - 3s 8ms/step - loss: 0.0205 - accuracy: 0.9922 - val_loss: 2.0534 - val_accuracy: 0.3758\n",
            "Epoch 104/1000\n",
            "407/407 [==============================] - 3s 8ms/step - loss: 0.0216 - accuracy: 0.9914 - val_loss: 1.9479 - val_accuracy: 0.4118\n",
            "Epoch 105/1000\n",
            "407/407 [==============================] - 3s 8ms/step - loss: 0.0241 - accuracy: 0.9905 - val_loss: 2.0219 - val_accuracy: 0.3940\n",
            "Epoch 106/1000\n",
            "407/407 [==============================] - 3s 8ms/step - loss: 0.0210 - accuracy: 0.9916 - val_loss: 2.0138 - val_accuracy: 0.3963\n",
            "Epoch 107/1000\n",
            "407/407 [==============================] - 3s 8ms/step - loss: 0.0191 - accuracy: 0.9925 - val_loss: 2.0306 - val_accuracy: 0.3813\n",
            "Epoch 108/1000\n",
            "407/407 [==============================] - 3s 8ms/step - loss: 0.0173 - accuracy: 0.9927 - val_loss: 2.0908 - val_accuracy: 0.3753\n",
            "Epoch 109/1000\n",
            "407/407 [==============================] - 3s 8ms/step - loss: 0.0204 - accuracy: 0.9919 - val_loss: 2.0762 - val_accuracy: 0.3902\n",
            "Epoch 110/1000\n",
            "407/407 [==============================] - 3s 8ms/step - loss: 0.0199 - accuracy: 0.9918 - val_loss: 2.0763 - val_accuracy: 0.3807\n",
            "Epoch 111/1000\n",
            "407/407 [==============================] - 3s 8ms/step - loss: 0.0188 - accuracy: 0.9931 - val_loss: 2.1124 - val_accuracy: 0.3755\n",
            "Epoch 112/1000\n",
            "407/407 [==============================] - 3s 8ms/step - loss: 0.0202 - accuracy: 0.9920 - val_loss: 2.1011 - val_accuracy: 0.3881\n",
            "Epoch 113/1000\n",
            "407/407 [==============================] - 3s 8ms/step - loss: 0.0190 - accuracy: 0.9927 - val_loss: 2.0798 - val_accuracy: 0.3989\n",
            "Epoch 114/1000\n",
            "407/407 [==============================] - 3s 8ms/step - loss: 0.0207 - accuracy: 0.9919 - val_loss: 2.0658 - val_accuracy: 0.3889\n",
            "Epoch 115/1000\n",
            "407/407 [==============================] - 3s 8ms/step - loss: 0.0270 - accuracy: 0.9920 - val_loss: 2.0638 - val_accuracy: 0.3954\n",
            "Epoch 116/1000\n",
            "407/407 [==============================] - 3s 8ms/step - loss: 0.0172 - accuracy: 0.9930 - val_loss: 2.0610 - val_accuracy: 0.3969\n",
            "Epoch 117/1000\n",
            "407/407 [==============================] - 3s 8ms/step - loss: 0.0171 - accuracy: 0.9930 - val_loss: 2.1110 - val_accuracy: 0.3905\n",
            "Epoch 118/1000\n",
            "407/407 [==============================] - 3s 8ms/step - loss: 0.0199 - accuracy: 0.9925 - val_loss: 2.0398 - val_accuracy: 0.4096\n",
            "Epoch 119/1000\n",
            "407/407 [==============================] - 3s 8ms/step - loss: 0.0154 - accuracy: 0.9938 - val_loss: 2.0633 - val_accuracy: 0.3886\n",
            "Epoch 120/1000\n",
            "407/407 [==============================] - 3s 8ms/step - loss: 0.0172 - accuracy: 0.9930 - val_loss: 2.0728 - val_accuracy: 0.3887\n",
            "Epoch 121/1000\n",
            "407/407 [==============================] - 3s 8ms/step - loss: 0.0158 - accuracy: 0.9933 - val_loss: 2.0481 - val_accuracy: 0.3936\n",
            "Epoch 122/1000\n",
            "407/407 [==============================] - 3s 8ms/step - loss: 0.0163 - accuracy: 0.9933 - val_loss: 2.0303 - val_accuracy: 0.4085\n",
            "Epoch 123/1000\n",
            "407/407 [==============================] - 3s 8ms/step - loss: 0.0214 - accuracy: 0.9923 - val_loss: 2.1203 - val_accuracy: 0.3889\n",
            "Epoch 124/1000\n",
            "407/407 [==============================] - 3s 8ms/step - loss: 0.0210 - accuracy: 0.9920 - val_loss: 2.1149 - val_accuracy: 0.4014\n",
            "Epoch 125/1000\n",
            "407/407 [==============================] - 3s 8ms/step - loss: 0.0177 - accuracy: 0.9934 - val_loss: 2.0967 - val_accuracy: 0.4024\n",
            "Epoch 126/1000\n",
            "407/407 [==============================] - 3s 8ms/step - loss: 0.0152 - accuracy: 0.9947 - val_loss: 2.1283 - val_accuracy: 0.3938\n",
            "Epoch 127/1000\n",
            "407/407 [==============================] - 3s 8ms/step - loss: 0.0159 - accuracy: 0.9940 - val_loss: 2.1095 - val_accuracy: 0.3901\n",
            "Epoch 128/1000\n",
            "407/407 [==============================] - 3s 8ms/step - loss: 0.0194 - accuracy: 0.9932 - val_loss: 2.1990 - val_accuracy: 0.3684\n",
            "Epoch 129/1000\n",
            "407/407 [==============================] - 3s 8ms/step - loss: 0.0200 - accuracy: 0.9936 - val_loss: 2.1492 - val_accuracy: 0.3803\n",
            "Epoch 130/1000\n",
            "407/407 [==============================] - 3s 8ms/step - loss: 0.0152 - accuracy: 0.9940 - val_loss: 2.1356 - val_accuracy: 0.3887\n",
            "Epoch 131/1000\n",
            "407/407 [==============================] - 3s 8ms/step - loss: 0.0135 - accuracy: 0.9949 - val_loss: 2.1522 - val_accuracy: 0.3862\n",
            "Epoch 132/1000\n",
            "407/407 [==============================] - 3s 8ms/step - loss: 0.0234 - accuracy: 0.9917 - val_loss: 2.2037 - val_accuracy: 0.3792\n",
            "Epoch 133/1000\n",
            "407/407 [==============================] - 3s 8ms/step - loss: 0.0197 - accuracy: 0.9930 - val_loss: 2.1379 - val_accuracy: 0.3815\n",
            "Epoch 134/1000\n",
            "407/407 [==============================] - 3s 8ms/step - loss: 0.0143 - accuracy: 0.9945 - val_loss: 2.0762 - val_accuracy: 0.4030\n",
            "Epoch 135/1000\n",
            "407/407 [==============================] - 3s 8ms/step - loss: 0.0154 - accuracy: 0.9943 - val_loss: 2.0839 - val_accuracy: 0.3958\n",
            "Epoch 136/1000\n",
            "407/407 [==============================] - 3s 8ms/step - loss: 0.0154 - accuracy: 0.9945 - val_loss: 2.1425 - val_accuracy: 0.3877\n",
            "Epoch 137/1000\n",
            "407/407 [==============================] - 3s 8ms/step - loss: 0.0137 - accuracy: 0.9948 - val_loss: 2.1145 - val_accuracy: 0.3860\n",
            "Epoch 138/1000\n",
            "407/407 [==============================] - 3s 8ms/step - loss: 0.0160 - accuracy: 0.9939 - val_loss: 2.0849 - val_accuracy: 0.4125\n",
            "Epoch 139/1000\n",
            "407/407 [==============================] - 3s 8ms/step - loss: 0.0158 - accuracy: 0.9943 - val_loss: 2.1200 - val_accuracy: 0.3942\n",
            "Epoch 140/1000\n",
            "407/407 [==============================] - 3s 8ms/step - loss: 0.0151 - accuracy: 0.9943 - val_loss: 2.0713 - val_accuracy: 0.4078\n",
            "Epoch 141/1000\n",
            "407/407 [==============================] - 3s 8ms/step - loss: 0.0201 - accuracy: 0.9940 - val_loss: 2.1224 - val_accuracy: 0.4058\n",
            "Epoch 142/1000\n",
            "407/407 [==============================] - 3s 8ms/step - loss: 0.0132 - accuracy: 0.9950 - val_loss: 2.1557 - val_accuracy: 0.4000\n",
            "Epoch 143/1000\n",
            "407/407 [==============================] - 3s 8ms/step - loss: 0.0134 - accuracy: 0.9946 - val_loss: 2.1891 - val_accuracy: 0.3951\n",
            "Epoch 144/1000\n",
            "407/407 [==============================] - 3s 8ms/step - loss: 0.0149 - accuracy: 0.9945 - val_loss: 2.1729 - val_accuracy: 0.3955\n",
            "Epoch 145/1000\n",
            "407/407 [==============================] - 3s 8ms/step - loss: 0.0167 - accuracy: 0.9942 - val_loss: 2.1855 - val_accuracy: 0.3882\n",
            "Epoch 146/1000\n",
            "407/407 [==============================] - 3s 8ms/step - loss: 0.0180 - accuracy: 0.9934 - val_loss: 2.2031 - val_accuracy: 0.3845\n",
            "Epoch 147/1000\n",
            "407/407 [==============================] - 3s 8ms/step - loss: 0.0157 - accuracy: 0.9943 - val_loss: 2.2197 - val_accuracy: 0.3849\n",
            "Epoch 148/1000\n",
            "407/407 [==============================] - 3s 8ms/step - loss: 0.0140 - accuracy: 0.9947 - val_loss: 2.2545 - val_accuracy: 0.3884\n",
            "Epoch 149/1000\n",
            "407/407 [==============================] - 3s 8ms/step - loss: 0.0135 - accuracy: 0.9953 - val_loss: 2.1757 - val_accuracy: 0.3903\n",
            "Epoch 150/1000\n",
            "407/407 [==============================] - 3s 8ms/step - loss: 0.0115 - accuracy: 0.9955 - val_loss: 2.2270 - val_accuracy: 0.3836\n",
            "Epoch 151/1000\n",
            "407/407 [==============================] - 3s 8ms/step - loss: 0.0157 - accuracy: 0.9941 - val_loss: 2.2070 - val_accuracy: 0.3934\n",
            "Epoch 152/1000\n",
            "407/407 [==============================] - 3s 8ms/step - loss: 0.0163 - accuracy: 0.9942 - val_loss: 2.2972 - val_accuracy: 0.3756\n",
            "Epoch 153/1000\n",
            "407/407 [==============================] - 3s 8ms/step - loss: 0.0148 - accuracy: 0.9940 - val_loss: 2.2854 - val_accuracy: 0.3818\n",
            "Epoch 154/1000\n",
            "407/407 [==============================] - 3s 8ms/step - loss: 0.0118 - accuracy: 0.9954 - val_loss: 2.1734 - val_accuracy: 0.4042\n",
            "Epoch 155/1000\n",
            "407/407 [==============================] - 3s 8ms/step - loss: 0.0162 - accuracy: 0.9943 - val_loss: 2.2199 - val_accuracy: 0.3977\n",
            "Epoch 156/1000\n",
            "407/407 [==============================] - 3s 8ms/step - loss: 0.0137 - accuracy: 0.9951 - val_loss: 2.2394 - val_accuracy: 0.3907\n",
            "Epoch 157/1000\n",
            "407/407 [==============================] - 3s 8ms/step - loss: 0.0161 - accuracy: 0.9950 - val_loss: 2.1725 - val_accuracy: 0.4083\n",
            "Epoch 158/1000\n",
            "407/407 [==============================] - 3s 8ms/step - loss: 0.0125 - accuracy: 0.9955 - val_loss: 2.2218 - val_accuracy: 0.4030\n",
            "Epoch 159/1000\n",
            "407/407 [==============================] - 3s 8ms/step - loss: 0.0098 - accuracy: 0.9964 - val_loss: 2.1952 - val_accuracy: 0.3975\n",
            "Epoch 160/1000\n",
            "407/407 [==============================] - 3s 8ms/step - loss: 0.0113 - accuracy: 0.9958 - val_loss: 2.2356 - val_accuracy: 0.4013\n",
            "Epoch 161/1000\n",
            "407/407 [==============================] - 3s 8ms/step - loss: 0.0128 - accuracy: 0.9953 - val_loss: 2.2604 - val_accuracy: 0.3985\n",
            "Epoch 162/1000\n",
            "407/407 [==============================] - 3s 8ms/step - loss: 0.0136 - accuracy: 0.9952 - val_loss: 2.2329 - val_accuracy: 0.3986\n",
            "Epoch 163/1000\n",
            "407/407 [==============================] - 3s 8ms/step - loss: 0.0167 - accuracy: 0.9943 - val_loss: 2.2320 - val_accuracy: 0.3854\n",
            "Epoch 164/1000\n",
            "407/407 [==============================] - 3s 8ms/step - loss: 0.0131 - accuracy: 0.9956 - val_loss: 2.2729 - val_accuracy: 0.3809\n",
            "Epoch 165/1000\n",
            "407/407 [==============================] - 3s 8ms/step - loss: 0.0112 - accuracy: 0.9960 - val_loss: 2.2297 - val_accuracy: 0.3954\n",
            "Epoch 166/1000\n",
            "407/407 [==============================] - 3s 8ms/step - loss: 0.0121 - accuracy: 0.9953 - val_loss: 2.2912 - val_accuracy: 0.3835\n",
            "Epoch 167/1000\n",
            "407/407 [==============================] - 3s 8ms/step - loss: 0.0106 - accuracy: 0.9963 - val_loss: 2.2135 - val_accuracy: 0.3960\n",
            "Epoch 168/1000\n",
            "407/407 [==============================] - 3s 8ms/step - loss: 0.0133 - accuracy: 0.9954 - val_loss: 2.2963 - val_accuracy: 0.3856\n",
            "Epoch 169/1000\n",
            "407/407 [==============================] - 3s 8ms/step - loss: 0.0137 - accuracy: 0.9954 - val_loss: 2.3305 - val_accuracy: 0.3717\n"
          ],
          "name": "stdout"
        },
        {
          "output_type": "execute_result",
          "data": {
            "text/plain": [
              "<tensorflow.python.keras.callbacks.History at 0x7fdd6154f1d0>"
            ]
          },
          "metadata": {
            "tags": []
          },
          "execution_count": 74
        }
      ]
    },
    {
      "cell_type": "code",
      "metadata": {
        "id": "03PUTvHYm4Fg",
        "colab": {
          "base_uri": "https://localhost:8080/"
        },
        "outputId": "17a74b62-d982-408e-b978-6c2159004706"
      },
      "source": [
        "# run model against TEST SET (this)\n",
        "test_lost, test_acc = model.evaluate(test_images, test_labels)\n",
        "\n",
        "# get accuracy\n",
        "print('Test Accuracy: ', test_acc)\n",
        "modified_model_acc = test_acc"
      ],
      "execution_count": 76,
      "outputs": [
        {
          "output_type": "stream",
          "text": [
            "650/650 [==============================] - 1s 2ms/step - loss: 1.0368 - accuracy: 0.9068\n",
            "Test Accuracy:  0.906826913356781\n"
          ],
          "name": "stdout"
        }
      ]
    },
    {
      "cell_type": "code",
      "metadata": {
        "id": "LQQV3_EaCpic",
        "colab": {
          "base_uri": "https://localhost:8080/"
        },
        "outputId": "47862994-b811-4e6b-d9e5-bb5eb376442e"
      },
      "source": [
        "(modified_model_acc - modified_org_model_acc)*100 #run this"
      ],
      "execution_count": 94,
      "outputs": [
        {
          "output_type": "execute_result",
          "data": {
            "text/plain": [
              "0.5625009536743164"
            ]
          },
          "metadata": {
            "tags": []
          },
          "execution_count": 94
        }
      ]
    },
    {
      "cell_type": "code",
      "metadata": {
        "colab": {
          "base_uri": "https://localhost:8080/",
          "height": 299
        },
        "id": "0elR0DWIgKu5",
        "outputId": "be0e5e26-a03e-4116-f159-33de432ae2f6"
      },
      "source": [
        "# attempt to do augmentation\n",
        "# inspired from https://machinelearningmastery.com/how-to-configure-image-data-augmentation-when-training-deep-learning-neural-networks/\n",
        "\n",
        "X_train = train_images.reshape(104000, 28, 28, 1)\n",
        "datagen = ImageDataGenerator(featurewise_center=True,\n",
        "                             featurewise_std_normalization=True,\n",
        "                             rotation_range=40,\n",
        "                             width_shift_range=0.2,\n",
        "                             height_shift_range=0.2,\n",
        "                             horizontal_flip=True)\n",
        "datagen.fit(X_train)\n",
        "it = datagen.flow(X_train, train_labels)\n",
        "\n",
        "print(it[0][0][0].shape)\n",
        "# print(it[0][0][0])\n",
        "plt.imshow(it[0][0][0].reshape(28,28))"
      ],
      "execution_count": 68,
      "outputs": [
        {
          "output_type": "stream",
          "text": [
            "(28, 28, 1)\n"
          ],
          "name": "stdout"
        },
        {
          "output_type": "execute_result",
          "data": {
            "text/plain": [
              "<matplotlib.image.AxesImage at 0x7fdd6183b690>"
            ]
          },
          "metadata": {
            "tags": []
          },
          "execution_count": 68
        },
        {
          "output_type": "display_data",
          "data": {
            "image/png": "[encoded data removed]",
            "text/plain": [
              "<Figure size 432x288 with 1 Axes>"
            ]
          },
          "metadata": {
            "tags": [],
            "needs_background": "light"
          }
        }
      ]
    },
    {
      "cell_type": "code",
      "metadata": {
        "colab": {
          "base_uri": "https://localhost:8080/",
          "height": 282
        },
        "id": "3PvyxuwtgPsC",
        "outputId": "3e958d4c-7825-4ccc-de5a-5a90bdc86679"
      },
      "source": [
        "# original image\n",
        "plt.imshow(train_images[0].reshape(28,28))"
      ],
      "execution_count": 69,
      "outputs": [
        {
          "output_type": "execute_result",
          "data": {
            "text/plain": [
              "<matplotlib.image.AxesImage at 0x7fdd615911d0>"
            ]
          },
          "metadata": {
            "tags": []
          },
          "execution_count": 69
        },
        {
          "output_type": "display_data",
          "data": {
            "image/png": "[encoded data removed]",
            "text/plain": [
              "<Figure size 432x288 with 1 Axes>"
            ]
          },
          "metadata": {
            "tags": [],
            "needs_background": "light"
          }
        }
      ]
    },
    {
      "cell_type": "code",
      "metadata": {
        "colab": {
          "base_uri": "https://localhost:8080/",
          "height": 282
        },
        "id": "RCfX9UJ8gUbQ",
        "outputId": "85d24b62-7333-4875-b7bf-e978e7845114"
      },
      "source": [
        "test_rotate_0 = np.rot90(train_images[0].reshape(28,28))\n",
        "plt.imshow(test_rotate_0)"
      ],
      "execution_count": 70,
      "outputs": [
        {
          "output_type": "execute_result",
          "data": {
            "text/plain": [
              "<matplotlib.image.AxesImage at 0x7fdd61cce8d0>"
            ]
          },
          "metadata": {
            "tags": []
          },
          "execution_count": 70
        },
        {
          "output_type": "display_data",
          "data": {
            "image/png": "[encoded data removed]",
            "text/plain": [
              "<Figure size 432x288 with 1 Axes>"
            ]
          },
          "metadata": {
            "tags": [],
            "needs_background": "light"
          }
        }
      ]
    },
    {
      "cell_type": "code",
      "metadata": {
        "colab": {
          "base_uri": "https://localhost:8080/",
          "height": 282
        },
        "id": "2W8rD8GqgXHV",
        "outputId": "e15b3092-154f-417f-d9b7-2e3fd8538287"
      },
      "source": [
        "test_flip_0 = np.flip(train_images[0].reshape(28,28))\n",
        "plt.imshow(test_flip_0)"
      ],
      "execution_count": 71,
      "outputs": [
        {
          "output_type": "execute_result",
          "data": {
            "text/plain": [
              "<matplotlib.image.AxesImage at 0x7fdd62dc8bd0>"
            ]
          },
          "metadata": {
            "tags": []
          },
          "execution_count": 71
        },
        {
          "output_type": "display_data",
          "data": {
            "image/png": "[encoded data removed]",
            "text/plain": [
              "<Figure size 432x288 with 1 Axes>"
            ]
          },
          "metadata": {
            "tags": [],
            "needs_background": "light"
          }
        }
      ]
    },
    {
      "cell_type": "code",
      "metadata": {
        "colab": {
          "base_uri": "https://localhost:8080/",
          "height": 333
        },
        "id": "SDgZNzlPgbll",
        "outputId": "8d989d71-3beb-46c9-f853-2ba190d36cd9"
      },
      "source": [
        "print(train_images.shape)\n",
        "print(train_images.mean(axis=0).mean(axis=0))\n",
        "mean = train_images.mean(axis=0).mean(axis=0)\n",
        "print(train_images.std(axis=0).std(axis=0))\n",
        "std = train_images.std(axis=0).std(axis=0)\n",
        "noise = np.random.normal(mean, std, train_images.shape)\n",
        "test_add_noise = train_images + noise\n",
        "plt.imshow(test_add_noise[1].reshape(28,28))"
      ],
      "execution_count": 72,
      "outputs": [
        {
          "output_type": "stream",
          "text": [
            "(104000, 784)\n",
            "-2.9526291438142732e-15\n",
            "0.23501253876711675\n"
          ],
          "name": "stdout"
        },
        {
          "output_type": "execute_result",
          "data": {
            "text/plain": [
              "<matplotlib.image.AxesImage at 0x7fdd611ccc90>"
            ]
          },
          "metadata": {
            "tags": []
          },
          "execution_count": 72
        },
        {
          "output_type": "display_data",
          "data": {
            "image/png": "[encoded data removed]",
            "text/plain": [
              "<Figure size 432x288 with 1 Axes>"
            ]
          },
          "metadata": {
            "tags": [],
            "needs_background": "light"
          }
        }
      ]
    },
    {
      "cell_type": "code",
      "metadata": {
        "id": "G5zeGkYfgjr3"
      },
      "source": [
        "# this takes too long\n",
        "train_images_shape = train_images.shape\n",
        "for i in range(train_images_shape[0]):\n",
        "  curr_rotate_img = np.rot90(train_images[i].reshape(28,28))\n",
        "  curr_rotate_img = curr_rotate_img.reshape(28*28,)\n",
        "#   print(curr_rotate_img.shape)\n",
        "#   train_images = np.append(train_images, [curr_rotate_img], axis=0)"
      ],
      "execution_count": null,
      "outputs": []
    },
    {
      "cell_type": "markdown",
      "metadata": {
        "id": "VdyJUB_EWR81"
      },
      "source": [
        "### 5. Add additional Dense hidden layers as appropriate to improve the accuracy. Note that you may need to adjust your hyperparameters or other aspects of the network architecture in response to these changes. How does the accuracy for your deep network compare with the accuracy you achieved in experiment (4)?. \n"
      ]
    },
    {
      "cell_type": "code",
      "metadata": {
        "id": "1GFBOrV0jV3D"
      },
      "source": [
        "# build model\n",
        "model = models.Sequential()\n",
        "model.add(Dense(10000,\n",
        "                input_shape=(28*28,),\n",
        "                kernel_initializer='glorot_normal',\n",
        "                # kernel_regularizer=l2(0.01),\n",
        "                use_bias=False)) # set False if BatchNormalization is used and remove dropout\n",
        "model.add(BatchNormalization())\n",
        "model.add(LeakyReLU(alpha=0.01))\n",
        "model.add(Dense(10000,\n",
        "                input_shape=(28*28,),\n",
        "                use_bias=False))\n",
        "model.add(BatchNormalization())\n",
        "model.add(LeakyReLU(alpha=0.01))\n",
        "# model.add(Dense(10000,\n",
        "#                 input_shape=(28*28,),\n",
        "#                 use_bias=False))\n",
        "# model.add(BatchNormalization())\n",
        "# model.add(LeakyReLU(alpha=0.01))\n",
        "model.add(Dense(27, activation='softmax'))"
      ],
      "execution_count": 4,
      "outputs": []
    },
    {
      "cell_type": "code",
      "metadata": {
        "colab": {
          "base_uri": "https://localhost:8080/"
        },
        "id": "sy8nI4xSX_rM",
        "outputId": "90fe1677-95d2-4a86-8645-2338eb25d22c"
      },
      "source": [
        "# compile model (run this)\n",
        "model.compile(\n",
        "    optimizer='adam',\n",
        "              # optimizer='rmsprop',\n",
        "              loss='categorical_crossentropy',\n",
        "              metrics=['accuracy'])\n",
        "\n",
        "callback = EarlyStopping(monitor='accuracy', \n",
        "                         patience=10,\n",
        "                        #  restore_best_weights=False)\n",
        "                         restore_best_weights=True)\n",
        "\n",
        "model.fit(train_images, \n",
        "          train_labels, \n",
        "          epochs=1000, \n",
        "          batch_size=256, \n",
        "          # batch_size=128,\n",
        "          validation_data=(validate_images,validate_labels),\n",
        "          callbacks=[callback],\n",
        "          verbose=1)"
      ],
      "execution_count": 5,
      "outputs": [
        {
          "output_type": "stream",
          "text": [
            "Epoch 1/1000\n",
            "407/407 [==============================] - 29s 62ms/step - loss: 1.4920 - accuracy: 0.7190 - val_loss: 4.8472 - val_accuracy: 0.3054\n",
            "Epoch 2/1000\n",
            "407/407 [==============================] - 26s 63ms/step - loss: 0.4462 - accuracy: 0.8686 - val_loss: 6.9787 - val_accuracy: 0.2312\n",
            "Epoch 3/1000\n",
            "407/407 [==============================] - 27s 66ms/step - loss: 0.3206 - accuracy: 0.8988 - val_loss: 9.6418 - val_accuracy: 0.1205\n",
            "Epoch 4/1000\n",
            "407/407 [==============================] - 28s 69ms/step - loss: 0.2570 - accuracy: 0.9167 - val_loss: 9.4174 - val_accuracy: 0.2268\n",
            "Epoch 5/1000\n",
            "407/407 [==============================] - 27s 66ms/step - loss: 0.2250 - accuracy: 0.9222 - val_loss: 11.3936 - val_accuracy: 0.1780\n",
            "Epoch 6/1000\n",
            "407/407 [==============================] - 27s 66ms/step - loss: 0.2020 - accuracy: 0.9321 - val_loss: 13.4434 - val_accuracy: 0.0942\n",
            "Epoch 7/1000\n",
            "407/407 [==============================] - 27s 67ms/step - loss: 0.1790 - accuracy: 0.9370 - val_loss: 12.8502 - val_accuracy: 0.1438\n",
            "Epoch 8/1000\n",
            "407/407 [==============================] - 27s 67ms/step - loss: 0.1528 - accuracy: 0.9451 - val_loss: 14.9954 - val_accuracy: 0.1154\n",
            "Epoch 9/1000\n",
            "407/407 [==============================] - 27s 66ms/step - loss: 0.1295 - accuracy: 0.9513 - val_loss: 14.2590 - val_accuracy: 0.1250\n",
            "Epoch 10/1000\n",
            "407/407 [==============================] - 27s 67ms/step - loss: 0.1246 - accuracy: 0.9533 - val_loss: 15.1098 - val_accuracy: 0.1038\n",
            "Epoch 11/1000\n",
            "407/407 [==============================] - 27s 67ms/step - loss: 0.1183 - accuracy: 0.9561 - val_loss: 15.9793 - val_accuracy: 0.1345\n",
            "Epoch 12/1000\n",
            "407/407 [==============================] - 27s 67ms/step - loss: 0.1286 - accuracy: 0.9546 - val_loss: 16.4209 - val_accuracy: 0.1118\n",
            "Epoch 13/1000\n",
            "407/407 [==============================] - 27s 67ms/step - loss: 0.1024 - accuracy: 0.9612 - val_loss: 16.9762 - val_accuracy: 0.1289\n",
            "Epoch 14/1000\n",
            "407/407 [==============================] - 27s 67ms/step - loss: 0.0922 - accuracy: 0.9638 - val_loss: 16.6336 - val_accuracy: 0.1258\n",
            "Epoch 15/1000\n",
            "407/407 [==============================] - 27s 67ms/step - loss: 0.0884 - accuracy: 0.9660 - val_loss: 18.3158 - val_accuracy: 0.1040\n",
            "Epoch 16/1000\n",
            "407/407 [==============================] - 27s 67ms/step - loss: 0.0844 - accuracy: 0.9663 - val_loss: 16.8737 - val_accuracy: 0.1120\n",
            "Epoch 17/1000\n",
            "407/407 [==============================] - 27s 67ms/step - loss: 0.0860 - accuracy: 0.9658 - val_loss: 17.6776 - val_accuracy: 0.0884\n",
            "Epoch 18/1000\n",
            "407/407 [==============================] - 27s 67ms/step - loss: 0.0792 - accuracy: 0.9691 - val_loss: 18.4770 - val_accuracy: 0.1071\n",
            "Epoch 19/1000\n",
            "407/407 [==============================] - 27s 67ms/step - loss: 0.0748 - accuracy: 0.9721 - val_loss: 19.4757 - val_accuracy: 0.1022\n",
            "Epoch 20/1000\n",
            "407/407 [==============================] - 27s 67ms/step - loss: 0.0693 - accuracy: 0.9717 - val_loss: 19.7579 - val_accuracy: 0.1036\n",
            "Epoch 21/1000\n",
            "407/407 [==============================] - 27s 67ms/step - loss: 0.0698 - accuracy: 0.9725 - val_loss: 18.5875 - val_accuracy: 0.1109\n",
            "Epoch 22/1000\n",
            "407/407 [==============================] - 27s 67ms/step - loss: 0.0616 - accuracy: 0.9747 - val_loss: 17.3812 - val_accuracy: 0.1188\n",
            "Epoch 23/1000\n",
            "407/407 [==============================] - 27s 67ms/step - loss: 0.0592 - accuracy: 0.9754 - val_loss: 17.0006 - val_accuracy: 0.1198\n",
            "Epoch 24/1000\n",
            "407/407 [==============================] - 27s 67ms/step - loss: 0.0555 - accuracy: 0.9766 - val_loss: 18.7173 - val_accuracy: 0.0900\n",
            "Epoch 25/1000\n",
            "407/407 [==============================] - 27s 67ms/step - loss: 0.0590 - accuracy: 0.9760 - val_loss: 16.8338 - val_accuracy: 0.1067\n",
            "Epoch 26/1000\n",
            "407/407 [==============================] - 27s 67ms/step - loss: 0.0669 - accuracy: 0.9741 - val_loss: 20.2772 - val_accuracy: 0.1054\n",
            "Epoch 27/1000\n",
            "407/407 [==============================] - 27s 67ms/step - loss: 0.0522 - accuracy: 0.9789 - val_loss: 18.6344 - val_accuracy: 0.1152\n",
            "Epoch 28/1000\n",
            "407/407 [==============================] - 27s 67ms/step - loss: 0.0472 - accuracy: 0.9792 - val_loss: 19.5991 - val_accuracy: 0.0976\n",
            "Epoch 29/1000\n",
            "407/407 [==============================] - 27s 67ms/step - loss: 0.0522 - accuracy: 0.9793 - val_loss: 18.5329 - val_accuracy: 0.1025\n",
            "Epoch 30/1000\n",
            "407/407 [==============================] - 27s 67ms/step - loss: 0.0526 - accuracy: 0.9786 - val_loss: 20.8570 - val_accuracy: 0.0982\n",
            "Epoch 31/1000\n",
            "407/407 [==============================] - 27s 67ms/step - loss: 0.0505 - accuracy: 0.9796 - val_loss: 20.3799 - val_accuracy: 0.0750\n",
            "Epoch 32/1000\n",
            "407/407 [==============================] - 27s 67ms/step - loss: 0.0465 - accuracy: 0.9805 - val_loss: 19.4815 - val_accuracy: 0.0865\n",
            "Epoch 33/1000\n",
            "407/407 [==============================] - 27s 67ms/step - loss: 0.0469 - accuracy: 0.9809 - val_loss: 20.0191 - val_accuracy: 0.0690\n",
            "Epoch 34/1000\n",
            "407/407 [==============================] - 27s 67ms/step - loss: 0.0463 - accuracy: 0.9814 - val_loss: 19.4283 - val_accuracy: 0.0737\n",
            "Epoch 35/1000\n",
            "407/407 [==============================] - 27s 67ms/step - loss: 0.0429 - accuracy: 0.9818 - val_loss: 19.9497 - val_accuracy: 0.0742\n",
            "Epoch 36/1000\n",
            "407/407 [==============================] - 27s 67ms/step - loss: 0.0412 - accuracy: 0.9831 - val_loss: 20.2448 - val_accuracy: 0.0741\n",
            "Epoch 37/1000\n",
            "407/407 [==============================] - 27s 67ms/step - loss: 0.0389 - accuracy: 0.9835 - val_loss: 18.9368 - val_accuracy: 0.0743\n",
            "Epoch 38/1000\n",
            "407/407 [==============================] - 27s 67ms/step - loss: 0.0457 - accuracy: 0.9824 - val_loss: 18.6458 - val_accuracy: 0.0831\n",
            "Epoch 39/1000\n",
            "407/407 [==============================] - 27s 67ms/step - loss: 0.0402 - accuracy: 0.9840 - val_loss: 19.1969 - val_accuracy: 0.0707\n",
            "Epoch 40/1000\n",
            "407/407 [==============================] - 27s 67ms/step - loss: 0.0444 - accuracy: 0.9826 - val_loss: 16.4021 - val_accuracy: 0.0999\n",
            "Epoch 41/1000\n",
            "407/407 [==============================] - 27s 67ms/step - loss: 0.0379 - accuracy: 0.9840 - val_loss: 16.9299 - val_accuracy: 0.0820\n",
            "Epoch 42/1000\n",
            "407/407 [==============================] - 27s 67ms/step - loss: 0.0428 - accuracy: 0.9843 - val_loss: 17.4116 - val_accuracy: 0.0832\n",
            "Epoch 43/1000\n",
            "407/407 [==============================] - 27s 67ms/step - loss: 0.0356 - accuracy: 0.9854 - val_loss: 18.3244 - val_accuracy: 0.0684\n",
            "Epoch 44/1000\n",
            "407/407 [==============================] - 27s 67ms/step - loss: 0.0381 - accuracy: 0.9854 - val_loss: 16.9171 - val_accuracy: 0.0718\n",
            "Epoch 45/1000\n",
            "407/407 [==============================] - 27s 67ms/step - loss: 0.0297 - accuracy: 0.9865 - val_loss: 18.7063 - val_accuracy: 0.0731\n",
            "Epoch 46/1000\n",
            "407/407 [==============================] - 27s 67ms/step - loss: 0.0383 - accuracy: 0.9858 - val_loss: 18.9402 - val_accuracy: 0.0706\n",
            "Epoch 47/1000\n",
            "407/407 [==============================] - 27s 67ms/step - loss: 0.0394 - accuracy: 0.9855 - val_loss: 17.2010 - val_accuracy: 0.0809\n",
            "Epoch 48/1000\n",
            "407/407 [==============================] - 27s 67ms/step - loss: 0.0276 - accuracy: 0.9881 - val_loss: 18.9060 - val_accuracy: 0.0702\n",
            "Epoch 49/1000\n",
            "407/407 [==============================] - 27s 67ms/step - loss: 0.0277 - accuracy: 0.9879 - val_loss: 17.4872 - val_accuracy: 0.0763\n",
            "Epoch 50/1000\n",
            "407/407 [==============================] - 27s 67ms/step - loss: 0.0268 - accuracy: 0.9884 - val_loss: 16.6925 - val_accuracy: 0.0797\n",
            "Epoch 51/1000\n",
            "407/407 [==============================] - 27s 67ms/step - loss: 0.0344 - accuracy: 0.9867 - val_loss: 16.4123 - val_accuracy: 0.0723\n",
            "Epoch 52/1000\n",
            "407/407 [==============================] - 27s 67ms/step - loss: 0.0352 - accuracy: 0.9864 - val_loss: 16.3750 - val_accuracy: 0.0676\n",
            "Epoch 53/1000\n",
            "407/407 [==============================] - 27s 66ms/step - loss: 0.0277 - accuracy: 0.9882 - val_loss: 16.5442 - val_accuracy: 0.0668\n",
            "Epoch 54/1000\n",
            "407/407 [==============================] - 27s 67ms/step - loss: 0.0312 - accuracy: 0.9885 - val_loss: 14.9145 - val_accuracy: 0.0743\n",
            "Epoch 55/1000\n",
            "407/407 [==============================] - 27s 66ms/step - loss: 0.0240 - accuracy: 0.9896 - val_loss: 14.5315 - val_accuracy: 0.0751\n",
            "Epoch 56/1000\n",
            "407/407 [==============================] - 27s 67ms/step - loss: 0.0282 - accuracy: 0.9886 - val_loss: 15.7366 - val_accuracy: 0.0659\n",
            "Epoch 57/1000\n",
            "407/407 [==============================] - 27s 67ms/step - loss: 0.0315 - accuracy: 0.9881 - val_loss: 15.8725 - val_accuracy: 0.0685\n",
            "Epoch 58/1000\n",
            "407/407 [==============================] - 27s 67ms/step - loss: 0.0272 - accuracy: 0.9901 - val_loss: 14.4234 - val_accuracy: 0.0748\n",
            "Epoch 59/1000\n",
            "407/407 [==============================] - 27s 67ms/step - loss: 0.0292 - accuracy: 0.9898 - val_loss: 15.8667 - val_accuracy: 0.0555\n",
            "Epoch 60/1000\n",
            "407/407 [==============================] - 27s 67ms/step - loss: 0.0237 - accuracy: 0.9913 - val_loss: 15.9742 - val_accuracy: 0.0720\n",
            "Epoch 61/1000\n",
            "407/407 [==============================] - 27s 67ms/step - loss: 0.0202 - accuracy: 0.9924 - val_loss: 14.8933 - val_accuracy: 0.0739\n",
            "Epoch 62/1000\n",
            "407/407 [==============================] - 27s 67ms/step - loss: 0.0208 - accuracy: 0.9920 - val_loss: 15.1041 - val_accuracy: 0.0749\n",
            "Epoch 63/1000\n",
            "407/407 [==============================] - 27s 67ms/step - loss: 0.0279 - accuracy: 0.9897 - val_loss: 13.0419 - val_accuracy: 0.0942\n",
            "Epoch 64/1000\n",
            "407/407 [==============================] - 27s 67ms/step - loss: 0.0251 - accuracy: 0.9909 - val_loss: 13.9517 - val_accuracy: 0.0861\n",
            "Epoch 65/1000\n",
            "407/407 [==============================] - 27s 67ms/step - loss: 0.0204 - accuracy: 0.9919 - val_loss: 13.9489 - val_accuracy: 0.0763\n",
            "Epoch 66/1000\n",
            "407/407 [==============================] - 27s 67ms/step - loss: 0.0237 - accuracy: 0.9914 - val_loss: 13.5590 - val_accuracy: 0.0680\n",
            "Epoch 67/1000\n",
            "407/407 [==============================] - 27s 67ms/step - loss: 0.0183 - accuracy: 0.9925 - val_loss: 13.9102 - val_accuracy: 0.0722\n",
            "Epoch 68/1000\n",
            "407/407 [==============================] - 27s 67ms/step - loss: 0.0192 - accuracy: 0.9927 - val_loss: 13.7213 - val_accuracy: 0.0734\n",
            "Epoch 69/1000\n",
            "407/407 [==============================] - 27s 67ms/step - loss: 0.0239 - accuracy: 0.9915 - val_loss: 14.0457 - val_accuracy: 0.0752\n",
            "Epoch 70/1000\n",
            "407/407 [==============================] - 27s 67ms/step - loss: 0.0258 - accuracy: 0.9915 - val_loss: 14.8401 - val_accuracy: 0.0594\n",
            "Epoch 71/1000\n",
            "407/407 [==============================] - 27s 67ms/step - loss: 0.0215 - accuracy: 0.9922 - val_loss: 12.7701 - val_accuracy: 0.0737\n",
            "Epoch 72/1000\n",
            "407/407 [==============================] - 27s 67ms/step - loss: 0.0168 - accuracy: 0.9936 - val_loss: 13.2535 - val_accuracy: 0.0642\n",
            "Epoch 73/1000\n",
            "407/407 [==============================] - 27s 67ms/step - loss: 0.0174 - accuracy: 0.9941 - val_loss: 13.5974 - val_accuracy: 0.0458\n",
            "Epoch 74/1000\n",
            "407/407 [==============================] - 27s 67ms/step - loss: 0.0161 - accuracy: 0.9940 - val_loss: 12.7442 - val_accuracy: 0.0615\n",
            "Epoch 75/1000\n",
            "407/407 [==============================] - 27s 67ms/step - loss: 0.0168 - accuracy: 0.9937 - val_loss: 11.5732 - val_accuracy: 0.0745\n",
            "Epoch 76/1000\n",
            "407/407 [==============================] - 27s 67ms/step - loss: 0.0202 - accuracy: 0.9931 - val_loss: 10.9777 - val_accuracy: 0.0746\n",
            "Epoch 77/1000\n",
            "407/407 [==============================] - 27s 67ms/step - loss: 0.0257 - accuracy: 0.9930 - val_loss: 12.5808 - val_accuracy: 0.0709\n",
            "Epoch 78/1000\n",
            "407/407 [==============================] - 27s 67ms/step - loss: 0.0235 - accuracy: 0.9947 - val_loss: 12.7223 - val_accuracy: 0.0629\n",
            "Epoch 79/1000\n",
            "407/407 [==============================] - 27s 67ms/step - loss: 0.0269 - accuracy: 0.9934 - val_loss: 13.8663 - val_accuracy: 0.0734\n",
            "Epoch 80/1000\n",
            "407/407 [==============================] - 27s 67ms/step - loss: 0.0137 - accuracy: 0.9957 - val_loss: 15.2972 - val_accuracy: 0.0709\n",
            "Epoch 81/1000\n",
            "407/407 [==============================] - 27s 67ms/step - loss: 0.0110 - accuracy: 0.9959 - val_loss: 14.9426 - val_accuracy: 0.0734\n",
            "Epoch 82/1000\n",
            "407/407 [==============================] - 27s 67ms/step - loss: 0.0116 - accuracy: 0.9962 - val_loss: 14.2781 - val_accuracy: 0.0640\n",
            "Epoch 83/1000\n",
            "407/407 [==============================] - 27s 67ms/step - loss: 0.0142 - accuracy: 0.9949 - val_loss: 14.3803 - val_accuracy: 0.0733\n",
            "Epoch 84/1000\n",
            "407/407 [==============================] - 27s 67ms/step - loss: 0.0179 - accuracy: 0.9942 - val_loss: 14.4771 - val_accuracy: 0.0663\n",
            "Epoch 85/1000\n",
            "407/407 [==============================] - 27s 67ms/step - loss: 0.0174 - accuracy: 0.9942 - val_loss: 13.4592 - val_accuracy: 0.0720\n",
            "Epoch 86/1000\n",
            "407/407 [==============================] - 27s 67ms/step - loss: 0.0135 - accuracy: 0.9956 - val_loss: 13.1581 - val_accuracy: 0.0687\n",
            "Epoch 87/1000\n",
            "407/407 [==============================] - 27s 67ms/step - loss: 0.0157 - accuracy: 0.9942 - val_loss: 12.4192 - val_accuracy: 0.0698\n",
            "Epoch 88/1000\n",
            "407/407 [==============================] - 27s 67ms/step - loss: 0.0155 - accuracy: 0.9945 - val_loss: 12.6245 - val_accuracy: 0.0650\n",
            "Epoch 89/1000\n",
            "407/407 [==============================] - 27s 67ms/step - loss: 0.0107 - accuracy: 0.9960 - val_loss: 11.9996 - val_accuracy: 0.0677\n",
            "Epoch 90/1000\n",
            "407/407 [==============================] - 27s 67ms/step - loss: 0.0110 - accuracy: 0.9965 - val_loss: 12.6962 - val_accuracy: 0.0658\n",
            "Epoch 91/1000\n",
            "407/407 [==============================] - 27s 67ms/step - loss: 0.0179 - accuracy: 0.9946 - val_loss: 13.2935 - val_accuracy: 0.0538\n",
            "Epoch 92/1000\n",
            "407/407 [==============================] - 27s 67ms/step - loss: 0.0150 - accuracy: 0.9956 - val_loss: 11.8803 - val_accuracy: 0.0645\n",
            "Epoch 93/1000\n",
            "407/407 [==============================] - 27s 67ms/step - loss: 0.0120 - accuracy: 0.9961 - val_loss: 11.8303 - val_accuracy: 0.0588\n",
            "Epoch 94/1000\n",
            "407/407 [==============================] - 27s 67ms/step - loss: 0.0135 - accuracy: 0.9960 - val_loss: 11.7879 - val_accuracy: 0.0555\n",
            "Epoch 95/1000\n",
            "407/407 [==============================] - 27s 67ms/step - loss: 0.0148 - accuracy: 0.9963 - val_loss: 11.6050 - val_accuracy: 0.0748\n",
            "Epoch 96/1000\n",
            "407/407 [==============================] - 27s 67ms/step - loss: 0.0133 - accuracy: 0.9959 - val_loss: 11.7077 - val_accuracy: 0.0662\n",
            "Epoch 97/1000\n",
            "407/407 [==============================] - 27s 67ms/step - loss: 0.0117 - accuracy: 0.9966 - val_loss: 11.9754 - val_accuracy: 0.0624\n",
            "Epoch 98/1000\n",
            "407/407 [==============================] - 27s 67ms/step - loss: 0.0131 - accuracy: 0.9968 - val_loss: 12.5749 - val_accuracy: 0.0511\n",
            "Epoch 99/1000\n",
            "407/407 [==============================] - 27s 67ms/step - loss: 0.0138 - accuracy: 0.9959 - val_loss: 11.5803 - val_accuracy: 0.0613\n",
            "Epoch 100/1000\n",
            "407/407 [==============================] - 27s 67ms/step - loss: 0.0106 - accuracy: 0.9965 - val_loss: 12.1858 - val_accuracy: 0.0525\n",
            "Epoch 101/1000\n",
            "407/407 [==============================] - 27s 67ms/step - loss: 0.0079 - accuracy: 0.9974 - val_loss: 12.4376 - val_accuracy: 0.0484\n",
            "Epoch 102/1000\n",
            "407/407 [==============================] - 27s 67ms/step - loss: 0.0072 - accuracy: 0.9978 - val_loss: 12.6096 - val_accuracy: 0.0503\n",
            "Epoch 103/1000\n",
            "407/407 [==============================] - 27s 67ms/step - loss: 0.0092 - accuracy: 0.9973 - val_loss: 11.7405 - val_accuracy: 0.0502\n",
            "Epoch 104/1000\n",
            "407/407 [==============================] - 27s 67ms/step - loss: 0.0104 - accuracy: 0.9966 - val_loss: 12.0978 - val_accuracy: 0.0465\n",
            "Epoch 105/1000\n",
            "407/407 [==============================] - 27s 67ms/step - loss: 0.0130 - accuracy: 0.9961 - val_loss: 12.1022 - val_accuracy: 0.0440\n",
            "Epoch 106/1000\n",
            "407/407 [==============================] - 27s 67ms/step - loss: 0.0144 - accuracy: 0.9964 - val_loss: 12.1962 - val_accuracy: 0.0522\n",
            "Epoch 107/1000\n",
            "407/407 [==============================] - 27s 67ms/step - loss: 0.0116 - accuracy: 0.9978 - val_loss: 11.9179 - val_accuracy: 0.0520\n",
            "Epoch 108/1000\n",
            "407/407 [==============================] - 27s 67ms/step - loss: 0.0068 - accuracy: 0.9980 - val_loss: 12.2027 - val_accuracy: 0.0483\n",
            "Epoch 109/1000\n",
            "407/407 [==============================] - 27s 67ms/step - loss: 0.0092 - accuracy: 0.9974 - val_loss: 13.1553 - val_accuracy: 0.0434\n",
            "Epoch 110/1000\n",
            "407/407 [==============================] - 27s 67ms/step - loss: 0.0087 - accuracy: 0.9973 - val_loss: 12.4413 - val_accuracy: 0.0456\n",
            "Epoch 111/1000\n",
            "407/407 [==============================] - 27s 67ms/step - loss: 0.0099 - accuracy: 0.9970 - val_loss: 12.4972 - val_accuracy: 0.0452\n",
            "Epoch 112/1000\n",
            "407/407 [==============================] - 27s 67ms/step - loss: 0.0086 - accuracy: 0.9971 - val_loss: 12.4289 - val_accuracy: 0.0433\n",
            "Epoch 113/1000\n",
            "407/407 [==============================] - 27s 67ms/step - loss: 0.0076 - accuracy: 0.9975 - val_loss: 11.5909 - val_accuracy: 0.0450\n",
            "Epoch 114/1000\n",
            "407/407 [==============================] - 27s 67ms/step - loss: 0.0084 - accuracy: 0.9977 - val_loss: 10.9483 - val_accuracy: 0.0453\n",
            "Epoch 115/1000\n",
            "407/407 [==============================] - 27s 67ms/step - loss: 0.0068 - accuracy: 0.9980 - val_loss: 10.8849 - val_accuracy: 0.0471\n",
            "Epoch 116/1000\n",
            "407/407 [==============================] - 27s 67ms/step - loss: 0.0104 - accuracy: 0.9969 - val_loss: 9.5988 - val_accuracy: 0.0543\n",
            "Epoch 117/1000\n",
            "407/407 [==============================] - 27s 67ms/step - loss: 0.0122 - accuracy: 0.9968 - val_loss: 9.1435 - val_accuracy: 0.0635\n",
            "Epoch 118/1000\n",
            "407/407 [==============================] - 27s 67ms/step - loss: 0.0100 - accuracy: 0.9978 - val_loss: 9.2702 - val_accuracy: 0.0690\n"
          ],
          "name": "stdout"
        },
        {
          "output_type": "execute_result",
          "data": {
            "text/plain": [
              "<tensorflow.python.keras.callbacks.History at 0x7fde0c2ee850>"
            ]
          },
          "metadata": {
            "tags": []
          },
          "execution_count": 5
        }
      ]
    },
    {
      "cell_type": "code",
      "metadata": {
        "colab": {
          "base_uri": "https://localhost:8080/"
        },
        "id": "oaqcHhQOYDsf",
        "outputId": "b30d94d8-7f3d-41e1-d912-9fbfe8dd1898"
      },
      "source": [
        "# run model against TEST SET\n",
        "test_lost, test_acc = model.evaluate(test_images, test_labels)\n",
        "\n",
        "# get accuracy\n",
        "print('Test Accuracy: ', test_acc)\n",
        "deep_net_model_acc = test_acc"
      ],
      "execution_count": 6,
      "outputs": [
        {
          "output_type": "stream",
          "text": [
            "650/650 [==============================] - 3s 4ms/step - loss: 0.7852 - accuracy: 0.9169\n",
            "Test Accuracy:  0.9168750047683716\n"
          ],
          "name": "stdout"
        }
      ]
    },
    {
      "cell_type": "code",
      "metadata": {
        "colab": {
          "base_uri": "https://localhost:8080/"
        },
        "id": "_pEBJ63WYHEG",
        "outputId": "0823492e-c482-4e09-90ac-712545a5c5aa"
      },
      "source": [
        "print(f'Improvement/Loss accuracy: {(deep_net_model_acc - modified_model_acc)*100}')"
      ],
      "execution_count": null,
      "outputs": [
        {
          "output_type": "stream",
          "text": [
            "Improvement/Loss accuracy: 1.7980754375457764\n"
          ],
          "name": "stdout"
        }
      ]
    },
    {
      "cell_type": "markdown",
      "metadata": {
        "id": "xBOMiomP6UmP"
      },
      "source": [
        "How does the accuracy for your deep network compare with the accuracy you achieved in experiment (4)?"
      ]
    },
    {
      "cell_type": "code",
      "metadata": {
        "colab": {
          "base_uri": "https://localhost:8080/"
        },
        "id": "PnUtzebW6LiB",
        "outputId": "08152f8b-18fd-4cdb-bef9-bb8e9735c837"
      },
      "source": [
        "print(f\"Test accuracy of experience (4): {modified_model_acc}\")\n",
        "print(f\"Test accuracy of experience (5): {deep_net_model_acc}\")\n",
        "print(f\"Improvement/Loss accuracy between (4) and (5): {(deep_net_model_acc - modified_model_acc)*100}\")"
      ],
      "execution_count": 77,
      "outputs": [
        {
          "output_type": "stream",
          "text": [
            "Test accuracy of experience (4): 0.906826913356781\n",
            "Test accuracy of experience (5): 0.9168750047683716\n",
            "Improvement/Loss accuracy between (4) and (5): 1.0048091411590576\n"
          ],
          "name": "stdout"
        }
      ]
    },
    {
      "cell_type": "markdown",
      "metadata": {
        "id": "mt3HKgIwZfs5"
      },
      "source": [
        "### 6. When finished tuning, evaluate your results on the test set. Compare the test performance of your original network from experiment (2) and the final networks for experiments (3) and (4)."
      ]
    },
    {
      "cell_type": "code",
      "metadata": {
        "colab": {
          "base_uri": "https://localhost:8080/"
        },
        "id": "IlFUl1yUZs6G",
        "outputId": "ff7e2d42-277a-45dc-a325-1783d3b5d7f7"
      },
      "source": [
        "print(f\"Test accuracy of experience (2): {orginal_model_acc}\")\n",
        "print(f\"Test accuracy of experience (3): {modified_org_model_acc}\")\n",
        "print(f\"Test accuracy of experience (4): {modified_model_acc}\")"
      ],
      "execution_count": 95,
      "outputs": [
        {
          "output_type": "stream",
          "text": [
            "Test accuracy of experience (2): 0.8962019085884094\n",
            "Test accuracy of experience (3): 0.9012019038200378\n",
            "Test accuracy of experience (4): 0.906826913356781\n"
          ],
          "name": "stdout"
        }
      ]
    },
    {
      "cell_type": "markdown",
      "metadata": {
        "id": "6tpiqsuo6uYe"
      },
      "source": [
        "- Increase the number of neuron in experiment (3)compare with (2), it doesn't improve much. \n",
        "- Even in eperiment (4) we try tune parameters to make improvement compare with (2), the training process experiment(4) run faster and test accuracy doesn't improve much. "
      ]
    },
    {
      "cell_type": "markdown",
      "metadata": {
        "id": "5x5qZ8vNhF8o"
      },
      "source": [
        "### 7. Use plt.imshow() to view some of the misclassified images and examine their labels. Describe what you think might have gone wrong."
      ]
    },
    {
      "cell_type": "code",
      "metadata": {
        "colab": {
          "base_uri": "https://localhost:8080/"
        },
        "id": "uGti5fAaxUzR",
        "outputId": "85ae5cb6-4728-4882-b46e-8d61e71acd32"
      },
      "source": [
        "print(model.summary())"
      ],
      "execution_count": 17,
      "outputs": [
        {
          "output_type": "stream",
          "text": [
            "Model: \"sequential\"\n",
            "_________________________________________________________________\n",
            "Layer (type)                 Output Shape              Param #   \n",
            "=================================================================\n",
            "dense (Dense)                (None, 10000)             7840000   \n",
            "_________________________________________________________________\n",
            "batch_normalization (BatchNo (None, 10000)             40000     \n",
            "_________________________________________________________________\n",
            "leaky_re_lu (LeakyReLU)      (None, 10000)             0         \n",
            "_________________________________________________________________\n",
            "dense_1 (Dense)              (None, 10000)             100000000 \n",
            "_________________________________________________________________\n",
            "batch_normalization_1 (Batch (None, 10000)             40000     \n",
            "_________________________________________________________________\n",
            "leaky_re_lu_1 (LeakyReLU)    (None, 10000)             0         \n",
            "_________________________________________________________________\n",
            "dense_2 (Dense)              (None, 27)                270027    \n",
            "=================================================================\n",
            "Total params: 108,190,027\n",
            "Trainable params: 108,150,027\n",
            "Non-trainable params: 40,000\n",
            "_________________________________________________________________\n",
            "None\n"
          ],
          "name": "stdout"
        }
      ]
    },
    {
      "cell_type": "code",
      "metadata": {
        "id": "ayux-3cvto5e"
      },
      "source": [
        "misclassificationIdx = []\n",
        "for idx,img in enumerate(test_images[:200]):\n",
        "  pred = model.predict(img.reshape(1,28*28))\n",
        "  pred_letter = chr(np.argmax(pred) - 1 + ord('A'))\n",
        "  target_letter = chr(np.argmax(test_labels[idx]) - 1 + ord('A'))\n",
        "  if pred_letter != target_letter:\n",
        "    misclassificationIdx.append(idx)"
      ],
      "execution_count": 52,
      "outputs": []
    },
    {
      "cell_type": "code",
      "metadata": {
        "colab": {
          "base_uri": "https://localhost:8080/"
        },
        "id": "LYVTEREdvLsU",
        "outputId": "f1cd9566-b96a-4ab8-c070-62d7bb1ff458"
      },
      "source": [
        "print(misclassificationIdx)\n"
      ],
      "execution_count": 53,
      "outputs": [
        {
          "output_type": "stream",
          "text": [
            "[33, 44, 51, 76, 90, 119, 128, 129, 132, 164]\n"
          ],
          "name": "stdout"
        }
      ]
    },
    {
      "cell_type": "code",
      "metadata": {
        "colab": {
          "base_uri": "https://localhost:8080/",
          "height": 282
        },
        "id": "IYnvWwSH2Ljh",
        "outputId": "d98616a0-60e7-485f-8d4b-72a6343be29b"
      },
      "source": [
        "plt.imshow(test_images[misclassificationIdx[0]].reshape(28,28))"
      ],
      "execution_count": 56,
      "outputs": [
        {
          "output_type": "execute_result",
          "data": {
            "text/plain": [
              "<matplotlib.image.AxesImage at 0x7fdd6136e290>"
            ]
          },
          "metadata": {
            "tags": []
          },
          "execution_count": 56
        },
        {
          "output_type": "display_data",
          "data": {
            "image/png": "[encoded data removed]",
            "text/plain": [
              "<Figure size 432x288 with 1 Axes>"
            ]
          },
          "metadata": {
            "tags": [],
            "needs_background": "light"
          }
        }
      ]
    },
    {
      "cell_type": "code",
      "metadata": {
        "colab": {
          "base_uri": "https://localhost:8080/",
          "height": 282
        },
        "id": "1YVBffhK2aIz",
        "outputId": "47a1479f-8228-41f4-fa79-0e475433ab5e"
      },
      "source": [
        "plt.imshow(test_images[misclassificationIdx[1]].reshape(28,28))"
      ],
      "execution_count": 57,
      "outputs": [
        {
          "output_type": "execute_result",
          "data": {
            "text/plain": [
              "<matplotlib.image.AxesImage at 0x7fdd61abfc90>"
            ]
          },
          "metadata": {
            "tags": []
          },
          "execution_count": 57
        },
        {
          "output_type": "display_data",
          "data": {
            "image/png": "[encoded data removed]",
            "text/plain": [
              "<Figure size 432x288 with 1 Axes>"
            ]
          },
          "metadata": {
            "tags": [],
            "needs_background": "light"
          }
        }
      ]
    },
    {
      "cell_type": "code",
      "metadata": {
        "colab": {
          "base_uri": "https://localhost:8080/",
          "height": 282
        },
        "id": "tCWqOkSa2za9",
        "outputId": "715026ca-ef29-499e-ca15-8864f5f53042"
      },
      "source": [
        "plt.imshow(test_images[misclassificationIdx[2]].reshape(28,28))"
      ],
      "execution_count": 58,
      "outputs": [
        {
          "output_type": "execute_result",
          "data": {
            "text/plain": [
              "<matplotlib.image.AxesImage at 0x7fdd61197850>"
            ]
          },
          "metadata": {
            "tags": []
          },
          "execution_count": 58
        },
        {
          "output_type": "display_data",
          "data": {
            "image/png": "[encoded data removed]",
            "text/plain": [
              "<Figure size 432x288 with 1 Axes>"
            ]
          },
          "metadata": {
            "tags": [],
            "needs_background": "light"
          }
        }
      ]
    },
    {
      "cell_type": "code",
      "metadata": {
        "colab": {
          "base_uri": "https://localhost:8080/",
          "height": 282
        },
        "id": "02OzTtiy26iG",
        "outputId": "88b316c1-cb63-4333-e63e-13a0f22bc340"
      },
      "source": [
        "plt.imshow(test_images[misclassificationIdx[3]].reshape(28,28))"
      ],
      "execution_count": 59,
      "outputs": [
        {
          "output_type": "execute_result",
          "data": {
            "text/plain": [
              "<matplotlib.image.AxesImage at 0x7fdd61a32c90>"
            ]
          },
          "metadata": {
            "tags": []
          },
          "execution_count": 59
        },
        {
          "output_type": "display_data",
          "data": {
            "image/png": "[encoded data removed]",
            "text/plain": [
              "<Figure size 432x288 with 1 Axes>"
            ]
          },
          "metadata": {
            "tags": [],
            "needs_background": "light"
          }
        }
      ]
    },
    {
      "cell_type": "code",
      "metadata": {
        "colab": {
          "base_uri": "https://localhost:8080/",
          "height": 282
        },
        "id": "1NTUvuJQ290H",
        "outputId": "0aea25a9-8922-470c-dc22-c7466cb9aabe"
      },
      "source": [
        "plt.imshow(test_images[misclassificationIdx[4]].reshape(28,28))"
      ],
      "execution_count": 60,
      "outputs": [
        {
          "output_type": "execute_result",
          "data": {
            "text/plain": [
              "<matplotlib.image.AxesImage at 0x7fdd61582d10>"
            ]
          },
          "metadata": {
            "tags": []
          },
          "execution_count": 60
        },
        {
          "output_type": "display_data",
          "data": {
            "image/png": "[encoded data removed]",
            "text/plain": [
              "<Figure size 432x288 with 1 Axes>"
            ]
          },
          "metadata": {
            "tags": [],
            "needs_background": "light"
          }
        }
      ]
    },
    {
      "cell_type": "code",
      "metadata": {
        "colab": {
          "base_uri": "https://localhost:8080/",
          "height": 282
        },
        "id": "iAvx8oKw3A-u",
        "outputId": "5b479b2e-1f83-499d-9901-f24aee64165f"
      },
      "source": [
        "plt.imshow(test_images[misclassificationIdx[5]].reshape(28,28))"
      ],
      "execution_count": 61,
      "outputs": [
        {
          "output_type": "execute_result",
          "data": {
            "text/plain": [
              "<matplotlib.image.AxesImage at 0x7fdd61c7ef50>"
            ]
          },
          "metadata": {
            "tags": []
          },
          "execution_count": 61
        },
        {
          "output_type": "display_data",
          "data": {
            "image/png": "[encoded data removed]",
            "text/plain": [
              "<Figure size 432x288 with 1 Axes>"
            ]
          },
          "metadata": {
            "tags": [],
            "needs_background": "light"
          }
        }
      ]
    },
    {
      "cell_type": "code",
      "metadata": {
        "colab": {
          "base_uri": "https://localhost:8080/",
          "height": 282
        },
        "id": "1sLxJTNa3Dhn",
        "outputId": "16d6ea88-2226-4064-f986-ab17677aa2b1"
      },
      "source": [
        "plt.imshow(test_images[misclassificationIdx[6]].reshape(28,28))"
      ],
      "execution_count": 62,
      "outputs": [
        {
          "output_type": "execute_result",
          "data": {
            "text/plain": [
              "<matplotlib.image.AxesImage at 0x7fdd61bf1e90>"
            ]
          },
          "metadata": {
            "tags": []
          },
          "execution_count": 62
        },
        {
          "output_type": "display_data",
          "data": {
            "image/png": "[encoded data removed]",
            "text/plain": [
              "<Figure size 432x288 with 1 Axes>"
            ]
          },
          "metadata": {
            "tags": [],
            "needs_background": "light"
          }
        }
      ]
    },
    {
      "cell_type": "code",
      "metadata": {
        "colab": {
          "base_uri": "https://localhost:8080/",
          "height": 282
        },
        "id": "JglrPtZt3FxZ",
        "outputId": "fd4fb83d-d401-4c83-cb67-354f6e0de1ce"
      },
      "source": [
        "plt.imshow(test_images[misclassificationIdx[7]].reshape(28,28))"
      ],
      "execution_count": 63,
      "outputs": [
        {
          "output_type": "execute_result",
          "data": {
            "text/plain": [
              "<matplotlib.image.AxesImage at 0x7fdd61ca8090>"
            ]
          },
          "metadata": {
            "tags": []
          },
          "execution_count": 63
        },
        {
          "output_type": "display_data",
          "data": {
            "image/png": "[encoded data removed]",
            "text/plain": [
              "<Figure size 432x288 with 1 Axes>"
            ]
          },
          "metadata": {
            "tags": [],
            "needs_background": "light"
          }
        }
      ]
    },
    {
      "cell_type": "code",
      "metadata": {
        "colab": {
          "base_uri": "https://localhost:8080/",
          "height": 282
        },
        "id": "_t0TiqN93ILl",
        "outputId": "2e0aea32-92cf-47cf-916b-7e665f02c393"
      },
      "source": [
        "plt.imshow(test_images[misclassificationIdx[8]].reshape(28,28))"
      ],
      "execution_count": 64,
      "outputs": [
        {
          "output_type": "execute_result",
          "data": {
            "text/plain": [
              "<matplotlib.image.AxesImage at 0x7fdd62d5e610>"
            ]
          },
          "metadata": {
            "tags": []
          },
          "execution_count": 64
        },
        {
          "output_type": "display_data",
          "data": {
            "image/png": "[encoded data removed]",
            "text/plain": [
              "<Figure size 432x288 with 1 Axes>"
            ]
          },
          "metadata": {
            "tags": [],
            "needs_background": "light"
          }
        }
      ]
    },
    {
      "cell_type": "code",
      "metadata": {
        "colab": {
          "base_uri": "https://localhost:8080/",
          "height": 282
        },
        "id": "uf2VKM793KVK",
        "outputId": "d8f0d5cd-68f3-4f56-9b0e-951bfaa44d9d"
      },
      "source": [
        "plt.imshow(test_images[misclassificationIdx[9]].reshape(28,28))"
      ],
      "execution_count": 65,
      "outputs": [
        {
          "output_type": "execute_result",
          "data": {
            "text/plain": [
              "<matplotlib.image.AxesImage at 0x7fdd6155ff10>"
            ]
          },
          "metadata": {
            "tags": []
          },
          "execution_count": 65
        },
        {
          "output_type": "display_data",
          "data": {
            "image/png": "[encoded data removed]",
            "text/plain": [
              "<Figure size 432x288 with 1 Axes>"
            ]
          },
          "metadata": {
            "tags": [],
            "needs_background": "light"
          }
        }
      ]
    },
    {
      "cell_type": "markdown",
      "metadata": {
        "id": "FVuFJY3M4f4c"
      },
      "source": [
        "Describe what you think might have gone wrong:\n",
        "First of all, with human eye there is a couple image we couldn't recognize it. Secondly, different people will have different ways to write the same letter or penmanship."
      ]
    },
    {
      "cell_type": "code",
      "metadata": {
        "id": "Tj4orlO33N0w"
      },
      "source": [
        ""
      ],
      "execution_count": null,
      "outputs": []
    }
  ]
}